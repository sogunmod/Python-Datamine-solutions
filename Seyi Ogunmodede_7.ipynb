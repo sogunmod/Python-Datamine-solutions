{
 "cells": [
  {
   "cell_type": "markdown",
   "id": "be02a957-7133-4d02-818e-fedeb3cecb05",
   "metadata": {},
   "source": [
    "# Project 7 -- SEYI OGUNMODEDE"
   ]
  },
  {
   "cell_type": "markdown",
   "id": "a1228853-dd19-4ab2-89e0-0394d7d72de3",
   "metadata": {},
   "source": [
    "**Instructor:** Dr. Ward\n",
    "\n",
    "- Help with figuring out how to write a function."
   ]
  },
  {
   "cell_type": "markdown",
   "id": "6180e742-8e39-4698-98ff-5b00c8cf8ea0",
   "metadata": {},
   "source": [
    "## Question 1"
   ]
  },
  {
   "cell_type": "code",
   "execution_count": 58,
   "id": "49445606-d363-41b4-b479-e319a9a84c01",
   "metadata": {},
   "outputs": [],
   "source": [
    "import pandas as pd"
   ]
  },
  {
   "cell_type": "code",
   "execution_count": 59,
   "id": "f47adfc7-e170-48ac-ade8-df97888090e7",
   "metadata": {},
   "outputs": [],
   "source": [
    "# The airline data has lot of columns\n",
    "# You will not see all of them unless you ask it to show all the columns\n",
    "# i will set my pandas to show me all of them\n",
    "# from 1987-2008,this takes a very long time in pandas\n",
    "\n",
    "pd.set_option('display.max_columns', None)"
   ]
  },
  {
   "cell_type": "code",
   "execution_count": null,
   "id": "b5cbf9e9-21ed-43de-80da-0a2446266264",
   "metadata": {},
   "outputs": [],
   "source": [
    "# to make it faster, we can use things from the bass shell\n",
    "# we could make a call to shell underneath the hood \n",
    "# we could talk to the operating system directly\n",
    "\n"
   ]
  },
  {
   "cell_type": "code",
   "execution_count": 13,
   "id": "0ebd687e-c419-48e3-a967-2df69076c365",
   "metadata": {},
   "outputs": [],
   "source": [
    "# This indicates that is not python code\n",
    "# This is show code. What does it do? I am doing two things\n",
    "\n",
    "# I am taking my first line out of my 1987 flight data \n",
    "# and storing it in a new file in my home directory, Tilda (~)\n",
    "\n",
    "# I take the first sign from 1987 dataset \n",
    "# and put it in a file called INDflights.csv\n",
    "\n",
    "# That will just only get the header from the 1987 file \n",
    "# and store it in this new file i am building. You could do for any year it doesnot really matter.\n",
    "\n",
    "# We just want to get the header first then afterwards we will know what the column represent.\n",
    "# Then, from all of the other files that has (*.csv) extension on them, we are going to search for the phrase \",IND,\"\n",
    "# Then we will end up finding the Origin and Destination columns from them.\n",
    "# None of the columns is going to say IND\n",
    "\n"
   ]
  },
  {
   "cell_type": "code",
   "execution_count": 60,
   "id": "b420193d-f67d-4b87-8f17-2a67112ac670",
   "metadata": {},
   "outputs": [],
   "source": [
    "%%bash\n",
    "head -n1 /anvil/projects/tdm/data/flights/subset/1987.csv >~/INDflights.csv\n",
    "grep -h \",IND,\" /anvil/projects/tdm/data/flights/subset/*.csv >>~/INDflights.csv"
   ]
  },
  {
   "cell_type": "code",
   "execution_count": 61,
   "id": "20cc6cee-891c-46df-8df5-75922415517f",
   "metadata": {},
   "outputs": [
    {
     "name": "stderr",
     "output_type": "stream",
     "text": [
      "/tmp/ipykernel_16/2542556726.py:4: DtypeWarning: Columns (10,22) have mixed types. Specify dtype option on import or set low_memory=False.\n",
      "  myDf=pd.read_csv('~/INDflights.csv')\n"
     ]
    }
   ],
   "source": [
    "# Then, I can load in from this new files that i built\n",
    "# Also, I put a tilda (~) in the front to say this is my home directory \n",
    "\n",
    "myDf=pd.read_csv('~/INDflights.csv')"
   ]
  },
  {
   "cell_type": "code",
   "execution_count": 62,
   "id": "fd74a820-a4f6-41fd-a9e9-b6c19a7f3db0",
   "metadata": {},
   "outputs": [
    {
     "data": {
      "text/plain": [
       "(1589899, 29)"
      ]
     },
     "execution_count": 62,
     "metadata": {},
     "output_type": "execute_result"
    }
   ],
   "source": [
    "# There are 1589899 flights in our file altogether\n",
    "\n",
    "myDf.shape"
   ]
  },
  {
   "cell_type": "code",
   "execution_count": 63,
   "id": "11fedc47-2470-4a94-b329-b247d91fdc60",
   "metadata": {},
   "outputs": [
    {
     "data": {
      "text/plain": [
       "(796496, 29)"
      ]
     },
     "execution_count": 63,
     "metadata": {},
     "output_type": "execute_result"
    }
   ],
   "source": [
    "# To know how many flight deoarted from indianapolis\n",
    "\n",
    "myDf[myDf['Origin']=='IND'].shape"
   ]
  },
  {
   "cell_type": "code",
   "execution_count": 64,
   "id": "d51bba77-06c8-49cb-aee1-e1a68cd4fa23",
   "metadata": {},
   "outputs": [
    {
     "data": {
      "text/plain": [
       "(793403, 29)"
      ]
     },
     "execution_count": 64,
     "metadata": {},
     "output_type": "execute_result"
    }
   ],
   "source": [
    "myDf[myDf['Dest']=='IND'].shape"
   ]
  },
  {
   "cell_type": "markdown",
   "id": "b456e57c-4a12-464b-999a-ef2df5af80c1",
   "metadata": {},
   "source": [
    "a. How many flights are there altogether in myDF? You can check this using myDF.shape.\n",
    "There are 1589899 flights in our file altogether\n",
    "\n",
    "\n",
    "b. How many of the flights are departing from IND? (I.e., the Origin airport is IND.)\n",
    "There are 796496 flights departing from indianapolis.\n",
    "\n",
    "c. How many of the flights are arriving to IND? (I.e., the Dest airport is IND.)\n",
    "There are 793403 flights ariving to indianapolis"
   ]
  },
  {
   "cell_type": "markdown",
   "id": "fc601975-35ed-4680-a4e1-0273ee3cc047",
   "metadata": {},
   "source": [
    "## Question 2"
   ]
  },
  {
   "cell_type": "code",
   "execution_count": 65,
   "id": "a16336a1-1ef0-41e8-bc7c-49387db27497",
   "metadata": {},
   "outputs": [
    {
     "data": {
      "text/plain": [
       "ORD    77720\n",
       "DTW    55974\n",
       "STL    54186\n",
       "ATL    48975\n",
       "DFW    36523\n",
       "MSP    34648\n",
       "CLT    34199\n",
       "DEN    29056\n",
       "PIT    28033\n",
       "EWR    26795\n",
       "MDW    26120\n",
       "MCO    25755\n",
       "PHL    24492\n",
       "IAH    24187\n",
       "CLE    23221\n",
       "CVG    22698\n",
       "MEM    21645\n",
       "DCA    20505\n",
       "PHX    19628\n",
       "LGA    18300\n",
       "Name: Dest, dtype: int64"
      ]
     },
     "execution_count": 65,
     "metadata": {},
     "output_type": "execute_result"
    }
   ],
   "source": [
    "# for all flights departing from indiaapolis,\n",
    "# we want to study the destination airport.\n",
    "# and see how many times each destination airports occurs\n",
    "# and display the most popular 20 of them.\n",
    "\n",
    "myDf[myDf['Origin']=='IND']['Dest'].value_counts().head(20)"
   ]
  },
  {
   "cell_type": "code",
   "execution_count": 66,
   "id": "63b08d9f-d627-455f-8fb5-e116dabcc22f",
   "metadata": {},
   "outputs": [
    {
     "data": {
      "text/plain": [
       "US    192109\n",
       "NW    119455\n",
       "WN     94232\n",
       "DL     68089\n",
       "UA     62763\n",
       "Name: UniqueCarrier, dtype: int64"
      ]
     },
     "execution_count": 66,
     "metadata": {},
     "output_type": "execute_result"
    }
   ],
   "source": [
    "# for all flights departing from indiaapolis,\n",
    "# we want to study the popular airlines.\n",
    "# and see how many times each airline occurs\n",
    "# and display the most popular 5 UniqueCarrier`s of them.\n",
    "\n",
    "myDf[myDf['Origin']=='IND']['UniqueCarrier'].value_counts().head(5)"
   ]
  },
  {
   "cell_type": "code",
   "execution_count": 67,
   "id": "1cbddeb4-7cf3-4fc8-afc8-4afec2f3ac5a",
   "metadata": {},
   "outputs": [
    {
     "data": {
      "text/html": [
       "<div>\n",
       "<style scoped>\n",
       "    .dataframe tbody tr th:only-of-type {\n",
       "        vertical-align: middle;\n",
       "    }\n",
       "\n",
       "    .dataframe tbody tr th {\n",
       "        vertical-align: top;\n",
       "    }\n",
       "\n",
       "    .dataframe thead th {\n",
       "        text-align: right;\n",
       "    }\n",
       "</style>\n",
       "<table border=\"1\" class=\"dataframe\">\n",
       "  <thead>\n",
       "    <tr style=\"text-align: right;\">\n",
       "      <th></th>\n",
       "      <th>Year</th>\n",
       "      <th>Month</th>\n",
       "      <th>DayofMonth</th>\n",
       "      <th>DayOfWeek</th>\n",
       "      <th>DepTime</th>\n",
       "      <th>CRSDepTime</th>\n",
       "      <th>ArrTime</th>\n",
       "      <th>CRSArrTime</th>\n",
       "      <th>UniqueCarrier</th>\n",
       "      <th>FlightNum</th>\n",
       "      <th>TailNum</th>\n",
       "      <th>ActualElapsedTime</th>\n",
       "      <th>CRSElapsedTime</th>\n",
       "      <th>AirTime</th>\n",
       "      <th>ArrDelay</th>\n",
       "      <th>DepDelay</th>\n",
       "      <th>Origin</th>\n",
       "      <th>Dest</th>\n",
       "      <th>Distance</th>\n",
       "      <th>TaxiIn</th>\n",
       "      <th>TaxiOut</th>\n",
       "      <th>Cancelled</th>\n",
       "      <th>CancellationCode</th>\n",
       "      <th>Diverted</th>\n",
       "      <th>CarrierDelay</th>\n",
       "      <th>WeatherDelay</th>\n",
       "      <th>NASDelay</th>\n",
       "      <th>SecurityDelay</th>\n",
       "      <th>LateAircraftDelay</th>\n",
       "    </tr>\n",
       "  </thead>\n",
       "  <tbody>\n",
       "    <tr>\n",
       "      <th>0</th>\n",
       "      <td>1987</td>\n",
       "      <td>10</td>\n",
       "      <td>1</td>\n",
       "      <td>4</td>\n",
       "      <td>700.0</td>\n",
       "      <td>700</td>\n",
       "      <td>804.0</td>\n",
       "      <td>755</td>\n",
       "      <td>TW</td>\n",
       "      <td>76</td>\n",
       "      <td>NaN</td>\n",
       "      <td>64.0</td>\n",
       "      <td>55.0</td>\n",
       "      <td>NaN</td>\n",
       "      <td>9.0</td>\n",
       "      <td>0.0</td>\n",
       "      <td>STL</td>\n",
       "      <td>IND</td>\n",
       "      <td>229.0</td>\n",
       "      <td>NaN</td>\n",
       "      <td>NaN</td>\n",
       "      <td>0</td>\n",
       "      <td>NaN</td>\n",
       "      <td>0</td>\n",
       "      <td>NaN</td>\n",
       "      <td>NaN</td>\n",
       "      <td>NaN</td>\n",
       "      <td>NaN</td>\n",
       "      <td>NaN</td>\n",
       "    </tr>\n",
       "    <tr>\n",
       "      <th>1</th>\n",
       "      <td>1987</td>\n",
       "      <td>10</td>\n",
       "      <td>2</td>\n",
       "      <td>5</td>\n",
       "      <td>700.0</td>\n",
       "      <td>700</td>\n",
       "      <td>805.0</td>\n",
       "      <td>755</td>\n",
       "      <td>TW</td>\n",
       "      <td>76</td>\n",
       "      <td>NaN</td>\n",
       "      <td>65.0</td>\n",
       "      <td>55.0</td>\n",
       "      <td>NaN</td>\n",
       "      <td>10.0</td>\n",
       "      <td>0.0</td>\n",
       "      <td>STL</td>\n",
       "      <td>IND</td>\n",
       "      <td>229.0</td>\n",
       "      <td>NaN</td>\n",
       "      <td>NaN</td>\n",
       "      <td>0</td>\n",
       "      <td>NaN</td>\n",
       "      <td>0</td>\n",
       "      <td>NaN</td>\n",
       "      <td>NaN</td>\n",
       "      <td>NaN</td>\n",
       "      <td>NaN</td>\n",
       "      <td>NaN</td>\n",
       "    </tr>\n",
       "    <tr>\n",
       "      <th>2</th>\n",
       "      <td>1987</td>\n",
       "      <td>10</td>\n",
       "      <td>3</td>\n",
       "      <td>6</td>\n",
       "      <td>659.0</td>\n",
       "      <td>700</td>\n",
       "      <td>757.0</td>\n",
       "      <td>755</td>\n",
       "      <td>TW</td>\n",
       "      <td>76</td>\n",
       "      <td>NaN</td>\n",
       "      <td>58.0</td>\n",
       "      <td>55.0</td>\n",
       "      <td>NaN</td>\n",
       "      <td>2.0</td>\n",
       "      <td>-1.0</td>\n",
       "      <td>STL</td>\n",
       "      <td>IND</td>\n",
       "      <td>229.0</td>\n",
       "      <td>NaN</td>\n",
       "      <td>NaN</td>\n",
       "      <td>0</td>\n",
       "      <td>NaN</td>\n",
       "      <td>0</td>\n",
       "      <td>NaN</td>\n",
       "      <td>NaN</td>\n",
       "      <td>NaN</td>\n",
       "      <td>NaN</td>\n",
       "      <td>NaN</td>\n",
       "    </tr>\n",
       "    <tr>\n",
       "      <th>3</th>\n",
       "      <td>1987</td>\n",
       "      <td>10</td>\n",
       "      <td>4</td>\n",
       "      <td>7</td>\n",
       "      <td>700.0</td>\n",
       "      <td>700</td>\n",
       "      <td>756.0</td>\n",
       "      <td>755</td>\n",
       "      <td>TW</td>\n",
       "      <td>76</td>\n",
       "      <td>NaN</td>\n",
       "      <td>56.0</td>\n",
       "      <td>55.0</td>\n",
       "      <td>NaN</td>\n",
       "      <td>1.0</td>\n",
       "      <td>0.0</td>\n",
       "      <td>STL</td>\n",
       "      <td>IND</td>\n",
       "      <td>229.0</td>\n",
       "      <td>NaN</td>\n",
       "      <td>NaN</td>\n",
       "      <td>0</td>\n",
       "      <td>NaN</td>\n",
       "      <td>0</td>\n",
       "      <td>NaN</td>\n",
       "      <td>NaN</td>\n",
       "      <td>NaN</td>\n",
       "      <td>NaN</td>\n",
       "      <td>NaN</td>\n",
       "    </tr>\n",
       "    <tr>\n",
       "      <th>4</th>\n",
       "      <td>1987</td>\n",
       "      <td>10</td>\n",
       "      <td>6</td>\n",
       "      <td>2</td>\n",
       "      <td>702.0</td>\n",
       "      <td>700</td>\n",
       "      <td>806.0</td>\n",
       "      <td>755</td>\n",
       "      <td>TW</td>\n",
       "      <td>76</td>\n",
       "      <td>NaN</td>\n",
       "      <td>64.0</td>\n",
       "      <td>55.0</td>\n",
       "      <td>NaN</td>\n",
       "      <td>11.0</td>\n",
       "      <td>2.0</td>\n",
       "      <td>STL</td>\n",
       "      <td>IND</td>\n",
       "      <td>229.0</td>\n",
       "      <td>NaN</td>\n",
       "      <td>NaN</td>\n",
       "      <td>0</td>\n",
       "      <td>NaN</td>\n",
       "      <td>0</td>\n",
       "      <td>NaN</td>\n",
       "      <td>NaN</td>\n",
       "      <td>NaN</td>\n",
       "      <td>NaN</td>\n",
       "      <td>NaN</td>\n",
       "    </tr>\n",
       "  </tbody>\n",
       "</table>\n",
       "</div>"
      ],
      "text/plain": [
       "   Year  Month  DayofMonth  DayOfWeek  DepTime  CRSDepTime  ArrTime  \\\n",
       "0  1987     10           1          4    700.0         700    804.0   \n",
       "1  1987     10           2          5    700.0         700    805.0   \n",
       "2  1987     10           3          6    659.0         700    757.0   \n",
       "3  1987     10           4          7    700.0         700    756.0   \n",
       "4  1987     10           6          2    702.0         700    806.0   \n",
       "\n",
       "   CRSArrTime UniqueCarrier  FlightNum TailNum  ActualElapsedTime  \\\n",
       "0         755            TW         76     NaN               64.0   \n",
       "1         755            TW         76     NaN               65.0   \n",
       "2         755            TW         76     NaN               58.0   \n",
       "3         755            TW         76     NaN               56.0   \n",
       "4         755            TW         76     NaN               64.0   \n",
       "\n",
       "   CRSElapsedTime  AirTime  ArrDelay  DepDelay Origin Dest  Distance  TaxiIn  \\\n",
       "0            55.0      NaN       9.0       0.0    STL  IND     229.0     NaN   \n",
       "1            55.0      NaN      10.0       0.0    STL  IND     229.0     NaN   \n",
       "2            55.0      NaN       2.0      -1.0    STL  IND     229.0     NaN   \n",
       "3            55.0      NaN       1.0       0.0    STL  IND     229.0     NaN   \n",
       "4            55.0      NaN      11.0       2.0    STL  IND     229.0     NaN   \n",
       "\n",
       "   TaxiOut  Cancelled CancellationCode  Diverted  CarrierDelay  WeatherDelay  \\\n",
       "0      NaN          0              NaN         0           NaN           NaN   \n",
       "1      NaN          0              NaN         0           NaN           NaN   \n",
       "2      NaN          0              NaN         0           NaN           NaN   \n",
       "3      NaN          0              NaN         0           NaN           NaN   \n",
       "4      NaN          0              NaN         0           NaN           NaN   \n",
       "\n",
       "   NASDelay  SecurityDelay  LateAircraftDelay  \n",
       "0       NaN            NaN                NaN  \n",
       "1       NaN            NaN                NaN  \n",
       "2       NaN            NaN                NaN  \n",
       "3       NaN            NaN                NaN  \n",
       "4       NaN            NaN                NaN  "
      ]
     },
     "execution_count": 67,
     "metadata": {},
     "output_type": "execute_result"
    }
   ],
   "source": [
    "myDf.head()"
   ]
  },
  {
   "cell_type": "code",
   "execution_count": 68,
   "id": "161d0fdb-102a-4420-b5e1-7afcccc1480e",
   "metadata": {},
   "outputs": [
    {
     "data": {
      "text/html": [
       "<div>\n",
       "<style scoped>\n",
       "    .dataframe tbody tr th:only-of-type {\n",
       "        vertical-align: middle;\n",
       "    }\n",
       "\n",
       "    .dataframe tbody tr th {\n",
       "        vertical-align: top;\n",
       "    }\n",
       "\n",
       "    .dataframe thead th {\n",
       "        text-align: right;\n",
       "    }\n",
       "</style>\n",
       "<table border=\"1\" class=\"dataframe\">\n",
       "  <thead>\n",
       "    <tr style=\"text-align: right;\">\n",
       "      <th></th>\n",
       "      <th>Year</th>\n",
       "      <th>Month</th>\n",
       "      <th>DayofMonth</th>\n",
       "      <th>DayOfWeek</th>\n",
       "      <th>DepTime</th>\n",
       "      <th>CRSDepTime</th>\n",
       "      <th>ArrTime</th>\n",
       "      <th>CRSArrTime</th>\n",
       "      <th>UniqueCarrier</th>\n",
       "      <th>FlightNum</th>\n",
       "      <th>TailNum</th>\n",
       "      <th>ActualElapsedTime</th>\n",
       "      <th>CRSElapsedTime</th>\n",
       "      <th>AirTime</th>\n",
       "      <th>ArrDelay</th>\n",
       "      <th>DepDelay</th>\n",
       "      <th>Origin</th>\n",
       "      <th>Dest</th>\n",
       "      <th>Distance</th>\n",
       "      <th>TaxiIn</th>\n",
       "      <th>TaxiOut</th>\n",
       "      <th>Cancelled</th>\n",
       "      <th>CancellationCode</th>\n",
       "      <th>Diverted</th>\n",
       "      <th>CarrierDelay</th>\n",
       "      <th>WeatherDelay</th>\n",
       "      <th>NASDelay</th>\n",
       "      <th>SecurityDelay</th>\n",
       "      <th>LateAircraftDelay</th>\n",
       "    </tr>\n",
       "  </thead>\n",
       "  <tbody>\n",
       "    <tr>\n",
       "      <th>1589894</th>\n",
       "      <td>2008</td>\n",
       "      <td>4</td>\n",
       "      <td>16</td>\n",
       "      <td>3</td>\n",
       "      <td>1458.0</td>\n",
       "      <td>1500</td>\n",
       "      <td>1635.0</td>\n",
       "      <td>1637</td>\n",
       "      <td>DL</td>\n",
       "      <td>1613</td>\n",
       "      <td>N940DL</td>\n",
       "      <td>97.0</td>\n",
       "      <td>97.0</td>\n",
       "      <td>72.0</td>\n",
       "      <td>-2.0</td>\n",
       "      <td>-2.0</td>\n",
       "      <td>IND</td>\n",
       "      <td>ATL</td>\n",
       "      <td>432.0</td>\n",
       "      <td>7.0</td>\n",
       "      <td>18.0</td>\n",
       "      <td>0</td>\n",
       "      <td>NaN</td>\n",
       "      <td>0</td>\n",
       "      <td>NaN</td>\n",
       "      <td>NaN</td>\n",
       "      <td>NaN</td>\n",
       "      <td>NaN</td>\n",
       "      <td>NaN</td>\n",
       "    </tr>\n",
       "    <tr>\n",
       "      <th>1589895</th>\n",
       "      <td>2008</td>\n",
       "      <td>4</td>\n",
       "      <td>16</td>\n",
       "      <td>3</td>\n",
       "      <td>1334.0</td>\n",
       "      <td>1220</td>\n",
       "      <td>1505.0</td>\n",
       "      <td>1354</td>\n",
       "      <td>DL</td>\n",
       "      <td>1705</td>\n",
       "      <td>N949DL</td>\n",
       "      <td>91.0</td>\n",
       "      <td>94.0</td>\n",
       "      <td>69.0</td>\n",
       "      <td>71.0</td>\n",
       "      <td>74.0</td>\n",
       "      <td>IND</td>\n",
       "      <td>ATL</td>\n",
       "      <td>432.0</td>\n",
       "      <td>10.0</td>\n",
       "      <td>12.0</td>\n",
       "      <td>0</td>\n",
       "      <td>NaN</td>\n",
       "      <td>0</td>\n",
       "      <td>66.0</td>\n",
       "      <td>0.0</td>\n",
       "      <td>0.0</td>\n",
       "      <td>0.0</td>\n",
       "      <td>5.0</td>\n",
       "    </tr>\n",
       "    <tr>\n",
       "      <th>1589896</th>\n",
       "      <td>2008</td>\n",
       "      <td>4</td>\n",
       "      <td>16</td>\n",
       "      <td>3</td>\n",
       "      <td>1255.0</td>\n",
       "      <td>1248</td>\n",
       "      <td>1426.0</td>\n",
       "      <td>1419</td>\n",
       "      <td>DL</td>\n",
       "      <td>1756</td>\n",
       "      <td>N940DL</td>\n",
       "      <td>91.0</td>\n",
       "      <td>91.0</td>\n",
       "      <td>66.0</td>\n",
       "      <td>7.0</td>\n",
       "      <td>7.0</td>\n",
       "      <td>ATL</td>\n",
       "      <td>IND</td>\n",
       "      <td>432.0</td>\n",
       "      <td>9.0</td>\n",
       "      <td>16.0</td>\n",
       "      <td>0</td>\n",
       "      <td>NaN</td>\n",
       "      <td>0</td>\n",
       "      <td>NaN</td>\n",
       "      <td>NaN</td>\n",
       "      <td>NaN</td>\n",
       "      <td>NaN</td>\n",
       "      <td>NaN</td>\n",
       "    </tr>\n",
       "    <tr>\n",
       "      <th>1589897</th>\n",
       "      <td>2008</td>\n",
       "      <td>4</td>\n",
       "      <td>17</td>\n",
       "      <td>4</td>\n",
       "      <td>2016.0</td>\n",
       "      <td>2015</td>\n",
       "      <td>2148.0</td>\n",
       "      <td>2148</td>\n",
       "      <td>DL</td>\n",
       "      <td>860</td>\n",
       "      <td>N966DL</td>\n",
       "      <td>92.0</td>\n",
       "      <td>93.0</td>\n",
       "      <td>63.0</td>\n",
       "      <td>0.0</td>\n",
       "      <td>1.0</td>\n",
       "      <td>ATL</td>\n",
       "      <td>IND</td>\n",
       "      <td>432.0</td>\n",
       "      <td>9.0</td>\n",
       "      <td>20.0</td>\n",
       "      <td>0</td>\n",
       "      <td>NaN</td>\n",
       "      <td>0</td>\n",
       "      <td>NaN</td>\n",
       "      <td>NaN</td>\n",
       "      <td>NaN</td>\n",
       "      <td>NaN</td>\n",
       "      <td>NaN</td>\n",
       "    </tr>\n",
       "    <tr>\n",
       "      <th>1589898</th>\n",
       "      <td>2008</td>\n",
       "      <td>4</td>\n",
       "      <td>17</td>\n",
       "      <td>4</td>\n",
       "      <td>958.0</td>\n",
       "      <td>1005</td>\n",
       "      <td>1137.0</td>\n",
       "      <td>1140</td>\n",
       "      <td>DL</td>\n",
       "      <td>962</td>\n",
       "      <td>N924DL</td>\n",
       "      <td>99.0</td>\n",
       "      <td>95.0</td>\n",
       "      <td>62.0</td>\n",
       "      <td>-3.0</td>\n",
       "      <td>-7.0</td>\n",
       "      <td>ATL</td>\n",
       "      <td>IND</td>\n",
       "      <td>432.0</td>\n",
       "      <td>8.0</td>\n",
       "      <td>29.0</td>\n",
       "      <td>0</td>\n",
       "      <td>NaN</td>\n",
       "      <td>0</td>\n",
       "      <td>NaN</td>\n",
       "      <td>NaN</td>\n",
       "      <td>NaN</td>\n",
       "      <td>NaN</td>\n",
       "      <td>NaN</td>\n",
       "    </tr>\n",
       "  </tbody>\n",
       "</table>\n",
       "</div>"
      ],
      "text/plain": [
       "         Year  Month  DayofMonth  DayOfWeek  DepTime  CRSDepTime  ArrTime  \\\n",
       "1589894  2008      4          16          3   1458.0        1500   1635.0   \n",
       "1589895  2008      4          16          3   1334.0        1220   1505.0   \n",
       "1589896  2008      4          16          3   1255.0        1248   1426.0   \n",
       "1589897  2008      4          17          4   2016.0        2015   2148.0   \n",
       "1589898  2008      4          17          4    958.0        1005   1137.0   \n",
       "\n",
       "         CRSArrTime UniqueCarrier  FlightNum TailNum  ActualElapsedTime  \\\n",
       "1589894        1637            DL       1613  N940DL               97.0   \n",
       "1589895        1354            DL       1705  N949DL               91.0   \n",
       "1589896        1419            DL       1756  N940DL               91.0   \n",
       "1589897        2148            DL        860  N966DL               92.0   \n",
       "1589898        1140            DL        962  N924DL               99.0   \n",
       "\n",
       "         CRSElapsedTime  AirTime  ArrDelay  DepDelay Origin Dest  Distance  \\\n",
       "1589894            97.0     72.0      -2.0      -2.0    IND  ATL     432.0   \n",
       "1589895            94.0     69.0      71.0      74.0    IND  ATL     432.0   \n",
       "1589896            91.0     66.0       7.0       7.0    ATL  IND     432.0   \n",
       "1589897            93.0     63.0       0.0       1.0    ATL  IND     432.0   \n",
       "1589898            95.0     62.0      -3.0      -7.0    ATL  IND     432.0   \n",
       "\n",
       "         TaxiIn  TaxiOut  Cancelled CancellationCode  Diverted  CarrierDelay  \\\n",
       "1589894     7.0     18.0          0              NaN         0           NaN   \n",
       "1589895    10.0     12.0          0              NaN         0          66.0   \n",
       "1589896     9.0     16.0          0              NaN         0           NaN   \n",
       "1589897     9.0     20.0          0              NaN         0           NaN   \n",
       "1589898     8.0     29.0          0              NaN         0           NaN   \n",
       "\n",
       "         WeatherDelay  NASDelay  SecurityDelay  LateAircraftDelay  \n",
       "1589894           NaN       NaN            NaN                NaN  \n",
       "1589895           0.0       0.0            0.0                5.0  \n",
       "1589896           NaN       NaN            NaN                NaN  \n",
       "1589897           NaN       NaN            NaN                NaN  \n",
       "1589898           NaN       NaN            NaN                NaN  "
      ]
     },
     "execution_count": 68,
     "metadata": {},
     "output_type": "execute_result"
    }
   ],
   "source": [
    "myDf.tail()"
   ]
  },
  {
   "cell_type": "code",
   "execution_count": 69,
   "id": "de698cf7-29c4-450d-9896-4ed68c0ff2d4",
   "metadata": {},
   "outputs": [
    {
     "data": {
      "text/plain": [
       "US        384725\n",
       "NW        238138\n",
       "WN        188054\n",
       "DL        136138\n",
       "UA        125200\n",
       "AA        114151\n",
       "CO        102587\n",
       "TW         69317\n",
       "XE         41932\n",
       "MQ         34307\n",
       "TZ         29336\n",
       "FL         25824\n",
       "HP         25407\n",
       "9E         18939\n",
       "DH         11429\n",
       "EA         10456\n",
       "OH          9044\n",
       "F9          7160\n",
       "EV          5276\n",
       "OO          4555\n",
       "PI          3217\n",
       "PA (1)      2673\n",
       "YV          2034\n",
       "Name: UniqueCarrier, dtype: int64"
      ]
     },
     "execution_count": 69,
     "metadata": {},
     "output_type": "execute_result"
    }
   ],
   "source": [
    "myDf['UniqueCarrier'].value_counts()"
   ]
  },
  {
   "cell_type": "markdown",
   "id": "14dc22d4-ddc3-41cc-a91a-cb0025bc0c80",
   "metadata": {},
   "source": [
    "For flights departing from 'IND' (i.e., with IND as the Origin), what are the 20 most popular destination airports (i.e., the 20 most popular Dest airports)?\n",
    "\n",
    "For flights departing from 'IND' (i.e., with IND as the Origin), what are the 5 most popular airlines (i.e., the 5 most popular `UniqueCarrier`s)?"
   ]
  },
  {
   "cell_type": "markdown",
   "id": "8e586edd-ff26-4ce2-8f6b-2424b26f2929",
   "metadata": {},
   "source": [
    "## Question 3"
   ]
  },
  {
   "cell_type": "code",
   "execution_count": 70,
   "id": "bbe0f40d-9655-4653-9ca8-886bdb61cb91",
   "metadata": {},
   "outputs": [],
   "source": [
    "def myrecords(myDf: pd.DataFrame, myairport: str)-> pd.Series:\n",
    "    \"\"\"\n",
    "    myrecords is a function that accept myDf and myairport as arguments,\n",
    "    and from all flights departing from myairport\n",
    "    it returns a Series of the 20 most popular destination airports\n",
    "    \n",
    "    Arg:\n",
    "        myDf(pd.DataFrame): The Data Frame that has the flight data \n",
    "                            corresponding to flights departing from myairport.\n",
    "        myairport(str): The Origin airport that we are studying.      \n",
    "        \n",
    "    Returns:\n",
    "        pd.Series: A Panda Series that contains 20 most popular destination airports.\n",
    "    \"\"\"\n",
    "    return myDf[myDf['Origin']== myairport]['Dest'].value_counts().head(20)\n",
    "    # do not forget to change the airport from 'IND' to my airport"
   ]
  },
  {
   "cell_type": "code",
   "execution_count": 78,
   "id": "0333d987-cb91-4a3f-b8f6-e6b0b48353eb",
   "metadata": {},
   "outputs": [
    {
     "data": {
      "text/plain": [
       "ORD    77720\n",
       "DTW    55974\n",
       "STL    54186\n",
       "ATL    48975\n",
       "DFW    36523\n",
       "MSP    34648\n",
       "CLT    34199\n",
       "DEN    29056\n",
       "PIT    28033\n",
       "EWR    26795\n",
       "MDW    26120\n",
       "MCO    25755\n",
       "PHL    24492\n",
       "IAH    24187\n",
       "CLE    23221\n",
       "CVG    22698\n",
       "MEM    21645\n",
       "DCA    20505\n",
       "PHX    19628\n",
       "LGA    18300\n",
       "Name: Dest, dtype: int64"
      ]
     },
     "execution_count": 78,
     "metadata": {},
     "output_type": "execute_result"
    }
   ],
   "source": [
    "myrecords(myDf,'IND' )"
   ]
  },
  {
   "cell_type": "code",
   "execution_count": 72,
   "id": "81ab01b4-894d-4096-a001-f8412e6ad5c0",
   "metadata": {},
   "outputs": [],
   "source": [
    "def takeoff(myDf: pd.DataFrame, myairlines: str)-> pd.Series:\n",
    "    \"\"\"\n",
    "    takeoff is a function that accept myDf and myairlines as arguments,\n",
    "    and for all flights departing myairlines\n",
    "    it returns a Series of the 5 most popular departing airlines \n",
    "    \n",
    "    Arg:\n",
    "        myDf(pd.DataFrame): The Data Frame that has the flight data \n",
    "                            corresponding to flights departing myairlines .\n",
    "        myairlines(str): The Origin airlines that we are studying.      \n",
    "        \n",
    "    Returns:\n",
    "        pd.Series: A Panda Series that contains 5 most popular destination airlines.\n",
    "    \"\"\"\n",
    "    return myDf[myDf['Origin']==myairlines]['UniqueCarrier'].value_counts().head(5)\n",
    "    # do not forget to change the airport from 'IND' to myairport"
   ]
  },
  {
   "cell_type": "code",
   "execution_count": 73,
   "id": "48a82977-b2bf-4fc1-a779-9c825d77317b",
   "metadata": {},
   "outputs": [
    {
     "data": {
      "text/plain": [
       "US    192109\n",
       "NW    119455\n",
       "WN     94232\n",
       "DL     68089\n",
       "UA     62763\n",
       "Name: UniqueCarrier, dtype: int64"
      ]
     },
     "execution_count": 73,
     "metadata": {},
     "output_type": "execute_result"
    }
   ],
   "source": [
    "takeoff(myDf,'IND')"
   ]
  },
  {
   "cell_type": "markdown",
   "id": "47c6229f-35f7-400c-8366-c442baa5cf47",
   "metadata": {},
   "source": [
    "Wrap your work for question 2a into a function that takes 1 data frame as an argument and the corresponding 3-letter code as an argument, and finds the 20 most popular destination airports in that data frame.\n",
    "\n",
    "Wrap your work for question 2b into a function that takes 1 data frame as an argument and the corresponding 3-letter code as an argument, and finds the 5 most popular airlines in that data frame."
   ]
  },
  {
   "cell_type": "markdown",
   "id": "da22f29c-d245-4d2b-9fc1-ca14cb6087d9",
   "metadata": {},
   "source": [
    "## Question 4"
   ]
  },
  {
   "cell_type": "code",
   "execution_count": null,
   "id": "3270bd07-2d8a-49c4-a064-0a08022b5704",
   "metadata": {},
   "outputs": [],
   "source": [
    "# First import the data from Buffallo airport into a file"
   ]
  },
  {
   "cell_type": "code",
   "execution_count": 88,
   "id": "8cffc767-d1c8-4d64-b7dc-f0d2ee8a80d1",
   "metadata": {},
   "outputs": [],
   "source": [
    "%%bash\n",
    "head -n1 /anvil/projects/tdm/data/flights/subset/1987.csv >~/BUFflights.csv\n",
    "grep -h \",BUF,\" /anvil/projects/tdm/data/flights/subset/*.csv >>~/BUFflights.csv"
   ]
  },
  {
   "cell_type": "code",
   "execution_count": 89,
   "id": "fbfce6ed-34ad-40f1-ac6d-d6b70463e133",
   "metadata": {},
   "outputs": [
    {
     "name": "stderr",
     "output_type": "stream",
     "text": [
      "/tmp/ipykernel_16/312471128.py:3: DtypeWarning: Columns (10,22) have mixed types. Specify dtype option on import or set low_memory=False.\n",
      "  myDf=pd.read_csv('~/BUFflights.csv')\n"
     ]
    }
   ],
   "source": [
    "# Then read the data into a Pandas Data Frame\n",
    "\n",
    "myDf=pd.read_csv('~/BUFflights.csv')"
   ]
  },
  {
   "cell_type": "code",
   "execution_count": 93,
   "id": "7646e7f7-7603-41ae-9a6f-eb8239e827b1",
   "metadata": {},
   "outputs": [],
   "source": [
    "def myrecords(myDf: pd.DataFrame, myairport: str)-> pd.Series:\n",
    "    \"\"\"\n",
    "    myrecords is a function that accept myDf and myairport as arguments,\n",
    "    and from all flights departing from myairport\n",
    "    it returns a Series of the 20 most popular destination airports\n",
    "    \n",
    "    Arg:\n",
    "        myDf(pd.DataFrame): The Data Frame that has the flight data \n",
    "                            corresponding to flights departing from myairport.\n",
    "        myairport(str): The Origin airport that we are studying.      \n",
    "        \n",
    "    Returns:\n",
    "        pd.Series: A Panda Series that contains 20 most popular destination airports.\n",
    "    \"\"\"\n",
    "    return myDf[myDf['Origin']== myairport]['Dest'].value_counts().head(20)\n",
    "    # do not forget to change the airport from 'IND' to my airport"
   ]
  },
  {
   "cell_type": "code",
   "execution_count": 94,
   "id": "b324bb13-0435-4b54-bfa4-2883afe76eb0",
   "metadata": {},
   "outputs": [
    {
     "data": {
      "text/plain": [
       "ORD    71736\n",
       "EWR    51712\n",
       "ATL    37953\n",
       "LGA    36544\n",
       "DTW    34581\n",
       "PHL    29254\n",
       "BWI    26571\n",
       "PIT    24493\n",
       "JFK    18745\n",
       "CLT    18099\n",
       "DCA    17086\n",
       "BOS    15660\n",
       "CLE    14424\n",
       "CVG    12850\n",
       "IAD    10932\n",
       "MCO     7155\n",
       "RDU     6669\n",
       "MSP     6457\n",
       "ROC     5088\n",
       "ALB     5012\n",
       "Name: Dest, dtype: int64"
      ]
     },
     "execution_count": 94,
     "metadata": {},
     "output_type": "execute_result"
    }
   ],
   "source": [
    "myrecords(myDf,'BUF' )"
   ]
  },
  {
   "cell_type": "code",
   "execution_count": 95,
   "id": "babff37c-e723-4630-963e-33ced50b44b1",
   "metadata": {},
   "outputs": [],
   "source": [
    "def takeoff(myDf: pd.DataFrame, myairlines: str)-> pd.Series:\n",
    "    \"\"\"\n",
    "    takeoff is a function that accept myDf and myairlines as arguments,\n",
    "    and for all flights departing myairlines\n",
    "    it returns a Series of the 5 most popular departing airlines \n",
    "    \n",
    "    Arg:\n",
    "        myDf(pd.DataFrame): The Data Frame that has the flight data \n",
    "                            corresponding to flights departing myairlines .\n",
    "        myairlines(str): The Origin airlines that we are studying.      \n",
    "        \n",
    "    Returns:\n",
    "        pd.Series: A Panda Series that contains 5 most popular destination airlines.\n",
    "    \"\"\"\n",
    "    return myDf[myDf['Origin']==myairlines]['UniqueCarrier'].value_counts().head(5)\n",
    "    # do not forget to change the airport from 'IND' to myairport"
   ]
  },
  {
   "cell_type": "code",
   "execution_count": 92,
   "id": "d1826dbc-7070-42fe-a322-d9a6f47b6c9b",
   "metadata": {},
   "outputs": [
    {
     "data": {
      "text/plain": [
       "US    173474\n",
       "NW     40627\n",
       "UA     39720\n",
       "AA     36695\n",
       "CO     34902\n",
       "Name: UniqueCarrier, dtype: int64"
      ]
     },
     "execution_count": 92,
     "metadata": {},
     "output_type": "execute_result"
    }
   ],
   "source": [
    "# Then apply the function from question 3b\n",
    "\n",
    "takeoff(myDf,'BUF')"
   ]
  },
  {
   "cell_type": "code",
   "execution_count": null,
   "id": "3f6a04f5-fd62-4e1d-b27a-973cb92748c1",
   "metadata": {},
   "outputs": [],
   "source": [
    "# First import the data from Jacksonville (JAX) airport into a file"
   ]
  },
  {
   "cell_type": "code",
   "execution_count": 96,
   "id": "00884fe1-91b3-44e5-9673-833bd354bc5a",
   "metadata": {},
   "outputs": [],
   "source": [
    "%%bash\n",
    "head -n1 /anvil/projects/tdm/data/flights/subset/1987.csv >~/JAXflights.csv\n",
    "grep -h \",JAX,\" /anvil/projects/tdm/data/flights/subset/*.csv >>~/JAXflights.csv"
   ]
  },
  {
   "cell_type": "code",
   "execution_count": 97,
   "id": "cb4ef762-586c-456e-a124-a449a437901e",
   "metadata": {},
   "outputs": [
    {
     "name": "stderr",
     "output_type": "stream",
     "text": [
      "/tmp/ipykernel_16/1229860190.py:3: DtypeWarning: Columns (10,22) have mixed types. Specify dtype option on import or set low_memory=False.\n",
      "  myDf=pd.read_csv('~/JAXflights.csv')\n"
     ]
    }
   ],
   "source": [
    "# Then read the data into a Pandas Data Frame\n",
    "\n",
    "myDf=pd.read_csv('~/JAXflights.csv')"
   ]
  },
  {
   "cell_type": "code",
   "execution_count": 98,
   "id": "7b496c01-67cd-4e08-9ed4-973b9d9ad374",
   "metadata": {},
   "outputs": [
    {
     "data": {
      "text/plain": [
       "ATL    85085\n",
       "CLT    44495\n",
       "DFW    34485\n",
       "FLL    32245\n",
       "EWR    26351\n",
       "BWI    22522\n",
       "IAH    22073\n",
       "PHL    21410\n",
       "TPA    17383\n",
       "CVG    16685\n",
       "BNA    15295\n",
       "ORD    15123\n",
       "STL    14318\n",
       "LGA    14264\n",
       "DTW    14236\n",
       "MIA    12374\n",
       "IAD    10251\n",
       "RDU     8726\n",
       "DCA     8209\n",
       "ORF     7838\n",
       "Name: Dest, dtype: int64"
      ]
     },
     "execution_count": 98,
     "metadata": {},
     "output_type": "execute_result"
    }
   ],
   "source": [
    "myrecords(myDf,'JAX' )"
   ]
  },
  {
   "cell_type": "code",
   "execution_count": 99,
   "id": "ccaf6d39-d89d-4ec6-925e-c95b6c9c39bd",
   "metadata": {},
   "outputs": [
    {
     "data": {
      "text/plain": [
       "US    99543\n",
       "DL    92018\n",
       "WN    76669\n",
       "CO    52194\n",
       "AA    36526\n",
       "Name: UniqueCarrier, dtype: int64"
      ]
     },
     "execution_count": 99,
     "metadata": {},
     "output_type": "execute_result"
    }
   ],
   "source": [
    "takeoff(myDf,'JAX')"
   ]
  },
  {
   "cell_type": "markdown",
   "id": "0d552245-b4d6-474a-9cc9-fa7b8e674d55",
   "metadata": {},
   "source": [
    "Test your functions from questions 3a and 3b on Jacksonville (JAX) and Buffalo (BUF)."
   ]
  },
  {
   "cell_type": "markdown",
   "id": "88c9cdac-3e92-498f-83fa-e089bfc44ac8",
   "metadata": {},
   "source": [
    "## Question 5"
   ]
  },
  {
   "cell_type": "code",
   "execution_count": null,
   "id": "43afda3f-9978-4cd1-bfb1-6d05fda84522",
   "metadata": {},
   "outputs": [],
   "source": []
  },
  {
   "cell_type": "markdown",
   "id": "9fbf00fb-2418-460f-ae94-2a32b0c28952",
   "metadata": {},
   "source": [
    "Markdown notes and sentences and analysis written here."
   ]
  },
  {
   "cell_type": "markdown",
   "id": "f76442d6-d02e-4f26-b9d6-c3183e1d6929",
   "metadata": {},
   "source": [
    "## Pledge\n",
    "\n",
    "By submitting this work I hereby pledge that this is my own, personal work. I've acknowledged in the designated place at the top of this file all sources that I used to complete said work, including but not limited to: online resources, books, and electronic communications. I've noted all collaboration with fellow students and/or TA's. I did not copy or plagiarize another's work.\n",
    "\n",
    "> As a Boilermaker pursuing academic excellence, I pledge to be honest and true in all that I do. Accountable together – We are Purdue."
   ]
  }
 ],
 "metadata": {
  "kernelspec": {
   "display_name": "f2022-s2023",
   "language": "python",
   "name": "f2022-s2023"
  },
  "language_info": {
   "codemirror_mode": {
    "name": "ipython",
    "version": 3
   },
   "file_extension": ".py",
   "mimetype": "text/x-python",
   "name": "python",
   "nbconvert_exporter": "python",
   "pygments_lexer": "ipython3",
   "version": "3.10.9"
  }
 },
 "nbformat": 4,
 "nbformat_minor": 5
}
