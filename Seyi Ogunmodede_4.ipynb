{
 "cells": [
  {
   "cell_type": "markdown",
   "id": "be02a957-7133-4d02-818e-fedeb3cecb05",
   "metadata": {},
   "source": [
    "# Project 4 -- SEYI OGUNMODEDE"
   ]
  },
  {
   "cell_type": "markdown",
   "id": "a1228853-dd19-4ab2-89e0-0394d7d72de3",
   "metadata": {},
   "source": [
    "**INSTRUCTOR:** Dr. Ward\n",
    "\n",
    "- Helps with videos in figuring out how to write a function.\n",
    "    \n"
   ]
  },
  {
   "cell_type": "markdown",
   "id": "6180e742-8e39-4698-98ff-5b00c8cf8ea0",
   "metadata": {},
   "source": [
    "## Question 1"
   ]
  },
  {
   "cell_type": "code",
   "execution_count": 138,
   "id": "49445606-d363-41b4-b479-e319a9a84c01",
   "metadata": {
    "tags": []
   },
   "outputs": [
    {
     "name": "stdout",
     "output_type": "stream",
     "text": [
      "{'Indiana': 'Colts', 'Kansas City': 'Chiefs', 'Philadelphia': 'Eagles', 'Minnesota': 'Vikings', 'New England': 'Patriots', 'Miami': 'Dolphins'}\n"
     ]
    }
   ],
   "source": [
    "# Dictionary in prthon is a collection of key value pair.\n",
    "# The keys are Indiana, Kansas City, Philadephia, Minnesota, New England and Miami\n",
    "# The values pair are Colts, Chiefs, Eagles, Vikings, Patriots and Dolphins\n",
    "# You can look for the values according to their keys\n",
    "# \n",
    "\n",
    "\n",
    "NFL_team = dict([\n",
    "            ('Indiana', 'Colts'),\n",
    "            ('Kansas City', 'Chiefs'),\n",
    "            ('Philadelphia', 'Eagles'),\n",
    "            ('Minnesota', 'Vikings'),\n",
    "            ('New England', 'Patriots'),\n",
    "            ('Miami', 'Dolphins')\n",
    "])\n",
    "print(NFL_team)"
   ]
  },
  {
   "cell_type": "code",
   "execution_count": 139,
   "id": "8653a845-18df-4dae-8bf6-73510706c9c2",
   "metadata": {},
   "outputs": [],
   "source": [
    "NFL_team = dict([\n",
    "            ('Indiana', 'Colts'),\n",
    "            ('Kansas City', 'Chiefs'),\n",
    "            ('Philadelphia', 'Eagles'),\n",
    "            ('Minnesota', 'Vikings'),\n",
    "            ('New England', 'Patriots'),\n",
    "            ('Miami', 'Dolphins')\n",
    "])"
   ]
  },
  {
   "cell_type": "code",
   "execution_count": null,
   "id": "9b9fba89-d934-4eb1-8fd2-07762995ffc9",
   "metadata": {},
   "outputs": [],
   "source": [
    "# Ways to get values out of the dictionary"
   ]
  },
  {
   "cell_type": "code",
   "execution_count": 140,
   "id": "5cc2c632-54fc-4148-b2a0-2cf7d7b828c0",
   "metadata": {},
   "outputs": [
    {
     "data": {
      "text/plain": [
       "'Colts'"
      ]
     },
     "execution_count": 140,
     "metadata": {},
     "output_type": "execute_result"
    }
   ],
   "source": [
    "# Ask for the key in Indiana and get the values below\n",
    "NFL_team.get('Indiana')"
   ]
  },
  {
   "cell_type": "code",
   "execution_count": 141,
   "id": "33235d50-97ad-4c8e-99ca-606198146263",
   "metadata": {},
   "outputs": [
    {
     "data": {
      "text/plain": [
       "'Eagles'"
      ]
     },
     "execution_count": 141,
     "metadata": {},
     "output_type": "execute_result"
    }
   ],
   "source": [
    "# # Ask for the key in Philadelphia and get the values below\n",
    "NFL_team.get('Philadelphia')"
   ]
  },
  {
   "cell_type": "code",
   "execution_count": null,
   "id": "1cd29e61-bf6b-47a4-b0a7-42b0701a95fb",
   "metadata": {},
   "outputs": [],
   "source": [
    "# Going through another way/method"
   ]
  },
  {
   "cell_type": "code",
   "execution_count": 142,
   "id": "84a31e0e-c9ff-43a1-a970-b877542a25b2",
   "metadata": {},
   "outputs": [
    {
     "data": {
      "text/plain": [
       "'Colts'"
      ]
     },
     "execution_count": 142,
     "metadata": {},
     "output_type": "execute_result"
    }
   ],
   "source": [
    "# Ask for the key in Indiana and get the values below\n",
    "NFL_team['Indiana']"
   ]
  },
  {
   "cell_type": "code",
   "execution_count": 8,
   "id": "c4ea599d-2438-4e40-95c5-456f97bc7d26",
   "metadata": {},
   "outputs": [
    {
     "data": {
      "text/plain": [
       "'Eagles'"
      ]
     },
     "execution_count": 8,
     "metadata": {},
     "output_type": "execute_result"
    }
   ],
   "source": [
    "# Ask for the key in Philadelphia and get the values below\n",
    "NFL_team['Philadelphia']"
   ]
  },
  {
   "cell_type": "code",
   "execution_count": 9,
   "id": "d126bd07-9fc7-4d38-88d3-080c24750ff2",
   "metadata": {},
   "outputs": [],
   "source": [
    "# Going through the Major League Baseball team (MLB) and make a dictionary\n",
    "\n",
    "# Dr. Ward found American League Teams here:\n",
    "# https://www.espn.com/mlb/teams\n",
    "\n"
   ]
  },
  {
   "cell_type": "code",
   "execution_count": 10,
   "id": "c6b9f5b5-450e-4fd8-b919-7902c97a346d",
   "metadata": {},
   "outputs": [],
   "source": [
    "# ensure you put a comma between the Turple\n",
    "# 1a, We make a dictionary with all of the key-value pairs for the American League Baseball teams\n"
   ]
  },
  {
   "cell_type": "code",
   "execution_count": 143,
   "id": "9728da03-7696-4082-9844-3c71f9ed364c",
   "metadata": {},
   "outputs": [],
   "source": [
    "MLB_teams = dict ([\n",
    "    ('Chicago', 'White Sox'),\n",
    "    ('Cleveland', 'Guardians'),\n",
    "    ('Detroit', 'Tigers'),\n",
    "    ('Kansas City', 'Royals'),\n",
    "    ('Minnesota', 'Twins')\n",
    "])"
   ]
  },
  {
   "cell_type": "code",
   "execution_count": 12,
   "id": "9641a58a-1101-4775-8585-16ebd0dbd127",
   "metadata": {},
   "outputs": [
    {
     "data": {
      "text/plain": [
       "'Guardians'"
      ]
     },
     "execution_count": 12,
     "metadata": {},
     "output_type": "execute_result"
    }
   ],
   "source": [
    "MLB_teams.get('Cleveland')"
   ]
  },
  {
   "cell_type": "code",
   "execution_count": 13,
   "id": "4c13ddf5-c2df-4f60-9815-473acca00e2c",
   "metadata": {},
   "outputs": [
    {
     "data": {
      "text/plain": [
       "'Guardians'"
      ]
     },
     "execution_count": 13,
     "metadata": {},
     "output_type": "execute_result"
    }
   ],
   "source": [
    "MLB_teams['Cleveland']"
   ]
  },
  {
   "cell_type": "code",
   "execution_count": 14,
   "id": "3dcffbfd-555b-4795-86bf-8c733c738720",
   "metadata": {},
   "outputs": [],
   "source": [
    "# 1b, Now we add the names of the teams from the National League \n",
    "#   Also from https://www.espn.com/mlb/teams\n",
    "# To avoid re-typing, you can update and put in another list of key-value pairs\n"
   ]
  },
  {
   "cell_type": "code",
   "execution_count": 144,
   "id": "5a23dc7f-1240-4a52-9625-396fd22f7e62",
   "metadata": {},
   "outputs": [],
   "source": [
    "MLB_teams.update ([\n",
    "    ('Chicago', 'Cubs'),\n",
    "    ('Cincinnati', 'Reds'),\n",
    "    ('Milwaukee', 'Brewers'),\n",
    "    ('Pittsburg', 'Pirates'),\n",
    "    ('St. Louis', 'Cardinals')\n",
    "])"
   ]
  },
  {
   "cell_type": "code",
   "execution_count": 16,
   "id": "39272280-02eb-4f6f-9814-d72bf9cb2c26",
   "metadata": {},
   "outputs": [
    {
     "data": {
      "text/plain": [
       "{'Chicago': 'Cubs',\n",
       " 'Cleveland': 'Guardians',\n",
       " 'Detroit': 'Tigers',\n",
       " 'Kansas City': 'Royals',\n",
       " 'Minnesota': 'Twins',\n",
       " 'Cincinnati': 'Reds',\n",
       " 'Milwaukee': 'Brewers',\n",
       " 'Pittsburg': 'Pirates',\n",
       " 'St. Louis': 'Cardinals'}"
      ]
     },
     "execution_count": 16,
     "metadata": {},
     "output_type": "execute_result"
    }
   ],
   "source": [
    "MLB_teams"
   ]
  },
  {
   "cell_type": "code",
   "execution_count": 17,
   "id": "c1cb9157-83b4-4792-be8c-e2aa873b9766",
   "metadata": {},
   "outputs": [],
   "source": [
    "# look out for any conflict\n",
    "# E.g., Chicago has two teams, so it is good to change the key\n",
    "# For Chicago,for instance to Chicago1 and Chicago2"
   ]
  },
  {
   "cell_type": "code",
   "execution_count": 145,
   "id": "31a0e2cb-4eb9-4285-bea3-1c4fcb2e4c6a",
   "metadata": {},
   "outputs": [],
   "source": [
    "MLB_teams = dict ([\n",
    "    ('Chicago1', 'White Sox'),\n",
    "    ('Cleveland', 'Guardians'),\n",
    "    ('Detroit', 'Tigers'),\n",
    "    ('Kansas City', 'Royals'),\n",
    "    ('Minnesota', 'Twins')\n",
    "])"
   ]
  },
  {
   "cell_type": "code",
   "execution_count": 146,
   "id": "5cc16ddc-173c-41c9-821a-a53f304f9c0f",
   "metadata": {},
   "outputs": [],
   "source": [
    "MLB_teams.update ([\n",
    "    ('Chicago2', 'Cubs'),\n",
    "    ('Cincinnati', 'Reds'),\n",
    "    ('Milwaukee', 'Brewers'),\n",
    "    ('Pittsburg', 'Pirates'),\n",
    "    ('St. Louis', 'Cardinals')\n",
    "])"
   ]
  },
  {
   "cell_type": "code",
   "execution_count": 147,
   "id": "226e115b-cdd8-442a-9f35-c1cb1576aee3",
   "metadata": {},
   "outputs": [
    {
     "data": {
      "text/plain": [
       "{'Chicago1': 'White Sox',\n",
       " 'Cleveland': 'Guardians',\n",
       " 'Detroit': 'Tigers',\n",
       " 'Kansas City': 'Royals',\n",
       " 'Minnesota': 'Twins',\n",
       " 'Chicago2': 'Cubs',\n",
       " 'Cincinnati': 'Reds',\n",
       " 'Milwaukee': 'Brewers',\n",
       " 'Pittsburg': 'Pirates',\n",
       " 'St. Louis': 'Cardinals'}"
      ]
     },
     "execution_count": 147,
     "metadata": {},
     "output_type": "execute_result"
    }
   ],
   "source": [
    "MLB_teams"
   ]
  },
  {
   "cell_type": "code",
   "execution_count": 21,
   "id": "95c1eeff-d760-4f83-bad4-cb47f77e7395",
   "metadata": {},
   "outputs": [],
   "source": [
    "# 1c, Now we add the names of the teams from the American League East \n",
    "#   Also from https://www.espn.com/mlb/teams\n",
    "# To avoid re-typing, you can update and put in another list of key-value pairs\n"
   ]
  },
  {
   "cell_type": "code",
   "execution_count": 22,
   "id": "69b30a39-56f6-4b90-bd19-ed1563ab8abb",
   "metadata": {},
   "outputs": [],
   "source": [
    "MLB_teams.update ([\n",
    "    ('Baltimore','Orioles'),\n",
    "    ('Boston Red','Sox'),\n",
    "    ('New York1','Yankees'),\n",
    "    ('Tampa Bay','Rays'),\n",
    "    ('Toronto','Blue Jays')\n",
    "    ])"
   ]
  },
  {
   "cell_type": "code",
   "execution_count": 23,
   "id": "f9010b25-affa-4088-ac87-a58929ff8de3",
   "metadata": {},
   "outputs": [
    {
     "data": {
      "text/plain": [
       "{'Chicago1': 'White Sox',\n",
       " 'Cleveland': 'Guardians',\n",
       " 'Detroit': 'Tigers',\n",
       " 'Kansas City': 'Royals',\n",
       " 'Minnesota': 'Twins',\n",
       " 'Chicago2': 'Cubs',\n",
       " 'Cincinnati': 'Reds',\n",
       " 'Milwaukee': 'Brewers',\n",
       " 'Pittsburg': 'Pirates',\n",
       " 'St. Louis': 'Cardinals',\n",
       " 'Baltimore': 'Orioles',\n",
       " 'Boston Red': 'Sox',\n",
       " 'New York1': 'Yankees',\n",
       " 'Tampa Bay': 'Rays',\n",
       " 'Toronto': 'Blue Jays'}"
      ]
     },
     "execution_count": 23,
     "metadata": {},
     "output_type": "execute_result"
    }
   ],
   "source": [
    "MLB_teams"
   ]
  },
  {
   "cell_type": "code",
   "execution_count": 24,
   "id": "ffc4e3b3-0027-4a58-a0aa-657bcdd486ba",
   "metadata": {},
   "outputs": [],
   "source": [
    "# 1d, Now we add the names of the teams from the National League East \n",
    "#   Also from https://www.espn.com/mlb/teams\n",
    "# To avoid re-typing, you can update and put in another list of key-value pairs"
   ]
  },
  {
   "cell_type": "code",
   "execution_count": 25,
   "id": "55725cec-14c7-4912-9a04-88f674d8c499",
   "metadata": {},
   "outputs": [],
   "source": [
    "MLB_teams.update ([\n",
    "    ('Atlanta','Braves'),\n",
    "    ('Miami','Marlins'),\n",
    "    ('New York2','Mets'),\n",
    "    ('Philadelphia','Phillies'),\n",
    "    ('Washington','Nationals')\n",
    "    ])"
   ]
  },
  {
   "cell_type": "code",
   "execution_count": 26,
   "id": "7a2bc0b8-9e6d-40cd-9122-51fce6defed5",
   "metadata": {},
   "outputs": [
    {
     "data": {
      "text/plain": [
       "{'Chicago1': 'White Sox',\n",
       " 'Cleveland': 'Guardians',\n",
       " 'Detroit': 'Tigers',\n",
       " 'Kansas City': 'Royals',\n",
       " 'Minnesota': 'Twins',\n",
       " 'Chicago2': 'Cubs',\n",
       " 'Cincinnati': 'Reds',\n",
       " 'Milwaukee': 'Brewers',\n",
       " 'Pittsburg': 'Pirates',\n",
       " 'St. Louis': 'Cardinals',\n",
       " 'Baltimore': 'Orioles',\n",
       " 'Boston Red': 'Sox',\n",
       " 'New York1': 'Yankees',\n",
       " 'Tampa Bay': 'Rays',\n",
       " 'Toronto': 'Blue Jays',\n",
       " 'Atlanta': 'Braves',\n",
       " 'Miami': 'Marlins',\n",
       " 'New York2': 'Mets',\n",
       " 'Philadelphia': 'Phillies',\n",
       " 'Washington': 'Nationals'}"
      ]
     },
     "execution_count": 26,
     "metadata": {},
     "output_type": "execute_result"
    }
   ],
   "source": [
    "MLB_teams"
   ]
  },
  {
   "cell_type": "code",
   "execution_count": 27,
   "id": "60a42c5c-ae6a-49e9-88bf-0a795b6f29b9",
   "metadata": {},
   "outputs": [],
   "source": [
    "# 1e, Now we add the names of the teams from the American League West \n",
    "#   Also from https://www.espn.com/mlb/teams\n",
    "# To avoid re-typing, you can update and put in another list of key-value pairs"
   ]
  },
  {
   "cell_type": "code",
   "execution_count": 28,
   "id": "94d09393-12f3-4eb3-b601-5b9163b46a08",
   "metadata": {},
   "outputs": [],
   "source": [
    "MLB_teams.update ([\n",
    "    ('Houston','Astros'),\n",
    "    ('Los Angeles1','Angels'),\n",
    "    ('Oakland','Athletics'),\n",
    "    ('Seattle','Mariners'),\n",
    "    ('Texas','Rangers')\n",
    "    ])"
   ]
  },
  {
   "cell_type": "code",
   "execution_count": 29,
   "id": "a3c890f5-520b-49a9-a1e3-c95718682558",
   "metadata": {},
   "outputs": [
    {
     "data": {
      "text/plain": [
       "{'Chicago1': 'White Sox',\n",
       " 'Cleveland': 'Guardians',\n",
       " 'Detroit': 'Tigers',\n",
       " 'Kansas City': 'Royals',\n",
       " 'Minnesota': 'Twins',\n",
       " 'Chicago2': 'Cubs',\n",
       " 'Cincinnati': 'Reds',\n",
       " 'Milwaukee': 'Brewers',\n",
       " 'Pittsburg': 'Pirates',\n",
       " 'St. Louis': 'Cardinals',\n",
       " 'Baltimore': 'Orioles',\n",
       " 'Boston Red': 'Sox',\n",
       " 'New York1': 'Yankees',\n",
       " 'Tampa Bay': 'Rays',\n",
       " 'Toronto': 'Blue Jays',\n",
       " 'Atlanta': 'Braves',\n",
       " 'Miami': 'Marlins',\n",
       " 'New York2': 'Mets',\n",
       " 'Philadelphia': 'Phillies',\n",
       " 'Washington': 'Nationals',\n",
       " 'Houston': 'Astros',\n",
       " 'Los Angeles1': 'Angels',\n",
       " 'Oakland': 'Athletics',\n",
       " 'Seattle': 'Mariners',\n",
       " 'Texas': 'Rangers'}"
      ]
     },
     "execution_count": 29,
     "metadata": {},
     "output_type": "execute_result"
    }
   ],
   "source": [
    "MLB_teams"
   ]
  },
  {
   "cell_type": "code",
   "execution_count": 30,
   "id": "ce37ed85-e91b-421d-ad2f-05801c20817b",
   "metadata": {},
   "outputs": [],
   "source": [
    "# 1f, Now we add the names of the teams from the National League West \n",
    "#   Also from https://www.espn.com/mlb/teams\n",
    "# To avoid re-typing, you can update and put in another list of key-value pairs"
   ]
  },
  {
   "cell_type": "code",
   "execution_count": 31,
   "id": "2f4fce5c-c43a-4fee-b2e2-b66579e00e4f",
   "metadata": {},
   "outputs": [],
   "source": [
    "MLB_teams.update ([\n",
    "    ('Arizona','Diamondbacks'),\n",
    "    ('Colorado','Rockies'),\n",
    "    ('Los Angeles2','Dodgers'),\n",
    "    ('San Diego','Padres'),\n",
    "    ('San Francisco','Giants')\n",
    "])"
   ]
  },
  {
   "cell_type": "code",
   "execution_count": 32,
   "id": "a3b8c33c-f17c-46a1-9e53-52ae384ec2ca",
   "metadata": {},
   "outputs": [
    {
     "data": {
      "text/plain": [
       "{'Chicago1': 'White Sox',\n",
       " 'Cleveland': 'Guardians',\n",
       " 'Detroit': 'Tigers',\n",
       " 'Kansas City': 'Royals',\n",
       " 'Minnesota': 'Twins',\n",
       " 'Chicago2': 'Cubs',\n",
       " 'Cincinnati': 'Reds',\n",
       " 'Milwaukee': 'Brewers',\n",
       " 'Pittsburg': 'Pirates',\n",
       " 'St. Louis': 'Cardinals',\n",
       " 'Baltimore': 'Orioles',\n",
       " 'Boston Red': 'Sox',\n",
       " 'New York1': 'Yankees',\n",
       " 'Tampa Bay': 'Rays',\n",
       " 'Toronto': 'Blue Jays',\n",
       " 'Atlanta': 'Braves',\n",
       " 'Miami': 'Marlins',\n",
       " 'New York2': 'Mets',\n",
       " 'Philadelphia': 'Phillies',\n",
       " 'Washington': 'Nationals',\n",
       " 'Houston': 'Astros',\n",
       " 'Los Angeles1': 'Angels',\n",
       " 'Oakland': 'Athletics',\n",
       " 'Seattle': 'Mariners',\n",
       " 'Texas': 'Rangers',\n",
       " 'Arizona': 'Diamondbacks',\n",
       " 'Colorado': 'Rockies',\n",
       " 'Los Angeles2': 'Dodgers',\n",
       " 'San Diego': 'Padres',\n",
       " 'San Francisco': 'Giants'}"
      ]
     },
     "execution_count": 32,
     "metadata": {},
     "output_type": "execute_result"
    }
   ],
   "source": [
    "MLB_teams"
   ]
  },
  {
   "cell_type": "code",
   "execution_count": 34,
   "id": "b30f6a4a-4123-4049-878a-12dbec9989b7",
   "metadata": {},
   "outputs": [],
   "source": [
    "del MLB_teams['Tampa Bay']"
   ]
  },
  {
   "cell_type": "code",
   "execution_count": 35,
   "id": "dec774c6-d380-489d-8216-00c8cc2b0e30",
   "metadata": {},
   "outputs": [],
   "source": [
    "del MLB_teams['Atlanta']"
   ]
  },
  {
   "cell_type": "code",
   "execution_count": 36,
   "id": "322edf0a-915f-4550-8528-25f46ee0b7e7",
   "metadata": {},
   "outputs": [],
   "source": [
    "del MLB_teams['Miami']"
   ]
  },
  {
   "cell_type": "code",
   "execution_count": 37,
   "id": "7a64aeaf-2ef9-42f3-a450-af0e198f10ae",
   "metadata": {},
   "outputs": [
    {
     "data": {
      "text/plain": [
       "{'Chicago1': 'White Sox',\n",
       " 'Cleveland': 'Guardians',\n",
       " 'Detroit': 'Tigers',\n",
       " 'Kansas City': 'Royals',\n",
       " 'Minnesota': 'Twins',\n",
       " 'Chicago2': 'Cubs',\n",
       " 'Cincinnati': 'Reds',\n",
       " 'Milwaukee': 'Brewers',\n",
       " 'Pittsburg': 'Pirates',\n",
       " 'St. Louis': 'Cardinals',\n",
       " 'Baltimore': 'Orioles',\n",
       " 'Boston Red': 'Sox',\n",
       " 'New York1': 'Yankees',\n",
       " 'Toronto': 'Blue Jays',\n",
       " 'New York2': 'Mets',\n",
       " 'Philadelphia': 'Phillies',\n",
       " 'Washington': 'Nationals',\n",
       " 'Houston': 'Astros',\n",
       " 'Los Angeles1': 'Angels',\n",
       " 'Oakland': 'Athletics',\n",
       " 'Seattle': 'Mariners',\n",
       " 'Texas': 'Rangers',\n",
       " 'Arizona': 'Diamondbacks',\n",
       " 'Colorado': 'Rockies',\n",
       " 'Los Angeles2': 'Dodgers',\n",
       " 'San Diego': 'Padres',\n",
       " 'San Francisco': 'Giants'}"
      ]
     },
     "execution_count": 37,
     "metadata": {},
     "output_type": "execute_result"
    }
   ],
   "source": [
    "MLB_teams"
   ]
  },
  {
   "cell_type": "markdown",
   "id": "b456e57c-4a12-464b-999a-ef2df5af80c1",
   "metadata": {},
   "source": [
    "Create a dictionary of MLB teams for the American League, call it MLB_teams\n",
    "\n",
    "Now add the MLB teams from the National League to the current dict.\n",
    "\n",
    "Delete all the teams that are South of Tennessee and North Carolina. (Mississippi, Alabama, Georgia, South Carolina, and Florida.)"
   ]
  },
  {
   "cell_type": "markdown",
   "id": "fc601975-35ed-4680-a4e1-0273ee3cc047",
   "metadata": {},
   "source": [
    "## Question 2"
   ]
  },
  {
   "cell_type": "code",
   "execution_count": 38,
   "id": "a16336a1-1ef0-41e8-bc7c-49387db27497",
   "metadata": {},
   "outputs": [
    {
     "name": "stdout",
     "output_type": "stream",
     "text": [
      "Yay!\n",
      "Yay!\n",
      "Yay!\n",
      "Yay!\n",
      "Yay!\n",
      "Yay!\n",
      "Yay!\n",
      "Yay!\n"
     ]
    }
   ],
   "source": [
    "count = 0\n",
    "while (count < 15):\n",
    "    count = count + 2\n",
    "    print (\"Yay!\")"
   ]
  },
  {
   "cell_type": "code",
   "execution_count": 39,
   "id": "5c001f83-1617-466e-9f87-6ad89f93ac5f",
   "metadata": {},
   "outputs": [],
   "source": [
    "# since it might be a liittle bit confusing to know the value that tallies to yay\n",
    "# We introduce print command to tell us the current value"
   ]
  },
  {
   "cell_type": "code",
   "execution_count": 40,
   "id": "6a6fbc17-5ce8-41a5-8fff-ec20225e59e1",
   "metadata": {},
   "outputs": [
    {
     "name": "stdout",
     "output_type": "stream",
     "text": [
      "The current value is\n",
      "Yay!\n",
      "The current value is\n",
      "Yay!\n",
      "The current value is\n",
      "Yay!\n",
      "The current value is\n",
      "Yay!\n",
      "The current value is\n",
      "Yay!\n",
      "The current value is\n",
      "Yay!\n",
      "The current value is\n",
      "Yay!\n",
      "The current value is\n",
      "Yay!\n"
     ]
    }
   ],
   "source": [
    "count = 0\n",
    "while (count < 15):\n",
    "    print(f'The current value is')\n",
    "    count = count + 2\n",
    "    print (\"Yay!\")"
   ]
  },
  {
   "cell_type": "code",
   "execution_count": null,
   "id": "e84ce1d1-afda-4ec2-9071-e33511c4de18",
   "metadata": {},
   "outputs": [],
   "source": [
    "# The syntax code count will help to get the value evaluated to the current value"
   ]
  },
  {
   "cell_type": "code",
   "execution_count": 41,
   "id": "699d08d7-5468-4f93-b879-ae79acb95842",
   "metadata": {},
   "outputs": [
    {
     "name": "stdout",
     "output_type": "stream",
     "text": [
      "The current value is 0\n",
      "Yay!\n",
      "The current value is 2\n",
      "Yay!\n",
      "The current value is 4\n",
      "Yay!\n",
      "The current value is 6\n",
      "Yay!\n",
      "The current value is 8\n",
      "Yay!\n",
      "The current value is 10\n",
      "Yay!\n",
      "The current value is 12\n",
      "Yay!\n",
      "The current value is 14\n",
      "Yay!\n"
     ]
    }
   ],
   "source": [
    "count = 0\n",
    "while (count < 15):\n",
    "    print(f'The current value is {count}')\n",
    "    count = count + 2\n",
    "    print (\"Yay!\")"
   ]
  },
  {
   "cell_type": "code",
   "execution_count": 42,
   "id": "9b7cd79a-db9d-4cd7-b09a-9814dabdfbbb",
   "metadata": {},
   "outputs": [],
   "source": [
    "# incase the value fail or it is false print boo"
   ]
  },
  {
   "cell_type": "code",
   "execution_count": 43,
   "id": "5790ac3e-f90a-4a61-85b2-bd080d92d66d",
   "metadata": {},
   "outputs": [
    {
     "name": "stdout",
     "output_type": "stream",
     "text": [
      "The current value is 0\n",
      "Yay!\n",
      "The current value is 2\n",
      "Yay!\n",
      "The current value is 4\n",
      "Yay!\n",
      "The current value is 6\n",
      "Yay!\n",
      "The current value is 8\n",
      "Yay!\n",
      "The current value is 10\n",
      "Yay!\n",
      "The current value is 12\n",
      "Yay!\n",
      "The current value is 14\n",
      "Yay!\n",
      "Boo!\n"
     ]
    }
   ],
   "source": [
    "count = 0\n",
    "while (count < 15):\n",
    "    print(f'The current value is {count}')\n",
    "    count = count + 2\n",
    "    print (\"Yay!\")\n",
    "else:\n",
    "    print (\"Boo!\")"
   ]
  },
  {
   "cell_type": "code",
   "execution_count": null,
   "id": "52b1c65b-26ea-4244-8dfa-9cb4430f7d61",
   "metadata": {},
   "outputs": [],
   "source": [
    "# And to know the value of what fail to print boo\n",
    "# The value is 16"
   ]
  },
  {
   "cell_type": "code",
   "execution_count": 44,
   "id": "ac5351a8-6228-4eaf-b4ed-4eb81a8c927b",
   "metadata": {},
   "outputs": [
    {
     "name": "stdout",
     "output_type": "stream",
     "text": [
      "The current value is 0\n",
      "Yay!\n",
      "The current value is 2\n",
      "Yay!\n",
      "The current value is 4\n",
      "Yay!\n",
      "The current value is 6\n",
      "Yay!\n",
      "The current value is 8\n",
      "Yay!\n",
      "The current value is 10\n",
      "Yay!\n",
      "The current value is 12\n",
      "Yay!\n",
      "The current value is 14\n",
      "Yay!\n",
      "The current value is 16\n",
      "Boo!\n"
     ]
    }
   ],
   "source": [
    "count = 0\n",
    "while (count < 15):\n",
    "    print(f'The current value is {count}')\n",
    "    count = count + 2\n",
    "    print (\"Yay!\")\n",
    "else:\n",
    "    print(f'The current value is {count}')\n",
    "    print (\"Boo!\")"
   ]
  },
  {
   "cell_type": "code",
   "execution_count": 108,
   "id": "390ef8d6-1d88-4c33-923c-a2512f23c9b0",
   "metadata": {},
   "outputs": [
    {
     "name": "stdout",
     "output_type": "stream",
     "text": [
      "The current value is 0\n",
      "Yay!\n",
      "The current value is 10\n",
      "Yay!\n",
      "The current value is 20\n",
      "Yay!\n",
      "The current value is 30\n",
      "Yay!\n",
      "The current value is 40\n",
      "Yay!\n",
      "The current value is 50\n",
      "Yay!\n",
      "The current value is 60\n",
      "Yay!\n",
      "The current value is 70\n",
      "Yay!\n",
      "The current value is 80\n",
      "Yay!\n",
      "The current value is 90\n",
      "Yay!\n",
      "The current value is 100\n",
      "Yay!\n",
      "The current value is 110\n",
      "Yay!\n",
      "The current value is 120\n",
      "Yay!\n",
      "The current value is 130\n",
      "Yay!\n",
      "The current value is 140\n",
      "Yay!\n",
      "The current value is 150\n",
      "Yay!\n",
      "The current value is 160\n",
      "Yay!\n",
      "The current value is 170\n",
      "Yay!\n",
      "The current value is 180\n",
      "Yay!\n",
      "The current value is 190\n",
      "Yay!\n",
      "The current value is 200\n",
      "Yay!\n",
      "The current value is 210\n",
      "Boo!\n"
     ]
    }
   ],
   "source": [
    "count = 0\n",
    "while (count <= 200):\n",
    "    print(f'The current value is {count}')\n",
    "    count = count + 10\n",
    "    print (\"Yay!\")\n",
    "else:\n",
    "    print(f'The current value is {count}')\n",
    "    print (\"Boo!\")"
   ]
  },
  {
   "cell_type": "code",
   "execution_count": 47,
   "id": "d2304914-0369-40f6-b4e2-39b71d8935e7",
   "metadata": {},
   "outputs": [],
   "source": [
    "words =  \"Old McDonald had a farm e-i-e-i-o\""
   ]
  },
  {
   "cell_type": "code",
   "execution_count": 48,
   "id": "c94178af-82c1-4330-9ce2-ee1f8ef01f54",
   "metadata": {},
   "outputs": [
    {
     "data": {
      "text/plain": [
       "'Old McDonald had a farm e-i-e-i-o'"
      ]
     },
     "execution_count": 48,
     "metadata": {},
     "output_type": "execute_result"
    }
   ],
   "source": [
    "words"
   ]
  },
  {
   "cell_type": "code",
   "execution_count": 49,
   "id": "bc52f1ac-4cba-4930-8fb8-7ec3c6346acf",
   "metadata": {},
   "outputs": [
    {
     "name": "stdout",
     "output_type": "stream",
     "text": [
      "O\n",
      "l\n",
      "d\n",
      " \n",
      "M\n",
      "c\n",
      "D\n",
      "o\n",
      "n\n",
      "a\n",
      "l\n",
      "d\n",
      " \n",
      "h\n",
      "a\n",
      "d\n",
      " \n",
      "a\n",
      " \n",
      "f\n",
      "a\n",
      "r\n",
      "m\n",
      " \n",
      "e\n",
      "-\n",
      "i\n",
      "-\n",
      "e\n",
      "-\n",
      "i\n",
      "-\n",
      "o\n"
     ]
    }
   ],
   "source": [
    "for myletter in list (words):\n",
    "    print (myletter)"
   ]
  },
  {
   "cell_type": "code",
   "execution_count": null,
   "id": "37ddb178-2836-4526-81e4-f34e35b18097",
   "metadata": {},
   "outputs": [],
   "source": [
    "# to print all the letters except letter a.\n",
    "# Print everything in the string EXCEPT the letter a"
   ]
  },
  {
   "cell_type": "code",
   "execution_count": 50,
   "id": "40d0d76f-695a-4658-b0c6-6d03c2da3ee4",
   "metadata": {},
   "outputs": [
    {
     "name": "stdout",
     "output_type": "stream",
     "text": [
      "O\n",
      "l\n",
      "d\n",
      " \n",
      "M\n",
      "c\n",
      "D\n",
      "o\n",
      "n\n",
      "l\n",
      "d\n",
      " \n",
      "h\n",
      "d\n",
      " \n",
      " \n",
      "f\n",
      "r\n",
      "m\n",
      " \n",
      "e\n",
      "-\n",
      "i\n",
      "-\n",
      "e\n",
      "-\n",
      "i\n",
      "-\n",
      "o\n"
     ]
    }
   ],
   "source": [
    "for myletter in list (words):\n",
    "    if (myletter != \"a\"):\n",
    "        print (myletter)"
   ]
  },
  {
   "cell_type": "code",
   "execution_count": null,
   "id": "00db8bf3-3123-4928-830b-2b830452e469",
   "metadata": {},
   "outputs": [],
   "source": [
    "# Now take words and replace each occurrence of the symbol - with an asterisk *"
   ]
  },
  {
   "cell_type": "code",
   "execution_count": 51,
   "id": "e376bfe7-d867-494f-8676-e392661e2554",
   "metadata": {},
   "outputs": [
    {
     "name": "stdout",
     "output_type": "stream",
     "text": [
      "O\n",
      "l\n",
      "d\n",
      " \n",
      "M\n",
      "c\n",
      "D\n",
      "o\n",
      "n\n",
      "a\n",
      "l\n",
      "d\n",
      " \n",
      "h\n",
      "a\n",
      "d\n",
      " \n",
      "a\n",
      " \n",
      "f\n",
      "a\n",
      "r\n",
      "m\n",
      " \n",
      "e\n",
      "*\n",
      "i\n",
      "*\n",
      "e\n",
      "*\n",
      "i\n",
      "*\n",
      "o\n"
     ]
    }
   ],
   "source": [
    "for myletter in list (words):\n",
    "    if (myletter == \"-\"):\n",
    "        print(\"*\")\n",
    "    else:\n",
    "        print (myletter)"
   ]
  },
  {
   "cell_type": "markdown",
   "id": "14dc22d4-ddc3-41cc-a91a-cb0025bc0c80",
   "metadata": {},
   "source": [
    "Use a while loop to print a series of numbers from 0 to 200, counting by 10’s\n",
    "\n",
    "Put the phrase \"Old McDonald had a farm e-i-e-i-o\" into a string and call it words. Print everything in the string EXCEPT the letter a\n",
    "\n",
    "Now take words and replace each occurrence of the symbol - with an asterisk *"
   ]
  },
  {
   "cell_type": "markdown",
   "id": "8e586edd-ff26-4ce2-8f6b-2424b26f2929",
   "metadata": {},
   "source": [
    "## Question 3"
   ]
  },
  {
   "cell_type": "code",
   "execution_count": 52,
   "id": "bbe0f40d-9655-4653-9ca8-886bdb61cb91",
   "metadata": {},
   "outputs": [
    {
     "name": "stdout",
     "output_type": "stream",
     "text": [
      "[(1, 'cherry'), (2, 'banana'), (3, 'orange'), (4, 'kiwi'), (5, 'apple')]\n"
     ]
    },
    {
     "data": {
      "text/plain": [
       "[(1, 'cherry'), (2, 'banana'), (3, 'orange'), (4, 'kiwi'), (5, 'apple')]"
      ]
     },
     "execution_count": 52,
     "metadata": {},
     "output_type": "execute_result"
    }
   ],
   "source": [
    "#create list of fruit\n",
    "fruit = ['cherry', 'banana', 'orange', 'kiwi', 'apple']\n",
    "#enumerate fruit but start at number one since default is 0\n",
    "num_fruit = enumerate(fruit, start=1)\n",
    "#print the enumerate object as a list\n",
    "print (list(num_fruit))\n",
    "#output from code\n",
    "[(1, 'cherry'), (2, 'banana'), (3, 'orange'), (4, 'kiwi'), (5, 'apple')]"
   ]
  },
  {
   "cell_type": "code",
   "execution_count": 53,
   "id": "39a8bdcc-56e9-470f-b75e-7e56b1f60ca2",
   "metadata": {},
   "outputs": [
    {
     "data": {
      "text/plain": [
       "<enumerate at 0x7f0a181ebac0>"
      ]
     },
     "execution_count": 53,
     "metadata": {},
     "output_type": "execute_result"
    }
   ],
   "source": [
    "# you can see thecontent of the enumerate until you wrap it up in a list \n",
    "enumerate(fruit, start=1)"
   ]
  },
  {
   "cell_type": "code",
   "execution_count": 54,
   "id": "8e7c8b28-e3fb-4124-a2cb-51d4305c13f3",
   "metadata": {},
   "outputs": [
    {
     "data": {
      "text/plain": [
       "[(1, 'cherry'), (2, 'banana'), (3, 'orange'), (4, 'kiwi'), (5, 'apple')]"
      ]
     },
     "execution_count": 54,
     "metadata": {},
     "output_type": "execute_result"
    }
   ],
   "source": [
    "# It went through the five elements of fruits\n",
    "# It makes those values inside the key-value pair\n",
    "# The keys start with 1,2,3,4,5\n",
    "\n",
    "list(enumerate(fruit, start=1))"
   ]
  },
  {
   "cell_type": "code",
   "execution_count": null,
   "id": "cda279ac-6074-44e5-bfc2-31e5f047f884",
   "metadata": {},
   "outputs": [],
   "source": [
    "# you can change the key to start with any number"
   ]
  },
  {
   "cell_type": "code",
   "execution_count": 55,
   "id": "a0d8227b-7367-432f-a879-e8949b880c87",
   "metadata": {},
   "outputs": [
    {
     "data": {
      "text/plain": [
       "[(200, 'cherry'),\n",
       " (201, 'banana'),\n",
       " (202, 'orange'),\n",
       " (203, 'kiwi'),\n",
       " (204, 'apple')]"
      ]
     },
     "execution_count": 55,
     "metadata": {},
     "output_type": "execute_result"
    }
   ],
   "source": [
    "# The key stareted with 200\n",
    "\n",
    "list(enumerate(fruit, start=200))"
   ]
  },
  {
   "cell_type": "code",
   "execution_count": 56,
   "id": "84ecc6a2-7792-4009-8c2c-bdf83294cd81",
   "metadata": {},
   "outputs": [
    {
     "data": {
      "text/plain": [
       "{200: 'cherry', 201: 'banana', 202: 'orange', 203: 'kiwi', 204: 'apple'}"
      ]
     },
     "execution_count": 56,
     "metadata": {},
     "output_type": "execute_result"
    }
   ],
   "source": [
    "# Making it into a dictionary\n",
    "\n",
    "dict(enumerate(fruit, start=200))"
   ]
  },
  {
   "cell_type": "code",
   "execution_count": 57,
   "id": "b884d746-54c8-466c-b6bf-fdd674c05ce2",
   "metadata": {},
   "outputs": [],
   "source": [
    "mydict = dict(enumerate(fruit, start=200))"
   ]
  },
  {
   "cell_type": "code",
   "execution_count": 58,
   "id": "4e0c1086-581b-425a-80fa-b30d0bb85ec4",
   "metadata": {},
   "outputs": [
    {
     "data": {
      "text/plain": [
       "'cherry'"
      ]
     },
     "execution_count": 58,
     "metadata": {},
     "output_type": "execute_result"
    }
   ],
   "source": [
    "mydict[200]"
   ]
  },
  {
   "cell_type": "code",
   "execution_count": 59,
   "id": "cce03190-b277-4e0a-8953-77ca62cdb4f8",
   "metadata": {},
   "outputs": [
    {
     "data": {
      "text/plain": [
       "'banana'"
      ]
     },
     "execution_count": 59,
     "metadata": {},
     "output_type": "execute_result"
    }
   ],
   "source": [
    "mydict[201]"
   ]
  },
  {
   "cell_type": "code",
   "execution_count": 60,
   "id": "d5d762b6-061a-49b2-a4a5-8b4eeb334221",
   "metadata": {},
   "outputs": [
    {
     "data": {
      "text/plain": [
       "'apple'"
      ]
     },
     "execution_count": 60,
     "metadata": {},
     "output_type": "execute_result"
    }
   ],
   "source": [
    "mydict[204]"
   ]
  },
  {
   "cell_type": "code",
   "execution_count": 61,
   "id": "0307dec3-d137-45fe-b950-8af339ef2d04",
   "metadata": {},
   "outputs": [
    {
     "name": "stdout",
     "output_type": "stream",
     "text": [
      "(200, 'cherry')\n",
      "(201, 'banana')\n",
      "(202, 'orange')\n",
      "(203, 'kiwi')\n",
      "(204, 'apple')\n"
     ]
    }
   ],
   "source": [
    "for myfruit in enumerate(fruit, start=200):\n",
    "    print(myfruit)"
   ]
  },
  {
   "cell_type": "code",
   "execution_count": 62,
   "id": "4446b94f-fd62-43a4-ab77-4447efebc670",
   "metadata": {},
   "outputs": [
    {
     "name": "stdout",
     "output_type": "stream",
     "text": [
      "200\n",
      "201\n",
      "202\n",
      "203\n",
      "204\n"
     ]
    }
   ],
   "source": [
    "# i could print just the Zeroth of the element \n",
    "# which is just the number itself\n",
    "for myfruit in enumerate(fruit, start=200):\n",
    "    print(myfruit[0])"
   ]
  },
  {
   "cell_type": "code",
   "execution_count": 63,
   "id": "89036f2a-5ecf-4a6c-b955-3eba306cc627",
   "metadata": {},
   "outputs": [
    {
     "name": "stdout",
     "output_type": "stream",
     "text": [
      "cherry\n",
      "banana\n",
      "orange\n",
      "kiwi\n",
      "apple\n"
     ]
    }
   ],
   "source": [
    "# i could print just the 1th element \n",
    "# which is just the fruit itself\n",
    "\n",
    "for myfruit in enumerate(fruit, start=200):\n",
    "    print(myfruit[1])"
   ]
  },
  {
   "cell_type": "code",
   "execution_count": 64,
   "id": "cb5589ae-6d44-49fe-bf67-871ea0acd621",
   "metadata": {},
   "outputs": [
    {
     "data": {
      "text/plain": [
       "range(0, 50)"
      ]
     },
     "execution_count": 64,
     "metadata": {},
     "output_type": "execute_result"
    }
   ],
   "source": [
    "range(50)"
   ]
  },
  {
   "cell_type": "code",
   "execution_count": 65,
   "id": "705375bf-8d07-43b0-b087-9d6220a32b74",
   "metadata": {},
   "outputs": [
    {
     "name": "stdout",
     "output_type": "stream",
     "text": [
      "0\n",
      "1\n",
      "2\n",
      "3\n",
      "4\n",
      "5\n",
      "6\n",
      "7\n",
      "8\n",
      "9\n",
      "10\n",
      "11\n",
      "12\n",
      "13\n",
      "14\n",
      "15\n",
      "16\n",
      "17\n",
      "18\n",
      "19\n",
      "20\n",
      "21\n",
      "22\n",
      "23\n",
      "24\n",
      "25\n",
      "26\n",
      "27\n",
      "28\n",
      "29\n",
      "30\n",
      "31\n",
      "32\n",
      "33\n",
      "34\n",
      "35\n",
      "36\n",
      "37\n",
      "38\n",
      "39\n",
      "40\n",
      "41\n",
      "42\n",
      "43\n",
      "44\n",
      "45\n",
      "46\n",
      "47\n",
      "48\n",
      "49\n"
     ]
    }
   ],
   "source": [
    "for mynumber in range (50):\n",
    "    print(mynumber)"
   ]
  },
  {
   "cell_type": "code",
   "execution_count": 66,
   "id": "0142489f-5a40-4775-88e1-1ce13d972374",
   "metadata": {},
   "outputs": [
    {
     "name": "stdout",
     "output_type": "stream",
     "text": [
      "[(1, 'United State'), (2, 'Nigeria'), (3, 'Cameroon'), (4, 'Canada'), (5, 'Australia')]\n"
     ]
    }
   ],
   "source": [
    "#create list of country\n",
    "country = ['United State', 'Nigeria', 'Cameroon', 'Canada', 'Australia']\n",
    "#enumerate country but start at number one since default is 0\n",
    "num_country = enumerate(country, start=1)\n",
    "#print the enumerate object as a list\n",
    "print (list(num_country))\n",
    "#output from code\n"
   ]
  },
  {
   "cell_type": "code",
   "execution_count": 67,
   "id": "1eaead17-ce9b-4980-9e58-f398b8bab698",
   "metadata": {},
   "outputs": [
    {
     "data": {
      "text/plain": [
       "<enumerate at 0x7f0a228368c0>"
      ]
     },
     "execution_count": 67,
     "metadata": {},
     "output_type": "execute_result"
    }
   ],
   "source": [
    "enumerate(country, start=1)"
   ]
  },
  {
   "cell_type": "code",
   "execution_count": 68,
   "id": "44f9fe03-64ba-4991-b811-e2544fea9218",
   "metadata": {},
   "outputs": [
    {
     "data": {
      "text/plain": [
       "[(1, 'United State'),\n",
       " (2, 'Nigeria'),\n",
       " (3, 'Cameroon'),\n",
       " (4, 'Canada'),\n",
       " (5, 'Australia')]"
      ]
     },
     "execution_count": 68,
     "metadata": {},
     "output_type": "execute_result"
    }
   ],
   "source": [
    "list(enumerate(country, start=1))"
   ]
  },
  {
   "cell_type": "code",
   "execution_count": 69,
   "id": "d6541d36-0848-4c3e-a55b-62a2009c2259",
   "metadata": {},
   "outputs": [
    {
     "data": {
      "text/plain": [
       "{200: 'United State',\n",
       " 201: 'Nigeria',\n",
       " 202: 'Cameroon',\n",
       " 203: 'Canada',\n",
       " 204: 'Australia'}"
      ]
     },
     "execution_count": 69,
     "metadata": {},
     "output_type": "execute_result"
    }
   ],
   "source": [
    "dict(enumerate(country, start=200))"
   ]
  },
  {
   "cell_type": "markdown",
   "id": "47c6229f-35f7-400c-8366-c442baa5cf47",
   "metadata": {},
   "source": [
    "Create a for loop\n",
    "\n",
    "Now add in the enumerate() function to your for loop.\n",
    "\n",
    "Create a 'for' loop with the range() function"
   ]
  },
  {
   "cell_type": "markdown",
   "id": "da22f29c-d245-4d2b-9fc1-ca14cb6087d9",
   "metadata": {},
   "source": [
    "## Question 4"
   ]
  },
  {
   "cell_type": "code",
   "execution_count": 70,
   "id": "8cffc767-d1c8-4d64-b7dc-f0d2ee8a80d1",
   "metadata": {},
   "outputs": [],
   "source": [
    "import pandas as pd"
   ]
  },
  {
   "cell_type": "code",
   "execution_count": 71,
   "id": "4d85109a-b76d-410e-ae2e-77a450f49a81",
   "metadata": {},
   "outputs": [],
   "source": [
    "cars = pd.read_csv(\"/anvil/projects/tdm/data/craigslist/vehicles.csv\")"
   ]
  },
  {
   "cell_type": "code",
   "execution_count": 72,
   "id": "f4cb98f1-a1cb-454a-a6eb-8bc1a85e9a53",
   "metadata": {},
   "outputs": [
    {
     "data": {
      "text/plain": [
       "(435849, 25)"
      ]
     },
     "execution_count": 72,
     "metadata": {},
     "output_type": "execute_result"
    }
   ],
   "source": [
    "cars.shape"
   ]
  },
  {
   "cell_type": "code",
   "execution_count": 73,
   "id": "bee14e84-66e1-42c6-a73f-2a0c4a8630a8",
   "metadata": {},
   "outputs": [],
   "source": [
    "pd.options.display.max_columns = None"
   ]
  },
  {
   "cell_type": "code",
   "execution_count": 74,
   "id": "1be1058e-c7d1-494c-8e19-9874f4e1c9f4",
   "metadata": {},
   "outputs": [
    {
     "data": {
      "text/html": [
       "<div>\n",
       "<style scoped>\n",
       "    .dataframe tbody tr th:only-of-type {\n",
       "        vertical-align: middle;\n",
       "    }\n",
       "\n",
       "    .dataframe tbody tr th {\n",
       "        vertical-align: top;\n",
       "    }\n",
       "\n",
       "    .dataframe thead th {\n",
       "        text-align: right;\n",
       "    }\n",
       "</style>\n",
       "<table border=\"1\" class=\"dataframe\">\n",
       "  <thead>\n",
       "    <tr style=\"text-align: right;\">\n",
       "      <th></th>\n",
       "      <th>id</th>\n",
       "      <th>url</th>\n",
       "      <th>region</th>\n",
       "      <th>region_url</th>\n",
       "      <th>price</th>\n",
       "      <th>year</th>\n",
       "      <th>manufacturer</th>\n",
       "      <th>model</th>\n",
       "      <th>condition</th>\n",
       "      <th>cylinders</th>\n",
       "      <th>fuel</th>\n",
       "      <th>odometer</th>\n",
       "      <th>title_status</th>\n",
       "      <th>transmission</th>\n",
       "      <th>vin</th>\n",
       "      <th>drive</th>\n",
       "      <th>size</th>\n",
       "      <th>type</th>\n",
       "      <th>paint_color</th>\n",
       "      <th>image_url</th>\n",
       "      <th>description</th>\n",
       "      <th>county</th>\n",
       "      <th>state</th>\n",
       "      <th>lat</th>\n",
       "      <th>long</th>\n",
       "    </tr>\n",
       "  </thead>\n",
       "  <tbody>\n",
       "    <tr>\n",
       "      <th>0</th>\n",
       "      <td>7119256118</td>\n",
       "      <td>https://mohave.craigslist.org/ctd/d/lake-havas...</td>\n",
       "      <td>mohave county</td>\n",
       "      <td>https://mohave.craigslist.org</td>\n",
       "      <td>3495</td>\n",
       "      <td>2012.0</td>\n",
       "      <td>jeep</td>\n",
       "      <td>patriot</td>\n",
       "      <td>like new</td>\n",
       "      <td>4 cylinders</td>\n",
       "      <td>gas</td>\n",
       "      <td>NaN</td>\n",
       "      <td>clean</td>\n",
       "      <td>automatic</td>\n",
       "      <td>NaN</td>\n",
       "      <td>NaN</td>\n",
       "      <td>NaN</td>\n",
       "      <td>NaN</td>\n",
       "      <td>silver</td>\n",
       "      <td>https://images.craigslist.org/00B0B_k2AXIJ21ok...</td>\n",
       "      <td>THIS 2012 JEEP PATRIOT IS A 4CYL. AC, STEREO, ...</td>\n",
       "      <td>NaN</td>\n",
       "      <td>az</td>\n",
       "      <td>34.4554</td>\n",
       "      <td>-114.2690</td>\n",
       "    </tr>\n",
       "    <tr>\n",
       "      <th>1</th>\n",
       "      <td>7120880186</td>\n",
       "      <td>https://oregoncoast.craigslist.org/cto/d/warre...</td>\n",
       "      <td>oregon coast</td>\n",
       "      <td>https://oregoncoast.craigslist.org</td>\n",
       "      <td>13750</td>\n",
       "      <td>2014.0</td>\n",
       "      <td>bmw</td>\n",
       "      <td>328i m-sport</td>\n",
       "      <td>good</td>\n",
       "      <td>NaN</td>\n",
       "      <td>gas</td>\n",
       "      <td>76237.0</td>\n",
       "      <td>clean</td>\n",
       "      <td>automatic</td>\n",
       "      <td>NaN</td>\n",
       "      <td>rwd</td>\n",
       "      <td>NaN</td>\n",
       "      <td>sedan</td>\n",
       "      <td>grey</td>\n",
       "      <td>https://images.craigslist.org/00U0U_3cLk0WGOJ8...</td>\n",
       "      <td>Selling my 2014 BMW 328i with the following be...</td>\n",
       "      <td>NaN</td>\n",
       "      <td>or</td>\n",
       "      <td>46.1837</td>\n",
       "      <td>-123.8240</td>\n",
       "    </tr>\n",
       "    <tr>\n",
       "      <th>2</th>\n",
       "      <td>7115048251</td>\n",
       "      <td>https://greenville.craigslist.org/cto/d/sparta...</td>\n",
       "      <td>greenville / upstate</td>\n",
       "      <td>https://greenville.craigslist.org</td>\n",
       "      <td>2300</td>\n",
       "      <td>2001.0</td>\n",
       "      <td>dodge</td>\n",
       "      <td>caravan</td>\n",
       "      <td>excellent</td>\n",
       "      <td>6 cylinders</td>\n",
       "      <td>gas</td>\n",
       "      <td>199000.0</td>\n",
       "      <td>clean</td>\n",
       "      <td>automatic</td>\n",
       "      <td>NaN</td>\n",
       "      <td>NaN</td>\n",
       "      <td>NaN</td>\n",
       "      <td>NaN</td>\n",
       "      <td>NaN</td>\n",
       "      <td>https://images.craigslist.org/00k0k_t4WqYn5nDC...</td>\n",
       "      <td>01 DODGE CARAVAN,3.3 ENGINE,AUT TRANS,199000 M...</td>\n",
       "      <td>NaN</td>\n",
       "      <td>sc</td>\n",
       "      <td>34.9352</td>\n",
       "      <td>-81.9654</td>\n",
       "    </tr>\n",
       "    <tr>\n",
       "      <th>3</th>\n",
       "      <td>7119250502</td>\n",
       "      <td>https://mohave.craigslist.org/cto/d/lake-havas...</td>\n",
       "      <td>mohave county</td>\n",
       "      <td>https://mohave.craigslist.org</td>\n",
       "      <td>9000</td>\n",
       "      <td>2004.0</td>\n",
       "      <td>chevrolet</td>\n",
       "      <td>colorado ls</td>\n",
       "      <td>excellent</td>\n",
       "      <td>5 cylinders</td>\n",
       "      <td>gas</td>\n",
       "      <td>54000.0</td>\n",
       "      <td>clean</td>\n",
       "      <td>automatic</td>\n",
       "      <td>1GCCS196448191644</td>\n",
       "      <td>rwd</td>\n",
       "      <td>mid-size</td>\n",
       "      <td>pickup</td>\n",
       "      <td>red</td>\n",
       "      <td>https://images.craigslist.org/00J0J_lJEzfeVLHI...</td>\n",
       "      <td>2004 Chevy Colorado LS, ONLY 54000 ORIGINAL MI...</td>\n",
       "      <td>NaN</td>\n",
       "      <td>az</td>\n",
       "      <td>34.4783</td>\n",
       "      <td>-114.2710</td>\n",
       "    </tr>\n",
       "    <tr>\n",
       "      <th>4</th>\n",
       "      <td>7120433904</td>\n",
       "      <td>https://maine.craigslist.org/ctd/d/searsport-t...</td>\n",
       "      <td>maine</td>\n",
       "      <td>https://maine.craigslist.org</td>\n",
       "      <td>0</td>\n",
       "      <td>2021.0</td>\n",
       "      <td>NaN</td>\n",
       "      <td>Honda-Nissan-Kia-Ford-Hyundai-VW</td>\n",
       "      <td>NaN</td>\n",
       "      <td>NaN</td>\n",
       "      <td>other</td>\n",
       "      <td>NaN</td>\n",
       "      <td>clean</td>\n",
       "      <td>other</td>\n",
       "      <td>NaN</td>\n",
       "      <td>NaN</td>\n",
       "      <td>NaN</td>\n",
       "      <td>NaN</td>\n",
       "      <td>NaN</td>\n",
       "      <td>https://images.craigslist.org/01010_j0IW34mCsm...</td>\n",
       "      <td>CALL: 207.548.6500 TEXT: 207.407.5598  **WE FI...</td>\n",
       "      <td>NaN</td>\n",
       "      <td>me</td>\n",
       "      <td>44.4699</td>\n",
       "      <td>-68.8963</td>\n",
       "    </tr>\n",
       "  </tbody>\n",
       "</table>\n",
       "</div>"
      ],
      "text/plain": [
       "           id                                                url  \\\n",
       "0  7119256118  https://mohave.craigslist.org/ctd/d/lake-havas...   \n",
       "1  7120880186  https://oregoncoast.craigslist.org/cto/d/warre...   \n",
       "2  7115048251  https://greenville.craigslist.org/cto/d/sparta...   \n",
       "3  7119250502  https://mohave.craigslist.org/cto/d/lake-havas...   \n",
       "4  7120433904  https://maine.craigslist.org/ctd/d/searsport-t...   \n",
       "\n",
       "                 region                          region_url  price    year  \\\n",
       "0         mohave county       https://mohave.craigslist.org   3495  2012.0   \n",
       "1          oregon coast  https://oregoncoast.craigslist.org  13750  2014.0   \n",
       "2  greenville / upstate   https://greenville.craigslist.org   2300  2001.0   \n",
       "3         mohave county       https://mohave.craigslist.org   9000  2004.0   \n",
       "4                 maine        https://maine.craigslist.org      0  2021.0   \n",
       "\n",
       "  manufacturer                             model  condition    cylinders  \\\n",
       "0         jeep                           patriot   like new  4 cylinders   \n",
       "1          bmw                      328i m-sport       good          NaN   \n",
       "2        dodge                           caravan  excellent  6 cylinders   \n",
       "3    chevrolet                       colorado ls  excellent  5 cylinders   \n",
       "4          NaN  Honda-Nissan-Kia-Ford-Hyundai-VW        NaN          NaN   \n",
       "\n",
       "    fuel  odometer title_status transmission                vin drive  \\\n",
       "0    gas       NaN        clean    automatic                NaN   NaN   \n",
       "1    gas   76237.0        clean    automatic                NaN   rwd   \n",
       "2    gas  199000.0        clean    automatic                NaN   NaN   \n",
       "3    gas   54000.0        clean    automatic  1GCCS196448191644   rwd   \n",
       "4  other       NaN        clean        other                NaN   NaN   \n",
       "\n",
       "       size    type paint_color  \\\n",
       "0       NaN     NaN      silver   \n",
       "1       NaN   sedan        grey   \n",
       "2       NaN     NaN         NaN   \n",
       "3  mid-size  pickup         red   \n",
       "4       NaN     NaN         NaN   \n",
       "\n",
       "                                           image_url  \\\n",
       "0  https://images.craigslist.org/00B0B_k2AXIJ21ok...   \n",
       "1  https://images.craigslist.org/00U0U_3cLk0WGOJ8...   \n",
       "2  https://images.craigslist.org/00k0k_t4WqYn5nDC...   \n",
       "3  https://images.craigslist.org/00J0J_lJEzfeVLHI...   \n",
       "4  https://images.craigslist.org/01010_j0IW34mCsm...   \n",
       "\n",
       "                                         description  county state      lat  \\\n",
       "0  THIS 2012 JEEP PATRIOT IS A 4CYL. AC, STEREO, ...     NaN    az  34.4554   \n",
       "1  Selling my 2014 BMW 328i with the following be...     NaN    or  46.1837   \n",
       "2  01 DODGE CARAVAN,3.3 ENGINE,AUT TRANS,199000 M...     NaN    sc  34.9352   \n",
       "3  2004 Chevy Colorado LS, ONLY 54000 ORIGINAL MI...     NaN    az  34.4783   \n",
       "4  CALL: 207.548.6500 TEXT: 207.407.5598  **WE FI...     NaN    me  44.4699   \n",
       "\n",
       "       long  \n",
       "0 -114.2690  \n",
       "1 -123.8240  \n",
       "2  -81.9654  \n",
       "3 -114.2710  \n",
       "4  -68.8963  "
      ]
     },
     "execution_count": 74,
     "metadata": {},
     "output_type": "execute_result"
    }
   ],
   "source": [
    "cars.head()"
   ]
  },
  {
   "cell_type": "code",
   "execution_count": 75,
   "id": "1683fae3-0d35-4787-90b0-b97d4e5f391b",
   "metadata": {},
   "outputs": [
    {
     "data": {
      "text/plain": [
       "2017.0    34592\n",
       "2015.0    32918\n",
       "2016.0    32096\n",
       "2014.0    31703\n",
       "2013.0    31434\n",
       "          ...  \n",
       "1917.0        1\n",
       "1915.0        1\n",
       "1943.0        1\n",
       "1945.0        1\n",
       "1920.0        1\n",
       "Name: year, Length: 109, dtype: int64"
      ]
     },
     "execution_count": 75,
     "metadata": {},
     "output_type": "execute_result"
    }
   ],
   "source": [
    "cars['year'].value_counts()"
   ]
  },
  {
   "cell_type": "code",
   "execution_count": null,
   "id": "0cbf12f9-3b4b-43b3-ba0f-b8909c454228",
   "metadata": {},
   "outputs": [],
   "source": [
    "# We want to use a loop!"
   ]
  },
  {
   "cell_type": "code",
   "execution_count": 76,
   "id": "f1b02d3c-90b7-45d7-adba-19c89c5e8e58",
   "metadata": {},
   "outputs": [
    {
     "data": {
      "text/plain": [
       "0    2012.0\n",
       "1    2014.0\n",
       "2    2001.0\n",
       "3    2004.0\n",
       "4    2021.0\n",
       "Name: year, dtype: float64"
      ]
     },
     "execution_count": 76,
     "metadata": {},
     "output_type": "execute_result"
    }
   ],
   "source": [
    "# considering first five\n",
    "cars['year'].head()"
   ]
  },
  {
   "cell_type": "code",
   "execution_count": 77,
   "id": "da94b8c9-66a8-4f8d-962a-2d400bae8f15",
   "metadata": {},
   "outputs": [
    {
     "data": {
      "text/plain": [
       "0     2012.0\n",
       "1     2014.0\n",
       "2     2001.0\n",
       "3     2004.0\n",
       "4     2021.0\n",
       "5     2010.0\n",
       "6     2014.0\n",
       "7     2005.0\n",
       "8     2012.0\n",
       "9     2004.0\n",
       "10    2017.0\n",
       "11    2016.0\n",
       "12    2006.0\n",
       "13    2016.0\n",
       "14    2009.0\n",
       "15    2011.0\n",
       "16    2012.0\n",
       "17    2010.0\n",
       "18    2018.0\n",
       "19    2017.0\n",
       "Name: year, dtype: float64"
      ]
     },
     "execution_count": 77,
     "metadata": {},
     "output_type": "execute_result"
    }
   ],
   "source": [
    "# considering first 20 \n",
    "cars['year'].head(20)"
   ]
  },
  {
   "cell_type": "code",
   "execution_count": 78,
   "id": "e4c16653-008e-4628-9a2a-212d1f200722",
   "metadata": {},
   "outputs": [],
   "source": [
    "# let us make an empty dictionary\n",
    "# Create an empty dictionary before anything\n",
    "\n",
    "mydict = {}"
   ]
  },
  {
   "cell_type": "code",
   "execution_count": 79,
   "id": "7f01d277-a5f7-4de6-ac8b-3445a6d417ea",
   "metadata": {},
   "outputs": [],
   "source": [
    "# Go to each of this year\n",
    "# we will do it for the first 20 to make sure it works\n",
    "\n",
    "for myyear in cars['year'].head(20):\n",
    "#  May be the year is not in the dictionary yet \n",
    "# If the key is not yet in the dictionary\n",
    "    if(myyear not in mydict):\n",
    "# put the year in the dictionary and setinitial value equal to 1  \n",
    "# puting 2012 as the key and 1 as a value\n",
    "# same for 2014 and put 1 as a value\n",
    "# and all the other time\n",
    "        mydict[myyear] = 1\n",
    "    else:\n",
    "# and all the other time i want to take what the values was before and increase by 1 \n",
    "# set the initial value to be 1\n",
    "        mydict[myyear] += 1    \n",
    "\n",
    "\n"
   ]
  },
  {
   "cell_type": "code",
   "execution_count": 80,
   "id": "08864aa0-3add-4a26-968a-b6607ac63f17",
   "metadata": {},
   "outputs": [
    {
     "data": {
      "text/plain": [
       "{2012.0: 3,\n",
       " 2014.0: 2,\n",
       " 2001.0: 1,\n",
       " 2004.0: 2,\n",
       " 2021.0: 1,\n",
       " 2010.0: 2,\n",
       " 2005.0: 1,\n",
       " 2017.0: 2,\n",
       " 2016.0: 2,\n",
       " 2006.0: 1,\n",
       " 2009.0: 1,\n",
       " 2011.0: 1,\n",
       " 2018.0: 1}"
      ]
     },
     "execution_count": 80,
     "metadata": {},
     "output_type": "execute_result"
    }
   ],
   "source": [
    " mydict"
   ]
  },
  {
   "cell_type": "code",
   "execution_count": 81,
   "id": "18c68d5e-e69b-4f88-9499-55d8fafe9913",
   "metadata": {},
   "outputs": [],
   "source": [
    "# let us make an empty dictionary\n",
    "# Create an empty dictionary\n",
    "\n",
    "mydict = {}"
   ]
  },
  {
   "cell_type": "code",
   "execution_count": 121,
   "id": "aa8eb9d3-a5a9-48d1-83f4-5d49287fb447",
   "metadata": {},
   "outputs": [],
   "source": [
    "for myyear in cars['year'].head(1000):\n",
    "    if (myyear not in mydict):\n",
    "        mydict[myyear] = 1\n",
    "    else:\n",
    "        mydict[myyear] +=1 "
   ]
  },
  {
   "cell_type": "code",
   "execution_count": 126,
   "id": "fff30d08-0088-4882-a47c-6d8a326567f6",
   "metadata": {},
   "outputs": [],
   "source": [
    "# going through we have some missing values \n",
    "# we will deal with that later\n",
    "\n",
    "mydict   "
   ]
  },
  {
   "cell_type": "code",
   "execution_count": 83,
   "id": "1d09826f-b3f4-42fe-84cf-fe754eeab8ba",
   "metadata": {},
   "outputs": [],
   "source": [
    "# let us make an empty dictionary\n",
    "# Create an empty dictionary\n",
    "\n",
    "mydict = {}"
   ]
  },
  {
   "cell_type": "code",
   "execution_count": 84,
   "id": "8414064d-a713-4ef0-8940-4058707e9be8",
   "metadata": {},
   "outputs": [],
   "source": [
    "# removing the head to run for the full column of the year\n",
    "for myyear in cars['year']:\n",
    "    if (myyear not in mydict):\n",
    "        mydict[myyear] = 1\n",
    "    else:\n",
    "        mydict[myyear] +=1 "
   ]
  },
  {
   "cell_type": "code",
   "execution_count": 127,
   "id": "1db10158-24e4-4c4c-b54b-2d32b81d8abc",
   "metadata": {},
   "outputs": [],
   "source": [
    "mydict"
   ]
  },
  {
   "cell_type": "code",
   "execution_count": 87,
   "id": "e4aaaa01-d2bc-4685-8608-28cb1dfddf7a",
   "metadata": {},
   "outputs": [
    {
     "data": {
      "text/plain": [
       "26532"
      ]
     },
     "execution_count": 87,
     "metadata": {},
     "output_type": "execute_result"
    }
   ],
   "source": [
    "mydict[2011]"
   ]
  },
  {
   "cell_type": "code",
   "execution_count": 88,
   "id": "724c9afa-a672-49c3-b8cf-cd98641f2132",
   "metadata": {},
   "outputs": [
    {
     "data": {
      "text/plain": [
       "630"
      ]
     },
     "execution_count": 88,
     "metadata": {},
     "output_type": "execute_result"
    }
   ],
   "source": [
    "mydict[1989]"
   ]
  },
  {
   "cell_type": "code",
   "execution_count": 89,
   "id": "9618e5b2-2102-46d9-9a6e-8aefa3bb4590",
   "metadata": {},
   "outputs": [
    {
     "data": {
      "text/plain": [
       "2062"
      ]
     },
     "execution_count": 89,
     "metadata": {},
     "output_type": "execute_result"
    }
   ],
   "source": [
    "mydict[1997]"
   ]
  },
  {
   "cell_type": "markdown",
   "id": "0d552245-b4d6-474a-9cc9-fa7b8e674d55",
   "metadata": {},
   "source": [
    "From the new dictionary that you created, find the number of cars, during each of these years:\n",
    "\n",
    "2011 = 26532\n",
    "\n",
    "1989 = 630\n",
    "\n",
    "1997 = 2062"
   ]
  },
  {
   "cell_type": "markdown",
   "id": "88c9cdac-3e92-498f-83fa-e089bfc44ac8",
   "metadata": {},
   "source": [
    "## Question 5"
   ]
  },
  {
   "cell_type": "code",
   "execution_count": 90,
   "id": "d370d7c9-06db-42b9-b75f-240481a5c491",
   "metadata": {},
   "outputs": [],
   "source": [
    "import matplotlib.pyplot as plt"
   ]
  },
  {
   "cell_type": "code",
   "execution_count": 91,
   "id": "d5681e1a-7f3b-4115-b530-57264e2692fb",
   "metadata": {},
   "outputs": [
    {
     "data": {
      "text/plain": [
       "2017.0    34592\n",
       "2015.0    32918\n",
       "2016.0    32096\n",
       "2014.0    31703\n",
       "2013.0    31434\n",
       "          ...  \n",
       "1917.0        1\n",
       "1915.0        1\n",
       "1943.0        1\n",
       "1945.0        1\n",
       "1920.0        1\n",
       "Name: year, Length: 109, dtype: int64"
      ]
     },
     "execution_count": 91,
     "metadata": {},
     "output_type": "execute_result"
    }
   ],
   "source": [
    "cars['year'].value_counts()"
   ]
  },
  {
   "cell_type": "code",
   "execution_count": 92,
   "id": "c21cb31d-bba4-479b-9e0c-020b841ba479",
   "metadata": {},
   "outputs": [],
   "source": [
    "mydata =cars['year'].value_counts()"
   ]
  },
  {
   "cell_type": "code",
   "execution_count": 93,
   "id": "7def059e-0627-4166-b326-6d14848b85f6",
   "metadata": {},
   "outputs": [
    {
     "data": {
      "text/plain": [
       "<BarContainer object of 109 artists>"
      ]
     },
     "execution_count": 93,
     "metadata": {},
     "output_type": "execute_result"
    },
    {
     "data": {
      "image/png": "[encoded data removed]",
      "text/plain": [
       "<Figure size 432x288 with 1 Axes>"
      ]
     },
     "metadata": {
      "needs_background": "light"
     },
     "output_type": "display_data"
    }
   ],
   "source": [
    "plt.bar(mydata.index, mydata)"
   ]
  },
  {
   "cell_type": "code",
   "execution_count": 94,
   "id": "1c90fdc4-9e8f-4186-b7c5-38a5430f7efb",
   "metadata": {},
   "outputs": [
    {
     "data": {
      "text/plain": [
       "1900.0"
      ]
     },
     "execution_count": 94,
     "metadata": {},
     "output_type": "execute_result"
    }
   ],
   "source": [
    "min(cars['year'])"
   ]
  },
  {
   "cell_type": "code",
   "execution_count": 112,
   "id": "0dea5836-7f52-4f09-b0cd-e0062491f280",
   "metadata": {},
   "outputs": [],
   "source": [
    "mydata =cars['year'][cars['year']>1995].value_counts()"
   ]
  },
  {
   "cell_type": "code",
   "execution_count": 113,
   "id": "604787d7-1265-4199-952f-f89e040b4310",
   "metadata": {},
   "outputs": [
    {
     "data": {
      "text/plain": [
       "1996.0"
      ]
     },
     "execution_count": 113,
     "metadata": {},
     "output_type": "execute_result"
    }
   ],
   "source": [
    "min(cars['year'][cars['year']>1995])"
   ]
  },
  {
   "cell_type": "code",
   "execution_count": 114,
   "id": "9f3684ae-23ad-4fca-b200-c82d8e8097b2",
   "metadata": {},
   "outputs": [
    {
     "data": {
      "text/plain": [
       "<BarContainer object of 26 artists>"
      ]
     },
     "execution_count": 114,
     "metadata": {},
     "output_type": "execute_result"
    },
    {
     "data": {
      "image/png": "[encoded data removed]",
      "text/plain": [
       "<Figure size 432x288 with 1 Axes>"
      ]
     },
     "metadata": {
      "needs_background": "light"
     },
     "output_type": "display_data"
    }
   ],
   "source": [
    "plt.bar(mydata.index, mydata)"
   ]
  },
  {
   "cell_type": "code",
   "execution_count": 102,
   "id": "a35ed39b-cca7-4a37-be00-bb3a1ea847cf",
   "metadata": {},
   "outputs": [
    {
     "data": {
      "text/plain": [
       "33.7792    4777\n",
       "33.7865    3815\n",
       "40.4688    2147\n",
       "47.6961    2006\n",
       "47.7989    1985\n",
       "           ... \n",
       "37.5331       1\n",
       "36.5059       1\n",
       "36.5060       1\n",
       "36.5054       1\n",
       "45.5272       1\n",
       "Name: lat, Length: 49377, dtype: int64"
      ]
     },
     "execution_count": 102,
     "metadata": {},
     "output_type": "execute_result"
    }
   ],
   "source": [
    "cars['lat'].value_counts()"
   ]
  },
  {
   "cell_type": "code",
   "execution_count": 103,
   "id": "5b2faea7-7b03-446f-9aee-04dd975ec2eb",
   "metadata": {},
   "outputs": [],
   "source": [
    "mylatitude =cars['lat'].value_counts()"
   ]
  },
  {
   "cell_type": "code",
   "execution_count": 116,
   "id": "7e78d5f0-13ed-4a7c-a9f8-138bfc75a15d",
   "metadata": {},
   "outputs": [
    {
     "data": {
      "text/plain": [
       "<BarContainer object of 49377 artists>"
      ]
     },
     "execution_count": 116,
     "metadata": {},
     "output_type": "execute_result"
    },
    {
     "data": {
      "image/png": "[encoded data removed]",
      "text/plain": [
       "<Figure size 432x288 with 1 Axes>"
      ]
     },
     "metadata": {
      "needs_background": "light"
     },
     "output_type": "display_data"
    }
   ],
   "source": [
    "plt.bar(mylatitude.index, mylatitude)"
   ]
  },
  {
   "cell_type": "code",
   "execution_count": 131,
   "id": "376c87e7-cb1f-414b-9272-9d950ae4a46e",
   "metadata": {},
   "outputs": [
    {
     "data": {
      "text/plain": [
       "-83.1971"
      ]
     },
     "execution_count": 131,
     "metadata": {},
     "output_type": "execute_result"
    }
   ],
   "source": [
    "min(cars['lat'])"
   ]
  },
  {
   "cell_type": "code",
   "execution_count": 135,
   "id": "896f1c2c-5404-4c35-8b63-eb6cda48ddfa",
   "metadata": {},
   "outputs": [],
   "source": [
    "mylatitude =cars['lat'][cars['lat']>28].value_counts()"
   ]
  },
  {
   "cell_type": "code",
   "execution_count": 136,
   "id": "3d9a0e62-2ebf-44bf-9374-4f27575a9b1e",
   "metadata": {},
   "outputs": [
    {
     "data": {
      "text/plain": [
       "28.0007"
      ]
     },
     "execution_count": 136,
     "metadata": {},
     "output_type": "execute_result"
    }
   ],
   "source": [
    "min(cars['lat'][cars['lat']>28])"
   ]
  },
  {
   "cell_type": "code",
   "execution_count": 137,
   "id": "babdf7a9-0dfe-4e84-bb00-3fe0947cd54c",
   "metadata": {},
   "outputs": [
    {
     "data": {
      "text/plain": [
       "<BarContainer object of 46828 artists>"
      ]
     },
     "execution_count": 137,
     "metadata": {},
     "output_type": "execute_result"
    },
    {
     "data": {
      "image/png": "[encoded data removed]",
      "text/plain": [
       "<Figure size 432x288 with 1 Axes>"
      ]
     },
     "metadata": {
      "needs_background": "light"
     },
     "output_type": "display_data"
    }
   ],
   "source": [
    "plt.bar(mylatitude.index, mylatitude)"
   ]
  },
  {
   "cell_type": "markdown",
   "id": "9fbf00fb-2418-460f-ae94-2a32b0c28952",
   "metadata": {},
   "source": [
    "Create a bar graph that has years on x-axis and number of vehicles on the y-axis\n",
    "\n",
    "Create a graph of something that you find interesting about the data."
   ]
  },
  {
   "cell_type": "markdown",
   "id": "f76442d6-d02e-4f26-b9d6-c3183e1d6929",
   "metadata": {},
   "source": [
    "## Pledge\n",
    "\n",
    "By submitting this work I hereby pledge that this is my own, personal work. I've acknowledged in the designated place at the top of this file all sources that I used to complete said work, including but not limited to: online resources, books, and electronic communications. I've noted all collaboration with fellow students and/or TA's. I did not copy or plagiarize another's work.\n",
    "\n",
    "> As a Boilermaker pursuing academic excellence, I pledge to be honest and true in all that I do. Accountable together – We are Purdue."
   ]
  }
 ],
 "metadata": {
  "kernelspec": {
   "display_name": "f2022-s2023",
   "language": "python",
   "name": "f2022-s2023"
  },
  "language_info": {
   "codemirror_mode": {
    "name": "ipython",
    "version": 3
   },
   "file_extension": ".py",
   "mimetype": "text/x-python",
   "name": "python",
   "nbconvert_exporter": "python",
   "pygments_lexer": "ipython3",
   "version": "3.10.9"
  }
 },
 "nbformat": 4,
 "nbformat_minor": 5
}
