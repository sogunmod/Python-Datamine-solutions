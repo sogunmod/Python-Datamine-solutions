{
 "cells": [
  {
   "cell_type": "markdown",
   "id": "be02a957-7133-4d02-818e-fedeb3cecb05",
   "metadata": {},
   "source": [
    "# Project 2 -- SEYI OGUNMODEDE"
   ]
  },
  {
   "cell_type": "markdown",
   "id": "a1228853-dd19-4ab2-89e0-0394d7d72de3",
   "metadata": {},
   "source": [
    "**INSTRUCTOR:** \n",
    "- Dr. Ward videos serve as a guide to my solutions.\n",
    "\n",
    "\n",
    "    \n"
   ]
  },
  {
   "cell_type": "markdown",
   "id": "6180e742-8e39-4698-98ff-5b00c8cf8ea0",
   "metadata": {},
   "source": [
    "## Question 1"
   ]
  },
  {
   "cell_type": "code",
   "execution_count": 1,
   "id": "49445606-d363-41b4-b479-e319a9a84c01",
   "metadata": {},
   "outputs": [],
   "source": [
    "data = {\n",
    "    'shoes':['red', 'purple', 'red', 'purple', 'red', 'red', 'red'],\n",
    "    'hats': ['blue', 'blue', 'blue', 'white', 'white', 'blue', 'blue']\n",
    "}"
   ]
  },
  {
   "cell_type": "code",
   "execution_count": 2,
   "id": "9e82a646-a1dd-435d-8c45-bd5fa68ffe77",
   "metadata": {},
   "outputs": [
    {
     "data": {
      "text/plain": [
       "{'shoes': ['red', 'purple', 'red', 'purple', 'red', 'red', 'red'],\n",
       " 'hats': ['blue', 'blue', 'blue', 'white', 'white', 'blue', 'blue']}"
      ]
     },
     "execution_count": 2,
     "metadata": {},
     "output_type": "execute_result"
    }
   ],
   "source": [
    "data"
   ]
  },
  {
   "cell_type": "code",
   "execution_count": 3,
   "id": "29bcd4f8-3597-4e0a-a477-6a43c3ab0fde",
   "metadata": {},
   "outputs": [],
   "source": [
    "# convert data into DataFrame\n",
    "# to do that you have to load pandas\n",
    "# you load pandas in one session\n",
    "\n",
    "import pandas as pd"
   ]
  },
  {
   "cell_type": "code",
   "execution_count": 4,
   "id": "ceaeb18c-bb7e-46c9-b702-d5b87064ad87",
   "metadata": {},
   "outputs": [],
   "source": [
    "store = pd.DataFrame (data)"
   ]
  },
  {
   "cell_type": "code",
   "execution_count": 6,
   "id": "cebec5eb-5e7d-46e8-af44-dcb29a2ccd86",
   "metadata": {},
   "outputs": [
    {
     "data": {
      "text/html": [
       "<div>\n",
       "<style scoped>\n",
       "    .dataframe tbody tr th:only-of-type {\n",
       "        vertical-align: middle;\n",
       "    }\n",
       "\n",
       "    .dataframe tbody tr th {\n",
       "        vertical-align: top;\n",
       "    }\n",
       "\n",
       "    .dataframe thead th {\n",
       "        text-align: right;\n",
       "    }\n",
       "</style>\n",
       "<table border=\"1\" class=\"dataframe\">\n",
       "  <thead>\n",
       "    <tr style=\"text-align: right;\">\n",
       "      <th></th>\n",
       "      <th>shoes</th>\n",
       "      <th>hats</th>\n",
       "    </tr>\n",
       "  </thead>\n",
       "  <tbody>\n",
       "    <tr>\n",
       "      <th>0</th>\n",
       "      <td>red</td>\n",
       "      <td>blue</td>\n",
       "    </tr>\n",
       "    <tr>\n",
       "      <th>1</th>\n",
       "      <td>purple</td>\n",
       "      <td>blue</td>\n",
       "    </tr>\n",
       "    <tr>\n",
       "      <th>2</th>\n",
       "      <td>red</td>\n",
       "      <td>blue</td>\n",
       "    </tr>\n",
       "    <tr>\n",
       "      <th>3</th>\n",
       "      <td>purple</td>\n",
       "      <td>white</td>\n",
       "    </tr>\n",
       "    <tr>\n",
       "      <th>4</th>\n",
       "      <td>red</td>\n",
       "      <td>white</td>\n",
       "    </tr>\n",
       "    <tr>\n",
       "      <th>5</th>\n",
       "      <td>red</td>\n",
       "      <td>blue</td>\n",
       "    </tr>\n",
       "    <tr>\n",
       "      <th>6</th>\n",
       "      <td>red</td>\n",
       "      <td>blue</td>\n",
       "    </tr>\n",
       "  </tbody>\n",
       "</table>\n",
       "</div>"
      ],
      "text/plain": [
       "    shoes   hats\n",
       "0     red   blue\n",
       "1  purple   blue\n",
       "2     red   blue\n",
       "3  purple  white\n",
       "4     red  white\n",
       "5     red   blue\n",
       "6     red   blue"
      ]
     },
     "execution_count": 6,
     "metadata": {},
     "output_type": "execute_result"
    }
   ],
   "source": [
    "store\n",
    "\n",
    "# indexing is from 0 - 6"
   ]
  },
  {
   "cell_type": "code",
   "execution_count": 7,
   "id": "3a0a3d3f-abc9-48e9-909b-f295f61bbcb4",
   "metadata": {},
   "outputs": [
    {
     "data": {
      "text/html": [
       "<div>\n",
       "<style scoped>\n",
       "    .dataframe tbody tr th:only-of-type {\n",
       "        vertical-align: middle;\n",
       "    }\n",
       "\n",
       "    .dataframe tbody tr th {\n",
       "        vertical-align: top;\n",
       "    }\n",
       "\n",
       "    .dataframe thead th {\n",
       "        text-align: right;\n",
       "    }\n",
       "</style>\n",
       "<table border=\"1\" class=\"dataframe\">\n",
       "  <thead>\n",
       "    <tr style=\"text-align: right;\">\n",
       "      <th></th>\n",
       "      <th>shoes</th>\n",
       "      <th>hats</th>\n",
       "    </tr>\n",
       "  </thead>\n",
       "  <tbody>\n",
       "    <tr>\n",
       "      <th>Jay</th>\n",
       "      <td>red</td>\n",
       "      <td>blue</td>\n",
       "    </tr>\n",
       "    <tr>\n",
       "      <th>Mary</th>\n",
       "      <td>purple</td>\n",
       "      <td>blue</td>\n",
       "    </tr>\n",
       "    <tr>\n",
       "      <th>Bill</th>\n",
       "      <td>red</td>\n",
       "      <td>blue</td>\n",
       "    </tr>\n",
       "    <tr>\n",
       "      <th>Chris</th>\n",
       "      <td>purple</td>\n",
       "      <td>white</td>\n",
       "    </tr>\n",
       "    <tr>\n",
       "      <th>Martha</th>\n",
       "      <td>red</td>\n",
       "      <td>white</td>\n",
       "    </tr>\n",
       "    <tr>\n",
       "      <th>Karen</th>\n",
       "      <td>red</td>\n",
       "      <td>blue</td>\n",
       "    </tr>\n",
       "    <tr>\n",
       "      <th>Rob</th>\n",
       "      <td>red</td>\n",
       "      <td>blue</td>\n",
       "    </tr>\n",
       "  </tbody>\n",
       "</table>\n",
       "</div>"
      ],
      "text/plain": [
       "         shoes   hats\n",
       "Jay        red   blue\n",
       "Mary    purple   blue\n",
       "Bill       red   blue\n",
       "Chris   purple  white\n",
       "Martha     red  white\n",
       "Karen      red   blue\n",
       "Rob        red   blue"
      ]
     },
     "execution_count": 7,
     "metadata": {},
     "output_type": "execute_result"
    }
   ],
   "source": [
    "# How to change indexes\n",
    "store = pd.DataFrame (data, index=['Jay', 'Mary', 'Bill', 'Chris', 'Martha', 'Karen', 'Rob'])\n",
    "store"
   ]
  },
  {
   "cell_type": "markdown",
   "id": "b456e57c-4a12-464b-999a-ef2df5af80c1",
   "metadata": {},
   "source": [
    "Markdown notes and sentences and analysis written here."
   ]
  },
  {
   "cell_type": "markdown",
   "id": "fc601975-35ed-4680-a4e1-0273ee3cc047",
   "metadata": {},
   "source": [
    "## Question 2"
   ]
  },
  {
   "cell_type": "code",
   "execution_count": 8,
   "id": "a16336a1-1ef0-41e8-bc7c-49387db27497",
   "metadata": {},
   "outputs": [],
   "source": [
    "myDF = pd.read_csv(\"/anvil/projects/tdm/data/death_records/DeathRecords.csv\")"
   ]
  },
  {
   "cell_type": "code",
   "execution_count": 9,
   "id": "28452526-c909-4b2f-a67f-2d6909bf04d6",
   "metadata": {},
   "outputs": [
    {
     "data": {
      "text/html": [
       "<div>\n",
       "<style scoped>\n",
       "    .dataframe tbody tr th:only-of-type {\n",
       "        vertical-align: middle;\n",
       "    }\n",
       "\n",
       "    .dataframe tbody tr th {\n",
       "        vertical-align: top;\n",
       "    }\n",
       "\n",
       "    .dataframe thead th {\n",
       "        text-align: right;\n",
       "    }\n",
       "</style>\n",
       "<table border=\"1\" class=\"dataframe\">\n",
       "  <thead>\n",
       "    <tr style=\"text-align: right;\">\n",
       "      <th></th>\n",
       "      <th>Id</th>\n",
       "      <th>ResidentStatus</th>\n",
       "      <th>Education1989Revision</th>\n",
       "      <th>Education2003Revision</th>\n",
       "      <th>EducationReportingFlag</th>\n",
       "      <th>MonthOfDeath</th>\n",
       "      <th>Sex</th>\n",
       "      <th>AgeType</th>\n",
       "      <th>Age</th>\n",
       "      <th>AgeSubstitutionFlag</th>\n",
       "      <th>...</th>\n",
       "      <th>CauseRecode39</th>\n",
       "      <th>NumberOfEntityAxisConditions</th>\n",
       "      <th>NumberOfRecordAxisConditions</th>\n",
       "      <th>Race</th>\n",
       "      <th>BridgedRaceFlag</th>\n",
       "      <th>RaceImputationFlag</th>\n",
       "      <th>RaceRecode3</th>\n",
       "      <th>RaceRecode5</th>\n",
       "      <th>HispanicOrigin</th>\n",
       "      <th>HispanicOriginRaceRecode</th>\n",
       "    </tr>\n",
       "  </thead>\n",
       "  <tbody>\n",
       "    <tr>\n",
       "      <th>0</th>\n",
       "      <td>1</td>\n",
       "      <td>1</td>\n",
       "      <td>0</td>\n",
       "      <td>2</td>\n",
       "      <td>1</td>\n",
       "      <td>1</td>\n",
       "      <td>M</td>\n",
       "      <td>1</td>\n",
       "      <td>87</td>\n",
       "      <td>0</td>\n",
       "      <td>...</td>\n",
       "      <td>24</td>\n",
       "      <td>1</td>\n",
       "      <td>1</td>\n",
       "      <td>1</td>\n",
       "      <td>0</td>\n",
       "      <td>0</td>\n",
       "      <td>1</td>\n",
       "      <td>1</td>\n",
       "      <td>100</td>\n",
       "      <td>6</td>\n",
       "    </tr>\n",
       "    <tr>\n",
       "      <th>1</th>\n",
       "      <td>2</td>\n",
       "      <td>1</td>\n",
       "      <td>0</td>\n",
       "      <td>2</td>\n",
       "      <td>1</td>\n",
       "      <td>1</td>\n",
       "      <td>M</td>\n",
       "      <td>1</td>\n",
       "      <td>58</td>\n",
       "      <td>0</td>\n",
       "      <td>...</td>\n",
       "      <td>21</td>\n",
       "      <td>3</td>\n",
       "      <td>3</td>\n",
       "      <td>1</td>\n",
       "      <td>0</td>\n",
       "      <td>0</td>\n",
       "      <td>1</td>\n",
       "      <td>1</td>\n",
       "      <td>100</td>\n",
       "      <td>6</td>\n",
       "    </tr>\n",
       "    <tr>\n",
       "      <th>2</th>\n",
       "      <td>3</td>\n",
       "      <td>1</td>\n",
       "      <td>0</td>\n",
       "      <td>7</td>\n",
       "      <td>1</td>\n",
       "      <td>1</td>\n",
       "      <td>F</td>\n",
       "      <td>1</td>\n",
       "      <td>75</td>\n",
       "      <td>0</td>\n",
       "      <td>...</td>\n",
       "      <td>28</td>\n",
       "      <td>2</td>\n",
       "      <td>2</td>\n",
       "      <td>1</td>\n",
       "      <td>0</td>\n",
       "      <td>0</td>\n",
       "      <td>1</td>\n",
       "      <td>1</td>\n",
       "      <td>100</td>\n",
       "      <td>6</td>\n",
       "    </tr>\n",
       "    <tr>\n",
       "      <th>3</th>\n",
       "      <td>4</td>\n",
       "      <td>1</td>\n",
       "      <td>0</td>\n",
       "      <td>6</td>\n",
       "      <td>1</td>\n",
       "      <td>1</td>\n",
       "      <td>M</td>\n",
       "      <td>1</td>\n",
       "      <td>74</td>\n",
       "      <td>0</td>\n",
       "      <td>...</td>\n",
       "      <td>22</td>\n",
       "      <td>3</td>\n",
       "      <td>3</td>\n",
       "      <td>1</td>\n",
       "      <td>0</td>\n",
       "      <td>0</td>\n",
       "      <td>1</td>\n",
       "      <td>1</td>\n",
       "      <td>100</td>\n",
       "      <td>6</td>\n",
       "    </tr>\n",
       "    <tr>\n",
       "      <th>4</th>\n",
       "      <td>5</td>\n",
       "      <td>1</td>\n",
       "      <td>0</td>\n",
       "      <td>3</td>\n",
       "      <td>1</td>\n",
       "      <td>1</td>\n",
       "      <td>M</td>\n",
       "      <td>1</td>\n",
       "      <td>64</td>\n",
       "      <td>0</td>\n",
       "      <td>...</td>\n",
       "      <td>21</td>\n",
       "      <td>1</td>\n",
       "      <td>1</td>\n",
       "      <td>1</td>\n",
       "      <td>0</td>\n",
       "      <td>0</td>\n",
       "      <td>1</td>\n",
       "      <td>1</td>\n",
       "      <td>100</td>\n",
       "      <td>6</td>\n",
       "    </tr>\n",
       "  </tbody>\n",
       "</table>\n",
       "<p>5 rows × 38 columns</p>\n",
       "</div>"
      ],
      "text/plain": [
       "   Id  ResidentStatus  Education1989Revision  Education2003Revision  \\\n",
       "0   1               1                      0                      2   \n",
       "1   2               1                      0                      2   \n",
       "2   3               1                      0                      7   \n",
       "3   4               1                      0                      6   \n",
       "4   5               1                      0                      3   \n",
       "\n",
       "   EducationReportingFlag  MonthOfDeath Sex  AgeType  Age  \\\n",
       "0                       1             1   M        1   87   \n",
       "1                       1             1   M        1   58   \n",
       "2                       1             1   F        1   75   \n",
       "3                       1             1   M        1   74   \n",
       "4                       1             1   M        1   64   \n",
       "\n",
       "   AgeSubstitutionFlag  ...  CauseRecode39  NumberOfEntityAxisConditions  \\\n",
       "0                    0  ...             24                             1   \n",
       "1                    0  ...             21                             3   \n",
       "2                    0  ...             28                             2   \n",
       "3                    0  ...             22                             3   \n",
       "4                    0  ...             21                             1   \n",
       "\n",
       "   NumberOfRecordAxisConditions  Race  BridgedRaceFlag RaceImputationFlag  \\\n",
       "0                             1     1                0                  0   \n",
       "1                             3     1                0                  0   \n",
       "2                             2     1                0                  0   \n",
       "3                             3     1                0                  0   \n",
       "4                             1     1                0                  0   \n",
       "\n",
       "   RaceRecode3  RaceRecode5 HispanicOrigin  HispanicOriginRaceRecode  \n",
       "0            1            1            100                         6  \n",
       "1            1            1            100                         6  \n",
       "2            1            1            100                         6  \n",
       "3            1            1            100                         6  \n",
       "4            1            1            100                         6  \n",
       "\n",
       "[5 rows x 38 columns]"
      ]
     },
     "execution_count": 9,
     "metadata": {},
     "output_type": "execute_result"
    }
   ],
   "source": [
    "myDF.head()\n",
    "# by default you can see all of them all"
   ]
  },
  {
   "cell_type": "code",
   "execution_count": 10,
   "id": "6499c198-53b9-4dbc-ac59-d621bb3d2223",
   "metadata": {},
   "outputs": [
    {
     "data": {
      "text/html": [
       "<div>\n",
       "<style scoped>\n",
       "    .dataframe tbody tr th:only-of-type {\n",
       "        vertical-align: middle;\n",
       "    }\n",
       "\n",
       "    .dataframe tbody tr th {\n",
       "        vertical-align: top;\n",
       "    }\n",
       "\n",
       "    .dataframe thead th {\n",
       "        text-align: right;\n",
       "    }\n",
       "</style>\n",
       "<table border=\"1\" class=\"dataframe\">\n",
       "  <thead>\n",
       "    <tr style=\"text-align: right;\">\n",
       "      <th></th>\n",
       "      <th>Id</th>\n",
       "      <th>ResidentStatus</th>\n",
       "      <th>Education1989Revision</th>\n",
       "      <th>Education2003Revision</th>\n",
       "      <th>EducationReportingFlag</th>\n",
       "      <th>MonthOfDeath</th>\n",
       "      <th>Sex</th>\n",
       "      <th>AgeType</th>\n",
       "      <th>Age</th>\n",
       "      <th>AgeSubstitutionFlag</th>\n",
       "      <th>AgeRecode52</th>\n",
       "      <th>AgeRecode27</th>\n",
       "      <th>AgeRecode12</th>\n",
       "      <th>InfantAgeRecode22</th>\n",
       "      <th>PlaceOfDeathAndDecedentsStatus</th>\n",
       "      <th>MaritalStatus</th>\n",
       "      <th>DayOfWeekOfDeath</th>\n",
       "      <th>CurrentDataYear</th>\n",
       "      <th>InjuryAtWork</th>\n",
       "      <th>MannerOfDeath</th>\n",
       "      <th>MethodOfDisposition</th>\n",
       "      <th>Autopsy</th>\n",
       "      <th>ActivityCode</th>\n",
       "      <th>PlaceOfInjury</th>\n",
       "      <th>Icd10Code</th>\n",
       "      <th>CauseRecode358</th>\n",
       "      <th>CauseRecode113</th>\n",
       "      <th>InfantCauseRecode130</th>\n",
       "      <th>CauseRecode39</th>\n",
       "      <th>NumberOfEntityAxisConditions</th>\n",
       "      <th>NumberOfRecordAxisConditions</th>\n",
       "      <th>Race</th>\n",
       "      <th>BridgedRaceFlag</th>\n",
       "      <th>RaceImputationFlag</th>\n",
       "      <th>RaceRecode3</th>\n",
       "      <th>RaceRecode5</th>\n",
       "      <th>HispanicOrigin</th>\n",
       "      <th>HispanicOriginRaceRecode</th>\n",
       "    </tr>\n",
       "  </thead>\n",
       "  <tbody>\n",
       "    <tr>\n",
       "      <th>0</th>\n",
       "      <td>1</td>\n",
       "      <td>1</td>\n",
       "      <td>0</td>\n",
       "      <td>2</td>\n",
       "      <td>1</td>\n",
       "      <td>1</td>\n",
       "      <td>M</td>\n",
       "      <td>1</td>\n",
       "      <td>87</td>\n",
       "      <td>0</td>\n",
       "      <td>43</td>\n",
       "      <td>23</td>\n",
       "      <td>11</td>\n",
       "      <td>0</td>\n",
       "      <td>4</td>\n",
       "      <td>M</td>\n",
       "      <td>4</td>\n",
       "      <td>2014</td>\n",
       "      <td>U</td>\n",
       "      <td>7</td>\n",
       "      <td>C</td>\n",
       "      <td>N</td>\n",
       "      <td>99</td>\n",
       "      <td>99</td>\n",
       "      <td>I64</td>\n",
       "      <td>238</td>\n",
       "      <td>70</td>\n",
       "      <td>0</td>\n",
       "      <td>24</td>\n",
       "      <td>1</td>\n",
       "      <td>1</td>\n",
       "      <td>1</td>\n",
       "      <td>0</td>\n",
       "      <td>0</td>\n",
       "      <td>1</td>\n",
       "      <td>1</td>\n",
       "      <td>100</td>\n",
       "      <td>6</td>\n",
       "    </tr>\n",
       "    <tr>\n",
       "      <th>1</th>\n",
       "      <td>2</td>\n",
       "      <td>1</td>\n",
       "      <td>0</td>\n",
       "      <td>2</td>\n",
       "      <td>1</td>\n",
       "      <td>1</td>\n",
       "      <td>M</td>\n",
       "      <td>1</td>\n",
       "      <td>58</td>\n",
       "      <td>0</td>\n",
       "      <td>37</td>\n",
       "      <td>17</td>\n",
       "      <td>8</td>\n",
       "      <td>0</td>\n",
       "      <td>4</td>\n",
       "      <td>D</td>\n",
       "      <td>3</td>\n",
       "      <td>2014</td>\n",
       "      <td>U</td>\n",
       "      <td>7</td>\n",
       "      <td>C</td>\n",
       "      <td>N</td>\n",
       "      <td>99</td>\n",
       "      <td>99</td>\n",
       "      <td>I250</td>\n",
       "      <td>214</td>\n",
       "      <td>62</td>\n",
       "      <td>0</td>\n",
       "      <td>21</td>\n",
       "      <td>3</td>\n",
       "      <td>3</td>\n",
       "      <td>1</td>\n",
       "      <td>0</td>\n",
       "      <td>0</td>\n",
       "      <td>1</td>\n",
       "      <td>1</td>\n",
       "      <td>100</td>\n",
       "      <td>6</td>\n",
       "    </tr>\n",
       "    <tr>\n",
       "      <th>2</th>\n",
       "      <td>3</td>\n",
       "      <td>1</td>\n",
       "      <td>0</td>\n",
       "      <td>7</td>\n",
       "      <td>1</td>\n",
       "      <td>1</td>\n",
       "      <td>F</td>\n",
       "      <td>1</td>\n",
       "      <td>75</td>\n",
       "      <td>0</td>\n",
       "      <td>41</td>\n",
       "      <td>21</td>\n",
       "      <td>10</td>\n",
       "      <td>0</td>\n",
       "      <td>4</td>\n",
       "      <td>W</td>\n",
       "      <td>2</td>\n",
       "      <td>2014</td>\n",
       "      <td>U</td>\n",
       "      <td>7</td>\n",
       "      <td>C</td>\n",
       "      <td>N</td>\n",
       "      <td>99</td>\n",
       "      <td>99</td>\n",
       "      <td>J449</td>\n",
       "      <td>267</td>\n",
       "      <td>86</td>\n",
       "      <td>0</td>\n",
       "      <td>28</td>\n",
       "      <td>2</td>\n",
       "      <td>2</td>\n",
       "      <td>1</td>\n",
       "      <td>0</td>\n",
       "      <td>0</td>\n",
       "      <td>1</td>\n",
       "      <td>1</td>\n",
       "      <td>100</td>\n",
       "      <td>6</td>\n",
       "    </tr>\n",
       "    <tr>\n",
       "      <th>3</th>\n",
       "      <td>4</td>\n",
       "      <td>1</td>\n",
       "      <td>0</td>\n",
       "      <td>6</td>\n",
       "      <td>1</td>\n",
       "      <td>1</td>\n",
       "      <td>M</td>\n",
       "      <td>1</td>\n",
       "      <td>74</td>\n",
       "      <td>0</td>\n",
       "      <td>40</td>\n",
       "      <td>20</td>\n",
       "      <td>9</td>\n",
       "      <td>0</td>\n",
       "      <td>6</td>\n",
       "      <td>D</td>\n",
       "      <td>1</td>\n",
       "      <td>2014</td>\n",
       "      <td>U</td>\n",
       "      <td>7</td>\n",
       "      <td>C</td>\n",
       "      <td>N</td>\n",
       "      <td>99</td>\n",
       "      <td>99</td>\n",
       "      <td>I48</td>\n",
       "      <td>228</td>\n",
       "      <td>68</td>\n",
       "      <td>0</td>\n",
       "      <td>22</td>\n",
       "      <td>3</td>\n",
       "      <td>3</td>\n",
       "      <td>1</td>\n",
       "      <td>0</td>\n",
       "      <td>0</td>\n",
       "      <td>1</td>\n",
       "      <td>1</td>\n",
       "      <td>100</td>\n",
       "      <td>6</td>\n",
       "    </tr>\n",
       "    <tr>\n",
       "      <th>4</th>\n",
       "      <td>5</td>\n",
       "      <td>1</td>\n",
       "      <td>0</td>\n",
       "      <td>3</td>\n",
       "      <td>1</td>\n",
       "      <td>1</td>\n",
       "      <td>M</td>\n",
       "      <td>1</td>\n",
       "      <td>64</td>\n",
       "      <td>0</td>\n",
       "      <td>38</td>\n",
       "      <td>18</td>\n",
       "      <td>8</td>\n",
       "      <td>0</td>\n",
       "      <td>4</td>\n",
       "      <td>D</td>\n",
       "      <td>2</td>\n",
       "      <td>2014</td>\n",
       "      <td>U</td>\n",
       "      <td>7</td>\n",
       "      <td>C</td>\n",
       "      <td>N</td>\n",
       "      <td>99</td>\n",
       "      <td>99</td>\n",
       "      <td>I250</td>\n",
       "      <td>214</td>\n",
       "      <td>62</td>\n",
       "      <td>0</td>\n",
       "      <td>21</td>\n",
       "      <td>1</td>\n",
       "      <td>1</td>\n",
       "      <td>1</td>\n",
       "      <td>0</td>\n",
       "      <td>0</td>\n",
       "      <td>1</td>\n",
       "      <td>1</td>\n",
       "      <td>100</td>\n",
       "      <td>6</td>\n",
       "    </tr>\n",
       "  </tbody>\n",
       "</table>\n",
       "</div>"
      ],
      "text/plain": [
       "   Id  ResidentStatus  Education1989Revision  Education2003Revision  \\\n",
       "0   1               1                      0                      2   \n",
       "1   2               1                      0                      2   \n",
       "2   3               1                      0                      7   \n",
       "3   4               1                      0                      6   \n",
       "4   5               1                      0                      3   \n",
       "\n",
       "   EducationReportingFlag  MonthOfDeath Sex  AgeType  Age  \\\n",
       "0                       1             1   M        1   87   \n",
       "1                       1             1   M        1   58   \n",
       "2                       1             1   F        1   75   \n",
       "3                       1             1   M        1   74   \n",
       "4                       1             1   M        1   64   \n",
       "\n",
       "   AgeSubstitutionFlag  AgeRecode52  AgeRecode27  AgeRecode12  \\\n",
       "0                    0           43           23           11   \n",
       "1                    0           37           17            8   \n",
       "2                    0           41           21           10   \n",
       "3                    0           40           20            9   \n",
       "4                    0           38           18            8   \n",
       "\n",
       "   InfantAgeRecode22  PlaceOfDeathAndDecedentsStatus MaritalStatus  \\\n",
       "0                  0                               4             M   \n",
       "1                  0                               4             D   \n",
       "2                  0                               4             W   \n",
       "3                  0                               6             D   \n",
       "4                  0                               4             D   \n",
       "\n",
       "   DayOfWeekOfDeath  CurrentDataYear InjuryAtWork  MannerOfDeath  \\\n",
       "0                 4             2014            U              7   \n",
       "1                 3             2014            U              7   \n",
       "2                 2             2014            U              7   \n",
       "3                 1             2014            U              7   \n",
       "4                 2             2014            U              7   \n",
       "\n",
       "  MethodOfDisposition Autopsy  ActivityCode  PlaceOfInjury Icd10Code  \\\n",
       "0                   C       N            99             99       I64   \n",
       "1                   C       N            99             99      I250   \n",
       "2                   C       N            99             99      J449   \n",
       "3                   C       N            99             99       I48   \n",
       "4                   C       N            99             99      I250   \n",
       "\n",
       "   CauseRecode358  CauseRecode113  InfantCauseRecode130  CauseRecode39  \\\n",
       "0             238              70                     0             24   \n",
       "1             214              62                     0             21   \n",
       "2             267              86                     0             28   \n",
       "3             228              68                     0             22   \n",
       "4             214              62                     0             21   \n",
       "\n",
       "   NumberOfEntityAxisConditions  NumberOfRecordAxisConditions  Race  \\\n",
       "0                             1                             1     1   \n",
       "1                             3                             3     1   \n",
       "2                             2                             2     1   \n",
       "3                             3                             3     1   \n",
       "4                             1                             1     1   \n",
       "\n",
       "   BridgedRaceFlag  RaceImputationFlag  RaceRecode3  RaceRecode5  \\\n",
       "0                0                   0            1            1   \n",
       "1                0                   0            1            1   \n",
       "2                0                   0            1            1   \n",
       "3                0                   0            1            1   \n",
       "4                0                   0            1            1   \n",
       "\n",
       "   HispanicOrigin  HispanicOriginRaceRecode  \n",
       "0             100                         6  \n",
       "1             100                         6  \n",
       "2             100                         6  \n",
       "3             100                         6  \n",
       "4             100                         6  "
      ]
     },
     "execution_count": 10,
     "metadata": {},
     "output_type": "execute_result"
    }
   ],
   "source": [
    "# to display all the 38 columns, you use the pd.option command\n",
    "\n",
    "pd.options.display.max_columns = None\n",
    "myDF.head()"
   ]
  },
  {
   "cell_type": "code",
   "execution_count": 11,
   "id": "5a5b5c18-e1bd-4c02-b93e-1ba571f5e15b",
   "metadata": {},
   "outputs": [
    {
     "data": {
      "text/plain": [
       "Id                                  11\n",
       "ResidentStatus                       1\n",
       "Education1989Revision                0\n",
       "Education2003Revision                3\n",
       "EducationReportingFlag               1\n",
       "MonthOfDeath                         1\n",
       "Sex                                  F\n",
       "AgeType                              1\n",
       "Age                                 79\n",
       "AgeSubstitutionFlag                  0\n",
       "AgeRecode52                         41\n",
       "AgeRecode27                         21\n",
       "AgeRecode12                         10\n",
       "InfantAgeRecode22                    0\n",
       "PlaceOfDeathAndDecedentsStatus       6\n",
       "MaritalStatus                        W\n",
       "DayOfWeekOfDeath                     2\n",
       "CurrentDataYear                   2014\n",
       "InjuryAtWork                         U\n",
       "MannerOfDeath                        7\n",
       "MethodOfDisposition                  C\n",
       "Autopsy                              N\n",
       "ActivityCode                        99\n",
       "PlaceOfInjury                       99\n",
       "Icd10Code                         I350\n",
       "CauseRecode358                     225\n",
       "CauseRecode113                      68\n",
       "InfantCauseRecode130                 0\n",
       "CauseRecode39                       22\n",
       "NumberOfEntityAxisConditions         2\n",
       "NumberOfRecordAxisConditions         2\n",
       "Race                                 1\n",
       "BridgedRaceFlag                      0\n",
       "RaceImputationFlag                   0\n",
       "RaceRecode3                          1\n",
       "RaceRecode5                          1\n",
       "HispanicOrigin                     100\n",
       "HispanicOriginRaceRecode             6\n",
       "Name: 10, dtype: object"
      ]
     },
     "execution_count": 11,
     "metadata": {},
     "output_type": "execute_result"
    }
   ],
   "source": [
    "# remember indexes started with Zero\n",
    "# For the eleventh row it is 10\n",
    "# put 10 for the row and leave the column blank\n",
    "# The row start from 0, so the 11th row is 10\n",
    "\n",
    "myDF.iloc[10,]\n",
    "\n"
   ]
  },
  {
   "cell_type": "code",
   "execution_count": 12,
   "id": "7ccf50a2-6141-45e2-80dd-303cff63106c",
   "metadata": {},
   "outputs": [
    {
     "data": {
      "text/html": [
       "<div>\n",
       "<style scoped>\n",
       "    .dataframe tbody tr th:only-of-type {\n",
       "        vertical-align: middle;\n",
       "    }\n",
       "\n",
       "    .dataframe tbody tr th {\n",
       "        vertical-align: top;\n",
       "    }\n",
       "\n",
       "    .dataframe thead th {\n",
       "        text-align: right;\n",
       "    }\n",
       "</style>\n",
       "<table border=\"1\" class=\"dataframe\">\n",
       "  <thead>\n",
       "    <tr style=\"text-align: right;\">\n",
       "      <th></th>\n",
       "      <th>Id</th>\n",
       "      <th>ResidentStatus</th>\n",
       "      <th>Education1989Revision</th>\n",
       "      <th>Education2003Revision</th>\n",
       "      <th>EducationReportingFlag</th>\n",
       "      <th>MonthOfDeath</th>\n",
       "      <th>Sex</th>\n",
       "      <th>AgeType</th>\n",
       "      <th>Age</th>\n",
       "      <th>AgeSubstitutionFlag</th>\n",
       "      <th>AgeRecode52</th>\n",
       "      <th>AgeRecode27</th>\n",
       "      <th>AgeRecode12</th>\n",
       "      <th>InfantAgeRecode22</th>\n",
       "      <th>PlaceOfDeathAndDecedentsStatus</th>\n",
       "      <th>MaritalStatus</th>\n",
       "      <th>DayOfWeekOfDeath</th>\n",
       "      <th>CurrentDataYear</th>\n",
       "      <th>InjuryAtWork</th>\n",
       "      <th>MannerOfDeath</th>\n",
       "      <th>MethodOfDisposition</th>\n",
       "      <th>Autopsy</th>\n",
       "      <th>ActivityCode</th>\n",
       "      <th>PlaceOfInjury</th>\n",
       "      <th>Icd10Code</th>\n",
       "      <th>CauseRecode358</th>\n",
       "      <th>CauseRecode113</th>\n",
       "      <th>InfantCauseRecode130</th>\n",
       "      <th>CauseRecode39</th>\n",
       "      <th>NumberOfEntityAxisConditions</th>\n",
       "      <th>NumberOfRecordAxisConditions</th>\n",
       "      <th>Race</th>\n",
       "      <th>BridgedRaceFlag</th>\n",
       "      <th>RaceImputationFlag</th>\n",
       "      <th>RaceRecode3</th>\n",
       "      <th>RaceRecode5</th>\n",
       "      <th>HispanicOrigin</th>\n",
       "      <th>HispanicOriginRaceRecode</th>\n",
       "    </tr>\n",
       "  </thead>\n",
       "  <tbody>\n",
       "    <tr>\n",
       "      <th>2631166</th>\n",
       "      <td>2631167</td>\n",
       "      <td>3</td>\n",
       "      <td>0</td>\n",
       "      <td>6</td>\n",
       "      <td>1</td>\n",
       "      <td>12</td>\n",
       "      <td>M</td>\n",
       "      <td>1</td>\n",
       "      <td>84</td>\n",
       "      <td>0</td>\n",
       "      <td>42</td>\n",
       "      <td>22</td>\n",
       "      <td>10</td>\n",
       "      <td>0</td>\n",
       "      <td>6</td>\n",
       "      <td>S</td>\n",
       "      <td>2</td>\n",
       "      <td>2014</td>\n",
       "      <td>U</td>\n",
       "      <td>7</td>\n",
       "      <td>B</td>\n",
       "      <td>N</td>\n",
       "      <td>99</td>\n",
       "      <td>99</td>\n",
       "      <td>I119</td>\n",
       "      <td>207</td>\n",
       "      <td>56</td>\n",
       "      <td>0</td>\n",
       "      <td>20</td>\n",
       "      <td>4</td>\n",
       "      <td>4</td>\n",
       "      <td>1</td>\n",
       "      <td>0</td>\n",
       "      <td>0</td>\n",
       "      <td>1</td>\n",
       "      <td>1</td>\n",
       "      <td>100</td>\n",
       "      <td>6</td>\n",
       "    </tr>\n",
       "    <tr>\n",
       "      <th>2631167</th>\n",
       "      <td>2631168</td>\n",
       "      <td>3</td>\n",
       "      <td>0</td>\n",
       "      <td>9</td>\n",
       "      <td>1</td>\n",
       "      <td>12</td>\n",
       "      <td>F</td>\n",
       "      <td>1</td>\n",
       "      <td>74</td>\n",
       "      <td>0</td>\n",
       "      <td>40</td>\n",
       "      <td>20</td>\n",
       "      <td>9</td>\n",
       "      <td>0</td>\n",
       "      <td>6</td>\n",
       "      <td>S</td>\n",
       "      <td>7</td>\n",
       "      <td>2014</td>\n",
       "      <td>U</td>\n",
       "      <td>7</td>\n",
       "      <td>B</td>\n",
       "      <td>N</td>\n",
       "      <td>99</td>\n",
       "      <td>99</td>\n",
       "      <td>I251</td>\n",
       "      <td>215</td>\n",
       "      <td>63</td>\n",
       "      <td>0</td>\n",
       "      <td>21</td>\n",
       "      <td>2</td>\n",
       "      <td>2</td>\n",
       "      <td>1</td>\n",
       "      <td>0</td>\n",
       "      <td>1</td>\n",
       "      <td>1</td>\n",
       "      <td>1</td>\n",
       "      <td>998</td>\n",
       "      <td>9</td>\n",
       "    </tr>\n",
       "    <tr>\n",
       "      <th>2631168</th>\n",
       "      <td>2631169</td>\n",
       "      <td>3</td>\n",
       "      <td>0</td>\n",
       "      <td>1</td>\n",
       "      <td>1</td>\n",
       "      <td>12</td>\n",
       "      <td>M</td>\n",
       "      <td>6</td>\n",
       "      <td>7</td>\n",
       "      <td>0</td>\n",
       "      <td>1</td>\n",
       "      <td>1</td>\n",
       "      <td>1</td>\n",
       "      <td>1</td>\n",
       "      <td>1</td>\n",
       "      <td>S</td>\n",
       "      <td>4</td>\n",
       "      <td>2014</td>\n",
       "      <td>U</td>\n",
       "      <td>7</td>\n",
       "      <td>B</td>\n",
       "      <td>Y</td>\n",
       "      <td>99</td>\n",
       "      <td>99</td>\n",
       "      <td>P072</td>\n",
       "      <td>358</td>\n",
       "      <td>108</td>\n",
       "      <td>89</td>\n",
       "      <td>33</td>\n",
       "      <td>2</td>\n",
       "      <td>1</td>\n",
       "      <td>1</td>\n",
       "      <td>0</td>\n",
       "      <td>1</td>\n",
       "      <td>1</td>\n",
       "      <td>1</td>\n",
       "      <td>998</td>\n",
       "      <td>9</td>\n",
       "    </tr>\n",
       "    <tr>\n",
       "      <th>2631169</th>\n",
       "      <td>2631170</td>\n",
       "      <td>4</td>\n",
       "      <td>0</td>\n",
       "      <td>9</td>\n",
       "      <td>1</td>\n",
       "      <td>2</td>\n",
       "      <td>M</td>\n",
       "      <td>1</td>\n",
       "      <td>49</td>\n",
       "      <td>0</td>\n",
       "      <td>35</td>\n",
       "      <td>15</td>\n",
       "      <td>7</td>\n",
       "      <td>0</td>\n",
       "      <td>1</td>\n",
       "      <td>U</td>\n",
       "      <td>1</td>\n",
       "      <td>2014</td>\n",
       "      <td>U</td>\n",
       "      <td>7</td>\n",
       "      <td>O</td>\n",
       "      <td>N</td>\n",
       "      <td>99</td>\n",
       "      <td>99</td>\n",
       "      <td>I250</td>\n",
       "      <td>214</td>\n",
       "      <td>62</td>\n",
       "      <td>0</td>\n",
       "      <td>21</td>\n",
       "      <td>5</td>\n",
       "      <td>5</td>\n",
       "      <td>2</td>\n",
       "      <td>0</td>\n",
       "      <td>0</td>\n",
       "      <td>3</td>\n",
       "      <td>2</td>\n",
       "      <td>998</td>\n",
       "      <td>9</td>\n",
       "    </tr>\n",
       "    <tr>\n",
       "      <th>2631170</th>\n",
       "      <td>2631171</td>\n",
       "      <td>3</td>\n",
       "      <td>0</td>\n",
       "      <td>1</td>\n",
       "      <td>1</td>\n",
       "      <td>5</td>\n",
       "      <td>M</td>\n",
       "      <td>6</td>\n",
       "      <td>39</td>\n",
       "      <td>0</td>\n",
       "      <td>1</td>\n",
       "      <td>1</td>\n",
       "      <td>1</td>\n",
       "      <td>1</td>\n",
       "      <td>1</td>\n",
       "      <td>S</td>\n",
       "      <td>2</td>\n",
       "      <td>2014</td>\n",
       "      <td>U</td>\n",
       "      <td>7</td>\n",
       "      <td>O</td>\n",
       "      <td>N</td>\n",
       "      <td>99</td>\n",
       "      <td>99</td>\n",
       "      <td>P291</td>\n",
       "      <td>364</td>\n",
       "      <td>108</td>\n",
       "      <td>117</td>\n",
       "      <td>33</td>\n",
       "      <td>2</td>\n",
       "      <td>1</td>\n",
       "      <td>2</td>\n",
       "      <td>0</td>\n",
       "      <td>0</td>\n",
       "      <td>3</td>\n",
       "      <td>2</td>\n",
       "      <td>100</td>\n",
       "      <td>7</td>\n",
       "    </tr>\n",
       "  </tbody>\n",
       "</table>\n",
       "</div>"
      ],
      "text/plain": [
       "              Id  ResidentStatus  Education1989Revision  \\\n",
       "2631166  2631167               3                      0   \n",
       "2631167  2631168               3                      0   \n",
       "2631168  2631169               3                      0   \n",
       "2631169  2631170               4                      0   \n",
       "2631170  2631171               3                      0   \n",
       "\n",
       "         Education2003Revision  EducationReportingFlag  MonthOfDeath Sex  \\\n",
       "2631166                      6                       1            12   M   \n",
       "2631167                      9                       1            12   F   \n",
       "2631168                      1                       1            12   M   \n",
       "2631169                      9                       1             2   M   \n",
       "2631170                      1                       1             5   M   \n",
       "\n",
       "         AgeType  Age  AgeSubstitutionFlag  AgeRecode52  AgeRecode27  \\\n",
       "2631166        1   84                    0           42           22   \n",
       "2631167        1   74                    0           40           20   \n",
       "2631168        6    7                    0            1            1   \n",
       "2631169        1   49                    0           35           15   \n",
       "2631170        6   39                    0            1            1   \n",
       "\n",
       "         AgeRecode12  InfantAgeRecode22  PlaceOfDeathAndDecedentsStatus  \\\n",
       "2631166           10                  0                               6   \n",
       "2631167            9                  0                               6   \n",
       "2631168            1                  1                               1   \n",
       "2631169            7                  0                               1   \n",
       "2631170            1                  1                               1   \n",
       "\n",
       "        MaritalStatus  DayOfWeekOfDeath  CurrentDataYear InjuryAtWork  \\\n",
       "2631166             S                 2             2014            U   \n",
       "2631167             S                 7             2014            U   \n",
       "2631168             S                 4             2014            U   \n",
       "2631169             U                 1             2014            U   \n",
       "2631170             S                 2             2014            U   \n",
       "\n",
       "         MannerOfDeath MethodOfDisposition Autopsy  ActivityCode  \\\n",
       "2631166              7                   B       N            99   \n",
       "2631167              7                   B       N            99   \n",
       "2631168              7                   B       Y            99   \n",
       "2631169              7                   O       N            99   \n",
       "2631170              7                   O       N            99   \n",
       "\n",
       "         PlaceOfInjury Icd10Code  CauseRecode358  CauseRecode113  \\\n",
       "2631166             99      I119             207              56   \n",
       "2631167             99      I251             215              63   \n",
       "2631168             99      P072             358             108   \n",
       "2631169             99      I250             214              62   \n",
       "2631170             99      P291             364             108   \n",
       "\n",
       "         InfantCauseRecode130  CauseRecode39  NumberOfEntityAxisConditions  \\\n",
       "2631166                     0             20                             4   \n",
       "2631167                     0             21                             2   \n",
       "2631168                    89             33                             2   \n",
       "2631169                     0             21                             5   \n",
       "2631170                   117             33                             2   \n",
       "\n",
       "         NumberOfRecordAxisConditions  Race  BridgedRaceFlag  \\\n",
       "2631166                             4     1                0   \n",
       "2631167                             2     1                0   \n",
       "2631168                             1     1                0   \n",
       "2631169                             5     2                0   \n",
       "2631170                             1     2                0   \n",
       "\n",
       "         RaceImputationFlag  RaceRecode3  RaceRecode5  HispanicOrigin  \\\n",
       "2631166                   0            1            1             100   \n",
       "2631167                   1            1            1             998   \n",
       "2631168                   1            1            1             998   \n",
       "2631169                   0            3            2             998   \n",
       "2631170                   0            3            2             100   \n",
       "\n",
       "         HispanicOriginRaceRecode  \n",
       "2631166                         6  \n",
       "2631167                         9  \n",
       "2631168                         9  \n",
       "2631169                         9  \n",
       "2631170                         7  "
      ]
     },
     "execution_count": 12,
     "metadata": {},
     "output_type": "execute_result"
    }
   ],
   "source": [
    "myDF.tail()"
   ]
  },
  {
   "cell_type": "code",
   "execution_count": 13,
   "id": "1293e38a-c0d8-4ac7-9fa4-de33fd10554f",
   "metadata": {},
   "outputs": [
    {
     "data": {
      "text/plain": [
       "(2631171, 38)"
      ]
     },
     "execution_count": 13,
     "metadata": {},
     "output_type": "execute_result"
    }
   ],
   "source": [
    "myDF.shape"
   ]
  },
  {
   "cell_type": "code",
   "execution_count": 14,
   "id": "7a406472-8f0f-4035-b6c5-4d6139c21457",
   "metadata": {},
   "outputs": [
    {
     "data": {
      "text/plain": [
       "Index(['Id', 'ResidentStatus', 'Education1989Revision',\n",
       "       'Education2003Revision', 'EducationReportingFlag', 'MonthOfDeath',\n",
       "       'Sex', 'AgeType', 'Age', 'AgeSubstitutionFlag', 'AgeRecode52',\n",
       "       'AgeRecode27', 'AgeRecode12', 'InfantAgeRecode22',\n",
       "       'PlaceOfDeathAndDecedentsStatus', 'MaritalStatus', 'DayOfWeekOfDeath',\n",
       "       'CurrentDataYear', 'InjuryAtWork', 'MannerOfDeath',\n",
       "       'MethodOfDisposition', 'Autopsy', 'ActivityCode', 'PlaceOfInjury',\n",
       "       'Icd10Code', 'CauseRecode358', 'CauseRecode113', 'InfantCauseRecode130',\n",
       "       'CauseRecode39', 'NumberOfEntityAxisConditions',\n",
       "       'NumberOfRecordAxisConditions', 'Race', 'BridgedRaceFlag',\n",
       "       'RaceImputationFlag', 'RaceRecode3', 'RaceRecode5', 'HispanicOrigin',\n",
       "       'HispanicOriginRaceRecode'],\n",
       "      dtype='object')"
      ]
     },
     "execution_count": 14,
     "metadata": {},
     "output_type": "execute_result"
    }
   ],
   "source": [
    "# to print the columns names\n",
    "\n",
    "myDF.columns"
   ]
  },
  {
   "cell_type": "code",
   "execution_count": 15,
   "id": "57397b27-0d4a-43e4-b8a1-712e76150f30",
   "metadata": {},
   "outputs": [
    {
     "name": "stdout",
     "output_type": "stream",
     "text": [
      "Id\n",
      "ResidentStatus\n",
      "Education1989Revision\n",
      "Education2003Revision\n",
      "EducationReportingFlag\n",
      "MonthOfDeath\n",
      "Sex\n",
      "AgeType\n",
      "Age\n",
      "AgeSubstitutionFlag\n",
      "AgeRecode52\n",
      "AgeRecode27\n",
      "AgeRecode12\n",
      "InfantAgeRecode22\n",
      "PlaceOfDeathAndDecedentsStatus\n",
      "MaritalStatus\n",
      "DayOfWeekOfDeath\n",
      "CurrentDataYear\n",
      "InjuryAtWork\n",
      "MannerOfDeath\n",
      "MethodOfDisposition\n",
      "Autopsy\n",
      "ActivityCode\n",
      "PlaceOfInjury\n",
      "Icd10Code\n",
      "CauseRecode358\n",
      "CauseRecode113\n",
      "InfantCauseRecode130\n",
      "CauseRecode39\n",
      "NumberOfEntityAxisConditions\n",
      "NumberOfRecordAxisConditions\n",
      "Race\n",
      "BridgedRaceFlag\n",
      "RaceImputationFlag\n",
      "RaceRecode3\n",
      "RaceRecode5\n",
      "HispanicOrigin\n",
      "HispanicOriginRaceRecode\n"
     ]
    },
    {
     "data": {
      "text/plain": [
       "[None,\n",
       " None,\n",
       " None,\n",
       " None,\n",
       " None,\n",
       " None,\n",
       " None,\n",
       " None,\n",
       " None,\n",
       " None,\n",
       " None,\n",
       " None,\n",
       " None,\n",
       " None,\n",
       " None,\n",
       " None,\n",
       " None,\n",
       " None,\n",
       " None,\n",
       " None,\n",
       " None,\n",
       " None,\n",
       " None,\n",
       " None,\n",
       " None,\n",
       " None,\n",
       " None,\n",
       " None,\n",
       " None,\n",
       " None,\n",
       " None,\n",
       " None,\n",
       " None,\n",
       " None,\n",
       " None,\n",
       " None,\n",
       " None,\n",
       " None]"
      ]
     },
     "execution_count": 15,
     "metadata": {},
     "output_type": "execute_result"
    }
   ],
   "source": [
    "# the other way to do it, to remove the Index before is\n",
    "\n",
    "[print(x) for x in myDF.columns ]"
   ]
  },
  {
   "cell_type": "markdown",
   "id": "14dc22d4-ddc3-41cc-a91a-cb0025bc0c80",
   "metadata": {},
   "source": [
    "Find the information for the 11th row in the dataframe\n",
    "\n",
    "Find the last five rows of the data frame\n",
    "\n",
    "Find how many rows and columns there are in the entire dataframe. There are 2631171 rows, 38 columns in the entire dataframe\n",
    "\n",
    "Print just the column names"
   ]
  },
  {
   "cell_type": "markdown",
   "id": "8e586edd-ff26-4ce2-8f6b-2424b26f2929",
   "metadata": {},
   "source": [
    "## Question 3"
   ]
  },
  {
   "cell_type": "code",
   "execution_count": 16,
   "id": "bbe0f40d-9655-4653-9ca8-886bdb61cb91",
   "metadata": {},
   "outputs": [
    {
     "data": {
      "text/plain": [
       "2325365"
      ]
     },
     "execution_count": 16,
     "metadata": {},
     "output_type": "execute_result"
    }
   ],
   "source": [
    "# total people over the age of 52 on this list\n",
    "len(myDF['Age'][myDF['Age']>52])"
   ]
  },
  {
   "cell_type": "code",
   "execution_count": 17,
   "id": "771acec6-e99f-43c3-9e54-fcfae1b52c1c",
   "metadata": {},
   "outputs": [
    {
     "data": {
      "text/plain": [
       "M    1331461\n",
       "F    1299710\n",
       "Name: Sex, dtype: int64"
      ]
     },
     "execution_count": 17,
     "metadata": {},
     "output_type": "execute_result"
    }
   ],
   "source": [
    "# males vs how many females\n",
    "myDF['Sex'].value_counts()"
   ]
  },
  {
   "cell_type": "code",
   "execution_count": 18,
   "id": "174e3603-f837-4ff1-baff-1e1e3daf826c",
   "metadata": {},
   "outputs": [
    {
     "data": {
      "text/plain": [
       "87     78104\n",
       "86     77529\n",
       "88     76088\n",
       "84     75430\n",
       "85     75216\n",
       "       ...  \n",
       "113        6\n",
       "112        6\n",
       "114        5\n",
       "118        1\n",
       "116        1\n",
       "Name: Age, Length: 117, dtype: int64"
      ]
     },
     "execution_count": 18,
     "metadata": {},
     "output_type": "execute_result"
    }
   ],
   "source": [
    "# to do value count for Age\n",
    "\n",
    "myDF['Age'].value_counts()"
   ]
  },
  {
   "cell_type": "code",
   "execution_count": 19,
   "id": "f57b38bc-8595-49e6-a8d0-c550def280de",
   "metadata": {},
   "outputs": [
    {
     "data": {
      "text/plain": [
       "1186206"
      ]
     },
     "execution_count": 19,
     "metadata": {},
     "output_type": "execute_result"
    }
   ],
   "source": [
    "# the condition here means i want my age to be >52 and the sex to be female.\n",
    "len(myDF['Age'][(myDF['Age']>52) & (myDF['Sex'] == 'F')])"
   ]
  },
  {
   "cell_type": "code",
   "execution_count": 20,
   "id": "05cb1f14-9b60-4d78-ab35-4f508c2847ed",
   "metadata": {},
   "outputs": [
    {
     "data": {
      "text/plain": [
       "915750"
      ]
     },
     "execution_count": 20,
     "metadata": {},
     "output_type": "execute_result"
    }
   ],
   "source": [
    "# females that are over the age of 70 on this list\n",
    "len(myDF['Age'][(myDF['Age']>70) & (myDF['Sex'] == 'F')])"
   ]
  },
  {
   "cell_type": "code",
   "execution_count": 21,
   "id": "11a7948d-02b6-4901-aa43-68a54fa1873a",
   "metadata": {},
   "outputs": [
    {
     "data": {
      "text/plain": [
       "738600"
      ]
     },
     "execution_count": 21,
     "metadata": {},
     "output_type": "execute_result"
    }
   ],
   "source": [
    "# males that are over the age of 70 on this list\n",
    "len(myDF['Age'][(myDF['Age']>70) & (myDF['Sex'] == 'M')])"
   ]
  },
  {
   "cell_type": "code",
   "execution_count": 22,
   "id": "397f6cd9-a476-43d4-a23e-cb6457d7b923",
   "metadata": {},
   "outputs": [
    {
     "data": {
      "text/plain": [
       "1654350"
      ]
     },
     "execution_count": 22,
     "metadata": {},
     "output_type": "execute_result"
    }
   ],
   "source": [
    "# total people over the age of 70 on this list\n",
    "len(myDF['Age'][myDF['Age']>70])"
   ]
  },
  {
   "cell_type": "code",
   "execution_count": 23,
   "id": "cc224552-7914-450d-9d14-32a6e06ac628",
   "metadata": {},
   "outputs": [
    {
     "data": {
      "text/plain": [
       "1654350"
      ]
     },
     "execution_count": 23,
     "metadata": {},
     "output_type": "execute_result"
    }
   ],
   "source": [
    "# # total people over the age of 70 on this list\n",
    "915750 + 738600"
   ]
  },
  {
   "cell_type": "markdown",
   "id": "47c6229f-35f7-400c-8366-c442baa5cf47",
   "metadata": {},
   "source": [
    "How many people over the age of 52 are on this list? 2325365 people over age 52 are represented in the death record\n",
    "\n",
    "How many males vs how many females\n",
    "M    1331461\n",
    "F    1299710\n",
    "Name: Sex, dtype: int64\n",
    "\n",
    "How many females that are over the age of 70 on this list? 915750"
   ]
  },
  {
   "cell_type": "markdown",
   "id": "da22f29c-d245-4d2b-9fc1-ca14cb6087d9",
   "metadata": {},
   "source": [
    "## Question 4"
   ]
  },
  {
   "cell_type": "code",
   "execution_count": 24,
   "id": "8cffc767-d1c8-4d64-b7dc-f0d2ee8a80d1",
   "metadata": {},
   "outputs": [],
   "source": [
    "import matplotlib.pyplot as plt"
   ]
  },
  {
   "cell_type": "code",
   "execution_count": 25,
   "id": "b24938c9-3814-4f51-90b9-e0342bbf6c9c",
   "metadata": {},
   "outputs": [
    {
     "data": {
      "text/plain": [
       "M    1331461\n",
       "F    1299710\n",
       "Name: Sex, dtype: int64"
      ]
     },
     "execution_count": 25,
     "metadata": {},
     "output_type": "execute_result"
    }
   ],
   "source": [
    "# get the value count\n",
    "myDF['Sex'].value_counts()"
   ]
  },
  {
   "cell_type": "code",
   "execution_count": 26,
   "id": "ca00a7dd-a595-4deb-8d5d-e8f2c2c1f55b",
   "metadata": {},
   "outputs": [],
   "source": [
    "# Store it as a variable\n",
    "mygender = myDF['Sex'].value_counts()"
   ]
  },
  {
   "cell_type": "code",
   "execution_count": 27,
   "id": "1187410d-80f2-44b5-96a9-512c4d099a40",
   "metadata": {},
   "outputs": [
    {
     "data": {
      "text/plain": [
       "<BarContainer object of 2 artists>"
      ]
     },
     "execution_count": 27,
     "metadata": {},
     "output_type": "execute_result"
    },
    {
     "data": {
      "image/png": "[encoded data removed]",
      "text/plain": [
       "<Figure size 432x288 with 1 Axes>"
      ]
     },
     "metadata": {
      "needs_background": "light"
     },
     "output_type": "display_data"
    }
   ],
   "source": [
    "# i want to put the indexes (M & F) on the X axis, and the data which is the counts on the Y axis\n",
    "plt.bar(mygender.index, mygender)"
   ]
  },
  {
   "cell_type": "code",
   "execution_count": 28,
   "id": "07fdfe3c-074a-42c3-914a-0b97c7559ca9",
   "metadata": {},
   "outputs": [
    {
     "data": {
      "text/plain": [
       "87     78104\n",
       "86     77529\n",
       "88     76088\n",
       "84     75430\n",
       "85     75216\n",
       "       ...  \n",
       "113        6\n",
       "112        6\n",
       "114        5\n",
       "118        1\n",
       "116        1\n",
       "Name: Age, Length: 117, dtype: int64"
      ]
     },
     "execution_count": 28,
     "metadata": {},
     "output_type": "execute_result"
    }
   ],
   "source": [
    "# There are 117 of them\n",
    "myDF['Age'].value_counts()"
   ]
  },
  {
   "cell_type": "code",
   "execution_count": 29,
   "id": "fc657511-75d2-470a-b05c-a0bb4224ce42",
   "metadata": {},
   "outputs": [],
   "source": [
    "# store it as a variable\n",
    "mydata = myDF['Age'].value_counts()"
   ]
  },
  {
   "cell_type": "code",
   "execution_count": 30,
   "id": "9bab53e3-fbb3-4320-bd22-a11138bd8ba0",
   "metadata": {},
   "outputs": [
    {
     "data": {
      "text/plain": [
       "<BarContainer object of 117 artists>"
      ]
     },
     "execution_count": 30,
     "metadata": {},
     "output_type": "execute_result"
    },
    {
     "data": {
      "image/png": "[encoded data removed]",
      "text/plain": [
       "<Figure size 432x288 with 1 Axes>"
      ]
     },
     "metadata": {
      "needs_background": "light"
     },
     "output_type": "display_data"
    }
   ],
   "source": [
    "plt.bar(mydata.index, mydata)"
   ]
  },
  {
   "cell_type": "code",
   "execution_count": 31,
   "id": "0fedacb5-9ec4-4036-9c18-bf8905111cb2",
   "metadata": {},
   "outputs": [
    {
     "data": {
      "text/plain": [
       "999"
      ]
     },
     "execution_count": 31,
     "metadata": {},
     "output_type": "execute_result"
    }
   ],
   "source": [
    "# due to the blank space , you will look for the max age\n",
    "# the maximum age is 999 and no one live 999years\n",
    "# going back to the source of the data 999 means unknown\n",
    "# some of the ages were coded unknown because they do not know the age of the person\n",
    "max(myDF['Age'])"
   ]
  },
  {
   "cell_type": "code",
   "execution_count": 32,
   "id": "d78f26d9-d592-41a7-b11d-06c9577c4b6b",
   "metadata": {},
   "outputs": [],
   "source": [
    "# we will come back and get those ages lsee than 999 instead of taken all of the ages\n",
    "\n",
    "mydata = myDF['Age'][myDF['Age']<999].value_counts()"
   ]
  },
  {
   "cell_type": "code",
   "execution_count": 33,
   "id": "a524013f-d388-46b5-9e50-cc53492502fc",
   "metadata": {},
   "outputs": [
    {
     "data": {
      "text/plain": [
       "118"
      ]
     },
     "execution_count": 33,
     "metadata": {},
     "output_type": "execute_result"
    }
   ],
   "source": [
    "# let get ages that are less than 999\n",
    "# look for the max of ages < 999\n",
    "max(myDF['Age'][myDF['Age']<999])"
   ]
  },
  {
   "cell_type": "code",
   "execution_count": 34,
   "id": "67c39502-7524-4a5d-8ae6-18211544a7f6",
   "metadata": {},
   "outputs": [
    {
     "data": {
      "text/plain": [
       "<BarContainer object of 116 artists>"
      ]
     },
     "execution_count": 34,
     "metadata": {},
     "output_type": "execute_result"
    },
    {
     "data": {
      "image/png": "[encoded data removed]",
      "text/plain": [
       "<Figure size 432x288 with 1 Axes>"
      ]
     },
     "metadata": {
      "needs_background": "light"
     },
     "output_type": "display_data"
    }
   ],
   "source": [
    "plt.bar(mydata.index, mydata)"
   ]
  },
  {
   "cell_type": "code",
   "execution_count": 35,
   "id": "3c921e7a-19fc-4448-8e4f-d32bec67adf8",
   "metadata": {},
   "outputs": [
    {
     "data": {
      "text/plain": [
       "M    980016\n",
       "W    898440\n",
       "D    400959\n",
       "S    333043\n",
       "U     18713\n",
       "Name: MaritalStatus, dtype: int64"
      ]
     },
     "execution_count": 35,
     "metadata": {},
     "output_type": "execute_result"
    }
   ],
   "source": [
    "myDF['MaritalStatus'].value_counts()"
   ]
  },
  {
   "cell_type": "code",
   "execution_count": 36,
   "id": "a3a42d28-36ba-4d08-b937-c91ad9cbb5d7",
   "metadata": {},
   "outputs": [],
   "source": [
    "mydata = myDF['MaritalStatus'].value_counts()"
   ]
  },
  {
   "cell_type": "code",
   "execution_count": 37,
   "id": "7246854a-8955-4e01-a563-0b2716afc47c",
   "metadata": {},
   "outputs": [
    {
     "data": {
      "text/plain": [
       "M    980016\n",
       "W    898440\n",
       "D    400959\n",
       "S    333043\n",
       "U     18713\n",
       "Name: MaritalStatus, dtype: int64"
      ]
     },
     "execution_count": 37,
     "metadata": {},
     "output_type": "execute_result"
    }
   ],
   "source": [
    "mydata"
   ]
  },
  {
   "cell_type": "code",
   "execution_count": 38,
   "id": "c825db1c-78ba-4977-a49a-efe5a6fcf014",
   "metadata": {},
   "outputs": [
    {
     "data": {
      "text/plain": [
       "<BarContainer object of 5 artists>"
      ]
     },
     "execution_count": 38,
     "metadata": {},
     "output_type": "execute_result"
    },
    {
     "data": {
      "image/png": "[encoded data removed]",
      "text/plain": [
       "<Figure size 432x288 with 1 Axes>"
      ]
     },
     "metadata": {
      "needs_background": "light"
     },
     "output_type": "display_data"
    }
   ],
   "source": [
    "plt.bar(mydata.index, mydata)"
   ]
  },
  {
   "cell_type": "code",
   "execution_count": null,
   "id": "537c724f-36ea-47f6-b444-3309a9bacacd",
   "metadata": {},
   "outputs": [],
   "source": []
  },
  {
   "cell_type": "markdown",
   "id": "0d552245-b4d6-474a-9cc9-fa7b8e674d55",
   "metadata": {},
   "source": [
    "Create a graphic that illustrates then number of people who are divorced, married, single, unmarried, or widowed.\n",
    "\n",
    "Create another graphic that illustrates the distribution of the age of the person at the time of death."
   ]
  },
  {
   "cell_type": "markdown",
   "id": "88c9cdac-3e92-498f-83fa-e089bfc44ac8",
   "metadata": {},
   "source": [
    "## Question 5"
   ]
  },
  {
   "cell_type": "code",
   "execution_count": 40,
   "id": "0d7e26b0-8797-4992-b490-8bca62a04403",
   "metadata": {},
   "outputs": [
    {
     "data": {
      "text/plain": [
       "N    2258840\n",
       "Y     203681\n",
       "U     168646\n",
       "n          3\n",
       "y          1\n",
       "Name: Autopsy, dtype: int64"
      ]
     },
     "execution_count": 40,
     "metadata": {},
     "output_type": "execute_result"
    }
   ],
   "source": [
    "myDF['Autopsy'].value_counts()"
   ]
  },
  {
   "cell_type": "code",
   "execution_count": 41,
   "id": "bc8f6903-dbd9-499d-ab63-85138494ca29",
   "metadata": {},
   "outputs": [],
   "source": [
    "mydata = myDF['Autopsy'].value_counts()"
   ]
  },
  {
   "cell_type": "code",
   "execution_count": 42,
   "id": "b53d3a7f-717e-4a54-b282-36e999009e0e",
   "metadata": {},
   "outputs": [
    {
     "data": {
      "text/plain": [
       "<BarContainer object of 5 artists>"
      ]
     },
     "execution_count": 42,
     "metadata": {},
     "output_type": "execute_result"
    },
    {
     "data": {
      "image/png": "[encoded data removed]",
      "text/plain": [
       "<Figure size 432x288 with 1 Axes>"
      ]
     },
     "metadata": {
      "needs_background": "light"
     },
     "output_type": "display_data"
    }
   ],
   "source": [
    "plt.bar(mydata.index, mydata)"
   ]
  },
  {
   "cell_type": "code",
   "execution_count": 46,
   "id": "0054b543-f16c-4f70-8f22-b235ba9cb9ce",
   "metadata": {},
   "outputs": [
    {
     "data": {
      "text/plain": [
       "B    1162836\n",
       "C    1094292\n",
       "U     242963\n",
       "R      59884\n",
       "E      39321\n",
       "D      24004\n",
       "O       7871\n",
       "Name: MethodOfDisposition, dtype: int64"
      ]
     },
     "execution_count": 46,
     "metadata": {},
     "output_type": "execute_result"
    }
   ],
   "source": [
    "myDF['MethodOfDisposition'].value_counts()"
   ]
  },
  {
   "cell_type": "code",
   "execution_count": 47,
   "id": "d0365069-c948-4bae-9e37-87f36381effb",
   "metadata": {},
   "outputs": [],
   "source": [
    "mydata = myDF['MethodOfDisposition'].value_counts()"
   ]
  },
  {
   "cell_type": "code",
   "execution_count": 48,
   "id": "10e5e4ed-b9d1-4506-bfb4-0184a408b969",
   "metadata": {},
   "outputs": [
    {
     "data": {
      "text/plain": [
       "<BarContainer object of 7 artists>"
      ]
     },
     "execution_count": 48,
     "metadata": {},
     "output_type": "execute_result"
    },
    {
     "data": {
      "image/png": "[encoded data removed]",
      "text/plain": [
       "<Figure size 432x288 with 1 Axes>"
      ]
     },
     "metadata": {
      "needs_background": "light"
     },
     "output_type": "display_data"
    }
   ],
   "source": [
    "plt.bar(mydata.index, mydata)"
   ]
  },
  {
   "cell_type": "markdown",
   "id": "9fbf00fb-2418-460f-ae94-2a32b0c28952",
   "metadata": {},
   "source": [
    "Markdown notes and sentences and analysis written here."
   ]
  },
  {
   "cell_type": "markdown",
   "id": "f76442d6-d02e-4f26-b9d6-c3183e1d6929",
   "metadata": {},
   "source": [
    "## Pledge\n",
    "\n",
    "By submitting this work I hereby pledge that this is my own, personal work. I've acknowledged in the designated place at the top of this file all sources that I used to complete said work, including but not limited to: online resources, books, and electronic communications. I've noted all collaboration with fellow students and/or TA's. I did not copy or plagiarize another's work.\n",
    "\n",
    "> As a Boilermaker pursuing academic excellence, I pledge to be honest and true in all that I do. Accountable together – We are Purdue."
   ]
  }
 ],
 "metadata": {
  "kernelspec": {
   "display_name": "f2022-s2023",
   "language": "python",
   "name": "f2022-s2023"
  },
  "language_info": {
   "codemirror_mode": {
    "name": "ipython",
    "version": 3
   },
   "file_extension": ".py",
   "mimetype": "text/x-python",
   "name": "python",
   "nbconvert_exporter": "python",
   "pygments_lexer": "ipython3",
   "version": "3.10.7"
  }
 },
 "nbformat": 4,
 "nbformat_minor": 5
}
