{
 "cells": [
  {
   "cell_type": "markdown",
   "id": "be02a957-7133-4d02-818e-fedeb3cecb05",
   "metadata": {},
   "source": [
    "# Project 14 -- SEYI OGUNMODEDE"
   ]
  },
  {
   "cell_type": "markdown",
   "id": "a1228853-dd19-4ab2-89e0-0394d7d72de3",
   "metadata": {},
   "source": [
    "**INSTRUCTOR:** Dr. Ward\n",
    "\n",
    "- Help with figuring out how to write a function.   "
   ]
  },
  {
   "cell_type": "markdown",
   "id": "6180e742-8e39-4698-98ff-5b00c8cf8ea0",
   "metadata": {},
   "source": [
    "## Question 1"
   ]
  },
  {
   "cell_type": "code",
   "execution_count": 1,
   "id": "49445606-d363-41b4-b479-e319a9a84c01",
   "metadata": {},
   "outputs": [],
   "source": [
    "import pandas as pd"
   ]
  },
  {
   "cell_type": "code",
   "execution_count": 2,
   "id": "25faa6c7-0003-492b-9157-2e0676373db9",
   "metadata": {},
   "outputs": [],
   "source": [
    "products = pd.read_csv(\"/anvil/projects/tdm/data/icecream/products.csv\")"
   ]
  },
  {
   "cell_type": "code",
   "execution_count": 3,
   "id": "a3afafa6-4a10-48c6-9b2d-5d2c310b648c",
   "metadata": {},
   "outputs": [],
   "source": [
    " reviews = pd.read_csv(\"/anvil/projects/tdm/data/icecream/reviews.csv\")"
   ]
  },
  {
   "cell_type": "code",
   "execution_count": 4,
   "id": "b25529c3-2611-4cf0-85e9-6e7cb3db9ad0",
   "metadata": {},
   "outputs": [
    {
     "data": {
      "text/plain": [
       "(57, 7)"
      ]
     },
     "execution_count": 4,
     "metadata": {},
     "output_type": "execute_result"
    }
   ],
   "source": [
    "# Let us look at the sizes of the dataset\n",
    "# 57 - rows with 7 - columns\n",
    "\n",
    "products.shape"
   ]
  },
  {
   "cell_type": "code",
   "execution_count": 5,
   "id": "a2bf1879-28d4-4c24-803f-acb1ed6b1522",
   "metadata": {},
   "outputs": [
    {
     "data": {
      "text/plain": [
       "(21674, 13)"
      ]
     },
     "execution_count": 5,
     "metadata": {},
     "output_type": "execute_result"
    }
   ],
   "source": [
    "# reviews is very large\n",
    "# 21674 - rows with 13 - columns\n",
    "\n",
    "reviews.shape"
   ]
  },
  {
   "cell_type": "code",
   "execution_count": 6,
   "id": "4c7e1f46-faec-41ac-b5d0-3bb408270fa3",
   "metadata": {},
   "outputs": [
    {
     "data": {
      "text/plain": [
       "Index(['brand', 'key', 'author', 'date', 'stars', 'title', 'helpful_yes',\n",
       "       'helpful_no', 'text', 'taste', 'ingredients', 'texture', 'likes'],\n",
       "      dtype='object')"
      ]
     },
     "execution_count": 6,
     "metadata": {},
     "output_type": "execute_result"
    }
   ],
   "source": [
    "# To know the columns names for reviews\n",
    "# They are wrapped inside a list and index there\n",
    "\n",
    "reviews.columns"
   ]
  },
  {
   "cell_type": "code",
   "execution_count": 8,
   "id": "d10487c6-87cb-4a0c-85f7-e8bc88cd2812",
   "metadata": {},
   "outputs": [
    {
     "data": {
      "text/plain": [
       "array(['brand', 'key', 'author', 'date', 'stars', 'title', 'helpful_yes',\n",
       "       'helpful_no', 'text', 'taste', 'ingredients', 'texture', 'likes'],\n",
       "      dtype=object)"
      ]
     },
     "execution_count": 8,
     "metadata": {},
     "output_type": "execute_result"
    }
   ],
   "source": [
    "# To get up a column names themselves\n",
    "\n",
    "reviews.columns.values"
   ]
  },
  {
   "cell_type": "code",
   "execution_count": 9,
   "id": "2b091a69-44c1-42ad-a369-04287f45f9ed",
   "metadata": {},
   "outputs": [
    {
     "data": {
      "text/plain": [
       "['brand',\n",
       " 'key',\n",
       " 'author',\n",
       " 'date',\n",
       " 'stars',\n",
       " 'title',\n",
       " 'helpful_yes',\n",
       " 'helpful_no',\n",
       " 'text',\n",
       " 'taste',\n",
       " 'ingredients',\n",
       " 'texture',\n",
       " 'likes']"
      ]
     },
     "execution_count": 9,
     "metadata": {},
     "output_type": "execute_result"
    }
   ],
   "source": [
    "# you can put it to a list if you want\n",
    "\n",
    "list(reviews.columns.values)"
   ]
  },
  {
   "cell_type": "code",
   "execution_count": 7,
   "id": "696e0b3c-f8ac-4aff-9f29-935603dd6190",
   "metadata": {},
   "outputs": [
    {
     "data": {
      "text/plain": [
       "Index(['key', 'name', 'subhead', 'description', 'rating', 'rating_count',\n",
       "       'ingredients'],\n",
       "      dtype='object')"
      ]
     },
     "execution_count": 7,
     "metadata": {},
     "output_type": "execute_result"
    }
   ],
   "source": [
    "# To know the columns names for products\n",
    "\n",
    "products.columns"
   ]
  },
  {
   "cell_type": "code",
   "execution_count": 11,
   "id": "0be1aedc-deb3-4f0e-ab60-cb79a54f80bb",
   "metadata": {},
   "outputs": [
    {
     "data": {
      "text/plain": [
       "['key',\n",
       " 'name',\n",
       " 'subhead',\n",
       " 'description',\n",
       " 'rating',\n",
       " 'rating_count',\n",
       " 'ingredients']"
      ]
     },
     "execution_count": 11,
     "metadata": {},
     "output_type": "execute_result"
    }
   ],
   "source": [
    "list(products.columns.values)"
   ]
  },
  {
   "cell_type": "code",
   "execution_count": null,
   "id": "55fb2ef8-1ced-45dc-ace0-e71a11078d3f",
   "metadata": {},
   "outputs": [],
   "source": [
    "# Notice that both DataFrames have a key column and an ingredient column in common"
   ]
  },
  {
   "cell_type": "code",
   "execution_count": 12,
   "id": "e4035eb3-197b-48b0-a63c-6935ed10ac12",
   "metadata": {},
   "outputs": [
    {
     "data": {
      "text/html": [
       "<div>\n",
       "<style scoped>\n",
       "    .dataframe tbody tr th:only-of-type {\n",
       "        vertical-align: middle;\n",
       "    }\n",
       "\n",
       "    .dataframe tbody tr th {\n",
       "        vertical-align: top;\n",
       "    }\n",
       "\n",
       "    .dataframe thead th {\n",
       "        text-align: right;\n",
       "    }\n",
       "</style>\n",
       "<table border=\"1\" class=\"dataframe\">\n",
       "  <thead>\n",
       "    <tr style=\"text-align: right;\">\n",
       "      <th></th>\n",
       "      <th>brand</th>\n",
       "      <th>key</th>\n",
       "      <th>author</th>\n",
       "      <th>date</th>\n",
       "      <th>stars</th>\n",
       "      <th>title</th>\n",
       "      <th>helpful_yes</th>\n",
       "      <th>helpful_no</th>\n",
       "      <th>text</th>\n",
       "      <th>taste</th>\n",
       "      <th>ingredients</th>\n",
       "      <th>texture</th>\n",
       "      <th>likes</th>\n",
       "    </tr>\n",
       "  </thead>\n",
       "  <tbody>\n",
       "    <tr>\n",
       "      <th>0</th>\n",
       "      <td>bj</td>\n",
       "      <td>0_bj</td>\n",
       "      <td>Ilovebennjerry</td>\n",
       "      <td>2017-04-15</td>\n",
       "      <td>3</td>\n",
       "      <td>Not enough brownies!</td>\n",
       "      <td>10.0</td>\n",
       "      <td>3.0</td>\n",
       "      <td>Super good, don't get me wrong. But I came for...</td>\n",
       "      <td>NaN</td>\n",
       "      <td>NaN</td>\n",
       "      <td>NaN</td>\n",
       "      <td>NaN</td>\n",
       "    </tr>\n",
       "    <tr>\n",
       "      <th>1</th>\n",
       "      <td>bj</td>\n",
       "      <td>0_bj</td>\n",
       "      <td>Sweettooth909</td>\n",
       "      <td>2020-01-05</td>\n",
       "      <td>5</td>\n",
       "      <td>I’m OBSESSED with this pint!</td>\n",
       "      <td>3.0</td>\n",
       "      <td>0.0</td>\n",
       "      <td>I decided to try it out although I’m not a hug...</td>\n",
       "      <td>NaN</td>\n",
       "      <td>NaN</td>\n",
       "      <td>NaN</td>\n",
       "      <td>NaN</td>\n",
       "    </tr>\n",
       "    <tr>\n",
       "      <th>2</th>\n",
       "      <td>bj</td>\n",
       "      <td>0_bj</td>\n",
       "      <td>LaTanga71</td>\n",
       "      <td>2018-04-26</td>\n",
       "      <td>3</td>\n",
       "      <td>My favorite...More Caramel Please</td>\n",
       "      <td>5.0</td>\n",
       "      <td>2.0</td>\n",
       "      <td>My caramel core begins to disappear about half...</td>\n",
       "      <td>NaN</td>\n",
       "      <td>NaN</td>\n",
       "      <td>NaN</td>\n",
       "      <td>NaN</td>\n",
       "    </tr>\n",
       "    <tr>\n",
       "      <th>3</th>\n",
       "      <td>bj</td>\n",
       "      <td>0_bj</td>\n",
       "      <td>chicago220</td>\n",
       "      <td>2018-01-14</td>\n",
       "      <td>5</td>\n",
       "      <td>Obsessed!!!</td>\n",
       "      <td>24.0</td>\n",
       "      <td>1.0</td>\n",
       "      <td>Why are people complaining about the blonde br...</td>\n",
       "      <td>NaN</td>\n",
       "      <td>NaN</td>\n",
       "      <td>NaN</td>\n",
       "      <td>NaN</td>\n",
       "    </tr>\n",
       "    <tr>\n",
       "      <th>4</th>\n",
       "      <td>bj</td>\n",
       "      <td>0_bj</td>\n",
       "      <td>Kassidyk</td>\n",
       "      <td>2020-07-24</td>\n",
       "      <td>1</td>\n",
       "      <td>Worst Ice Cream Ever!</td>\n",
       "      <td>1.0</td>\n",
       "      <td>5.0</td>\n",
       "      <td>This ice cream is worst ice cream I’ve ever ta...</td>\n",
       "      <td>NaN</td>\n",
       "      <td>NaN</td>\n",
       "      <td>NaN</td>\n",
       "      <td>NaN</td>\n",
       "    </tr>\n",
       "  </tbody>\n",
       "</table>\n",
       "</div>"
      ],
      "text/plain": [
       "  brand   key          author        date  stars  \\\n",
       "0    bj  0_bj  Ilovebennjerry  2017-04-15      3   \n",
       "1    bj  0_bj   Sweettooth909  2020-01-05      5   \n",
       "2    bj  0_bj       LaTanga71  2018-04-26      3   \n",
       "3    bj  0_bj      chicago220  2018-01-14      5   \n",
       "4    bj  0_bj        Kassidyk  2020-07-24      1   \n",
       "\n",
       "                               title  helpful_yes  helpful_no  \\\n",
       "0               Not enough brownies!         10.0         3.0   \n",
       "1       I’m OBSESSED with this pint!          3.0         0.0   \n",
       "2  My favorite...More Caramel Please          5.0         2.0   \n",
       "3                        Obsessed!!!         24.0         1.0   \n",
       "4              Worst Ice Cream Ever!          1.0         5.0   \n",
       "\n",
       "                                                text  taste  ingredients  \\\n",
       "0  Super good, don't get me wrong. But I came for...    NaN          NaN   \n",
       "1  I decided to try it out although I’m not a hug...    NaN          NaN   \n",
       "2  My caramel core begins to disappear about half...    NaN          NaN   \n",
       "3  Why are people complaining about the blonde br...    NaN          NaN   \n",
       "4  This ice cream is worst ice cream I’ve ever ta...    NaN          NaN   \n",
       "\n",
       "   texture likes  \n",
       "0      NaN   NaN  \n",
       "1      NaN   NaN  \n",
       "2      NaN   NaN  \n",
       "3      NaN   NaN  \n",
       "4      NaN   NaN  "
      ]
     },
     "execution_count": 12,
     "metadata": {},
     "output_type": "execute_result"
    }
   ],
   "source": [
    "# Let us look at their heads\n",
    "\n",
    "reviews.head()"
   ]
  },
  {
   "cell_type": "code",
   "execution_count": 13,
   "id": "bc44411e-9f35-4afc-8ad0-5ace41ec957f",
   "metadata": {},
   "outputs": [
    {
     "data": {
      "text/html": [
       "<div>\n",
       "<style scoped>\n",
       "    .dataframe tbody tr th:only-of-type {\n",
       "        vertical-align: middle;\n",
       "    }\n",
       "\n",
       "    .dataframe tbody tr th {\n",
       "        vertical-align: top;\n",
       "    }\n",
       "\n",
       "    .dataframe thead th {\n",
       "        text-align: right;\n",
       "    }\n",
       "</style>\n",
       "<table border=\"1\" class=\"dataframe\">\n",
       "  <thead>\n",
       "    <tr style=\"text-align: right;\">\n",
       "      <th></th>\n",
       "      <th>key</th>\n",
       "      <th>name</th>\n",
       "      <th>subhead</th>\n",
       "      <th>description</th>\n",
       "      <th>rating</th>\n",
       "      <th>rating_count</th>\n",
       "      <th>ingredients</th>\n",
       "    </tr>\n",
       "  </thead>\n",
       "  <tbody>\n",
       "    <tr>\n",
       "      <th>0</th>\n",
       "      <td>0_bj</td>\n",
       "      <td>Salted Caramel Core</td>\n",
       "      <td>Sweet Cream Ice Cream with Blonde Brownies &amp; a...</td>\n",
       "      <td>Find your way to the ultimate ice cream experi...</td>\n",
       "      <td>3.7</td>\n",
       "      <td>208</td>\n",
       "      <td>CREAM, SKIM MILK, LIQUID SUGAR (SUGAR, WATER),...</td>\n",
       "    </tr>\n",
       "    <tr>\n",
       "      <th>1</th>\n",
       "      <td>1_bj</td>\n",
       "      <td>Netflix &amp; Chilll'd™</td>\n",
       "      <td>Peanut Butter Ice Cream with Sweet &amp; Salty Pre...</td>\n",
       "      <td>There’s something for everyone to watch on Net...</td>\n",
       "      <td>4.0</td>\n",
       "      <td>127</td>\n",
       "      <td>CREAM, SKIM MILK, LIQUID SUGAR (SUGAR, WATER),...</td>\n",
       "    </tr>\n",
       "    <tr>\n",
       "      <th>2</th>\n",
       "      <td>2_bj</td>\n",
       "      <td>Chip Happens</td>\n",
       "      <td>A Cold Mess of Chocolate Ice Cream with Fudge ...</td>\n",
       "      <td>Sometimes “chip” happens and everything’s a me...</td>\n",
       "      <td>4.7</td>\n",
       "      <td>130</td>\n",
       "      <td>CREAM, LIQUID SUGAR (SUGAR, WATER), SKIM MILK,...</td>\n",
       "    </tr>\n",
       "    <tr>\n",
       "      <th>3</th>\n",
       "      <td>3_bj</td>\n",
       "      <td>Cannoli</td>\n",
       "      <td>Mascarpone Ice Cream with Fudge-Covered Pastry...</td>\n",
       "      <td>As a Limited Batch that captured the rapture o...</td>\n",
       "      <td>3.6</td>\n",
       "      <td>70</td>\n",
       "      <td>CREAM, SKIM MILK, LIQUID SUGAR (SUGAR, WATER),...</td>\n",
       "    </tr>\n",
       "    <tr>\n",
       "      <th>4</th>\n",
       "      <td>4_bj</td>\n",
       "      <td>Gimme S’more!™</td>\n",
       "      <td>Toasted Marshmallow Ice Cream with Chocolate C...</td>\n",
       "      <td>It’s a gimme: there’s always room for s’more. ...</td>\n",
       "      <td>4.5</td>\n",
       "      <td>281</td>\n",
       "      <td>CREAM, SKIM MILK, WATER, LIQUID SUGAR (SUGAR, ...</td>\n",
       "    </tr>\n",
       "  </tbody>\n",
       "</table>\n",
       "</div>"
      ],
      "text/plain": [
       "    key                 name  \\\n",
       "0  0_bj  Salted Caramel Core   \n",
       "1  1_bj  Netflix & Chilll'd™   \n",
       "2  2_bj         Chip Happens   \n",
       "3  3_bj              Cannoli   \n",
       "4  4_bj       Gimme S’more!™   \n",
       "\n",
       "                                             subhead  \\\n",
       "0  Sweet Cream Ice Cream with Blonde Brownies & a...   \n",
       "1  Peanut Butter Ice Cream with Sweet & Salty Pre...   \n",
       "2  A Cold Mess of Chocolate Ice Cream with Fudge ...   \n",
       "3  Mascarpone Ice Cream with Fudge-Covered Pastry...   \n",
       "4  Toasted Marshmallow Ice Cream with Chocolate C...   \n",
       "\n",
       "                                         description  rating  rating_count  \\\n",
       "0  Find your way to the ultimate ice cream experi...     3.7           208   \n",
       "1  There’s something for everyone to watch on Net...     4.0           127   \n",
       "2  Sometimes “chip” happens and everything’s a me...     4.7           130   \n",
       "3  As a Limited Batch that captured the rapture o...     3.6            70   \n",
       "4  It’s a gimme: there’s always room for s’more. ...     4.5           281   \n",
       "\n",
       "                                         ingredients  \n",
       "0  CREAM, SKIM MILK, LIQUID SUGAR (SUGAR, WATER),...  \n",
       "1  CREAM, SKIM MILK, LIQUID SUGAR (SUGAR, WATER),...  \n",
       "2  CREAM, LIQUID SUGAR (SUGAR, WATER), SKIM MILK,...  \n",
       "3  CREAM, SKIM MILK, LIQUID SUGAR (SUGAR, WATER),...  \n",
       "4  CREAM, SKIM MILK, WATER, LIQUID SUGAR (SUGAR, ...  "
      ]
     },
     "execution_count": 13,
     "metadata": {},
     "output_type": "execute_result"
    }
   ],
   "source": [
    "products.head()"
   ]
  },
  {
   "cell_type": "code",
   "execution_count": null,
   "id": "2c83c8f6-7b5d-4b18-b60f-a11cb9e299c2",
   "metadata": {},
   "outputs": [],
   "source": [
    "# indeed every products seem to have a unique key and does not seem to have a unique sets of ingredients\n",
    "# The are lot of diferences in the ingredient, the key is the right thing to match on,\n",
    "# if we have to merge the two DataFrames together.\n",
    "# we want to match on common columns and not ones that has NAs in them."
   ]
  },
  {
   "cell_type": "code",
   "execution_count": 14,
   "id": "a7fc0c07-8061-4d1a-8636-34eb38df5ff6",
   "metadata": {},
   "outputs": [],
   "source": [
    "# This is the merge DataFrame\n",
    "# i will call my merged DataFrame, joinDF.\n",
    "# i will merge the reviews and the products on the column called key\n",
    "\n",
    "joinDF = pd.merge(reviews, products, on='key')"
   ]
  },
  {
   "cell_type": "code",
   "execution_count": 15,
   "id": "3a788f15-b317-419a-b397-5ad5879f6f1a",
   "metadata": {},
   "outputs": [
    {
     "data": {
      "text/plain": [
       "(7943, 19)"
      ]
     },
     "execution_count": 15,
     "metadata": {},
     "output_type": "execute_result"
    }
   ],
   "source": [
    "# Let us take a look at the new DataFrame (joinDF)\n",
    "# it won't have quite as many rows as review, it only got 7943\n",
    "# This is because there might be some keys there were not in the products dataframe \n",
    "# but were found in the reviews \n",
    "\n",
    "joinDF.shape"
   ]
  },
  {
   "cell_type": "code",
   "execution_count": null,
   "id": "712292f8-aa62-4d0f-b2d2-ea3cb5b131d3",
   "metadata": {},
   "outputs": [],
   "source": [
    "# There are smaller number of rows in joinDF than in reviews\n",
    "# likely, there are some key values in reviews that are not in products\n",
    "# Also, joinDF has 19 columns; reviews has 13 columns and products has 7 columns\n",
    "# So, we basically preserved all of the columns but did not duplicate the column called 'key'."
   ]
  },
  {
   "cell_type": "code",
   "execution_count": 16,
   "id": "20d78d53-780b-45d7-8c07-6a72135b4df9",
   "metadata": {},
   "outputs": [
    {
     "data": {
      "text/html": [
       "<div>\n",
       "<style scoped>\n",
       "    .dataframe tbody tr th:only-of-type {\n",
       "        vertical-align: middle;\n",
       "    }\n",
       "\n",
       "    .dataframe tbody tr th {\n",
       "        vertical-align: top;\n",
       "    }\n",
       "\n",
       "    .dataframe thead th {\n",
       "        text-align: right;\n",
       "    }\n",
       "</style>\n",
       "<table border=\"1\" class=\"dataframe\">\n",
       "  <thead>\n",
       "    <tr style=\"text-align: right;\">\n",
       "      <th></th>\n",
       "      <th>brand</th>\n",
       "      <th>key</th>\n",
       "      <th>author</th>\n",
       "      <th>date</th>\n",
       "      <th>stars</th>\n",
       "      <th>title</th>\n",
       "      <th>helpful_yes</th>\n",
       "      <th>helpful_no</th>\n",
       "      <th>text</th>\n",
       "      <th>taste</th>\n",
       "      <th>ingredients_x</th>\n",
       "      <th>texture</th>\n",
       "      <th>likes</th>\n",
       "      <th>name</th>\n",
       "      <th>subhead</th>\n",
       "      <th>description</th>\n",
       "      <th>rating</th>\n",
       "      <th>rating_count</th>\n",
       "      <th>ingredients_y</th>\n",
       "    </tr>\n",
       "  </thead>\n",
       "  <tbody>\n",
       "    <tr>\n",
       "      <th>0</th>\n",
       "      <td>bj</td>\n",
       "      <td>0_bj</td>\n",
       "      <td>Ilovebennjerry</td>\n",
       "      <td>2017-04-15</td>\n",
       "      <td>3</td>\n",
       "      <td>Not enough brownies!</td>\n",
       "      <td>10.0</td>\n",
       "      <td>3.0</td>\n",
       "      <td>Super good, don't get me wrong. But I came for...</td>\n",
       "      <td>NaN</td>\n",
       "      <td>NaN</td>\n",
       "      <td>NaN</td>\n",
       "      <td>NaN</td>\n",
       "      <td>Salted Caramel Core</td>\n",
       "      <td>Sweet Cream Ice Cream with Blonde Brownies &amp; a...</td>\n",
       "      <td>Find your way to the ultimate ice cream experi...</td>\n",
       "      <td>3.7</td>\n",
       "      <td>208</td>\n",
       "      <td>CREAM, SKIM MILK, LIQUID SUGAR (SUGAR, WATER),...</td>\n",
       "    </tr>\n",
       "    <tr>\n",
       "      <th>1</th>\n",
       "      <td>bj</td>\n",
       "      <td>0_bj</td>\n",
       "      <td>Sweettooth909</td>\n",
       "      <td>2020-01-05</td>\n",
       "      <td>5</td>\n",
       "      <td>I’m OBSESSED with this pint!</td>\n",
       "      <td>3.0</td>\n",
       "      <td>0.0</td>\n",
       "      <td>I decided to try it out although I’m not a hug...</td>\n",
       "      <td>NaN</td>\n",
       "      <td>NaN</td>\n",
       "      <td>NaN</td>\n",
       "      <td>NaN</td>\n",
       "      <td>Salted Caramel Core</td>\n",
       "      <td>Sweet Cream Ice Cream with Blonde Brownies &amp; a...</td>\n",
       "      <td>Find your way to the ultimate ice cream experi...</td>\n",
       "      <td>3.7</td>\n",
       "      <td>208</td>\n",
       "      <td>CREAM, SKIM MILK, LIQUID SUGAR (SUGAR, WATER),...</td>\n",
       "    </tr>\n",
       "    <tr>\n",
       "      <th>2</th>\n",
       "      <td>bj</td>\n",
       "      <td>0_bj</td>\n",
       "      <td>LaTanga71</td>\n",
       "      <td>2018-04-26</td>\n",
       "      <td>3</td>\n",
       "      <td>My favorite...More Caramel Please</td>\n",
       "      <td>5.0</td>\n",
       "      <td>2.0</td>\n",
       "      <td>My caramel core begins to disappear about half...</td>\n",
       "      <td>NaN</td>\n",
       "      <td>NaN</td>\n",
       "      <td>NaN</td>\n",
       "      <td>NaN</td>\n",
       "      <td>Salted Caramel Core</td>\n",
       "      <td>Sweet Cream Ice Cream with Blonde Brownies &amp; a...</td>\n",
       "      <td>Find your way to the ultimate ice cream experi...</td>\n",
       "      <td>3.7</td>\n",
       "      <td>208</td>\n",
       "      <td>CREAM, SKIM MILK, LIQUID SUGAR (SUGAR, WATER),...</td>\n",
       "    </tr>\n",
       "    <tr>\n",
       "      <th>3</th>\n",
       "      <td>bj</td>\n",
       "      <td>0_bj</td>\n",
       "      <td>chicago220</td>\n",
       "      <td>2018-01-14</td>\n",
       "      <td>5</td>\n",
       "      <td>Obsessed!!!</td>\n",
       "      <td>24.0</td>\n",
       "      <td>1.0</td>\n",
       "      <td>Why are people complaining about the blonde br...</td>\n",
       "      <td>NaN</td>\n",
       "      <td>NaN</td>\n",
       "      <td>NaN</td>\n",
       "      <td>NaN</td>\n",
       "      <td>Salted Caramel Core</td>\n",
       "      <td>Sweet Cream Ice Cream with Blonde Brownies &amp; a...</td>\n",
       "      <td>Find your way to the ultimate ice cream experi...</td>\n",
       "      <td>3.7</td>\n",
       "      <td>208</td>\n",
       "      <td>CREAM, SKIM MILK, LIQUID SUGAR (SUGAR, WATER),...</td>\n",
       "    </tr>\n",
       "    <tr>\n",
       "      <th>4</th>\n",
       "      <td>bj</td>\n",
       "      <td>0_bj</td>\n",
       "      <td>Kassidyk</td>\n",
       "      <td>2020-07-24</td>\n",
       "      <td>1</td>\n",
       "      <td>Worst Ice Cream Ever!</td>\n",
       "      <td>1.0</td>\n",
       "      <td>5.0</td>\n",
       "      <td>This ice cream is worst ice cream I’ve ever ta...</td>\n",
       "      <td>NaN</td>\n",
       "      <td>NaN</td>\n",
       "      <td>NaN</td>\n",
       "      <td>NaN</td>\n",
       "      <td>Salted Caramel Core</td>\n",
       "      <td>Sweet Cream Ice Cream with Blonde Brownies &amp; a...</td>\n",
       "      <td>Find your way to the ultimate ice cream experi...</td>\n",
       "      <td>3.7</td>\n",
       "      <td>208</td>\n",
       "      <td>CREAM, SKIM MILK, LIQUID SUGAR (SUGAR, WATER),...</td>\n",
       "    </tr>\n",
       "  </tbody>\n",
       "</table>\n",
       "</div>"
      ],
      "text/plain": [
       "  brand   key          author        date  stars  \\\n",
       "0    bj  0_bj  Ilovebennjerry  2017-04-15      3   \n",
       "1    bj  0_bj   Sweettooth909  2020-01-05      5   \n",
       "2    bj  0_bj       LaTanga71  2018-04-26      3   \n",
       "3    bj  0_bj      chicago220  2018-01-14      5   \n",
       "4    bj  0_bj        Kassidyk  2020-07-24      1   \n",
       "\n",
       "                               title  helpful_yes  helpful_no  \\\n",
       "0               Not enough brownies!         10.0         3.0   \n",
       "1       I’m OBSESSED with this pint!          3.0         0.0   \n",
       "2  My favorite...More Caramel Please          5.0         2.0   \n",
       "3                        Obsessed!!!         24.0         1.0   \n",
       "4              Worst Ice Cream Ever!          1.0         5.0   \n",
       "\n",
       "                                                text  taste  ingredients_x  \\\n",
       "0  Super good, don't get me wrong. But I came for...    NaN            NaN   \n",
       "1  I decided to try it out although I’m not a hug...    NaN            NaN   \n",
       "2  My caramel core begins to disappear about half...    NaN            NaN   \n",
       "3  Why are people complaining about the blonde br...    NaN            NaN   \n",
       "4  This ice cream is worst ice cream I’ve ever ta...    NaN            NaN   \n",
       "\n",
       "   texture likes                 name  \\\n",
       "0      NaN   NaN  Salted Caramel Core   \n",
       "1      NaN   NaN  Salted Caramel Core   \n",
       "2      NaN   NaN  Salted Caramel Core   \n",
       "3      NaN   NaN  Salted Caramel Core   \n",
       "4      NaN   NaN  Salted Caramel Core   \n",
       "\n",
       "                                             subhead  \\\n",
       "0  Sweet Cream Ice Cream with Blonde Brownies & a...   \n",
       "1  Sweet Cream Ice Cream with Blonde Brownies & a...   \n",
       "2  Sweet Cream Ice Cream with Blonde Brownies & a...   \n",
       "3  Sweet Cream Ice Cream with Blonde Brownies & a...   \n",
       "4  Sweet Cream Ice Cream with Blonde Brownies & a...   \n",
       "\n",
       "                                         description  rating  rating_count  \\\n",
       "0  Find your way to the ultimate ice cream experi...     3.7           208   \n",
       "1  Find your way to the ultimate ice cream experi...     3.7           208   \n",
       "2  Find your way to the ultimate ice cream experi...     3.7           208   \n",
       "3  Find your way to the ultimate ice cream experi...     3.7           208   \n",
       "4  Find your way to the ultimate ice cream experi...     3.7           208   \n",
       "\n",
       "                                       ingredients_y  \n",
       "0  CREAM, SKIM MILK, LIQUID SUGAR (SUGAR, WATER),...  \n",
       "1  CREAM, SKIM MILK, LIQUID SUGAR (SUGAR, WATER),...  \n",
       "2  CREAM, SKIM MILK, LIQUID SUGAR (SUGAR, WATER),...  \n",
       "3  CREAM, SKIM MILK, LIQUID SUGAR (SUGAR, WATER),...  \n",
       "4  CREAM, SKIM MILK, LIQUID SUGAR (SUGAR, WATER),...  "
      ]
     },
     "execution_count": 16,
     "metadata": {},
     "output_type": "execute_result"
    }
   ],
   "source": [
    "joinDF.head()\n",
    "\n",
    "# if you look at the merged  DataFrame, it only has one column for key\n",
    "# while for ingredient, it has 'ingredients_x' column which is for 'reviews' \n",
    "# and 'ingredients_y' column which is for 'products'"
   ]
  },
  {
   "cell_type": "code",
   "execution_count": 17,
   "id": "35af6a4c-070b-4823-8fd6-48848d2c8a5b",
   "metadata": {},
   "outputs": [
    {
     "data": {
      "text/plain": [
       "(7943, 19)"
      ]
     },
     "execution_count": 17,
     "metadata": {},
     "output_type": "execute_result"
    }
   ],
   "source": [
    "# Another way to merge data frames\n",
    "# first keeping all of the rows from reviews \n",
    "\n",
    "pd.merge(reviews, products, on='key').shape"
   ]
  },
  {
   "cell_type": "code",
   "execution_count": 18,
   "id": "f3ba860e-23de-4ef1-be6a-a43106c2141b",
   "metadata": {},
   "outputs": [
    {
     "data": {
      "text/plain": [
       "(7943, 19)"
      ]
     },
     "execution_count": 18,
     "metadata": {},
     "output_type": "execute_result"
    }
   ],
   "source": [
    "# How did we actially did that? it is through inner join\n",
    "# So it will keep track of therows that were containing the key in both DataFrames\n",
    "\n",
    "pd.merge(reviews, products, on='key', how = 'inner').shape\n",
    "# This is basically what I did before"
   ]
  },
  {
   "cell_type": "code",
   "execution_count": 22,
   "id": "6b8f80ea-ac82-49d3-8395-b2ff9a01bc3c",
   "metadata": {},
   "outputs": [],
   "source": [
    "# For instance if we decided to do left join\n",
    "# It will give me one row for every rows in reviews\n",
    "# It will respect the number of rows from the DataFrame on the left here \"reviews\"\n",
    "\n",
    "revDF = pd.merge(reviews, products, on='key', how = 'left')"
   ]
  },
  {
   "cell_type": "code",
   "execution_count": 23,
   "id": "c0d2f29c-514a-4225-9b69-4f3ac3bc3006",
   "metadata": {},
   "outputs": [
    {
     "data": {
      "text/plain": [
       "(21674, 19)"
      ]
     },
     "execution_count": 23,
     "metadata": {},
     "output_type": "execute_result"
    }
   ],
   "source": [
    "# It got the same number of rows as we did earlier\n",
    "\n",
    "revDF.shape\n",
    "\n",
    "# Here is another way to do it (but it preferable, to do the first way)"
   ]
  },
  {
   "cell_type": "markdown",
   "id": "b456e57c-4a12-464b-999a-ef2df5af80c1",
   "metadata": {},
   "source": [
    "What are the column names for reviews.csv? What are the column names for products.csv?\n",
    "\n",
    "What column do they have in common?\n",
    "\n",
    "Go ahead and merge these two data frames based on the common column (do not merge on a column that has NaN), and save the results from the merge as a new dataframe.\n",
    "\n",
    "Find a second way to merge the data frames."
   ]
  },
  {
   "cell_type": "markdown",
   "id": "fc601975-35ed-4680-a4e1-0273ee3cc047",
   "metadata": {},
   "source": [
    "## Question 2"
   ]
  },
  {
   "cell_type": "code",
   "execution_count": 24,
   "id": "a16336a1-1ef0-41e8-bc7c-49387db27497",
   "metadata": {},
   "outputs": [
    {
     "data": {
      "text/html": [
       "<div>\n",
       "<style scoped>\n",
       "    .dataframe tbody tr th:only-of-type {\n",
       "        vertical-align: middle;\n",
       "    }\n",
       "\n",
       "    .dataframe tbody tr th {\n",
       "        vertical-align: top;\n",
       "    }\n",
       "\n",
       "    .dataframe thead th {\n",
       "        text-align: right;\n",
       "    }\n",
       "</style>\n",
       "<table border=\"1\" class=\"dataframe\">\n",
       "  <thead>\n",
       "    <tr style=\"text-align: right;\">\n",
       "      <th></th>\n",
       "      <th>brand</th>\n",
       "      <th>key</th>\n",
       "      <th>author</th>\n",
       "      <th>date</th>\n",
       "      <th>stars</th>\n",
       "      <th>title</th>\n",
       "      <th>helpful_yes</th>\n",
       "      <th>helpful_no</th>\n",
       "      <th>text</th>\n",
       "      <th>taste</th>\n",
       "      <th>ingredients_x</th>\n",
       "      <th>texture</th>\n",
       "      <th>likes</th>\n",
       "      <th>name</th>\n",
       "      <th>subhead</th>\n",
       "      <th>description</th>\n",
       "      <th>rating</th>\n",
       "      <th>rating_count</th>\n",
       "      <th>ingredients_y</th>\n",
       "    </tr>\n",
       "  </thead>\n",
       "  <tbody>\n",
       "    <tr>\n",
       "      <th>0</th>\n",
       "      <td>bj</td>\n",
       "      <td>0_bj</td>\n",
       "      <td>Ilovebennjerry</td>\n",
       "      <td>2017-04-15</td>\n",
       "      <td>3</td>\n",
       "      <td>Not enough brownies!</td>\n",
       "      <td>10.0</td>\n",
       "      <td>3.0</td>\n",
       "      <td>Super good, don't get me wrong. But I came for...</td>\n",
       "      <td>NaN</td>\n",
       "      <td>NaN</td>\n",
       "      <td>NaN</td>\n",
       "      <td>NaN</td>\n",
       "      <td>Salted Caramel Core</td>\n",
       "      <td>Sweet Cream Ice Cream with Blonde Brownies &amp; a...</td>\n",
       "      <td>Find your way to the ultimate ice cream experi...</td>\n",
       "      <td>3.7</td>\n",
       "      <td>208</td>\n",
       "      <td>CREAM, SKIM MILK, LIQUID SUGAR (SUGAR, WATER),...</td>\n",
       "    </tr>\n",
       "    <tr>\n",
       "      <th>1</th>\n",
       "      <td>bj</td>\n",
       "      <td>0_bj</td>\n",
       "      <td>Sweettooth909</td>\n",
       "      <td>2020-01-05</td>\n",
       "      <td>5</td>\n",
       "      <td>I’m OBSESSED with this pint!</td>\n",
       "      <td>3.0</td>\n",
       "      <td>0.0</td>\n",
       "      <td>I decided to try it out although I’m not a hug...</td>\n",
       "      <td>NaN</td>\n",
       "      <td>NaN</td>\n",
       "      <td>NaN</td>\n",
       "      <td>NaN</td>\n",
       "      <td>Salted Caramel Core</td>\n",
       "      <td>Sweet Cream Ice Cream with Blonde Brownies &amp; a...</td>\n",
       "      <td>Find your way to the ultimate ice cream experi...</td>\n",
       "      <td>3.7</td>\n",
       "      <td>208</td>\n",
       "      <td>CREAM, SKIM MILK, LIQUID SUGAR (SUGAR, WATER),...</td>\n",
       "    </tr>\n",
       "    <tr>\n",
       "      <th>2</th>\n",
       "      <td>bj</td>\n",
       "      <td>0_bj</td>\n",
       "      <td>LaTanga71</td>\n",
       "      <td>2018-04-26</td>\n",
       "      <td>3</td>\n",
       "      <td>My favorite...More Caramel Please</td>\n",
       "      <td>5.0</td>\n",
       "      <td>2.0</td>\n",
       "      <td>My caramel core begins to disappear about half...</td>\n",
       "      <td>NaN</td>\n",
       "      <td>NaN</td>\n",
       "      <td>NaN</td>\n",
       "      <td>NaN</td>\n",
       "      <td>Salted Caramel Core</td>\n",
       "      <td>Sweet Cream Ice Cream with Blonde Brownies &amp; a...</td>\n",
       "      <td>Find your way to the ultimate ice cream experi...</td>\n",
       "      <td>3.7</td>\n",
       "      <td>208</td>\n",
       "      <td>CREAM, SKIM MILK, LIQUID SUGAR (SUGAR, WATER),...</td>\n",
       "    </tr>\n",
       "    <tr>\n",
       "      <th>3</th>\n",
       "      <td>bj</td>\n",
       "      <td>0_bj</td>\n",
       "      <td>chicago220</td>\n",
       "      <td>2018-01-14</td>\n",
       "      <td>5</td>\n",
       "      <td>Obsessed!!!</td>\n",
       "      <td>24.0</td>\n",
       "      <td>1.0</td>\n",
       "      <td>Why are people complaining about the blonde br...</td>\n",
       "      <td>NaN</td>\n",
       "      <td>NaN</td>\n",
       "      <td>NaN</td>\n",
       "      <td>NaN</td>\n",
       "      <td>Salted Caramel Core</td>\n",
       "      <td>Sweet Cream Ice Cream with Blonde Brownies &amp; a...</td>\n",
       "      <td>Find your way to the ultimate ice cream experi...</td>\n",
       "      <td>3.7</td>\n",
       "      <td>208</td>\n",
       "      <td>CREAM, SKIM MILK, LIQUID SUGAR (SUGAR, WATER),...</td>\n",
       "    </tr>\n",
       "    <tr>\n",
       "      <th>4</th>\n",
       "      <td>bj</td>\n",
       "      <td>0_bj</td>\n",
       "      <td>Kassidyk</td>\n",
       "      <td>2020-07-24</td>\n",
       "      <td>1</td>\n",
       "      <td>Worst Ice Cream Ever!</td>\n",
       "      <td>1.0</td>\n",
       "      <td>5.0</td>\n",
       "      <td>This ice cream is worst ice cream I’ve ever ta...</td>\n",
       "      <td>NaN</td>\n",
       "      <td>NaN</td>\n",
       "      <td>NaN</td>\n",
       "      <td>NaN</td>\n",
       "      <td>Salted Caramel Core</td>\n",
       "      <td>Sweet Cream Ice Cream with Blonde Brownies &amp; a...</td>\n",
       "      <td>Find your way to the ultimate ice cream experi...</td>\n",
       "      <td>3.7</td>\n",
       "      <td>208</td>\n",
       "      <td>CREAM, SKIM MILK, LIQUID SUGAR (SUGAR, WATER),...</td>\n",
       "    </tr>\n",
       "  </tbody>\n",
       "</table>\n",
       "</div>"
      ],
      "text/plain": [
       "  brand   key          author        date  stars  \\\n",
       "0    bj  0_bj  Ilovebennjerry  2017-04-15      3   \n",
       "1    bj  0_bj   Sweettooth909  2020-01-05      5   \n",
       "2    bj  0_bj       LaTanga71  2018-04-26      3   \n",
       "3    bj  0_bj      chicago220  2018-01-14      5   \n",
       "4    bj  0_bj        Kassidyk  2020-07-24      1   \n",
       "\n",
       "                               title  helpful_yes  helpful_no  \\\n",
       "0               Not enough brownies!         10.0         3.0   \n",
       "1       I’m OBSESSED with this pint!          3.0         0.0   \n",
       "2  My favorite...More Caramel Please          5.0         2.0   \n",
       "3                        Obsessed!!!         24.0         1.0   \n",
       "4              Worst Ice Cream Ever!          1.0         5.0   \n",
       "\n",
       "                                                text  taste  ingredients_x  \\\n",
       "0  Super good, don't get me wrong. But I came for...    NaN            NaN   \n",
       "1  I decided to try it out although I’m not a hug...    NaN            NaN   \n",
       "2  My caramel core begins to disappear about half...    NaN            NaN   \n",
       "3  Why are people complaining about the blonde br...    NaN            NaN   \n",
       "4  This ice cream is worst ice cream I’ve ever ta...    NaN            NaN   \n",
       "\n",
       "   texture likes                 name  \\\n",
       "0      NaN   NaN  Salted Caramel Core   \n",
       "1      NaN   NaN  Salted Caramel Core   \n",
       "2      NaN   NaN  Salted Caramel Core   \n",
       "3      NaN   NaN  Salted Caramel Core   \n",
       "4      NaN   NaN  Salted Caramel Core   \n",
       "\n",
       "                                             subhead  \\\n",
       "0  Sweet Cream Ice Cream with Blonde Brownies & a...   \n",
       "1  Sweet Cream Ice Cream with Blonde Brownies & a...   \n",
       "2  Sweet Cream Ice Cream with Blonde Brownies & a...   \n",
       "3  Sweet Cream Ice Cream with Blonde Brownies & a...   \n",
       "4  Sweet Cream Ice Cream with Blonde Brownies & a...   \n",
       "\n",
       "                                         description  rating  rating_count  \\\n",
       "0  Find your way to the ultimate ice cream experi...     3.7           208   \n",
       "1  Find your way to the ultimate ice cream experi...     3.7           208   \n",
       "2  Find your way to the ultimate ice cream experi...     3.7           208   \n",
       "3  Find your way to the ultimate ice cream experi...     3.7           208   \n",
       "4  Find your way to the ultimate ice cream experi...     3.7           208   \n",
       "\n",
       "                                       ingredients_y  \n",
       "0  CREAM, SKIM MILK, LIQUID SUGAR (SUGAR, WATER),...  \n",
       "1  CREAM, SKIM MILK, LIQUID SUGAR (SUGAR, WATER),...  \n",
       "2  CREAM, SKIM MILK, LIQUID SUGAR (SUGAR, WATER),...  \n",
       "3  CREAM, SKIM MILK, LIQUID SUGAR (SUGAR, WATER),...  \n",
       "4  CREAM, SKIM MILK, LIQUID SUGAR (SUGAR, WATER),...  "
      ]
     },
     "execution_count": 24,
     "metadata": {},
     "output_type": "execute_result"
    }
   ],
   "source": [
    "# For this new DataFrame (joinDF) looking at the head\n",
    "\n",
    "# For ingredient, it has 'ingredients_x' column which has all the contents from'reviews' \n",
    "# and 'ingredients_y' column which has all the contents from'products'\n",
    "\n",
    "joinDF.head()"
   ]
  },
  {
   "cell_type": "code",
   "execution_count": 25,
   "id": "19a3d3ad-6062-4fa5-b08b-931abda33db2",
   "metadata": {},
   "outputs": [
    {
     "ename": "ValueError",
     "evalue": "You are trying to merge on float64 and object columns. If you wish to proceed you should use pd.concat",
     "output_type": "error",
     "traceback": [
      "\u001b[0;31m---------------------------------------------------------------------------\u001b[0m",
      "\u001b[0;31mValueError\u001b[0m                                Traceback (most recent call last)",
      "Input \u001b[0;32mIn [25]\u001b[0m, in \u001b[0;36m<cell line: 3>\u001b[0;34m()\u001b[0m\n\u001b[1;32m      1\u001b[0m \u001b[38;5;66;03m# What happens and why if you tried to merge the dataframes on the column ingredients?\u001b[39;00m\n\u001b[0;32m----> 3\u001b[0m tryDF \u001b[38;5;241m=\u001b[39m \u001b[43mpd\u001b[49m\u001b[38;5;241;43m.\u001b[39;49m\u001b[43mmerge\u001b[49m\u001b[43m(\u001b[49m\u001b[43mreviews\u001b[49m\u001b[43m,\u001b[49m\u001b[43m \u001b[49m\u001b[43mproducts\u001b[49m\u001b[43m,\u001b[49m\u001b[43m \u001b[49m\u001b[43mon\u001b[49m\u001b[38;5;241;43m=\u001b[39;49m\u001b[38;5;124;43m'\u001b[39;49m\u001b[38;5;124;43mingredients\u001b[39;49m\u001b[38;5;124;43m'\u001b[39;49m\u001b[43m)\u001b[49m\n",
      "File \u001b[0;32m/usr/local/lib/python3.10/site-packages/pandas/core/reshape/merge.py:110\u001b[0m, in \u001b[0;36mmerge\u001b[0;34m(left, right, how, on, left_on, right_on, left_index, right_index, sort, suffixes, copy, indicator, validate)\u001b[0m\n\u001b[1;32m     93\u001b[0m \u001b[38;5;129m@Substitution\u001b[39m(\u001b[38;5;124m\"\u001b[39m\u001b[38;5;130;01m\\n\u001b[39;00m\u001b[38;5;124mleft : DataFrame or named Series\u001b[39m\u001b[38;5;124m\"\u001b[39m)\n\u001b[1;32m     94\u001b[0m \u001b[38;5;129m@Appender\u001b[39m(_merge_doc, indents\u001b[38;5;241m=\u001b[39m\u001b[38;5;241m0\u001b[39m)\n\u001b[1;32m     95\u001b[0m \u001b[38;5;28;01mdef\u001b[39;00m \u001b[38;5;21mmerge\u001b[39m(\n\u001b[0;32m   (...)\u001b[0m\n\u001b[1;32m    108\u001b[0m     validate: \u001b[38;5;28mstr\u001b[39m \u001b[38;5;241m|\u001b[39m \u001b[38;5;28;01mNone\u001b[39;00m \u001b[38;5;241m=\u001b[39m \u001b[38;5;28;01mNone\u001b[39;00m,\n\u001b[1;32m    109\u001b[0m ) \u001b[38;5;241m-\u001b[39m\u001b[38;5;241m>\u001b[39m DataFrame:\n\u001b[0;32m--> 110\u001b[0m     op \u001b[38;5;241m=\u001b[39m \u001b[43m_MergeOperation\u001b[49m\u001b[43m(\u001b[49m\n\u001b[1;32m    111\u001b[0m \u001b[43m        \u001b[49m\u001b[43mleft\u001b[49m\u001b[43m,\u001b[49m\n\u001b[1;32m    112\u001b[0m \u001b[43m        \u001b[49m\u001b[43mright\u001b[49m\u001b[43m,\u001b[49m\n\u001b[1;32m    113\u001b[0m \u001b[43m        \u001b[49m\u001b[43mhow\u001b[49m\u001b[38;5;241;43m=\u001b[39;49m\u001b[43mhow\u001b[49m\u001b[43m,\u001b[49m\n\u001b[1;32m    114\u001b[0m \u001b[43m        \u001b[49m\u001b[43mon\u001b[49m\u001b[38;5;241;43m=\u001b[39;49m\u001b[43mon\u001b[49m\u001b[43m,\u001b[49m\n\u001b[1;32m    115\u001b[0m \u001b[43m        \u001b[49m\u001b[43mleft_on\u001b[49m\u001b[38;5;241;43m=\u001b[39;49m\u001b[43mleft_on\u001b[49m\u001b[43m,\u001b[49m\n\u001b[1;32m    116\u001b[0m \u001b[43m        \u001b[49m\u001b[43mright_on\u001b[49m\u001b[38;5;241;43m=\u001b[39;49m\u001b[43mright_on\u001b[49m\u001b[43m,\u001b[49m\n\u001b[1;32m    117\u001b[0m \u001b[43m        \u001b[49m\u001b[43mleft_index\u001b[49m\u001b[38;5;241;43m=\u001b[39;49m\u001b[43mleft_index\u001b[49m\u001b[43m,\u001b[49m\n\u001b[1;32m    118\u001b[0m \u001b[43m        \u001b[49m\u001b[43mright_index\u001b[49m\u001b[38;5;241;43m=\u001b[39;49m\u001b[43mright_index\u001b[49m\u001b[43m,\u001b[49m\n\u001b[1;32m    119\u001b[0m \u001b[43m        \u001b[49m\u001b[43msort\u001b[49m\u001b[38;5;241;43m=\u001b[39;49m\u001b[43msort\u001b[49m\u001b[43m,\u001b[49m\n\u001b[1;32m    120\u001b[0m \u001b[43m        \u001b[49m\u001b[43msuffixes\u001b[49m\u001b[38;5;241;43m=\u001b[39;49m\u001b[43msuffixes\u001b[49m\u001b[43m,\u001b[49m\n\u001b[1;32m    121\u001b[0m \u001b[43m        \u001b[49m\u001b[43mindicator\u001b[49m\u001b[38;5;241;43m=\u001b[39;49m\u001b[43mindicator\u001b[49m\u001b[43m,\u001b[49m\n\u001b[1;32m    122\u001b[0m \u001b[43m        \u001b[49m\u001b[43mvalidate\u001b[49m\u001b[38;5;241;43m=\u001b[39;49m\u001b[43mvalidate\u001b[49m\u001b[43m,\u001b[49m\n\u001b[1;32m    123\u001b[0m \u001b[43m    \u001b[49m\u001b[43m)\u001b[49m\n\u001b[1;32m    124\u001b[0m     \u001b[38;5;28;01mreturn\u001b[39;00m op\u001b[38;5;241m.\u001b[39mget_result(copy\u001b[38;5;241m=\u001b[39mcopy)\n",
      "File \u001b[0;32m/usr/local/lib/python3.10/site-packages/pandas/core/reshape/merge.py:707\u001b[0m, in \u001b[0;36m_MergeOperation.__init__\u001b[0;34m(self, left, right, how, on, left_on, right_on, axis, left_index, right_index, sort, suffixes, indicator, validate)\u001b[0m\n\u001b[1;32m    699\u001b[0m (\n\u001b[1;32m    700\u001b[0m     \u001b[38;5;28mself\u001b[39m\u001b[38;5;241m.\u001b[39mleft_join_keys,\n\u001b[1;32m    701\u001b[0m     \u001b[38;5;28mself\u001b[39m\u001b[38;5;241m.\u001b[39mright_join_keys,\n\u001b[1;32m    702\u001b[0m     \u001b[38;5;28mself\u001b[39m\u001b[38;5;241m.\u001b[39mjoin_names,\n\u001b[1;32m    703\u001b[0m ) \u001b[38;5;241m=\u001b[39m \u001b[38;5;28mself\u001b[39m\u001b[38;5;241m.\u001b[39m_get_merge_keys()\n\u001b[1;32m    705\u001b[0m \u001b[38;5;66;03m# validate the merge keys dtypes. We may need to coerce\u001b[39;00m\n\u001b[1;32m    706\u001b[0m \u001b[38;5;66;03m# to avoid incompatible dtypes\u001b[39;00m\n\u001b[0;32m--> 707\u001b[0m \u001b[38;5;28;43mself\u001b[39;49m\u001b[38;5;241;43m.\u001b[39;49m\u001b[43m_maybe_coerce_merge_keys\u001b[49m\u001b[43m(\u001b[49m\u001b[43m)\u001b[49m\n\u001b[1;32m    709\u001b[0m \u001b[38;5;66;03m# If argument passed to validate,\u001b[39;00m\n\u001b[1;32m    710\u001b[0m \u001b[38;5;66;03m# check if columns specified as unique\u001b[39;00m\n\u001b[1;32m    711\u001b[0m \u001b[38;5;66;03m# are in fact unique.\u001b[39;00m\n\u001b[1;32m    712\u001b[0m \u001b[38;5;28;01mif\u001b[39;00m validate \u001b[38;5;129;01mis\u001b[39;00m \u001b[38;5;129;01mnot\u001b[39;00m \u001b[38;5;28;01mNone\u001b[39;00m:\n",
      "File \u001b[0;32m/usr/local/lib/python3.10/site-packages/pandas/core/reshape/merge.py:1340\u001b[0m, in \u001b[0;36m_MergeOperation._maybe_coerce_merge_keys\u001b[0;34m(self)\u001b[0m\n\u001b[1;32m   1334\u001b[0m     \u001b[38;5;66;03m# unless we are merging non-string-like with string-like\u001b[39;00m\n\u001b[1;32m   1335\u001b[0m     \u001b[38;5;28;01melif\u001b[39;00m (\n\u001b[1;32m   1336\u001b[0m         inferred_left \u001b[38;5;129;01min\u001b[39;00m string_types \u001b[38;5;129;01mand\u001b[39;00m inferred_right \u001b[38;5;129;01mnot\u001b[39;00m \u001b[38;5;129;01min\u001b[39;00m string_types\n\u001b[1;32m   1337\u001b[0m     ) \u001b[38;5;129;01mor\u001b[39;00m (\n\u001b[1;32m   1338\u001b[0m         inferred_right \u001b[38;5;129;01min\u001b[39;00m string_types \u001b[38;5;129;01mand\u001b[39;00m inferred_left \u001b[38;5;129;01mnot\u001b[39;00m \u001b[38;5;129;01min\u001b[39;00m string_types\n\u001b[1;32m   1339\u001b[0m     ):\n\u001b[0;32m-> 1340\u001b[0m         \u001b[38;5;28;01mraise\u001b[39;00m \u001b[38;5;167;01mValueError\u001b[39;00m(msg)\n\u001b[1;32m   1342\u001b[0m \u001b[38;5;66;03m# datetimelikes must match exactly\u001b[39;00m\n\u001b[1;32m   1343\u001b[0m \u001b[38;5;28;01melif\u001b[39;00m needs_i8_conversion(lk\u001b[38;5;241m.\u001b[39mdtype) \u001b[38;5;129;01mand\u001b[39;00m \u001b[38;5;129;01mnot\u001b[39;00m needs_i8_conversion(rk\u001b[38;5;241m.\u001b[39mdtype):\n",
      "\u001b[0;31mValueError\u001b[0m: You are trying to merge on float64 and object columns. If you wish to proceed you should use pd.concat"
     ]
    }
   ],
   "source": [
    "# What happens and why if you tried to merge the dataframes on the column ingredients?\n",
    "# It gives an error\n",
    "\n",
    "tryDF = pd.merge(reviews, products, on='ingredients')"
   ]
  },
  {
   "cell_type": "code",
   "execution_count": null,
   "id": "8ffb5fca-f11d-49b4-9e8a-dc59360854b3",
   "metadata": {},
   "outputs": [],
   "source": [
    "# What should we do instead, if we want to merge on ingredients?\n",
    "# We have to adjust what is in the two columns\n",
    "# We have to go look at what is in the ingredient column from the reviews dataframe\n",
    "# what is in the ingredient column from the products dataframe\n",
    "# And try to make them match"
   ]
  },
  {
   "cell_type": "markdown",
   "id": "14dc22d4-ddc3-41cc-a91a-cb0025bc0c80",
   "metadata": {},
   "source": [
    "What do you notice about the column ingredients that was originally in the products dataframe? Why do you think this happened?\n",
    "\n",
    "What happens and why if you tried to merge the dataframes on the column ingredients?\n",
    "\n",
    "What should we do instead, if we want to merge on ingredients?"
   ]
  },
  {
   "cell_type": "markdown",
   "id": "8e586edd-ff26-4ce2-8f6b-2424b26f2929",
   "metadata": {},
   "source": [
    "## Question 3"
   ]
  },
  {
   "cell_type": "code",
   "execution_count": 26,
   "id": "bbe0f40d-9655-4653-9ca8-886bdb61cb91",
   "metadata": {},
   "outputs": [],
   "source": [
    "import matplotlib.pyplot as plt\n",
    "from wordcloud import WordCloud, ImageColorGenerator\n",
    "from PIL import Image\n",
    "import numpy as np\n",
    "from wordcloud import STOPWORDS"
   ]
  },
  {
   "cell_type": "code",
   "execution_count": 27,
   "id": "a915e6af-79d5-4d37-bfa4-c5a1bfad0774",
   "metadata": {},
   "outputs": [],
   "source": [
    "import nltk\n",
    "from nltk.probability import FreqDist"
   ]
  },
  {
   "cell_type": "code",
   "execution_count": 28,
   "id": "f53547f3-8e9c-4efe-a07c-51a12536f7ec",
   "metadata": {},
   "outputs": [
    {
     "data": {
      "text/plain": [
       "{'a',\n",
       " 'about',\n",
       " 'above',\n",
       " 'after',\n",
       " 'again',\n",
       " 'against',\n",
       " 'all',\n",
       " 'also',\n",
       " 'am',\n",
       " 'an',\n",
       " 'and',\n",
       " 'any',\n",
       " 'are',\n",
       " \"aren't\",\n",
       " 'as',\n",
       " 'at',\n",
       " 'be',\n",
       " 'because',\n",
       " 'been',\n",
       " 'before',\n",
       " 'being',\n",
       " 'below',\n",
       " 'between',\n",
       " 'both',\n",
       " 'but',\n",
       " 'by',\n",
       " 'can',\n",
       " \"can't\",\n",
       " 'cannot',\n",
       " 'com',\n",
       " 'could',\n",
       " \"couldn't\",\n",
       " 'did',\n",
       " \"didn't\",\n",
       " 'do',\n",
       " 'does',\n",
       " \"doesn't\",\n",
       " 'doing',\n",
       " \"don't\",\n",
       " 'down',\n",
       " 'during',\n",
       " 'each',\n",
       " 'else',\n",
       " 'ever',\n",
       " 'few',\n",
       " 'for',\n",
       " 'from',\n",
       " 'further',\n",
       " 'get',\n",
       " 'had',\n",
       " \"hadn't\",\n",
       " 'has',\n",
       " \"hasn't\",\n",
       " 'have',\n",
       " \"haven't\",\n",
       " 'having',\n",
       " 'he',\n",
       " \"he'd\",\n",
       " \"he'll\",\n",
       " \"he's\",\n",
       " 'hence',\n",
       " 'her',\n",
       " 'here',\n",
       " \"here's\",\n",
       " 'hers',\n",
       " 'herself',\n",
       " 'him',\n",
       " 'himself',\n",
       " 'his',\n",
       " 'how',\n",
       " \"how's\",\n",
       " 'however',\n",
       " 'http',\n",
       " 'i',\n",
       " \"i'd\",\n",
       " \"i'll\",\n",
       " \"i'm\",\n",
       " \"i've\",\n",
       " 'if',\n",
       " 'in',\n",
       " 'into',\n",
       " 'is',\n",
       " \"isn't\",\n",
       " 'it',\n",
       " \"it's\",\n",
       " 'its',\n",
       " 'itself',\n",
       " 'just',\n",
       " 'k',\n",
       " \"let's\",\n",
       " 'like',\n",
       " 'me',\n",
       " 'more',\n",
       " 'most',\n",
       " \"mustn't\",\n",
       " 'my',\n",
       " 'myself',\n",
       " 'no',\n",
       " 'nor',\n",
       " 'not',\n",
       " 'of',\n",
       " 'off',\n",
       " 'on',\n",
       " 'once',\n",
       " 'only',\n",
       " 'or',\n",
       " 'other',\n",
       " 'otherwise',\n",
       " 'ought',\n",
       " 'our',\n",
       " 'ours',\n",
       " 'ourselves',\n",
       " 'out',\n",
       " 'over',\n",
       " 'own',\n",
       " 'r',\n",
       " 'same',\n",
       " 'shall',\n",
       " \"shan't\",\n",
       " 'she',\n",
       " \"she'd\",\n",
       " \"she'll\",\n",
       " \"she's\",\n",
       " 'should',\n",
       " \"shouldn't\",\n",
       " 'since',\n",
       " 'so',\n",
       " 'some',\n",
       " 'such',\n",
       " 'than',\n",
       " 'that',\n",
       " \"that's\",\n",
       " 'the',\n",
       " 'their',\n",
       " 'theirs',\n",
       " 'them',\n",
       " 'themselves',\n",
       " 'then',\n",
       " 'there',\n",
       " \"there's\",\n",
       " 'therefore',\n",
       " 'these',\n",
       " 'they',\n",
       " \"they'd\",\n",
       " \"they'll\",\n",
       " \"they're\",\n",
       " \"they've\",\n",
       " 'this',\n",
       " 'those',\n",
       " 'through',\n",
       " 'to',\n",
       " 'too',\n",
       " 'under',\n",
       " 'until',\n",
       " 'up',\n",
       " 'very',\n",
       " 'was',\n",
       " \"wasn't\",\n",
       " 'we',\n",
       " \"we'd\",\n",
       " \"we'll\",\n",
       " \"we're\",\n",
       " \"we've\",\n",
       " 'were',\n",
       " \"weren't\",\n",
       " 'what',\n",
       " \"what's\",\n",
       " 'when',\n",
       " \"when's\",\n",
       " 'where',\n",
       " \"where's\",\n",
       " 'which',\n",
       " 'while',\n",
       " 'who',\n",
       " \"who's\",\n",
       " 'whom',\n",
       " 'why',\n",
       " \"why's\",\n",
       " 'with',\n",
       " \"won't\",\n",
       " 'would',\n",
       " \"wouldn't\",\n",
       " 'www',\n",
       " 'you',\n",
       " \"you'd\",\n",
       " \"you'll\",\n",
       " \"you're\",\n",
       " \"you've\",\n",
       " 'your',\n",
       " 'yours',\n",
       " 'yourself',\n",
       " 'yourselves'}"
      ]
     },
     "execution_count": 28,
     "metadata": {},
     "output_type": "execute_result"
    }
   ],
   "source": [
    "STOPWORDS"
   ]
  },
  {
   "cell_type": "code",
   "execution_count": 30,
   "id": "e606506a-69a8-48a8-9be9-7cf02f5964e0",
   "metadata": {},
   "outputs": [
    {
     "data": {
      "text/plain": [
       "'CREAM, SKIM MILK, LIQUID SUGAR (SUGAR, WATER), WATER, BROWN SUGAR, SUGAR, MILK, WHEAT FLOUR, EGG YOLKS, CORN SYRUP, EGGS, BUTTER (CREAM, SALT), BUTTEROIL, PECTIN, SEA SALT, SOYBEAN OIL, VANILLA EXTRACT, GUAR GUM, SOY LECITHIN, BAKING POWDER (SODIUM ACID PYROPHOSPHATE, SODIUM BICARBONATE, CORN STARCH, MONOCALCIUM PHOSPHATE), BAKING SODA, SALT, CARRAGEENAN, LACTASE'"
      ]
     },
     "execution_count": 30,
     "metadata": {},
     "output_type": "execute_result"
    }
   ],
   "source": [
    "# This is for the first entry\n",
    "\n",
    "products.ingredients[0]"
   ]
  },
  {
   "cell_type": "code",
   "execution_count": 31,
   "id": "94773db2-92f5-4b59-8403-f88789e30a06",
   "metadata": {},
   "outputs": [
    {
     "data": {
      "text/plain": [
       "'cream, skim milk, liquid sugar (sugar, water), water, brown sugar, sugar, milk, wheat flour, egg yolks, corn syrup, eggs, butter (cream, salt), butteroil, pectin, sea salt, soybean oil, vanilla extract, guar gum, soy lecithin, baking powder (sodium acid pyrophosphate, sodium bicarbonate, corn starch, monocalcium phosphate), baking soda, salt, carrageenan, lactase'"
      ]
     },
     "execution_count": 31,
     "metadata": {},
     "output_type": "execute_result"
    }
   ],
   "source": [
    "# To ensure everythinh is in lower case\n",
    "\n",
    "products.ingredients[0].lower()"
   ]
  },
  {
   "cell_type": "code",
   "execution_count": 32,
   "id": "88cb2028-d5c7-4389-a34a-868e5c21807d",
   "metadata": {},
   "outputs": [
    {
     "data": {
      "text/plain": [
       "['cream,',\n",
       " 'skim',\n",
       " 'milk,',\n",
       " 'liquid',\n",
       " 'sugar',\n",
       " '(sugar,',\n",
       " 'water),',\n",
       " 'water,',\n",
       " 'brown',\n",
       " 'sugar,',\n",
       " 'sugar,',\n",
       " 'milk,',\n",
       " 'wheat',\n",
       " 'flour,',\n",
       " 'egg',\n",
       " 'yolks,',\n",
       " 'corn',\n",
       " 'syrup,',\n",
       " 'eggs,',\n",
       " 'butter',\n",
       " '(cream,',\n",
       " 'salt),',\n",
       " 'butteroil,',\n",
       " 'pectin,',\n",
       " 'sea',\n",
       " 'salt,',\n",
       " 'soybean',\n",
       " 'oil,',\n",
       " 'vanilla',\n",
       " 'extract,',\n",
       " 'guar',\n",
       " 'gum,',\n",
       " 'soy',\n",
       " 'lecithin,',\n",
       " 'baking',\n",
       " 'powder',\n",
       " '(sodium',\n",
       " 'acid',\n",
       " 'pyrophosphate,',\n",
       " 'sodium',\n",
       " 'bicarbonate,',\n",
       " 'corn',\n",
       " 'starch,',\n",
       " 'monocalcium',\n",
       " 'phosphate),',\n",
       " 'baking',\n",
       " 'soda,',\n",
       " 'salt,',\n",
       " 'carrageenan,',\n",
       " 'lactase']"
      ]
     },
     "execution_count": 32,
     "metadata": {},
     "output_type": "execute_result"
    }
   ],
   "source": [
    "# After which , i will split\n",
    "# Then we can do a bunch of different words.\n",
    "\n",
    "products.ingredients[0].lower().split()"
   ]
  },
  {
   "cell_type": "code",
   "execution_count": 34,
   "id": "113abf04-9413-4301-a58f-10686ab30596",
   "metadata": {},
   "outputs": [],
   "source": [
    "# First save the list of the split words'products.ingredients[0].lower().split()' as mywords\n",
    "# Then for all the word in 'mywords', if the word is not in 'STOPWORDS',\n",
    "# I will take the list of all those words and call up 'myfilteredwords'\n",
    "# Then i will join it back together with a space and it will be my 'onefilteredreview'\n",
    "\n",
    "mywords = products.ingredients[0].lower().split()\n",
    "myfilteredwords=[word for word in mywords if word not in STOPWORDS]\n",
    "onefilteredreview=' '.join(myfilteredwords)  "
   ]
  },
  {
   "cell_type": "code",
   "execution_count": 35,
   "id": "4ca4ad4e-367e-4356-a921-b828c0a0d05e",
   "metadata": {},
   "outputs": [
    {
     "data": {
      "text/plain": [
       "'cream, skim milk, liquid sugar (sugar, water), water, brown sugar, sugar, milk, wheat flour, egg yolks, corn syrup, eggs, butter (cream, salt), butteroil, pectin, sea salt, soybean oil, vanilla extract, guar gum, soy lecithin, baking powder (sodium acid pyrophosphate, sodium bicarbonate, corn starch, monocalcium phosphate), baking soda, salt, carrageenan, lactase'"
      ]
     },
     "execution_count": 35,
     "metadata": {},
     "output_type": "execute_result"
    }
   ],
   "source": [
    "onefilteredreview"
   ]
  },
  {
   "cell_type": "code",
   "execution_count": 36,
   "id": "01a1dbd2-0d75-4871-a6ee-80c3be3b2d3a",
   "metadata": {},
   "outputs": [],
   "source": [
    "# I will make an empty list \n",
    "myfilteredreviews=[]"
   ]
  },
  {
   "cell_type": "code",
   "execution_count": 37,
   "id": "d7a4b4f1-f9a4-4103-b6e2-63ead7c2b5a9",
   "metadata": {},
   "outputs": [],
   "source": [
    "for myreview in  products.ingredients:\n",
    "    mywords=myreview.lower().split()\n",
    "    myfilteredwords=[word for word in mywords if word not in STOPWORDS]\n",
    "    onefilteredreview=' '.join(myfilteredwords)\n",
    "    myfilteredreviews.append(onefilteredreview)"
   ]
  },
  {
   "cell_type": "code",
   "execution_count": 38,
   "id": "1d41ba12-7275-44dd-b80a-ab28bf796afe",
   "metadata": {},
   "outputs": [
    {
     "data": {
      "text/plain": [
       "['cream, skim milk, liquid sugar (sugar, water), water, brown sugar, sugar, milk, wheat flour, egg yolks, corn syrup, eggs, butter (cream, salt), butteroil, pectin, sea salt, soybean oil, vanilla extract, guar gum, soy lecithin, baking powder (sodium acid pyrophosphate, sodium bicarbonate, corn starch, monocalcium phosphate), baking soda, salt, carrageenan, lactase',\n",
       " 'cream, skim milk, liquid sugar (sugar, water), water, sugar, peanuts, wheat flour, canola oil, egg yolks, corn starch, peanut oil, cocoa powder, salt, soybean oil, invert cane sugar, milk fat, eggs, egg whites, guar gum, soy lecithin, tapioca starch, baking soda, carrageenan, vanilla extract, barley malt, malted barley flour',\n",
       " 'cream, liquid sugar (sugar, water), skim milk, water, sugar, cocoa (processed alkali), potato, coconut oil, corn syrup solids, soybean oil, egg yolks, rice starch, sunflower oil, barley malt, cocoa powder, wheat flour, milk, salt, soy lecithin, yeast extract, natural flavor, guar gum, sea salt, milkfat, vanilla extract, enzymes, carrageenan, baking soda. contains milk, eggs, wheat soy',\n",
       " 'cream, skim milk, liquid sugar (sugar, water), water, corn syrup, coconut oil, sugar, dried cane syrup, egg yolks, wheat flour, milk, cocoa, natural flavor, guar gum, soy lecithin, butter oil, natural flavors, locust bean gum, salt, citric acid, vanilla bean seeds, soybean oil, tapioca starch, lactic acid, carrageenan',\n",
       " 'cream, skim milk, water, liquid sugar (sugar, water), sugar, canola oil, soybean oil, egg yolks, corn syrup, wheat flour, coconut oil, corn starch, cocoa (processed alkali), corn syrup solids, cocoa, graham flour, salt, egg whites, butteroil, tapioca starch, guar gum, soy lecithin, baking soda, natural flavor, molasses, honey, vanilla extract, pectin, caramelized sugar syrup, carrageenan']"
      ]
     },
     "execution_count": 38,
     "metadata": {},
     "output_type": "execute_result"
    }
   ],
   "source": [
    "# This is the first five of them\n",
    "\n",
    "myfilteredreviews[0:5]"
   ]
  },
  {
   "cell_type": "code",
   "execution_count": 39,
   "id": "3df270d0-786d-434d-b950-c8811efe3ab3",
   "metadata": {},
   "outputs": [],
   "source": [
    "# Now i want to join all of those together, into one very large string\n",
    "# I call it 'myhugestring' \n",
    "\n",
    "myhugestring = ' '.join(myfilteredreviews)"
   ]
  },
  {
   "cell_type": "code",
   "execution_count": 51,
   "id": "956681ad-b485-49ac-b1e3-14cbb70dafc8",
   "metadata": {},
   "outputs": [],
   "source": [
    "# Then i want to make a wordcloud\n",
    "\n",
    "wordcloud=WordCloud(width=800, height=800, background_color='pink', min_font_size=10).generate(myhugestring)"
   ]
  },
  {
   "cell_type": "code",
   "execution_count": 52,
   "id": "969bdddd-c6a6-499d-9dde-2635b41f02d0",
   "metadata": {},
   "outputs": [
    {
     "data": {
      "text/plain": [
       "<function matplotlib.pyplot.show(close=None, block=None)>"
      ]
     },
     "execution_count": 52,
     "metadata": {},
     "output_type": "execute_result"
    },
    {
     "data": {
      "image/png": "[encoded data removed]",
      "text/plain": [
       "<Figure size 576x576 with 1 Axes>"
      ]
     },
     "metadata": {
      "needs_background": "light"
     },
     "output_type": "display_data"
    }
   ],
   "source": [
    "# Then i display it\n",
    "\n",
    "plt.figure(figsize=(8,8))\n",
    "plt.imshow(wordcloud, interpolation='bilinear')\n",
    "plt.axis('off')\n",
    "plt.show"
   ]
  },
  {
   "cell_type": "code",
   "execution_count": 42,
   "id": "ec9c0f65-d52a-4b94-835d-4fe6a08c5199",
   "metadata": {},
   "outputs": [],
   "source": [
    "# since the word 'sugar' appears twice\n",
    "# Then to eliminate, i will \n",
    "\n",
    "from collections import Counter"
   ]
  },
  {
   "cell_type": "code",
   "execution_count": 43,
   "id": "4cdab338-5c5e-4517-a7e8-77abbb91f110",
   "metadata": {},
   "outputs": [],
   "source": [
    "# Then look for the top 20 words there\n",
    "\n",
    "mycounts=Counter(myhugestring.lower().split())"
   ]
  },
  {
   "cell_type": "code",
   "execution_count": 44,
   "id": "bc461dbd-acd8-4e7b-b2b5-2cf93dd80621",
   "metadata": {},
   "outputs": [
    {
     "data": {
      "text/plain": [
       "[('oil,', 106),\n",
       " ('milk,', 78),\n",
       " ('sugar,', 77),\n",
       " ('cocoa', 72),\n",
       " ('egg', 69),\n",
       " ('cream,', 62),\n",
       " ('sugar', 62),\n",
       " ('gum,', 61),\n",
       " ('salt,', 60),\n",
       " ('(sugar,', 58),\n",
       " ('guar', 58),\n",
       " ('skim', 57),\n",
       " ('liquid', 57),\n",
       " ('water),', 57),\n",
       " ('water,', 57),\n",
       " ('yolks,', 57),\n",
       " ('flour,', 52),\n",
       " ('soy', 51),\n",
       " ('natural', 49),\n",
       " ('vanilla', 48)]"
      ]
     },
     "execution_count": 44,
     "metadata": {},
     "output_type": "execute_result"
    }
   ],
   "source": [
    "mycounts.most_common(20)"
   ]
  },
  {
   "cell_type": "markdown",
   "id": "47c6229f-35f7-400c-8366-c442baa5cf47",
   "metadata": {},
   "source": [
    "Let’s create a word cloud with the ingredients in all of the Ben and Jerry icecream. Remove all the stop words. Afterwards, we want to focus on the words that appear most frequently."
   ]
  },
  {
   "cell_type": "markdown",
   "id": "da22f29c-d245-4d2b-9fc1-ca14cb6087d9",
   "metadata": {},
   "source": [
    "## Question 4"
   ]
  },
  {
   "cell_type": "code",
   "execution_count": 45,
   "id": "8cffc767-d1c8-4d64-b7dc-f0d2ee8a80d1",
   "metadata": {},
   "outputs": [],
   "source": [
    "# Load the image mask\n",
    "\n",
    "icecream_mask = np.array(Image.open('/anvil/projects/tdm/data/icecream/icecream.png'))"
   ]
  },
  {
   "cell_type": "code",
   "execution_count": null,
   "id": "c781304e-0f87-4685-8d94-bb8c2123deec",
   "metadata": {},
   "outputs": [],
   "source": [
    "# Extract the text to use for the word cloud\n",
    "# No need to run this because my text has been generated for me using 'myhugestring'\n",
    "\n",
    "### text = \" \".join(str(each) for each in df.columnname)"
   ]
  },
  {
   "cell_type": "code",
   "execution_count": 57,
   "id": "5b4b6492-f705-40c0-ae33-195ce1c1bb1e",
   "metadata": {},
   "outputs": [],
   "source": [
    "# Create a WordCloud object with the mask\n",
    "wordcloud = WordCloud(max_words=200, colormap='Set1', background_color=\"orange\", mask=icecream_mask).generate(myhugestring)\n"
   ]
  },
  {
   "cell_type": "code",
   "execution_count": 58,
   "id": "c4c9dbdc-aba5-47d1-9f2c-30044e519dac",
   "metadata": {},
   "outputs": [
    {
     "data": {
      "image/png": "[encoded data removed]",
      "text/plain": [
       "<Figure size 576x432 with 1 Axes>"
      ]
     },
     "metadata": {
      "needs_background": "light"
     },
     "output_type": "display_data"
    }
   ],
   "source": [
    "# Display the word cloud on top of the image\n",
    "fig, ax = plt.subplots(figsize=(8, 6))\n",
    "ax.imshow(wordcloud, interpolation=\"bilinear\")\n",
    "ax.axis('off')\n",
    "\n",
    "plt.show()"
   ]
  },
  {
   "cell_type": "markdown",
   "id": "0d552245-b4d6-474a-9cc9-fa7b8e674d55",
   "metadata": {},
   "source": [
    "Now for the best part, let’s create a custom shape. The WordCloud function has an argument called mask that enables it to take maskable images and use them as the outline the word cloud we created. In the dataset there is an image named icecream.png. This image meets the requirement of having a background that is completely white (the color code is #ffffff). Go ahead and create the word cloud! What do you see?"
   ]
  },
  {
   "cell_type": "markdown",
   "id": "88c9cdac-3e92-498f-83fa-e089bfc44ac8",
   "metadata": {},
   "source": [
    "## Question 5"
   ]
  },
  {
   "cell_type": "code",
   "execution_count": null,
   "id": "d370d7c9-06db-42b9-b75f-240481a5c491",
   "metadata": {},
   "outputs": [],
   "source": [
    "# code here"
   ]
  },
  {
   "cell_type": "markdown",
   "id": "9fbf00fb-2418-460f-ae94-2a32b0c28952",
   "metadata": {},
   "source": [
    "Markdown notes and sentences and analysis written here."
   ]
  },
  {
   "cell_type": "markdown",
   "id": "f76442d6-d02e-4f26-b9d6-c3183e1d6929",
   "metadata": {},
   "source": [
    "## Pledge\n",
    "\n",
    "By submitting this work I hereby pledge that this is my own, personal work. I've acknowledged in the designated place at the top of this file all sources that I used to complete said work, including but not limited to: online resources, books, and electronic communications. I've noted all collaboration with fellow students and/or TA's. I did not copy or plagiarize another's work.\n",
    "\n",
    "> As a Boilermaker pursuing academic excellence, I pledge to be honest and true in all that I do. Accountable together – We are Purdue."
   ]
  }
 ],
 "metadata": {
  "kernelspec": {
   "display_name": "f2022-s2023",
   "language": "python",
   "name": "f2022-s2023"
  },
  "language_info": {
   "codemirror_mode": {
    "name": "ipython",
    "version": 3
   },
   "file_extension": ".py",
   "mimetype": "text/x-python",
   "name": "python",
   "nbconvert_exporter": "python",
   "pygments_lexer": "ipython3",
   "version": "3.10.9"
  }
 },
 "nbformat": 4,
 "nbformat_minor": 5
}
