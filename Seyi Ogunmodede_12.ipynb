{
 "cells": [
  {
   "cell_type": "markdown",
   "id": "be02a957-7133-4d02-818e-fedeb3cecb05",
   "metadata": {},
   "source": [
    "# Project 12 -- SEYI ABRAHAM"
   ]
  },
  {
   "cell_type": "markdown",
   "id": "a1228853-dd19-4ab2-89e0-0394d7d72de3",
   "metadata": {},
   "source": [
    "**TA Help:** John Smith, Alice Jones\n",
    "\n",
    "- Help with figuring out how to write a function.\n",
    "    \n",
    "**Collaboration:** Friend1, Friend2\n",
    "    \n",
    "- Helped figuring out how to load the dataset.\n",
    "- Helped debug error with my plot."
   ]
  },
  {
   "cell_type": "markdown",
   "id": "6180e742-8e39-4698-98ff-5b00c8cf8ea0",
   "metadata": {},
   "source": [
    "## Question 1"
   ]
  },
  {
   "cell_type": "code",
   "execution_count": 1,
   "id": "49445606-d363-41b4-b479-e319a9a84c01",
   "metadata": {},
   "outputs": [],
   "source": [
    "# A class can be considered a outline made by the user for creating objects\n",
    "# An object is an instance of the class with actual values.\n",
    "\n",
    "# Objects consist of:\n",
    "\n",
    "# State: attributes/properties of an object\n",
    "\n",
    "# Behavior: the methods of the object and also its response to other objects\n",
    "\n",
    "# Identity: gives a unique name to the object and that allows for interaction between objects."
   ]
  },
  {
   "cell_type": "code",
   "execution_count": 2,
   "id": "8d559bbd-bbb0-44d0-9633-d0282a20bc38",
   "metadata": {},
   "outputs": [],
   "source": [
    "# How to declare an object from the class\n",
    "# We can't really do anything with that class, \n",
    "# we can't look up the attributes, run the functions or methods inside that class\n",
    "# unless we make an object of that class"
   ]
  },
  {
   "cell_type": "code",
   "execution_count": 1,
   "id": "de31c2ed-9fcb-4aa4-b9c9-0ff4d7bb5f9b",
   "metadata": {},
   "outputs": [],
   "source": [
    "class CAR:\n",
    "    #attibute\n",
    "    attr1 = \"red\"\n",
    "    attr2 = \"fast\"\n",
    "    coolfeature = \"Apple CarPlay\"\n",
    "    year = \"2022\"\n",
    "\n",
    "    #sample method\n",
    "    #self refers to the class of which the method belongs\n",
    "    def fun(self):\n",
    "        print(\"The car is\", self.attr1)\n",
    "        print(\"The car is\", self.attr2)"
   ]
  },
  {
   "cell_type": "code",
   "execution_count": 4,
   "id": "c0abceb0-b984-40f6-9da6-a83af9a3b74b",
   "metadata": {},
   "outputs": [],
   "source": [
    "# Let us make a specific object of the class car and call it Miata"
   ]
  },
  {
   "cell_type": "code",
   "execution_count": 2,
   "id": "7c2077c3-b006-4292-aa24-e4df334c401f",
   "metadata": {},
   "outputs": [],
   "source": [
    "# object instantiaton\n",
    "\n",
    "Miata = CAR()"
   ]
  },
  {
   "cell_type": "code",
   "execution_count": 3,
   "id": "679591ee-a6d0-444c-8c2a-93e55670e9e6",
   "metadata": {},
   "outputs": [
    {
     "name": "stdout",
     "output_type": "stream",
     "text": [
      "<__main__.CAR object at 0x7fc5941277f0>\n"
     ]
    }
   ],
   "source": [
    "# this display that Miata is an object of that class CAR\n",
    "\n",
    "print(Miata)"
   ]
  },
  {
   "cell_type": "code",
   "execution_count": 4,
   "id": "7ff34444-caaf-4920-8f2a-738772b983bf",
   "metadata": {},
   "outputs": [
    {
     "name": "stdout",
     "output_type": "stream",
     "text": [
      "The car is red\n",
      "The car is fast\n"
     ]
    }
   ],
   "source": [
    "# We can run the function side and see what it does\n",
    "# it print out what differnt attributes are\n",
    "\n",
    "Miata.fun()"
   ]
  },
  {
   "cell_type": "code",
   "execution_count": 5,
   "id": "0e83b717-98d9-4a45-8d06-36f7d7f781ef",
   "metadata": {},
   "outputs": [
    {
     "data": {
      "text/plain": [
       "'red'"
      ]
     },
     "execution_count": 5,
     "metadata": {},
     "output_type": "execute_result"
    }
   ],
   "source": [
    "Miata.attr1"
   ]
  },
  {
   "cell_type": "code",
   "execution_count": 6,
   "id": "fb5db04a-0395-4d98-8437-38c8452a4277",
   "metadata": {},
   "outputs": [
    {
     "data": {
      "text/plain": [
       "'fast'"
      ]
     },
     "execution_count": 6,
     "metadata": {},
     "output_type": "execute_result"
    }
   ],
   "source": [
    "Miata.attr2"
   ]
  },
  {
   "cell_type": "code",
   "execution_count": 7,
   "id": "7eefdfb5-469c-490b-9b04-80dcb396036d",
   "metadata": {},
   "outputs": [
    {
     "data": {
      "text/plain": [
       "'Apple CarPlay'"
      ]
     },
     "execution_count": 7,
     "metadata": {},
     "output_type": "execute_result"
    }
   ],
   "source": [
    "Miata.coolfeature"
   ]
  },
  {
   "cell_type": "code",
   "execution_count": 8,
   "id": "ecf9ed4a-d1f7-4fce-9bc3-9cd150447d87",
   "metadata": {},
   "outputs": [
    {
     "data": {
      "text/plain": [
       "'2022'"
      ]
     },
     "execution_count": 8,
     "metadata": {},
     "output_type": "execute_result"
    }
   ],
   "source": [
    "Miata.year"
   ]
  },
  {
   "cell_type": "code",
   "execution_count": 9,
   "id": "a9e0cf3d-3cef-4c04-9bca-ad81506becf5",
   "metadata": {},
   "outputs": [],
   "source": [
    "class KITCHEN:\n",
    "    # attribute\n",
    "    attr1=\"neat\"\n",
    "    attr2=\"lot of pantries\"\n",
    "    attr3=\"good illumination\"\n",
    "    available=\"cooking gas\"\n",
    "    year=\"2023\"\n",
    "    \n",
    "    def fun(self):\n",
    "        print(\"The kitchen is\",self.attr1)\n",
    "        print(\"The kitchen has\",self.attr2)\n",
    "        print(\"The kitchen has\",self.attr3)"
   ]
  },
  {
   "cell_type": "code",
   "execution_count": 10,
   "id": "9a22beca-4b0f-48a4-9fed-4be1348f5526",
   "metadata": {},
   "outputs": [],
   "source": [
    "COOK = KITCHEN()"
   ]
  },
  {
   "cell_type": "code",
   "execution_count": 11,
   "id": "4627c9ae-0400-472e-84a1-9aeeff0ed37b",
   "metadata": {},
   "outputs": [
    {
     "name": "stdout",
     "output_type": "stream",
     "text": [
      "<__main__.KITCHEN object at 0x7fc59413b910>\n"
     ]
    }
   ],
   "source": [
    "print(COOK)"
   ]
  },
  {
   "cell_type": "code",
   "execution_count": 12,
   "id": "e6934c17-ab40-4bc7-ac9b-2508fd10fa6f",
   "metadata": {},
   "outputs": [
    {
     "name": "stdout",
     "output_type": "stream",
     "text": [
      "The kitchen is neat\n",
      "The kitchen has lot of pantries\n",
      "The kitchen has good illumination\n"
     ]
    }
   ],
   "source": [
    "COOK.fun()"
   ]
  },
  {
   "cell_type": "code",
   "execution_count": 13,
   "id": "76cfe2f9-4b77-41cd-b82f-6f75bc818268",
   "metadata": {},
   "outputs": [
    {
     "data": {
      "text/plain": [
       "'neat'"
      ]
     },
     "execution_count": 13,
     "metadata": {},
     "output_type": "execute_result"
    }
   ],
   "source": [
    "COOK.attr1"
   ]
  },
  {
   "cell_type": "code",
   "execution_count": 14,
   "id": "05f1ac57-450d-4a6f-b082-73f20cf51e9f",
   "metadata": {},
   "outputs": [
    {
     "data": {
      "text/plain": [
       "'lot of pantries'"
      ]
     },
     "execution_count": 14,
     "metadata": {},
     "output_type": "execute_result"
    }
   ],
   "source": [
    "COOK.attr2"
   ]
  },
  {
   "cell_type": "code",
   "execution_count": 15,
   "id": "81ec7388-6124-4ebf-8d40-687b6dc348f0",
   "metadata": {},
   "outputs": [
    {
     "data": {
      "text/plain": [
       "'good illumination'"
      ]
     },
     "execution_count": 15,
     "metadata": {},
     "output_type": "execute_result"
    }
   ],
   "source": [
    "COOK.attr3"
   ]
  },
  {
   "cell_type": "code",
   "execution_count": 16,
   "id": "f0c3d993-6c93-4c16-9128-bc6588f4fe8e",
   "metadata": {},
   "outputs": [
    {
     "data": {
      "text/plain": [
       "'cooking gas'"
      ]
     },
     "execution_count": 16,
     "metadata": {},
     "output_type": "execute_result"
    }
   ],
   "source": [
    "COOK.available"
   ]
  },
  {
   "cell_type": "code",
   "execution_count": 17,
   "id": "d28c7a7a-c813-488d-a802-18c1c2c48fab",
   "metadata": {},
   "outputs": [
    {
     "data": {
      "text/plain": [
       "'2023'"
      ]
     },
     "execution_count": 17,
     "metadata": {},
     "output_type": "execute_result"
    }
   ],
   "source": [
    "COOK.year"
   ]
  },
  {
   "cell_type": "markdown",
   "id": "b456e57c-4a12-464b-999a-ef2df5af80c1",
   "metadata": {},
   "source": [
    "What happens when you type: print(Miata)\n",
    "\n",
    "What happens when you type: Miata.fun()\n",
    "\n",
    "Now create and declare your own object. We encourage you to make a class of your own and try it out, e.g., make a class for a BOOK or a KITCHEN or a UNIVERSITY or a DOG."
   ]
  },
  {
   "cell_type": "markdown",
   "id": "fc601975-35ed-4680-a4e1-0273ee3cc047",
   "metadata": {},
   "source": [
    "## Question 2"
   ]
  },
  {
   "cell_type": "code",
   "execution_count": 21,
   "id": "a16336a1-1ef0-41e8-bc7c-49387db27497",
   "metadata": {},
   "outputs": [],
   "source": [
    "# Python function inside a class is called a method"
   ]
  },
  {
   "cell_type": "code",
   "execution_count": 18,
   "id": "6d95b594-f735-4cb4-99df-26b4daf1747c",
   "metadata": {},
   "outputs": [],
   "source": [
    "class Card:\n",
    "#mapping each possible card number(2-10,J,Q,K,A) to a numerical value\n",
    "    _value_dict = {\"2\": 2, \"3\": 3, \"4\": 4, \"5\": 5, \"6\": 6, \"7\": 7, \"8\":8, \"9\":9, \"10\": 10, \"j\": 11, \"q\": 12, \"k\": 13, \"a\": 14}\n",
    "    def __init__(self, number, suit):\n",
    "        if str(number).lower() not in [str(num) for num in range(2, 11)] + list(\"jqka\"):\n",
    "            raise Exception(\"Number wasn't 2-10 or J, Q, K, or A.\")\n",
    "        else:\n",
    "            self.number = str(number).lower()\n",
    "        if suit.lower() not in [\"clubs\", \"hearts\", \"diamonds\", \"spades\"]:\n",
    "            raise Exception(\"Suit wasn't one of: clubs, hearts, spades, or diamonds.\")\n",
    "        else:\n",
    "            self.suit = suit.lower()\n",
    "\n",
    "    def __str__(self):\n",
    "        return(f'{self.number} of {self.suit.lower()}')\n",
    "\n",
    "    def __repr__(self):\n",
    "        return(f'Card(str({self.number}), \"{self.suit}\")')\n",
    "\n",
    "    def __eq__(self, other):\n",
    "        if self.number == other.number:\n",
    "            return True\n",
    "        else:\n",
    "            return False\n",
    "\n",
    "    def __lt__(self, other):\n",
    "        if self._value_dict[self.number] < self._value_dict[other.number]:\n",
    "            return True\n",
    "        else:\n",
    "            return False\n",
    "\n",
    "    def __gt__(self, other):\n",
    "        if self._value_dict[self.number] > self._value_dict[other.number]:\n",
    "            return True\n",
    "        else:\n",
    "            return False\n",
    "\n",
    "    def __hash__(self):\n",
    "        return hash(self.number)"
   ]
  },
  {
   "cell_type": "code",
   "execution_count": 19,
   "id": "8608fe58-092d-4175-8998-2b0b45286340",
   "metadata": {},
   "outputs": [],
   "source": [
    "class Deck:\n",
    "    brand = \"Bicycle\"\n",
    "    _suits = [\"clubs\", \"hearts\", \"diamonds\", \"spades\"]\n",
    "    _numbers = [str(num) for num in range(2, 11)] + list(\"jqka\")\n",
    "\n",
    "    def __init__(self):\n",
    "        self.cards = [Card(number, suit) for suit in self._suits for number in self._numbers]\n",
    "\n",
    "    def __len__(self):\n",
    "        return len(self.cards)\n",
    "\n",
    "    def __getitem__(self, key):\n",
    "        return self.cards[key]\n",
    "\n",
    "    def __setitem__(self, key, value):\n",
    "        self.cards[key] = value\n"
   ]
  },
  {
   "cell_type": "code",
   "execution_count": 20,
   "id": "3a61a340-20d2-400e-b3bf-a7ae6ac4b5ee",
   "metadata": {},
   "outputs": [],
   "source": [
    "my_card = Card(\"10\", \"spades\")"
   ]
  },
  {
   "cell_type": "code",
   "execution_count": 21,
   "id": "466276ca-5c24-4834-b618-69629a3259a1",
   "metadata": {},
   "outputs": [
    {
     "data": {
      "text/plain": [
       "Card(str(10), \"spades\")"
      ]
     },
     "execution_count": 21,
     "metadata": {},
     "output_type": "execute_result"
    }
   ],
   "source": [
    "# It displays a card with a string 10 and then a spades when object is printed by itself\n",
    "\n",
    "my_card"
   ]
  },
  {
   "cell_type": "code",
   "execution_count": 22,
   "id": "4928f4f3-2c4c-4426-b69e-186e31840597",
   "metadata": {},
   "outputs": [
    {
     "name": "stdout",
     "output_type": "stream",
     "text": [
      "10 of spades\n"
     ]
    }
   ],
   "source": [
    "# This code just give the output as 10 of spades \n",
    "\n",
    "print(my_card)"
   ]
  },
  {
   "cell_type": "code",
   "execution_count": 23,
   "id": "3b375a4d-a467-465e-b6dc-f59e1f51288e",
   "metadata": {},
   "outputs": [],
   "source": [
    "my_deck = Deck()"
   ]
  },
  {
   "cell_type": "code",
   "execution_count": 24,
   "id": "05da0d16-8f63-4a4b-b399-f0c16af17142",
   "metadata": {},
   "outputs": [
    {
     "data": {
      "text/plain": [
       "52"
      ]
     },
     "execution_count": 24,
     "metadata": {},
     "output_type": "execute_result"
    }
   ],
   "source": [
    "len(my_deck)"
   ]
  },
  {
   "cell_type": "markdown",
   "id": "14dc22d4-ddc3-41cc-a91a-cb0025bc0c80",
   "metadata": {},
   "source": [
    "Create an instance of the class Card and call it my_card. Then run: print(my_card) and also run: my_card\n",
    "\n",
    "What is the difference in the output?\n",
    "\n",
    "Create an instance of the class Deck and call it my_deck. Now what is the number of items you will find in the object my_deck"
   ]
  },
  {
   "cell_type": "markdown",
   "id": "8e586edd-ff26-4ce2-8f6b-2424b26f2929",
   "metadata": {},
   "source": [
    "## Question 3"
   ]
  },
  {
   "cell_type": "code",
   "execution_count": 25,
   "id": "bbe0f40d-9655-4653-9ca8-886bdb61cb91",
   "metadata": {},
   "outputs": [],
   "source": [
    "class Deck:\n",
    "    brand = \"Bicycle\"\n",
    "    _suits = [\"clubs\", \"hearts\", \"diamonds\", \"spades\"]\n",
    "    _numbers = [str(num) for num in range(2, 11)] + list(\"jqka\")\n",
    "\n",
    "    def __init__(self):\n",
    "        self.cards = [Card(number, suit) for suit in self._suits for number in self._numbers]\n",
    "        \n",
    "    def __str__(self):\n",
    "        return(f' A {self.brand} deck with {len(self)} card.')\n",
    "\n",
    "\n",
    "    def __len__(self):\n",
    "        return len(self.cards)\n",
    "\n",
    "    def __getitem__(self, key):\n",
    "        return self.cards[key]\n",
    "\n",
    "    def __setitem__(self, key, value):\n",
    "        self.cards[key] = value\n"
   ]
  },
  {
   "cell_type": "code",
   "execution_count": 26,
   "id": "8e7494cd-16a2-4798-a027-e5e48518d34b",
   "metadata": {},
   "outputs": [],
   "source": [
    "my_deck1 = Deck()"
   ]
  },
  {
   "cell_type": "code",
   "execution_count": 27,
   "id": "ad38291d-551e-4ff2-ac7c-f087db0f0441",
   "metadata": {},
   "outputs": [
    {
     "name": "stdout",
     "output_type": "stream",
     "text": [
      " A Bicycle deck with 52 card.\n"
     ]
    }
   ],
   "source": [
    "print(my_deck1)"
   ]
  },
  {
   "cell_type": "markdown",
   "id": "47c6229f-35f7-400c-8366-c442baa5cf47",
   "metadata": {},
   "source": [
    "Modify the Class Deck to return a string that says \"a bicycle deck with 52 cards\"."
   ]
  },
  {
   "cell_type": "markdown",
   "id": "da22f29c-d245-4d2b-9fc1-ca14cb6087d9",
   "metadata": {},
   "source": [
    "## Question 4"
   ]
  },
  {
   "cell_type": "code",
   "execution_count": 32,
   "id": "8cffc767-d1c8-4d64-b7dc-f0d2ee8a80d1",
   "metadata": {},
   "outputs": [],
   "source": [
    "# we want to make a Player class and then make an object of \n",
    "# type player that can start drawing some cards out of a deck.\n",
    "# so our class called player needs to have something like:\n",
    "# A deck to draw the card from\n",
    "# A hand of card of its own\n",
    "# A name for the player\n",
    "# A method by which it can draw some cards from the deck "
   ]
  },
  {
   "cell_type": "code",
   "execution_count": 33,
   "id": "578e94a5-4a7c-4ab1-a126-7d707d02a154",
   "metadata": {},
   "outputs": [],
   "source": [
    "# The class will be called a player\n",
    "# We will initiallize a player\n",
    "# We want it name to be whatever we pass in\n",
    "# And we want to have a hand that start out empty\n",
    "# And we want to have a deck that is whatever deck we passed in as well\n",
    "# Also we need to have a method by which we can draw some cards\n",
    "# So all i need to do is tell it which player we are using to draw the cards\n",
    "# Then we go off of that players' deck and get the last card\n",
    "# -1 means getting the very last card\n",
    "# Then off of that deck, we will pop a card\n",
    "# Because we have stored the last one, then we will pop it off, so that it is not on the deck anymore\n",
    "# Then append the card to our hand\n",
    "# Then we will return that card"
   ]
  },
  {
   "cell_type": "code",
   "execution_count": 28,
   "id": "71bb89a0-64fc-4513-a04c-a354e0003ab2",
   "metadata": {},
   "outputs": [],
   "source": [
    "class Player:\n",
    "   \n",
    "    def __init__(self, name, deck):\n",
    "        self.name = name\n",
    "        self.hand = []\n",
    "        self.deck = deck\n",
    "        \n",
    "    def draw(self):\n",
    "        card = self.deck.cards[-1]\n",
    "        self.deck.cards.pop()\n",
    "        self.hand.append(card)\n",
    "        return card"
   ]
  },
  {
   "cell_type": "markdown",
   "id": "0d552245-b4d6-474a-9cc9-fa7b8e674d55",
   "metadata": {},
   "source": [
    "Let’s create a new class called Player We will use this to represent a player in a game. The following features must be included:\n",
    "\n",
    "A deck to draw from\n",
    "\n",
    "A hand of cards\n",
    "\n",
    "The name of the player\n",
    "\n",
    "A draw method that draws a card from the deck and adds it to the hand."
   ]
  },
  {
   "cell_type": "markdown",
   "id": "88c9cdac-3e92-498f-83fa-e089bfc44ac8",
   "metadata": {},
   "source": [
    "## Question 5"
   ]
  },
  {
   "cell_type": "code",
   "execution_count": 29,
   "id": "d370d7c9-06db-42b9-b75f-240481a5c491",
   "metadata": {},
   "outputs": [],
   "source": [
    "my_deck1 = Deck()"
   ]
  },
  {
   "cell_type": "code",
   "execution_count": 30,
   "id": "5f0f109d-7871-499d-8aba-fc4ed098d210",
   "metadata": {},
   "outputs": [
    {
     "data": {
      "text/plain": [
       "52"
      ]
     },
     "execution_count": 30,
     "metadata": {},
     "output_type": "execute_result"
    }
   ],
   "source": [
    "len(my_deck1)"
   ]
  },
  {
   "cell_type": "code",
   "execution_count": 31,
   "id": "1a34a602-b201-4c07-ab88-117fe049bace",
   "metadata": {},
   "outputs": [],
   "source": [
    "player1 = Player(\"Liz\", my_deck1)"
   ]
  },
  {
   "cell_type": "code",
   "execution_count": 32,
   "id": "6e2dc7e3-e540-4a2d-8c34-f68fcf0663e4",
   "metadata": {},
   "outputs": [],
   "source": [
    "card = player1.draw()"
   ]
  },
  {
   "cell_type": "code",
   "execution_count": 33,
   "id": "4173f2ae-9a90-4279-bb0c-e2d6491580b4",
   "metadata": {},
   "outputs": [
    {
     "name": "stdout",
     "output_type": "stream",
     "text": [
      "a of spades\n"
     ]
    }
   ],
   "source": [
    "print(card)"
   ]
  },
  {
   "cell_type": "code",
   "execution_count": 34,
   "id": "2041382c-821f-44ff-af33-93606fbcbe0c",
   "metadata": {},
   "outputs": [
    {
     "data": {
      "text/plain": [
       "51"
      ]
     },
     "execution_count": 34,
     "metadata": {},
     "output_type": "execute_result"
    }
   ],
   "source": [
    "# a card has been taken off\n",
    "\n",
    "len(my_deck1)"
   ]
  },
  {
   "cell_type": "code",
   "execution_count": 35,
   "id": "ec6d40f0-7901-4c06-ad52-12919ac4f2a5",
   "metadata": {},
   "outputs": [],
   "source": [
    "anothercard=player1.draw()"
   ]
  },
  {
   "cell_type": "code",
   "execution_count": 36,
   "id": "cdf404a0-41c2-41bd-b09d-ae1d76998a1e",
   "metadata": {},
   "outputs": [
    {
     "name": "stdout",
     "output_type": "stream",
     "text": [
      "a of spades\n"
     ]
    }
   ],
   "source": [
    "print(card)"
   ]
  },
  {
   "cell_type": "code",
   "execution_count": 37,
   "id": "f68f5589-4bee-4d5d-8354-bd340cce2ec1",
   "metadata": {},
   "outputs": [
    {
     "data": {
      "text/plain": [
       "50"
      ]
     },
     "execution_count": 37,
     "metadata": {},
     "output_type": "execute_result"
    }
   ],
   "source": [
    "len(my_deck1)"
   ]
  },
  {
   "cell_type": "code",
   "execution_count": 38,
   "id": "ffc0cad4-f84a-4266-893a-b42fb62fb774",
   "metadata": {},
   "outputs": [],
   "source": [
    "anothercard1=player1.draw()"
   ]
  },
  {
   "cell_type": "code",
   "execution_count": 39,
   "id": "e74fd807-7772-4af3-9189-2b4e1c293322",
   "metadata": {},
   "outputs": [
    {
     "name": "stdout",
     "output_type": "stream",
     "text": [
      "a of spades\n"
     ]
    }
   ],
   "source": [
    "print(card)"
   ]
  },
  {
   "cell_type": "code",
   "execution_count": 40,
   "id": "3fdd1427-6249-42ff-b1e3-462215d8529a",
   "metadata": {},
   "outputs": [
    {
     "data": {
      "text/plain": [
       "49"
      ]
     },
     "execution_count": 40,
     "metadata": {},
     "output_type": "execute_result"
    }
   ],
   "source": [
    "len(my_deck1)"
   ]
  },
  {
   "cell_type": "code",
   "execution_count": null,
   "id": "a4064a71-007a-492a-a842-084062a503fe",
   "metadata": {},
   "outputs": [],
   "source": [
    "# and we have not shuffle our deck \n",
    "# if Liz keep going there will be reduction in the number"
   ]
  },
  {
   "cell_type": "markdown",
   "id": "9fbf00fb-2418-460f-ae94-2a32b0c28952",
   "metadata": {},
   "source": [
    "What card does Liz draw? Create a Deck and a Player, and draw a card from the deck. Print the value on the card that is drawn."
   ]
  },
  {
   "cell_type": "markdown",
   "id": "f76442d6-d02e-4f26-b9d6-c3183e1d6929",
   "metadata": {},
   "source": [
    "## Pledge\n",
    "\n",
    "By submitting this work I hereby pledge that this is my own, personal work. I've acknowledged in the designated place at the top of this file all sources that I used to complete said work, including but not limited to: online resources, books, and electronic communications. I've noted all collaboration with fellow students and/or TA's. I did not copy or plagiarize another's work.\n",
    "\n",
    "> As a Boilermaker pursuing academic excellence, I pledge to be honest and true in all that I do. Accountable together – We are Purdue."
   ]
  }
 ],
 "metadata": {
  "kernelspec": {
   "display_name": "Python 3.8 (Anaconda 2021.05)",
   "language": "python",
   "name": "anaconda-2021.05-py38"
  },
  "language_info": {
   "codemirror_mode": {
    "name": "ipython",
    "version": 3
   },
   "file_extension": ".py",
   "mimetype": "text/x-python",
   "name": "python",
   "nbconvert_exporter": "python",
   "pygments_lexer": "ipython3",
   "version": "3.8.8"
  }
 },
 "nbformat": 4,
 "nbformat_minor": 5
}
