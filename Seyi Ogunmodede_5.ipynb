{
 "cells": [
  {
   "cell_type": "markdown",
   "id": "be02a957-7133-4d02-818e-fedeb3cecb05",
   "metadata": {},
   "source": [
    "# Project 5 -- SEYI OGUNMODEDE"
   ]
  },
  {
   "cell_type": "markdown",
   "id": "a1228853-dd19-4ab2-89e0-0394d7d72de3",
   "metadata": {},
   "source": [
    "**TA Help:** Lucas and Jeong Ik Su\n",
    "\n",
    "- Help with figuring out how to write a function."
   ]
  },
  {
   "cell_type": "markdown",
   "id": "6180e742-8e39-4698-98ff-5b00c8cf8ea0",
   "metadata": {},
   "source": [
    "## Question 1"
   ]
  },
  {
   "cell_type": "code",
   "execution_count": 1,
   "id": "49445606-d363-41b4-b479-e319a9a84c01",
   "metadata": {},
   "outputs": [],
   "source": [
    "import pandas as pd"
   ]
  },
  {
   "cell_type": "code",
   "execution_count": 2,
   "id": "0c1732c4-225c-437f-930c-7350f3b6cb55",
   "metadata": {},
   "outputs": [],
   "source": [
    "cars = pd.read_csv(\"/anvil/projects/tdm/data/craigslist/vehicles.csv\")"
   ]
  },
  {
   "cell_type": "code",
   "execution_count": 3,
   "id": "7e2f83f9-06d6-4d7f-aaed-ee21aaf38e8c",
   "metadata": {},
   "outputs": [
    {
     "data": {
      "text/plain": [
       "(435849, 25)"
      ]
     },
     "execution_count": 3,
     "metadata": {},
     "output_type": "execute_result"
    }
   ],
   "source": [
    "cars.shape"
   ]
  },
  {
   "cell_type": "code",
   "execution_count": 4,
   "id": "dc8fd941-cd1d-4dd4-a36c-a8017904c60d",
   "metadata": {},
   "outputs": [],
   "source": [
    "pd.options.display.max_columns = None"
   ]
  },
  {
   "cell_type": "code",
   "execution_count": 5,
   "id": "047032d1-076b-4fb1-a8d5-8227db5d941f",
   "metadata": {},
   "outputs": [
    {
     "data": {
      "text/html": [
       "<div>\n",
       "<style scoped>\n",
       "    .dataframe tbody tr th:only-of-type {\n",
       "        vertical-align: middle;\n",
       "    }\n",
       "\n",
       "    .dataframe tbody tr th {\n",
       "        vertical-align: top;\n",
       "    }\n",
       "\n",
       "    .dataframe thead th {\n",
       "        text-align: right;\n",
       "    }\n",
       "</style>\n",
       "<table border=\"1\" class=\"dataframe\">\n",
       "  <thead>\n",
       "    <tr style=\"text-align: right;\">\n",
       "      <th></th>\n",
       "      <th>id</th>\n",
       "      <th>url</th>\n",
       "      <th>region</th>\n",
       "      <th>region_url</th>\n",
       "      <th>price</th>\n",
       "      <th>year</th>\n",
       "      <th>manufacturer</th>\n",
       "      <th>model</th>\n",
       "      <th>condition</th>\n",
       "      <th>cylinders</th>\n",
       "      <th>fuel</th>\n",
       "      <th>odometer</th>\n",
       "      <th>title_status</th>\n",
       "      <th>transmission</th>\n",
       "      <th>vin</th>\n",
       "      <th>drive</th>\n",
       "      <th>size</th>\n",
       "      <th>type</th>\n",
       "      <th>paint_color</th>\n",
       "      <th>image_url</th>\n",
       "      <th>description</th>\n",
       "      <th>county</th>\n",
       "      <th>state</th>\n",
       "      <th>lat</th>\n",
       "      <th>long</th>\n",
       "    </tr>\n",
       "  </thead>\n",
       "  <tbody>\n",
       "    <tr>\n",
       "      <th>0</th>\n",
       "      <td>7119256118</td>\n",
       "      <td>https://mohave.craigslist.org/ctd/d/lake-havas...</td>\n",
       "      <td>mohave county</td>\n",
       "      <td>https://mohave.craigslist.org</td>\n",
       "      <td>3495</td>\n",
       "      <td>2012.0</td>\n",
       "      <td>jeep</td>\n",
       "      <td>patriot</td>\n",
       "      <td>like new</td>\n",
       "      <td>4 cylinders</td>\n",
       "      <td>gas</td>\n",
       "      <td>NaN</td>\n",
       "      <td>clean</td>\n",
       "      <td>automatic</td>\n",
       "      <td>NaN</td>\n",
       "      <td>NaN</td>\n",
       "      <td>NaN</td>\n",
       "      <td>NaN</td>\n",
       "      <td>silver</td>\n",
       "      <td>https://images.craigslist.org/00B0B_k2AXIJ21ok...</td>\n",
       "      <td>THIS 2012 JEEP PATRIOT IS A 4CYL. AC, STEREO, ...</td>\n",
       "      <td>NaN</td>\n",
       "      <td>az</td>\n",
       "      <td>34.4554</td>\n",
       "      <td>-114.2690</td>\n",
       "    </tr>\n",
       "    <tr>\n",
       "      <th>1</th>\n",
       "      <td>7120880186</td>\n",
       "      <td>https://oregoncoast.craigslist.org/cto/d/warre...</td>\n",
       "      <td>oregon coast</td>\n",
       "      <td>https://oregoncoast.craigslist.org</td>\n",
       "      <td>13750</td>\n",
       "      <td>2014.0</td>\n",
       "      <td>bmw</td>\n",
       "      <td>328i m-sport</td>\n",
       "      <td>good</td>\n",
       "      <td>NaN</td>\n",
       "      <td>gas</td>\n",
       "      <td>76237.0</td>\n",
       "      <td>clean</td>\n",
       "      <td>automatic</td>\n",
       "      <td>NaN</td>\n",
       "      <td>rwd</td>\n",
       "      <td>NaN</td>\n",
       "      <td>sedan</td>\n",
       "      <td>grey</td>\n",
       "      <td>https://images.craigslist.org/00U0U_3cLk0WGOJ8...</td>\n",
       "      <td>Selling my 2014 BMW 328i with the following be...</td>\n",
       "      <td>NaN</td>\n",
       "      <td>or</td>\n",
       "      <td>46.1837</td>\n",
       "      <td>-123.8240</td>\n",
       "    </tr>\n",
       "    <tr>\n",
       "      <th>2</th>\n",
       "      <td>7115048251</td>\n",
       "      <td>https://greenville.craigslist.org/cto/d/sparta...</td>\n",
       "      <td>greenville / upstate</td>\n",
       "      <td>https://greenville.craigslist.org</td>\n",
       "      <td>2300</td>\n",
       "      <td>2001.0</td>\n",
       "      <td>dodge</td>\n",
       "      <td>caravan</td>\n",
       "      <td>excellent</td>\n",
       "      <td>6 cylinders</td>\n",
       "      <td>gas</td>\n",
       "      <td>199000.0</td>\n",
       "      <td>clean</td>\n",
       "      <td>automatic</td>\n",
       "      <td>NaN</td>\n",
       "      <td>NaN</td>\n",
       "      <td>NaN</td>\n",
       "      <td>NaN</td>\n",
       "      <td>NaN</td>\n",
       "      <td>https://images.craigslist.org/00k0k_t4WqYn5nDC...</td>\n",
       "      <td>01 DODGE CARAVAN,3.3 ENGINE,AUT TRANS,199000 M...</td>\n",
       "      <td>NaN</td>\n",
       "      <td>sc</td>\n",
       "      <td>34.9352</td>\n",
       "      <td>-81.9654</td>\n",
       "    </tr>\n",
       "    <tr>\n",
       "      <th>3</th>\n",
       "      <td>7119250502</td>\n",
       "      <td>https://mohave.craigslist.org/cto/d/lake-havas...</td>\n",
       "      <td>mohave county</td>\n",
       "      <td>https://mohave.craigslist.org</td>\n",
       "      <td>9000</td>\n",
       "      <td>2004.0</td>\n",
       "      <td>chevrolet</td>\n",
       "      <td>colorado ls</td>\n",
       "      <td>excellent</td>\n",
       "      <td>5 cylinders</td>\n",
       "      <td>gas</td>\n",
       "      <td>54000.0</td>\n",
       "      <td>clean</td>\n",
       "      <td>automatic</td>\n",
       "      <td>1GCCS196448191644</td>\n",
       "      <td>rwd</td>\n",
       "      <td>mid-size</td>\n",
       "      <td>pickup</td>\n",
       "      <td>red</td>\n",
       "      <td>https://images.craigslist.org/00J0J_lJEzfeVLHI...</td>\n",
       "      <td>2004 Chevy Colorado LS, ONLY 54000 ORIGINAL MI...</td>\n",
       "      <td>NaN</td>\n",
       "      <td>az</td>\n",
       "      <td>34.4783</td>\n",
       "      <td>-114.2710</td>\n",
       "    </tr>\n",
       "    <tr>\n",
       "      <th>4</th>\n",
       "      <td>7120433904</td>\n",
       "      <td>https://maine.craigslist.org/ctd/d/searsport-t...</td>\n",
       "      <td>maine</td>\n",
       "      <td>https://maine.craigslist.org</td>\n",
       "      <td>0</td>\n",
       "      <td>2021.0</td>\n",
       "      <td>NaN</td>\n",
       "      <td>Honda-Nissan-Kia-Ford-Hyundai-VW</td>\n",
       "      <td>NaN</td>\n",
       "      <td>NaN</td>\n",
       "      <td>other</td>\n",
       "      <td>NaN</td>\n",
       "      <td>clean</td>\n",
       "      <td>other</td>\n",
       "      <td>NaN</td>\n",
       "      <td>NaN</td>\n",
       "      <td>NaN</td>\n",
       "      <td>NaN</td>\n",
       "      <td>NaN</td>\n",
       "      <td>https://images.craigslist.org/01010_j0IW34mCsm...</td>\n",
       "      <td>CALL: 207.548.6500 TEXT: 207.407.5598  **WE FI...</td>\n",
       "      <td>NaN</td>\n",
       "      <td>me</td>\n",
       "      <td>44.4699</td>\n",
       "      <td>-68.8963</td>\n",
       "    </tr>\n",
       "  </tbody>\n",
       "</table>\n",
       "</div>"
      ],
      "text/plain": [
       "           id                                                url  \\\n",
       "0  7119256118  https://mohave.craigslist.org/ctd/d/lake-havas...   \n",
       "1  7120880186  https://oregoncoast.craigslist.org/cto/d/warre...   \n",
       "2  7115048251  https://greenville.craigslist.org/cto/d/sparta...   \n",
       "3  7119250502  https://mohave.craigslist.org/cto/d/lake-havas...   \n",
       "4  7120433904  https://maine.craigslist.org/ctd/d/searsport-t...   \n",
       "\n",
       "                 region                          region_url  price    year  \\\n",
       "0         mohave county       https://mohave.craigslist.org   3495  2012.0   \n",
       "1          oregon coast  https://oregoncoast.craigslist.org  13750  2014.0   \n",
       "2  greenville / upstate   https://greenville.craigslist.org   2300  2001.0   \n",
       "3         mohave county       https://mohave.craigslist.org   9000  2004.0   \n",
       "4                 maine        https://maine.craigslist.org      0  2021.0   \n",
       "\n",
       "  manufacturer                             model  condition    cylinders  \\\n",
       "0         jeep                           patriot   like new  4 cylinders   \n",
       "1          bmw                      328i m-sport       good          NaN   \n",
       "2        dodge                           caravan  excellent  6 cylinders   \n",
       "3    chevrolet                       colorado ls  excellent  5 cylinders   \n",
       "4          NaN  Honda-Nissan-Kia-Ford-Hyundai-VW        NaN          NaN   \n",
       "\n",
       "    fuel  odometer title_status transmission                vin drive  \\\n",
       "0    gas       NaN        clean    automatic                NaN   NaN   \n",
       "1    gas   76237.0        clean    automatic                NaN   rwd   \n",
       "2    gas  199000.0        clean    automatic                NaN   NaN   \n",
       "3    gas   54000.0        clean    automatic  1GCCS196448191644   rwd   \n",
       "4  other       NaN        clean        other                NaN   NaN   \n",
       "\n",
       "       size    type paint_color  \\\n",
       "0       NaN     NaN      silver   \n",
       "1       NaN   sedan        grey   \n",
       "2       NaN     NaN         NaN   \n",
       "3  mid-size  pickup         red   \n",
       "4       NaN     NaN         NaN   \n",
       "\n",
       "                                           image_url  \\\n",
       "0  https://images.craigslist.org/00B0B_k2AXIJ21ok...   \n",
       "1  https://images.craigslist.org/00U0U_3cLk0WGOJ8...   \n",
       "2  https://images.craigslist.org/00k0k_t4WqYn5nDC...   \n",
       "3  https://images.craigslist.org/00J0J_lJEzfeVLHI...   \n",
       "4  https://images.craigslist.org/01010_j0IW34mCsm...   \n",
       "\n",
       "                                         description  county state      lat  \\\n",
       "0  THIS 2012 JEEP PATRIOT IS A 4CYL. AC, STEREO, ...     NaN    az  34.4554   \n",
       "1  Selling my 2014 BMW 328i with the following be...     NaN    or  46.1837   \n",
       "2  01 DODGE CARAVAN,3.3 ENGINE,AUT TRANS,199000 M...     NaN    sc  34.9352   \n",
       "3  2004 Chevy Colorado LS, ONLY 54000 ORIGINAL MI...     NaN    az  34.4783   \n",
       "4  CALL: 207.548.6500 TEXT: 207.407.5598  **WE FI...     NaN    me  44.4699   \n",
       "\n",
       "       long  \n",
       "0 -114.2690  \n",
       "1 -123.8240  \n",
       "2  -81.9654  \n",
       "3 -114.2710  \n",
       "4  -68.8963  "
      ]
     },
     "execution_count": 5,
     "metadata": {},
     "output_type": "execute_result"
    }
   ],
   "source": [
    "cars.head()"
   ]
  },
  {
   "cell_type": "code",
   "execution_count": 6,
   "id": "da8e51dd-a08d-42d2-bc60-32fbf0f91fd6",
   "metadata": {},
   "outputs": [],
   "source": [
    "mycarcount= 'craigslist/vehicles'"
   ]
  },
  {
   "cell_type": "code",
   "execution_count": 7,
   "id": "e66916ca-8411-486d-b096-9858ac8d8256",
   "metadata": {},
   "outputs": [],
   "source": [
    "myyear = 2016"
   ]
  },
  {
   "cell_type": "code",
   "execution_count": 8,
   "id": "89608bed-7615-49a6-8588-35461277a57e",
   "metadata": {},
   "outputs": [],
   "source": [
    "total_count = 0"
   ]
  },
  {
   "cell_type": "code",
   "execution_count": 9,
   "id": "a9ec96f2-3578-4d87-9f0e-4ff1de23cb5f",
   "metadata": {},
   "outputs": [],
   "source": [
    "for mydf in pd.read_csv(f'/anvil/projects/tdm/data/{mycarcount}.csv', chunksize=10000):\n",
    "    for index, row in mydf.iterrows ():\n",
    "        if row ['year'] == myyear:\n",
    "            total_count +=1\n",
    "            "
   ]
  },
  {
   "cell_type": "code",
   "execution_count": 10,
   "id": "14c4e694-0cdc-4f36-a15a-22654a7da91f",
   "metadata": {},
   "outputs": [
    {
     "data": {
      "text/plain": [
       "32096"
      ]
     },
     "execution_count": 10,
     "metadata": {},
     "output_type": "execute_result"
    }
   ],
   "source": [
    "total_count"
   ]
  },
  {
   "cell_type": "code",
   "execution_count": 11,
   "id": "a9f44d8d-bfe5-4fe7-ae57-4b094557f668",
   "metadata": {},
   "outputs": [],
   "source": [
    "mycarcounts= 'vehicles'"
   ]
  },
  {
   "cell_type": "code",
   "execution_count": 12,
   "id": "1975a789-b75d-4c60-8aa3-377548bb7461",
   "metadata": {},
   "outputs": [],
   "source": [
    "myyears = 2016"
   ]
  },
  {
   "cell_type": "code",
   "execution_count": 13,
   "id": "b5613538-4978-4cb4-b3f9-11a05ea880ba",
   "metadata": {},
   "outputs": [],
   "source": [
    "total_count = 0"
   ]
  },
  {
   "cell_type": "code",
   "execution_count": 14,
   "id": "979c08d2-f52f-4a2f-b829-4db1384c9d9b",
   "metadata": {},
   "outputs": [],
   "source": [
    "for mydf in pd.read_csv(f'/anvil/projects/tdm/data/{mycarcount}.csv', chunksize=10000):\n",
    "    for index, row in mydf.iterrows ():\n",
    "        if row ['year'] == myyears:\n",
    "            total_count +=1"
   ]
  },
  {
   "cell_type": "code",
   "execution_count": 15,
   "id": "4fc45f40-aca2-4d64-98db-48923974dea4",
   "metadata": {},
   "outputs": [
    {
     "data": {
      "text/plain": [
       "32096"
      ]
     },
     "execution_count": 15,
     "metadata": {},
     "output_type": "execute_result"
    }
   ],
   "source": [
    "total_count"
   ]
  },
  {
   "cell_type": "code",
   "execution_count": 38,
   "id": "aeaad3a2-361d-47ca-afce-016d26f64354",
   "metadata": {},
   "outputs": [],
   "source": [
    "import pandas as pd"
   ]
  },
  {
   "cell_type": "code",
   "execution_count": 39,
   "id": "a3dcc3e7-956b-4e44-a5c9-5aa3ac96cfc5",
   "metadata": {},
   "outputs": [],
   "source": [
    "cars = pd.read_csv(\"/anvil/projects/tdm/data/craigslist/vehicles.csv\")"
   ]
  },
  {
   "cell_type": "code",
   "execution_count": 40,
   "id": "05425741-e983-498f-a796-9ce8f3498c64",
   "metadata": {},
   "outputs": [],
   "source": [
    "def mycarcount(cars, year):\n",
    "    \"\"\"\n",
    "    mycarcount is a function that accept cars and year as argument\n",
    "    and returns the number of cars that occur on year for cars.\n",
    "    \n",
    "    Args:\n",
    "    cars (df): The dataframe from which we are counting the number of cars.\n",
    "    year (int): The years on which we are counting the number of vehicles.\n",
    "    \n",
    "    Returns:\n",
    "        The numbers of cars on my dataframe during the year\n",
    "    \"\"\"\n",
    "    # you are telling the python to run a row at atime and compare the values within the row\n",
    "    \n",
    "    total_count = 0\n",
    "    for index, row in cars.iterrows ():\n",
    "        if row ['year'] ==year:\n",
    "            total_count +=1    \n",
    "    return total_count"
   ]
  },
  {
   "cell_type": "code",
   "execution_count": 19,
   "id": "4c8762eb-1fb2-4468-90dd-82f4c8d404c7",
   "metadata": {},
   "outputs": [
    {
     "data": {
      "text/plain": [
       "32096"
      ]
     },
     "execution_count": 19,
     "metadata": {},
     "output_type": "execute_result"
    }
   ],
   "source": [
    "mycarcount(cars, 2016)"
   ]
  },
  {
   "cell_type": "code",
   "execution_count": 41,
   "id": "1159f746-8a99-46ee-9740-71153572b3db",
   "metadata": {},
   "outputs": [
    {
     "data": {
      "text/plain": [
       "26532"
      ]
     },
     "execution_count": 41,
     "metadata": {},
     "output_type": "execute_result"
    }
   ],
   "source": [
    "mycarcount(cars, 2011)"
   ]
  },
  {
   "cell_type": "code",
   "execution_count": 42,
   "id": "fe3880bb-1d45-485a-8816-e259a75e717c",
   "metadata": {},
   "outputs": [
    {
     "data": {
      "text/plain": [
       "630"
      ]
     },
     "execution_count": 42,
     "metadata": {},
     "output_type": "execute_result"
    }
   ],
   "source": [
    "mycarcount(cars, 1989)"
   ]
  },
  {
   "cell_type": "code",
   "execution_count": 43,
   "id": "84443558-f7c3-4700-87cf-c6093649919c",
   "metadata": {},
   "outputs": [
    {
     "data": {
      "text/plain": [
       "2062"
      ]
     },
     "execution_count": 43,
     "metadata": {},
     "output_type": "execute_result"
    }
   ],
   "source": [
    "mycarcount(cars, 1997)"
   ]
  },
  {
   "cell_type": "code",
   "execution_count": 20,
   "id": "2adfd049-5a1d-40e5-ad77-4675afcb2e0e",
   "metadata": {},
   "outputs": [],
   "source": [
    "mycarcount= 'craigslist/vehicles'"
   ]
  },
  {
   "cell_type": "code",
   "execution_count": 21,
   "id": "c56c495d-cccb-4875-a89c-972bf1c88a5d",
   "metadata": {},
   "outputs": [],
   "source": [
    "myyear = 2011"
   ]
  },
  {
   "cell_type": "code",
   "execution_count": 22,
   "id": "3dd172dc-34e5-4b25-aa39-baa51f805fe1",
   "metadata": {},
   "outputs": [],
   "source": [
    "total_count = 0"
   ]
  },
  {
   "cell_type": "code",
   "execution_count": 23,
   "id": "c77d1a2f-7465-4527-877c-2cb9a871e049",
   "metadata": {},
   "outputs": [],
   "source": [
    "for mydf in pd.read_csv(f'/anvil/projects/tdm/data/{mycarcount}.csv', chunksize=10000):\n",
    "    for index, row in mydf.iterrows ():\n",
    "        if row ['year'] == myyear:\n",
    "            total_count +=1"
   ]
  },
  {
   "cell_type": "code",
   "execution_count": 24,
   "id": "9696f3e2-8f42-4ee4-a698-6a717623149e",
   "metadata": {},
   "outputs": [
    {
     "data": {
      "text/plain": [
       "26532"
      ]
     },
     "execution_count": 24,
     "metadata": {},
     "output_type": "execute_result"
    }
   ],
   "source": [
    "total_count"
   ]
  },
  {
   "cell_type": "code",
   "execution_count": 26,
   "id": "3117d9af-1448-44ed-87eb-82cabfa4f9b9",
   "metadata": {},
   "outputs": [],
   "source": [
    "# To write a function just named it anything eg cc\n",
    "\n",
    "def cc(carsdf, myyear):\n",
    "    mycount = len(carsdf[carsdf.year == myyear])\n",
    "    return mycount"
   ]
  },
  {
   "cell_type": "code",
   "execution_count": 27,
   "id": "eca220ad-e78d-496c-bb76-145dc04fbe02",
   "metadata": {},
   "outputs": [
    {
     "data": {
      "text/plain": [
       "26532"
      ]
     },
     "execution_count": 27,
     "metadata": {},
     "output_type": "execute_result"
    }
   ],
   "source": [
    "cc(cars, 2011)"
   ]
  },
  {
   "cell_type": "code",
   "execution_count": 28,
   "id": "dc16ae1b-6509-4784-a437-e2e6dec4607c",
   "metadata": {},
   "outputs": [
    {
     "data": {
      "text/plain": [
       "630"
      ]
     },
     "execution_count": 28,
     "metadata": {},
     "output_type": "execute_result"
    }
   ],
   "source": [
    "cc(cars, 1989)"
   ]
  },
  {
   "cell_type": "code",
   "execution_count": 29,
   "id": "282f2357-90da-44de-836e-13c7bf5e8b55",
   "metadata": {},
   "outputs": [
    {
     "data": {
      "text/plain": [
       "2062"
      ]
     },
     "execution_count": 29,
     "metadata": {},
     "output_type": "execute_result"
    }
   ],
   "source": [
    "cc(cars, 1997)"
   ]
  },
  {
   "cell_type": "code",
   "execution_count": 30,
   "id": "d9d12ec1-28bd-40e4-83bf-0f2ed165baa1",
   "metadata": {},
   "outputs": [],
   "source": [
    "def mycarcount(year):\n",
    "    \"\"\"\n",
    "    mycarcount is a function that accept cars and year as argument\n",
    "    and returns the number of cars that occur on year for cars.\n",
    "    \n",
    "    Args:\n",
    "    cars (df): The dataframe from which we are counting the number of cars.\n",
    "    year (int): The years on which we are counting the number of vehicles.\n",
    "    \n",
    "    Returns:\n",
    "        The numbers of cars on my dataframe during the year\n",
    "    \"\"\"\n",
    "    # you are telling the python to run a row at atime and compare the values within the row\n",
    "    \n",
    "    cars = pd.read_csv(\"/anvil/projects/tdm/data/craigslist/vehicles.csv\")\n",
    "    total_count = 0\n",
    "    for index, row in cars.iterrows ():\n",
    "        if row ['year'] ==year:\n",
    "            total_count +=1 \n",
    "    return total_count"
   ]
  },
  {
   "cell_type": "code",
   "execution_count": 31,
   "id": "c992e881-5d44-4b82-b4fe-97b1d1316d79",
   "metadata": {},
   "outputs": [
    {
     "data": {
      "text/plain": [
       "32096"
      ]
     },
     "execution_count": 31,
     "metadata": {},
     "output_type": "execute_result"
    }
   ],
   "source": [
    " mycarcount(2016)"
   ]
  },
  {
   "cell_type": "code",
   "execution_count": 32,
   "id": "3ed3adf9-b3ea-4fbf-8df7-32f8f15cf479",
   "metadata": {},
   "outputs": [
    {
     "data": {
      "text/plain": [
       "26532"
      ]
     },
     "execution_count": 32,
     "metadata": {},
     "output_type": "execute_result"
    }
   ],
   "source": [
    "mycarcount(2011)"
   ]
  },
  {
   "cell_type": "code",
   "execution_count": 33,
   "id": "ae7d347c-3f7a-4217-8c94-9ce9334c02a1",
   "metadata": {},
   "outputs": [
    {
     "data": {
      "text/plain": [
       "630"
      ]
     },
     "execution_count": 33,
     "metadata": {},
     "output_type": "execute_result"
    }
   ],
   "source": [
    "mycarcount(1989)"
   ]
  },
  {
   "cell_type": "code",
   "execution_count": 34,
   "id": "48e499e6-54e8-482a-807c-83937a229a8c",
   "metadata": {},
   "outputs": [
    {
     "data": {
      "text/plain": [
       "2062"
      ]
     },
     "execution_count": 34,
     "metadata": {},
     "output_type": "execute_result"
    }
   ],
   "source": [
    "mycarcount(1997)"
   ]
  },
  {
   "cell_type": "markdown",
   "id": "b456e57c-4a12-464b-999a-ef2df5af80c1",
   "metadata": {},
   "source": [
    "a. Write a function called mycarcount that takes two parameters: cars as a data frame, and year as an integer, and outputs the number of cars from that year. (Alternatively, you can just use 1 argument, the year, as a parameter, and then read through the cars data frame inside the function. Either way is OK.)\n",
    "\n",
    "b. Run the function for each of the years from Project 4, Question 4, namely, for the years 2011, 1989, 1997. Make sure that your answers agree with the results from that earlier project."
   ]
  },
  {
   "cell_type": "markdown",
   "id": "fc601975-35ed-4680-a4e1-0273ee3cc047",
   "metadata": {},
   "source": [
    "## Question 2"
   ]
  },
  {
   "cell_type": "code",
   "execution_count": 35,
   "id": "3608c257-97ff-4c38-b563-d44099bede9f",
   "metadata": {},
   "outputs": [
    {
     "data": {
      "text/plain": [
       "array([2012., 2014., 2001., 2004., 2021., 2010., 2005., 2017., 2016.,\n",
       "       2006., 2009., 2011., 2018., 1999., 2019., 1998., 2015., 2007.,\n",
       "       2000., 1988., 2008., 2013., 1965., 1997., 2002., 1976., 1996.,\n",
       "       1980., 1944., 2020., 2003., 1978., 1940., 1952., 1989.,   nan,\n",
       "       1986., 1991., 1995., 1967., 1993., 1966., 1974., 1987., 1957.,\n",
       "       1994., 1970., 1981., 1979., 1960., 1975., 1990., 1977., 1984.,\n",
       "       1956., 1982., 1985., 1992., 1983., 1973., 1963., 1972., 1968.,\n",
       "       1931., 1958., 1961., 1962., 1964., 1938., 1949., 1942., 1955.,\n",
       "       1969., 1939., 1971., 1948., 1954., 1934., 1930., 1950., 1919.,\n",
       "       1953., 1951., 1941., 1937., 1947., 1927., 1959., 1946., 1913.,\n",
       "       1933., 1929., 1936., 1923., 1925., 1932., 1900., 1928., 1935.,\n",
       "       1916., 1912., 1911., 1926., 1917., 1922., 1915., 1924., 1943.,\n",
       "       1945., 1920.])"
      ]
     },
     "execution_count": 35,
     "metadata": {},
     "output_type": "execute_result"
    }
   ],
   "source": [
    "# to generate the unique years in the data\n",
    "\n",
    "cars.year.unique()"
   ]
  },
  {
   "cell_type": "code",
   "execution_count": 36,
   "id": "0ec499f3-e929-42d9-b4a3-9c39dd7916ec",
   "metadata": {},
   "outputs": [],
   "source": [
    "# To make it a variable\n",
    "yrlist =cars.year.unique()"
   ]
  },
  {
   "cell_type": "code",
   "execution_count": 37,
   "id": "0ccd247b-7b40-4546-bdbc-c422a6f5b9d1",
   "metadata": {},
   "outputs": [],
   "source": [
    "# To sort them out, rearranged\n",
    "yrlist.sort()"
   ]
  },
  {
   "cell_type": "code",
   "execution_count": 38,
   "id": "0e6d5393-8c05-4e55-9ccf-29dc06eb08ab",
   "metadata": {},
   "outputs": [
    {
     "data": {
      "text/plain": [
       "array([1900., 1911., 1912., 1913., 1915., 1916., 1917., 1919., 1920.,\n",
       "       1922., 1923., 1924., 1925., 1926., 1927., 1928., 1929., 1930.,\n",
       "       1931., 1932., 1933., 1934., 1935., 1936., 1937., 1938., 1939.,\n",
       "       1940., 1941., 1942., 1943., 1944., 1945., 1946., 1947., 1948.,\n",
       "       1949., 1950., 1951., 1952., 1953., 1954., 1955., 1956., 1957.,\n",
       "       1958., 1959., 1960., 1961., 1962., 1963., 1964., 1965., 1966.,\n",
       "       1967., 1968., 1969., 1970., 1971., 1972., 1973., 1974., 1975.,\n",
       "       1976., 1977., 1978., 1979., 1980., 1981., 1982., 1983., 1984.,\n",
       "       1985., 1986., 1987., 1988., 1989., 1990., 1991., 1992., 1993.,\n",
       "       1994., 1995., 1996., 1997., 1998., 1999., 2000., 2001., 2002.,\n",
       "       2003., 2004., 2005., 2006., 2007., 2008., 2009., 2010., 2011.,\n",
       "       2012., 2013., 2014., 2015., 2016., 2017., 2018., 2019., 2020.,\n",
       "       2021.,   nan])"
      ]
     },
     "execution_count": 38,
     "metadata": {},
     "output_type": "execute_result"
    }
   ],
   "source": [
    "# To generate the values after sorting\n",
    "yrlist"
   ]
  },
  {
   "cell_type": "code",
   "execution_count": 39,
   "id": "859ce4d7-4e5c-4bac-bed2-937f18891aa4",
   "metadata": {},
   "outputs": [],
   "source": [
    "# To eliminate the nan \n",
    "ylist = yrlist[:-1]"
   ]
  },
  {
   "cell_type": "code",
   "execution_count": 40,
   "id": "236ffe54-a080-456c-8454-491243ef2ec8",
   "metadata": {},
   "outputs": [
    {
     "data": {
      "text/plain": [
       "array([1900., 1911., 1912., 1913., 1915., 1916., 1917., 1919., 1920.,\n",
       "       1922., 1923., 1924., 1925., 1926., 1927., 1928., 1929., 1930.,\n",
       "       1931., 1932., 1933., 1934., 1935., 1936., 1937., 1938., 1939.,\n",
       "       1940., 1941., 1942., 1943., 1944., 1945., 1946., 1947., 1948.,\n",
       "       1949., 1950., 1951., 1952., 1953., 1954., 1955., 1956., 1957.,\n",
       "       1958., 1959., 1960., 1961., 1962., 1963., 1964., 1965., 1966.,\n",
       "       1967., 1968., 1969., 1970., 1971., 1972., 1973., 1974., 1975.,\n",
       "       1976., 1977., 1978., 1979., 1980., 1981., 1982., 1983., 1984.,\n",
       "       1985., 1986., 1987., 1988., 1989., 1990., 1991., 1992., 1993.,\n",
       "       1994., 1995., 1996., 1997., 1998., 1999., 2000., 2001., 2002.,\n",
       "       2003., 2004., 2005., 2006., 2007., 2008., 2009., 2010., 2011.,\n",
       "       2012., 2013., 2014., 2015., 2016., 2017., 2018., 2019., 2020.,\n",
       "       2021.])"
      ]
     },
     "execution_count": 40,
     "metadata": {},
     "output_type": "execute_result"
    }
   ],
   "source": [
    "# The years after removing nan\n",
    "ylist"
   ]
  },
  {
   "cell_type": "code",
   "execution_count": 41,
   "id": "d50dedde-d397-4275-aba0-31b019a9053b",
   "metadata": {},
   "outputs": [
    {
     "name": "stdout",
     "output_type": "stream",
     "text": [
      "1900.0 58\n",
      "1911.0 1\n",
      "1912.0 5\n",
      "1913.0 1\n",
      "1915.0 1\n",
      "1916.0 3\n",
      "1917.0 1\n",
      "1919.0 2\n",
      "1920.0 1\n",
      "1922.0 4\n",
      "1923.0 37\n",
      "1924.0 8\n",
      "1925.0 9\n",
      "1926.0 11\n",
      "1927.0 34\n",
      "1928.0 27\n",
      "1929.0 69\n",
      "1930.0 53\n",
      "1931.0 60\n",
      "1932.0 39\n",
      "1933.0 17\n",
      "1934.0 44\n",
      "1935.0 18\n",
      "1936.0 50\n",
      "1937.0 72\n",
      "1938.0 22\n",
      "1939.0 60\n",
      "1940.0 94\n",
      "1941.0 60\n",
      "1942.0 22\n",
      "1943.0 1\n",
      "1944.0 3\n",
      "1945.0 1\n",
      "1946.0 79\n",
      "1947.0 63\n",
      "1948.0 101\n",
      "1949.0 113\n",
      "1950.0 120\n",
      "1951.0 113\n",
      "1952.0 88\n",
      "1953.0 93\n",
      "1954.0 94\n",
      "1955.0 216\n",
      "1956.0 188\n",
      "1957.0 218\n",
      "1958.0 88\n",
      "1959.0 100\n",
      "1960.0 103\n",
      "1961.0 87\n",
      "1962.0 170\n",
      "1963.0 214\n",
      "1964.0 299\n",
      "1965.0 376\n",
      "1966.0 490\n",
      "1967.0 427\n",
      "1968.0 415\n",
      "1969.0 464\n",
      "1970.0 412\n",
      "1971.0 383\n",
      "1972.0 427\n",
      "1973.0 392\n",
      "1974.0 305\n",
      "1975.0 219\n",
      "1976.0 266\n",
      "1977.0 313\n",
      "1978.0 408\n",
      "1979.0 468\n",
      "1980.0 263\n",
      "1981.0 219\n",
      "1982.0 185\n",
      "1983.0 243\n",
      "1984.0 430\n",
      "1985.0 477\n",
      "1986.0 499\n",
      "1987.0 635\n",
      "1988.0 539\n",
      "1989.0 630\n",
      "1990.0 646\n",
      "1991.0 649\n",
      "1992.0 762\n",
      "1993.0 825\n",
      "1994.0 1113\n",
      "1995.0 1433\n",
      "1996.0 1529\n",
      "1997.0 2062\n",
      "1998.0 2351\n",
      "1999.0 3742\n",
      "2000.0 4778\n",
      "2001.0 5742\n",
      "2002.0 7153\n",
      "2003.0 9235\n",
      "2004.0 12037\n",
      "2005.0 14209\n",
      "2006.0 17191\n",
      "2007.0 20457\n",
      "2008.0 22643\n",
      "2009.0 15899\n",
      "2010.0 19956\n",
      "2011.0 26532\n",
      "2012.0 29108\n",
      "2013.0 31434\n",
      "2014.0 31703\n",
      "2015.0 32918\n",
      "2016.0 32096\n",
      "2017.0 34592\n",
      "2018.0 20147\n",
      "2019.0 15531\n",
      "2020.0 2820\n",
      "2021.0 119\n",
      "nan 0\n"
     ]
    }
   ],
   "source": [
    "# i used for loop to generate my output\n",
    "\n",
    "for i in yrlist:\n",
    "    a = cc(cars,i)\n",
    "    print (i, a)"
   ]
  },
  {
   "cell_type": "markdown",
   "id": "14dc22d4-ddc3-41cc-a91a-cb0025bc0c80",
   "metadata": {},
   "source": [
    "a. Run the function mycarcount for each year in the data set. (Of course, be sure to only run it once for each year!)\n",
    "\n",
    "b. Now make sure that the results agree, if you compare with the value_counts() from the year column."
   ]
  },
  {
   "cell_type": "markdown",
   "id": "8e586edd-ff26-4ce2-8f6b-2424b26f2929",
   "metadata": {},
   "source": [
    "## Question 3"
   ]
  },
  {
   "cell_type": "code",
   "execution_count": 8,
   "id": "477d013e-e921-4ecf-94e4-3b1fd799fa88",
   "metadata": {},
   "outputs": [],
   "source": [
    "import pandas as pd\n",
    "from pathlib import Path"
   ]
  },
  {
   "cell_type": "code",
   "execution_count": 9,
   "id": "3c4f8434-a796-4086-ad01-a81060b47708",
   "metadata": {},
   "outputs": [],
   "source": [
    "def getflight(myorigin, yr):\n",
    "    \n",
    "# f' means for the most path we have regular string, instead for the curly bracket everything in it we turn into a string also\n",
    "# year is an integer. they dont play well together.\n",
    "    total_count=0\n",
    "    airport = pd.read_csv(f'/anvil/projects/tdm/data/flights/subset/{yr}.csv')\n",
    "    for index, row in airport.iterrows ():\n",
    "        if row ['Origin'] ==myorigin:\n",
    "            total_count +=1   \n",
    "    return total_count         "
   ]
  },
  {
   "cell_type": "code",
   "execution_count": 3,
   "id": "08d2af00-affa-4729-a4ec-7ea5da96b30e",
   "metadata": {},
   "outputs": [
    {
     "data": {
      "text/plain": [
       "'/anvil/projects/tdm/data/flights/subset/2016.csv'"
      ]
     },
     "execution_count": 3,
     "metadata": {},
     "output_type": "execute_result"
    }
   ],
   "source": [
    "# this is specified to csv file of year 2016\n",
    "f'/anvil/projects/tdm/data/flights/subset/{2016}.csv'"
   ]
  },
  {
   "cell_type": "code",
   "execution_count": 4,
   "id": "2de092eb-b866-4799-a595-89b5ddb913d9",
   "metadata": {},
   "outputs": [],
   "source": [
    "# To lnow the different Origin available\n",
    "# You will consider for a particular year (1989)\n",
    "# Then look for the uniqueness\n",
    "\n",
    "airport = pd.read_csv(f'/anvil/projects/tdm/data/flights/subset/1989.csv')"
   ]
  },
  {
   "cell_type": "code",
   "execution_count": 5,
   "id": "408f894d-f034-4851-9f0f-5d8cc2bfcbda",
   "metadata": {},
   "outputs": [
    {
     "data": {
      "text/plain": [
       "array(['SFO', 'DEN', 'HNL', 'LIH', 'PHL', 'OGG', 'IAD', 'EWR', 'LAX',\n",
       "       'KOA', 'ORD', 'MKE', 'IAH', 'MSY', 'RIC', 'SEA', 'FLL', 'MCO',\n",
       "       'BWI', 'HOU', 'MCI', 'SJC', 'CMH', 'OMA', 'ORF', 'BOS', 'ABQ',\n",
       "       'SMF', 'OKC', 'SGF', 'SLC', 'ONT', 'SAN', 'BUF', 'LGB', 'MIA',\n",
       "       'BDL', 'IND', 'TPA', 'SYR', 'PIT', 'STL', 'PDX', 'CLT', 'PHX',\n",
       "       'CVG', 'MBS', 'ATL', 'DSM', 'LAS', 'AUS', 'JAN', 'MEM', 'DTW',\n",
       "       'SRQ', 'MSP', 'DFW', 'PSP', 'MDT', 'FAT', 'BGR', 'PWM', 'ROC',\n",
       "       'MDW', 'FAR', 'CHS', 'SAV', 'LGA', 'ANC', 'FSD', 'OAK', 'CLE',\n",
       "       'CAE', 'TUL', 'HPN', 'GSO', 'RDU', 'DAY', 'GRR', 'MSN', 'JAX',\n",
       "       'BNA', 'COS', 'SAT', 'CID', 'PBI', 'GEG', 'LNK', 'PVD', 'BIL',\n",
       "       'SBA', 'ELP', 'SDF', 'TUS', 'SNA', 'ICT', 'BUR', 'ABE', 'RAP',\n",
       "       'GTF', 'LIT', 'ALB', 'RNO', 'BHM', 'HSV', 'BOI', 'DCA', 'SUX',\n",
       "       'TYS', 'MHT', 'EUG', 'MLI', 'BTV', 'PIA', 'FAI', 'MFR', 'MRY',\n",
       "       'JFK', 'RSW', 'ERI', 'PHF', 'PSC', 'ISP', 'AVP', 'EVV', 'ELM',\n",
       "       'LEX', 'ORH', 'BGM', 'TRI', 'CRW', 'TOL', 'MYR', 'ITH', 'GSP',\n",
       "       'HTS', 'ACY', 'BLI', 'SCK', 'RDM', 'CCR', 'YKM', 'DAL', 'LBB',\n",
       "       'CRP', 'AMA', 'HRL', 'MAF', 'DET', 'VPS', 'AZO', 'FWA', 'DLH',\n",
       "       'ATW', 'GRB', 'BIS', 'GPT', 'LAN', 'GFK', 'RST', 'BZN', 'EAU',\n",
       "       'LSE', 'MOT', 'MOB', 'MSO', 'BTR', 'CHA', 'SHV', 'MGM', 'PFN',\n",
       "       'HDN', 'SBN', 'STT', 'STX', 'FAY', 'AVL', 'CAK', 'OAJ', 'TLH',\n",
       "       'ROA', 'ILM', 'AGS', 'DAB', 'FNT', 'ISO', 'CHO', 'CMI', 'LYH',\n",
       "       'UCA', 'PNS', 'EYW', 'APF', 'GNV', 'SJU', 'PUB', 'MLU', 'MLB',\n",
       "       'CSG', 'CPR', 'IDA', 'JAC', 'HLN', 'FCA', 'JNU', 'BTM', 'DRO',\n",
       "       'GJT', 'YUM', 'FLG', 'GCN', 'PIE', 'TVL', 'BFL', 'GUC', 'BET',\n",
       "       'OME', 'OTZ', 'SCC', 'KTN', 'CDV', 'YAK', 'SIT', 'PSG', 'WRG',\n",
       "       'GUM', 'MFE', 'LFT', 'YAP', 'ROR', 'SPN', 'ROP', 'TVC', 'ABI',\n",
       "       'GST', 'EGE', 'SUN'], dtype=object)"
      ]
     },
     "execution_count": 5,
     "metadata": {},
     "output_type": "execute_result"
    }
   ],
   "source": [
    "airport.Origin.unique()"
   ]
  },
  {
   "cell_type": "code",
   "execution_count": 6,
   "id": "c4f9e17c-c4cf-4609-8489-2543116672f0",
   "metadata": {},
   "outputs": [
    {
     "data": {
      "text/plain": [
       "261259"
      ]
     },
     "execution_count": 6,
     "metadata": {},
     "output_type": "execute_result"
    }
   ],
   "source": [
    "getflight(\"ORD\", 1989)"
   ]
  },
  {
   "cell_type": "code",
   "execution_count": 23,
   "id": "1824e4bc-53a3-42c7-9981-d405689cbd3b",
   "metadata": {},
   "outputs": [
    {
     "data": {
      "text/plain": [
       "8684"
      ]
     },
     "execution_count": 23,
     "metadata": {},
     "output_type": "execute_result"
    }
   ],
   "source": [
    "getflight(\"BTR\", 1989)"
   ]
  },
  {
   "cell_type": "code",
   "execution_count": 24,
   "id": "aafec6d4-10a9-465b-9b5b-b5818eb4570e",
   "metadata": {},
   "outputs": [
    {
     "data": {
      "text/plain": [
       "0"
      ]
     },
     "execution_count": 24,
     "metadata": {},
     "output_type": "execute_result"
    }
   ],
   "source": [
    "getflight(\"PUB\", 1999)"
   ]
  },
  {
   "cell_type": "code",
   "execution_count": 25,
   "id": "d199ab5a-58f4-495b-b578-7cb6b3c27a26",
   "metadata": {},
   "outputs": [
    {
     "data": {
      "text/plain": [
       "418072"
      ]
     },
     "execution_count": 25,
     "metadata": {},
     "output_type": "execute_result"
    }
   ],
   "source": [
    "getflight(\"ATL\", 2004)"
   ]
  },
  {
   "cell_type": "code",
   "execution_count": 26,
   "id": "93bb6d78-d79c-4c18-8f5c-ec9579414fa6",
   "metadata": {},
   "outputs": [
    {
     "data": {
      "text/plain": [
       "244013"
      ]
     },
     "execution_count": 26,
     "metadata": {},
     "output_type": "execute_result"
    }
   ],
   "source": [
    "getflight(\"DFW\", 1998)"
   ]
  },
  {
   "cell_type": "code",
   "execution_count": 7,
   "id": "44d8a939-a89f-4aed-887b-572ca377a8ee",
   "metadata": {},
   "outputs": [
    {
     "name": "stdout",
     "output_type": "stream",
     "text": [
      "1987:8817\n",
      "1988:37399\n",
      "1989:40567\n",
      "1990:43826\n",
      "1991:42890\n",
      "1992:43620\n",
      "1993:37684\n",
      "1994:38612\n",
      "1995:37092\n",
      "1996:34177\n",
      "1997:35318\n",
      "1998:33810\n",
      "1999:34471\n",
      "2000:35261\n",
      "2001:37871\n",
      "2002:32599\n"
     ]
    },
    {
     "name": "stderr",
     "output_type": "stream",
     "text": [
      "/tmp/ipykernel_16/91472592.py:6: DtypeWarning: Columns (22) have mixed types. Specify dtype option on import or set low_memory=False.\n",
      "  airport = pd.read_csv(f'/anvil/projects/tdm/data/flights/subset/{yr}.csv')\n"
     ]
    },
    {
     "name": "stdout",
     "output_type": "stream",
     "text": [
      "2003:41617\n",
      "2004:42098\n",
      "2005:43174\n",
      "2006:37615\n",
      "2007:43576\n",
      "2008:14402\n"
     ]
    }
   ],
   "source": [
    "for i in range(1987,2009):\n",
    "    print(f\"{i}:{getflight(f'IND', i)}\")\n",
    "   "
   ]
  },
  {
   "cell_type": "code",
   "execution_count": 8,
   "id": "b8d753ea-680b-42ae-bd43-6bb564ebfe4d",
   "metadata": {},
   "outputs": [],
   "source": [
    "def getflight(myorigin, yr):\n",
    "    file = Path(f'/anvil/projects/tdm/data/flights/subset/{yr}.csv')\n",
    "    count = 0\n",
    "    with open(file, 'r') as f: # file destination, r decides what you are using it for, just for reading alone.store it in variable name f\n",
    "        for line in f:\n",
    "            if line.split(\",\")[16] == myorigin: # we spiliting into a list, removing the commas . index number 16\n",
    "                count += 1\n",
    "    return count         "
   ]
  },
  {
   "cell_type": "code",
   "execution_count": 9,
   "id": "436a7bef-7631-4578-b228-b178fb700a59",
   "metadata": {},
   "outputs": [
    {
     "data": {
      "text/plain": [
       "42098"
      ]
     },
     "execution_count": 9,
     "metadata": {},
     "output_type": "execute_result"
    }
   ],
   "source": [
    "getflight('IND',2004)"
   ]
  },
  {
   "cell_type": "code",
   "execution_count": 10,
   "id": "776c50a3-4cff-4d4c-87a8-80648abc9426",
   "metadata": {},
   "outputs": [
    {
     "data": {
      "text/plain": [
       "418072"
      ]
     },
     "execution_count": 10,
     "metadata": {},
     "output_type": "execute_result"
    }
   ],
   "source": [
    "getflight('ATL',2004)"
   ]
  },
  {
   "cell_type": "code",
   "execution_count": 11,
   "id": "ab981cad-3791-4d97-8f3c-5d318eeb2607",
   "metadata": {},
   "outputs": [
    {
     "data": {
      "text/plain": [
       "244013"
      ]
     },
     "execution_count": 11,
     "metadata": {},
     "output_type": "execute_result"
    }
   ],
   "source": [
    "getflight('DFW',1998)"
   ]
  },
  {
   "cell_type": "code",
   "execution_count": 12,
   "id": "587f0870-d1ec-49b9-bacf-1fa50b7b5818",
   "metadata": {},
   "outputs": [
    {
     "data": {
      "text/plain": [
       "35318"
      ]
     },
     "execution_count": 12,
     "metadata": {},
     "output_type": "execute_result"
    }
   ],
   "source": [
    "getflight('IND',1997)"
   ]
  },
  {
   "cell_type": "markdown",
   "id": "47c6229f-35f7-400c-8366-c442baa5cf47",
   "metadata": {},
   "source": [
    "a Write a function that takes two parameters: myorigin as a string with three characters, and year as an integer, and outputs the number of flights that depart during that year, from the Origin airport indicated in myorigin.\n",
    "\n",
    "b. Test your function for a few years and airports of your choice. You can choose! Do your results look reasonable, i.e., do the airports in the big cities have lots of flights, compared to airports in smaller cities?\n",
    "\n",
    "c. Run the function for each of the years from 1987 to 2008, checking how many flights depart from IND in each year. Make sure that you use the method from the end of Project 3, Question 5."
   ]
  },
  {
   "cell_type": "markdown",
   "id": "da22f29c-d245-4d2b-9fc1-ca14cb6087d9",
   "metadata": {},
   "source": [
    "## Question 4"
   ]
  },
  {
   "cell_type": "code",
   "execution_count": 10,
   "id": "8cffc767-d1c8-4d64-b7dc-f0d2ee8a80d1",
   "metadata": {},
   "outputs": [],
   "source": [
    "def getflight(myorigin,mydest, yr):\n",
    "    \n",
    "# f' means for the most path we have regular string, instead for the curly bracket everything in it we turn into a string also\n",
    "# year is an integer. they dont play well together.\n",
    "    total_count=0\n",
    "    airport = pd.read_csv(f'/anvil/projects/tdm/data/flights/subset/{yr}.csv')\n",
    "    for index, row in airport.iterrows ():\n",
    "        if (row ['Origin'] ==myorigin) and (row ['Dest'] ==mydest):\n",
    "            total_count +=1   \n",
    "    return total_count "
   ]
  },
  {
   "cell_type": "code",
   "execution_count": 45,
   "id": "0b00e76d-406f-4032-b5a1-934cfa098927",
   "metadata": {},
   "outputs": [
    {
     "data": {
      "text/plain": [
       "935"
      ]
     },
     "execution_count": 45,
     "metadata": {},
     "output_type": "execute_result"
    }
   ],
   "source": [
    "getflight('IND','ORD', 1987)"
   ]
  },
  {
   "cell_type": "code",
   "execution_count": 11,
   "id": "1a37a65f-4cd3-4b7c-92bf-bb8d8899dfa5",
   "metadata": {},
   "outputs": [
    {
     "data": {
      "text/plain": [
       "1786"
      ]
     },
     "execution_count": 11,
     "metadata": {},
     "output_type": "execute_result"
    }
   ],
   "source": [
    "getflight('IND','MDW', 1997)"
   ]
  },
  {
   "cell_type": "code",
   "execution_count": 12,
   "id": "2c2c0fb5-98ed-45d6-a943-0bf8d7af80c8",
   "metadata": {},
   "outputs": [
    {
     "data": {
      "text/plain": [
       "0"
      ]
     },
     "execution_count": 12,
     "metadata": {},
     "output_type": "execute_result"
    }
   ],
   "source": [
    "getflight('SLC','GNV',2000)"
   ]
  },
  {
   "cell_type": "code",
   "execution_count": null,
   "id": "b524276e-36e3-4020-a5b4-93e12af71116",
   "metadata": {},
   "outputs": [],
   "source": [
    "getflight('GNV','ORD', 1997)"
   ]
  },
  {
   "cell_type": "code",
   "execution_count": 14,
   "id": "9ba23c02-d08e-4235-bf8c-9e082f6907df",
   "metadata": {},
   "outputs": [
    {
     "name": "stdout",
     "output_type": "stream",
     "text": [
      "1987:935\n",
      "1988:3859\n",
      "1989:3359\n",
      "1990:3401\n",
      "1991:3884\n",
      "1992:4207\n",
      "1993:4151\n",
      "1994:3484\n",
      "1995:2715\n",
      "1996:2376\n",
      "1997:2473\n",
      "1998:2583\n",
      "1999:2802\n",
      "2000:2657\n",
      "2001:5741\n",
      "2002:5719\n"
     ]
    },
    {
     "name": "stderr",
     "output_type": "stream",
     "text": [
      "/tmp/ipykernel_16/882744575.py:6: DtypeWarning: Columns (22) have mixed types. Specify dtype option on import or set low_memory=False.\n",
      "  airport = pd.read_csv(f'/anvil/projects/tdm/data/flights/subset/{yr}.csv')\n"
     ]
    },
    {
     "name": "stdout",
     "output_type": "stream",
     "text": [
      "2003:5825\n",
      "2004:5083\n",
      "2005:3990\n",
      "2006:3281\n",
      "2007:3871\n",
      "2008:1324\n"
     ]
    }
   ],
   "source": [
    "for k in range(1987,2009):\n",
    "    print(f\"{k}:{getflight(f'IND','ORD', k)}\")\n",
    "    "
   ]
  },
  {
   "cell_type": "markdown",
   "id": "0d552245-b4d6-474a-9cc9-fa7b8e674d55",
   "metadata": {},
   "source": [
    "a. Modify your function so that it takes three parameters: myorigin and mydest as strings that each have three characters, and year as an integer, and outputs the number of flights that depart during that year, from the Origin airport indicated in myorigin, and arrive at the Dest airport indicated in mydest.\n",
    "\n",
    "b. Test your function for a few years and pairs of airports (origin and destination airports) of your choice. Do the results look reasonable, e.g., if you compare popular flight paths, versus unpopular flight paths?\n",
    "\n",
    "c. Run the function for each of the years from 1987 to 2008, checking how many flights depart from IND and arrive at ORD in each year."
   ]
  },
  {
   "cell_type": "markdown",
   "id": "88c9cdac-3e92-498f-83fa-e089bfc44ac8",
   "metadata": {},
   "source": [
    "## Question 5"
   ]
  },
  {
   "cell_type": "code",
   "execution_count": 15,
   "id": "d370d7c9-06db-42b9-b75f-240481a5c491",
   "metadata": {},
   "outputs": [],
   "source": [
    "def records(sex,maritalstatus):\n",
    "    \n",
    "# f' means for the most path we have regular string, instead for the curly bracket everything in it we turn into a string also\n",
    "# year is an integer. they dont play well together.\n",
    "    total_count=0\n",
    "    people = pd.read_csv(f'/anvil/projects/tdm/data/death_records/DeathRecords.csv')\n",
    "    for index, row in people.iterrows ():\n",
    "        if (row ['Sex'] ==sex) and (row ['MaritalStatus'] ==maritalstatus):\n",
    "            total_count +=1   \n",
    "    return total_count "
   ]
  },
  {
   "cell_type": "code",
   "execution_count": 16,
   "id": "dca73aea-9601-4422-bf09-6b677f7ebb9e",
   "metadata": {},
   "outputs": [
    {
     "data": {
      "text/html": [
       "<div>\n",
       "<style scoped>\n",
       "    .dataframe tbody tr th:only-of-type {\n",
       "        vertical-align: middle;\n",
       "    }\n",
       "\n",
       "    .dataframe tbody tr th {\n",
       "        vertical-align: top;\n",
       "    }\n",
       "\n",
       "    .dataframe thead th {\n",
       "        text-align: right;\n",
       "    }\n",
       "</style>\n",
       "<table border=\"1\" class=\"dataframe\">\n",
       "  <thead>\n",
       "    <tr style=\"text-align: right;\">\n",
       "      <th></th>\n",
       "      <th>Id</th>\n",
       "      <th>ResidentStatus</th>\n",
       "      <th>Education1989Revision</th>\n",
       "      <th>Education2003Revision</th>\n",
       "      <th>EducationReportingFlag</th>\n",
       "      <th>MonthOfDeath</th>\n",
       "      <th>Sex</th>\n",
       "      <th>AgeType</th>\n",
       "      <th>Age</th>\n",
       "      <th>AgeSubstitutionFlag</th>\n",
       "      <th>...</th>\n",
       "      <th>CauseRecode39</th>\n",
       "      <th>NumberOfEntityAxisConditions</th>\n",
       "      <th>NumberOfRecordAxisConditions</th>\n",
       "      <th>Race</th>\n",
       "      <th>BridgedRaceFlag</th>\n",
       "      <th>RaceImputationFlag</th>\n",
       "      <th>RaceRecode3</th>\n",
       "      <th>RaceRecode5</th>\n",
       "      <th>HispanicOrigin</th>\n",
       "      <th>HispanicOriginRaceRecode</th>\n",
       "    </tr>\n",
       "  </thead>\n",
       "  <tbody>\n",
       "    <tr>\n",
       "      <th>0</th>\n",
       "      <td>1</td>\n",
       "      <td>1</td>\n",
       "      <td>0</td>\n",
       "      <td>2</td>\n",
       "      <td>1</td>\n",
       "      <td>1</td>\n",
       "      <td>M</td>\n",
       "      <td>1</td>\n",
       "      <td>87</td>\n",
       "      <td>0</td>\n",
       "      <td>...</td>\n",
       "      <td>24</td>\n",
       "      <td>1</td>\n",
       "      <td>1</td>\n",
       "      <td>1</td>\n",
       "      <td>0</td>\n",
       "      <td>0</td>\n",
       "      <td>1</td>\n",
       "      <td>1</td>\n",
       "      <td>100</td>\n",
       "      <td>6</td>\n",
       "    </tr>\n",
       "    <tr>\n",
       "      <th>1</th>\n",
       "      <td>2</td>\n",
       "      <td>1</td>\n",
       "      <td>0</td>\n",
       "      <td>2</td>\n",
       "      <td>1</td>\n",
       "      <td>1</td>\n",
       "      <td>M</td>\n",
       "      <td>1</td>\n",
       "      <td>58</td>\n",
       "      <td>0</td>\n",
       "      <td>...</td>\n",
       "      <td>21</td>\n",
       "      <td>3</td>\n",
       "      <td>3</td>\n",
       "      <td>1</td>\n",
       "      <td>0</td>\n",
       "      <td>0</td>\n",
       "      <td>1</td>\n",
       "      <td>1</td>\n",
       "      <td>100</td>\n",
       "      <td>6</td>\n",
       "    </tr>\n",
       "    <tr>\n",
       "      <th>2</th>\n",
       "      <td>3</td>\n",
       "      <td>1</td>\n",
       "      <td>0</td>\n",
       "      <td>7</td>\n",
       "      <td>1</td>\n",
       "      <td>1</td>\n",
       "      <td>F</td>\n",
       "      <td>1</td>\n",
       "      <td>75</td>\n",
       "      <td>0</td>\n",
       "      <td>...</td>\n",
       "      <td>28</td>\n",
       "      <td>2</td>\n",
       "      <td>2</td>\n",
       "      <td>1</td>\n",
       "      <td>0</td>\n",
       "      <td>0</td>\n",
       "      <td>1</td>\n",
       "      <td>1</td>\n",
       "      <td>100</td>\n",
       "      <td>6</td>\n",
       "    </tr>\n",
       "    <tr>\n",
       "      <th>3</th>\n",
       "      <td>4</td>\n",
       "      <td>1</td>\n",
       "      <td>0</td>\n",
       "      <td>6</td>\n",
       "      <td>1</td>\n",
       "      <td>1</td>\n",
       "      <td>M</td>\n",
       "      <td>1</td>\n",
       "      <td>74</td>\n",
       "      <td>0</td>\n",
       "      <td>...</td>\n",
       "      <td>22</td>\n",
       "      <td>3</td>\n",
       "      <td>3</td>\n",
       "      <td>1</td>\n",
       "      <td>0</td>\n",
       "      <td>0</td>\n",
       "      <td>1</td>\n",
       "      <td>1</td>\n",
       "      <td>100</td>\n",
       "      <td>6</td>\n",
       "    </tr>\n",
       "    <tr>\n",
       "      <th>4</th>\n",
       "      <td>5</td>\n",
       "      <td>1</td>\n",
       "      <td>0</td>\n",
       "      <td>3</td>\n",
       "      <td>1</td>\n",
       "      <td>1</td>\n",
       "      <td>M</td>\n",
       "      <td>1</td>\n",
       "      <td>64</td>\n",
       "      <td>0</td>\n",
       "      <td>...</td>\n",
       "      <td>21</td>\n",
       "      <td>1</td>\n",
       "      <td>1</td>\n",
       "      <td>1</td>\n",
       "      <td>0</td>\n",
       "      <td>0</td>\n",
       "      <td>1</td>\n",
       "      <td>1</td>\n",
       "      <td>100</td>\n",
       "      <td>6</td>\n",
       "    </tr>\n",
       "    <tr>\n",
       "      <th>...</th>\n",
       "      <td>...</td>\n",
       "      <td>...</td>\n",
       "      <td>...</td>\n",
       "      <td>...</td>\n",
       "      <td>...</td>\n",
       "      <td>...</td>\n",
       "      <td>...</td>\n",
       "      <td>...</td>\n",
       "      <td>...</td>\n",
       "      <td>...</td>\n",
       "      <td>...</td>\n",
       "      <td>...</td>\n",
       "      <td>...</td>\n",
       "      <td>...</td>\n",
       "      <td>...</td>\n",
       "      <td>...</td>\n",
       "      <td>...</td>\n",
       "      <td>...</td>\n",
       "      <td>...</td>\n",
       "      <td>...</td>\n",
       "      <td>...</td>\n",
       "    </tr>\n",
       "    <tr>\n",
       "      <th>2631166</th>\n",
       "      <td>2631167</td>\n",
       "      <td>3</td>\n",
       "      <td>0</td>\n",
       "      <td>6</td>\n",
       "      <td>1</td>\n",
       "      <td>12</td>\n",
       "      <td>M</td>\n",
       "      <td>1</td>\n",
       "      <td>84</td>\n",
       "      <td>0</td>\n",
       "      <td>...</td>\n",
       "      <td>20</td>\n",
       "      <td>4</td>\n",
       "      <td>4</td>\n",
       "      <td>1</td>\n",
       "      <td>0</td>\n",
       "      <td>0</td>\n",
       "      <td>1</td>\n",
       "      <td>1</td>\n",
       "      <td>100</td>\n",
       "      <td>6</td>\n",
       "    </tr>\n",
       "    <tr>\n",
       "      <th>2631167</th>\n",
       "      <td>2631168</td>\n",
       "      <td>3</td>\n",
       "      <td>0</td>\n",
       "      <td>9</td>\n",
       "      <td>1</td>\n",
       "      <td>12</td>\n",
       "      <td>F</td>\n",
       "      <td>1</td>\n",
       "      <td>74</td>\n",
       "      <td>0</td>\n",
       "      <td>...</td>\n",
       "      <td>21</td>\n",
       "      <td>2</td>\n",
       "      <td>2</td>\n",
       "      <td>1</td>\n",
       "      <td>0</td>\n",
       "      <td>1</td>\n",
       "      <td>1</td>\n",
       "      <td>1</td>\n",
       "      <td>998</td>\n",
       "      <td>9</td>\n",
       "    </tr>\n",
       "    <tr>\n",
       "      <th>2631168</th>\n",
       "      <td>2631169</td>\n",
       "      <td>3</td>\n",
       "      <td>0</td>\n",
       "      <td>1</td>\n",
       "      <td>1</td>\n",
       "      <td>12</td>\n",
       "      <td>M</td>\n",
       "      <td>6</td>\n",
       "      <td>7</td>\n",
       "      <td>0</td>\n",
       "      <td>...</td>\n",
       "      <td>33</td>\n",
       "      <td>2</td>\n",
       "      <td>1</td>\n",
       "      <td>1</td>\n",
       "      <td>0</td>\n",
       "      <td>1</td>\n",
       "      <td>1</td>\n",
       "      <td>1</td>\n",
       "      <td>998</td>\n",
       "      <td>9</td>\n",
       "    </tr>\n",
       "    <tr>\n",
       "      <th>2631169</th>\n",
       "      <td>2631170</td>\n",
       "      <td>4</td>\n",
       "      <td>0</td>\n",
       "      <td>9</td>\n",
       "      <td>1</td>\n",
       "      <td>2</td>\n",
       "      <td>M</td>\n",
       "      <td>1</td>\n",
       "      <td>49</td>\n",
       "      <td>0</td>\n",
       "      <td>...</td>\n",
       "      <td>21</td>\n",
       "      <td>5</td>\n",
       "      <td>5</td>\n",
       "      <td>2</td>\n",
       "      <td>0</td>\n",
       "      <td>0</td>\n",
       "      <td>3</td>\n",
       "      <td>2</td>\n",
       "      <td>998</td>\n",
       "      <td>9</td>\n",
       "    </tr>\n",
       "    <tr>\n",
       "      <th>2631170</th>\n",
       "      <td>2631171</td>\n",
       "      <td>3</td>\n",
       "      <td>0</td>\n",
       "      <td>1</td>\n",
       "      <td>1</td>\n",
       "      <td>5</td>\n",
       "      <td>M</td>\n",
       "      <td>6</td>\n",
       "      <td>39</td>\n",
       "      <td>0</td>\n",
       "      <td>...</td>\n",
       "      <td>33</td>\n",
       "      <td>2</td>\n",
       "      <td>1</td>\n",
       "      <td>2</td>\n",
       "      <td>0</td>\n",
       "      <td>0</td>\n",
       "      <td>3</td>\n",
       "      <td>2</td>\n",
       "      <td>100</td>\n",
       "      <td>7</td>\n",
       "    </tr>\n",
       "  </tbody>\n",
       "</table>\n",
       "<p>2631171 rows × 38 columns</p>\n",
       "</div>"
      ],
      "text/plain": [
       "              Id  ResidentStatus  Education1989Revision  \\\n",
       "0              1               1                      0   \n",
       "1              2               1                      0   \n",
       "2              3               1                      0   \n",
       "3              4               1                      0   \n",
       "4              5               1                      0   \n",
       "...          ...             ...                    ...   \n",
       "2631166  2631167               3                      0   \n",
       "2631167  2631168               3                      0   \n",
       "2631168  2631169               3                      0   \n",
       "2631169  2631170               4                      0   \n",
       "2631170  2631171               3                      0   \n",
       "\n",
       "         Education2003Revision  EducationReportingFlag  MonthOfDeath Sex  \\\n",
       "0                            2                       1             1   M   \n",
       "1                            2                       1             1   M   \n",
       "2                            7                       1             1   F   \n",
       "3                            6                       1             1   M   \n",
       "4                            3                       1             1   M   \n",
       "...                        ...                     ...           ...  ..   \n",
       "2631166                      6                       1            12   M   \n",
       "2631167                      9                       1            12   F   \n",
       "2631168                      1                       1            12   M   \n",
       "2631169                      9                       1             2   M   \n",
       "2631170                      1                       1             5   M   \n",
       "\n",
       "         AgeType  Age  AgeSubstitutionFlag  ...  CauseRecode39  \\\n",
       "0              1   87                    0  ...             24   \n",
       "1              1   58                    0  ...             21   \n",
       "2              1   75                    0  ...             28   \n",
       "3              1   74                    0  ...             22   \n",
       "4              1   64                    0  ...             21   \n",
       "...          ...  ...                  ...  ...            ...   \n",
       "2631166        1   84                    0  ...             20   \n",
       "2631167        1   74                    0  ...             21   \n",
       "2631168        6    7                    0  ...             33   \n",
       "2631169        1   49                    0  ...             21   \n",
       "2631170        6   39                    0  ...             33   \n",
       "\n",
       "         NumberOfEntityAxisConditions  NumberOfRecordAxisConditions  Race  \\\n",
       "0                                   1                             1     1   \n",
       "1                                   3                             3     1   \n",
       "2                                   2                             2     1   \n",
       "3                                   3                             3     1   \n",
       "4                                   1                             1     1   \n",
       "...                               ...                           ...   ...   \n",
       "2631166                             4                             4     1   \n",
       "2631167                             2                             2     1   \n",
       "2631168                             2                             1     1   \n",
       "2631169                             5                             5     2   \n",
       "2631170                             2                             1     2   \n",
       "\n",
       "         BridgedRaceFlag RaceImputationFlag  RaceRecode3  RaceRecode5  \\\n",
       "0                      0                  0            1            1   \n",
       "1                      0                  0            1            1   \n",
       "2                      0                  0            1            1   \n",
       "3                      0                  0            1            1   \n",
       "4                      0                  0            1            1   \n",
       "...                  ...                ...          ...          ...   \n",
       "2631166                0                  0            1            1   \n",
       "2631167                0                  1            1            1   \n",
       "2631168                0                  1            1            1   \n",
       "2631169                0                  0            3            2   \n",
       "2631170                0                  0            3            2   \n",
       "\n",
       "        HispanicOrigin  HispanicOriginRaceRecode  \n",
       "0                  100                         6  \n",
       "1                  100                         6  \n",
       "2                  100                         6  \n",
       "3                  100                         6  \n",
       "4                  100                         6  \n",
       "...                ...                       ...  \n",
       "2631166            100                         6  \n",
       "2631167            998                         9  \n",
       "2631168            998                         9  \n",
       "2631169            998                         9  \n",
       "2631170            100                         7  \n",
       "\n",
       "[2631171 rows x 38 columns]"
      ]
     },
     "execution_count": 16,
     "metadata": {},
     "output_type": "execute_result"
    }
   ],
   "source": [
    "pd.read_csv(f'/anvil/projects/tdm/data/death_records/DeathRecords.csv')"
   ]
  },
  {
   "cell_type": "code",
   "execution_count": 17,
   "id": "8eba0a96-7460-427f-ae57-73f49d3b0405",
   "metadata": {},
   "outputs": [],
   "source": [
    "people = pd.read_csv(f'/anvil/projects/tdm/data/death_records/DeathRecords.csv')"
   ]
  },
  {
   "cell_type": "code",
   "execution_count": 34,
   "id": "ab5c0b07-3b16-457a-ac88-4f271c001b0f",
   "metadata": {},
   "outputs": [
    {
     "data": {
      "text/plain": [
       "187807"
      ]
     },
     "execution_count": 34,
     "metadata": {},
     "output_type": "execute_result"
    }
   ],
   "source": [
    "records(\"F\",\"D\")"
   ]
  },
  {
   "cell_type": "code",
   "execution_count": 35,
   "id": "c1a283be-daa0-4e65-a2e2-c7e9c544e3bf",
   "metadata": {},
   "outputs": [
    {
     "data": {
      "text/plain": [
       "213152"
      ]
     },
     "execution_count": 35,
     "metadata": {},
     "output_type": "execute_result"
    }
   ],
   "source": [
    "records(\"M\",\"D\")"
   ]
  },
  {
   "cell_type": "code",
   "execution_count": 36,
   "id": "16bd4b47-63dd-44d0-ac2c-5ea40dff43f3",
   "metadata": {},
   "outputs": [
    {
     "data": {
      "text/plain": [
       "324347"
      ]
     },
     "execution_count": 36,
     "metadata": {},
     "output_type": "execute_result"
    }
   ],
   "source": [
    "records(\"F\",\"M\")"
   ]
  },
  {
   "cell_type": "code",
   "execution_count": 37,
   "id": "c66f80de-2388-4835-9154-e9b806c12662",
   "metadata": {},
   "outputs": [
    {
     "data": {
      "text/plain": [
       "206175"
      ]
     },
     "execution_count": 37,
     "metadata": {},
     "output_type": "execute_result"
    }
   ],
   "source": [
    "records(\"M\",\"S\")"
   ]
  },
  {
   "cell_type": "markdown",
   "id": "9fbf00fb-2418-460f-ae94-2a32b0c28952",
   "metadata": {},
   "source": [
    "a. Write a function that takes two parameters: Sex (which will be F or M) and MaritalStatus (D or M or S or U or W), and outputs the number of people with the indicated Sex and MaritalStatus in the data set. (If you look at an earlier version of this question, in which we asked about the year of death, well, everyone in the data set died in 2014, so you do not need to worry about the year of death.)"
   ]
  },
  {
   "cell_type": "markdown",
   "id": "f76442d6-d02e-4f26-b9d6-c3183e1d6929",
   "metadata": {},
   "source": [
    "## Pledge\n",
    "\n",
    "By submitting this work I hereby pledge that this is my own, personal work. I've acknowledged in the designated place at the top of this file all sources that I used to complete said work, including but not limited to: online resources, books, and electronic communications. I've noted all collaboration with fellow students and/or TA's. I did not copy or plagiarize another's work.\n",
    "\n",
    "> As a Boilermaker pursuing academic excellence, I pledge to be honest and true in all that I do. Accountable together – We are Purdue."
   ]
  }
 ],
 "metadata": {
  "kernelspec": {
   "display_name": "f2022-s2023",
   "language": "python",
   "name": "f2022-s2023"
  },
  "language_info": {
   "codemirror_mode": {
    "name": "ipython",
    "version": 3
   },
   "file_extension": ".py",
   "mimetype": "text/x-python",
   "name": "python",
   "nbconvert_exporter": "python",
   "pygments_lexer": "ipython3",
   "version": "3.10.9"
  }
 },
 "nbformat": 4,
 "nbformat_minor": 5
}
