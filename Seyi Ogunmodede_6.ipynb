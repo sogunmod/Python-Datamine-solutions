{
 "cells": [
  {
   "cell_type": "markdown",
   "id": "be02a957-7133-4d02-818e-fedeb3cecb05",
   "metadata": {},
   "source": [
    "# Project 6 -- Seyi Ogunmodede"
   ]
  },
  {
   "cell_type": "markdown",
   "id": "a1228853-dd19-4ab2-89e0-0394d7d72de3",
   "metadata": {},
   "source": [
    "**TA Help:** Jeong Ik Su\n",
    "\n",
    "- Help with figuring out how to write a function.\n",
    "    \n"
   ]
  },
  {
   "cell_type": "markdown",
   "id": "6180e742-8e39-4698-98ff-5b00c8cf8ea0",
   "metadata": {},
   "source": [
    "## Question 1"
   ]
  },
  {
   "cell_type": "code",
   "execution_count": 16,
   "id": "49445606-d363-41b4-b479-e319a9a84c01",
   "metadata": {},
   "outputs": [],
   "source": [
    "import pandas as pd"
   ]
  },
  {
   "cell_type": "code",
   "execution_count": 17,
   "id": "08c70857-c912-4ed2-9c7d-3b8b186a9373",
   "metadata": {},
   "outputs": [],
   "source": [
    "cars = pd.read_csv(\"/anvil/projects/tdm/data/craigslist/vehicles.csv\")"
   ]
  },
  {
   "cell_type": "code",
   "execution_count": 3,
   "id": "da412a8a-bbf9-4c4b-aa62-2882306a0fc2",
   "metadata": {},
   "outputs": [],
   "source": [
    "def mycarcount(cars, year):\n",
    "    \"\"\"\n",
    "    mycarcount is a function that accept cars and year as argument\n",
    "    and returns the number of cars that occur in each year for cars.\n",
    "    \n",
    "    Args:\n",
    "    cars (df): The dataframe from which we are counting the number of cars.\n",
    "    year (int): The years on which we are counting the number of vehicles.\n",
    "    \n",
    "    Returns:\n",
    "        The numbers of cars on my dataframe during the year\n",
    "    \"\"\"\n",
    "    # you are telling the python to run a row at atime and compare the values within the rows\n",
    "    # Then return the total_count afterwards\n",
    "    \n",
    "    total_count = 0\n",
    "    for index, row in cars.iterrows ():\n",
    "        if row ['year'] ==year:\n",
    "            total_count +=1    \n",
    "    return total_count"
   ]
  },
  {
   "cell_type": "code",
   "execution_count": 4,
   "id": "1a473daf-c35c-4a34-bf7b-4dac394fa428",
   "metadata": {},
   "outputs": [
    {
     "data": {
      "text/plain": [
       "32096"
      ]
     },
     "execution_count": 4,
     "metadata": {},
     "output_type": "execute_result"
    }
   ],
   "source": [
    "# This is for each year \n",
    "mycarcount(cars, 2016)"
   ]
  },
  {
   "cell_type": "code",
   "execution_count": 5,
   "id": "1022b9b3-e26e-40ee-ae31-a3fed9bcf872",
   "metadata": {},
   "outputs": [
    {
     "data": {
      "text/plain": [
       "26532"
      ]
     },
     "execution_count": 5,
     "metadata": {},
     "output_type": "execute_result"
    }
   ],
   "source": [
    "mycarcount(cars, 2011)"
   ]
  },
  {
   "cell_type": "code",
   "execution_count": 6,
   "id": "2a7ce222-21d6-4661-a4ca-cfbcf27b4b5b",
   "metadata": {},
   "outputs": [
    {
     "data": {
      "text/plain": [
       "630"
      ]
     },
     "execution_count": 6,
     "metadata": {},
     "output_type": "execute_result"
    }
   ],
   "source": [
    "mycarcount(cars,1989)"
   ]
  },
  {
   "cell_type": "code",
   "execution_count": 7,
   "id": "bad203a1-3466-4b4e-87d1-ece2a1e72882",
   "metadata": {},
   "outputs": [
    {
     "data": {
      "text/plain": [
       "2062"
      ]
     },
     "execution_count": 7,
     "metadata": {},
     "output_type": "execute_result"
    }
   ],
   "source": [
    "mycarcount(cars, 1997)"
   ]
  },
  {
   "cell_type": "code",
   "execution_count": 8,
   "id": "9fc70953-335f-4b4f-aa57-5b8d9d884f60",
   "metadata": {},
   "outputs": [
    {
     "name": "stdout",
     "output_type": "stream",
     "text": [
      "On the year 2011 there were a total of 26532 vehicles\n",
      "On the year 1989 there were a total of 630 vehicles\n",
      "On the year 1997 there were a total of 2062 vehicles\n"
     ]
    }
   ],
   "source": [
    "# This is for loop for the list of year as parameter and take \n",
    "# To prints the number of vehicles from each year in the list\n",
    "# The syntax code has a comma separator in it\n",
    "\n",
    "for year in [2011, 1989, 1997]:\n",
    "    print(f'On the year', year, 'there were a total of', mycarcount(cars, year), 'vehicles')\n"
   ]
  },
  {
   "cell_type": "code",
   "execution_count": 9,
   "id": "ae4ac3e5-5eac-4d3a-808e-2037c434ee94",
   "metadata": {},
   "outputs": [
    {
     "name": "stdout",
     "output_type": "stream",
     "text": [
      "On the year 2011 there were a total of 26532 vehicles\n",
      "On the year 1989 there were a total of 630 vehicles\n",
      "On the year 1997 there were a total of 2062 vehicles\n"
     ]
    }
   ],
   "source": [
    "# This is for loop for the list of year as parameter and take \n",
    "# To prints the number of vehicles from each year in the  list\n",
    "# The syntax code has a curly bracket in it\n",
    "\n",
    "for year in [2011, 1989, 1997]:\n",
    "    print(f'On the year {year} there were a total of', mycarcount(cars, year), 'vehicles')"
   ]
  },
  {
   "cell_type": "code",
   "execution_count": 41,
   "id": "dbc7c7bf-473c-4d24-a3c0-97659f1afaec",
   "metadata": {},
   "outputs": [],
   "source": [
    "def mycarcount(cars,listofyear):\n",
    "    \"\"\"\n",
    "    mycarcount is a function that accept cars and listofyear as argument\n",
    "    and print the total number of cars that occur from each year in the list.\n",
    "    \n",
    "    Args:\n",
    "    cars (df): The dataframe from which we are counting the number of cars.\n",
    "   listofyear (int): The years on which we are counting the number of vehicles.\n",
    "    \n",
    "   print:\n",
    "        The total numbers of cars from each year in the listofyear \n",
    "    \"\"\"\n",
    "    # you are telling the python to run a row at atime and compare the values within the row\n",
    "    # for loop for each year in the listofyear\n",
    "    \n",
    "    for year in listofyear:\n",
    "        total_count = 0\n",
    "        for index, row in cars.iterrows ():\n",
    "            if row ['year'] ==year:\n",
    "                total_count +=1\n",
    "        print (total_count) \n",
    "        "
   ]
  },
  {
   "cell_type": "code",
   "execution_count": 43,
   "id": "75d53b68-a293-4866-b9e4-b714dda6879b",
   "metadata": {},
   "outputs": [
    {
     "name": "stdout",
     "output_type": "stream",
     "text": [
      "26532\n",
      "630\n",
      "2062\n"
     ]
    }
   ],
   "source": [
    "mycarcount(cars, [2011, 1989, 1997])"
   ]
  },
  {
   "cell_type": "code",
   "execution_count": 19,
   "id": "af17cdde-9f84-44fe-9b2e-1de1a91668be",
   "metadata": {},
   "outputs": [],
   "source": [
    "def mycarcount(listofyear):\n",
    "    \"\"\"\n",
    "    mycarcount is a function that accept one argument, listofyear as an argument\n",
    "    and print the total number of cars that occur from each year in the list.\n",
    "    \n",
    "    Args:\n",
    "    cars (df): The dataframe from which we are counting the number of cars.\n",
    "    year (int): The years on which we are counting the number of vehicles.\n",
    "    \n",
    "    print:\n",
    "        The total numbers of cars from each year in the listofyear \n",
    "    \"\"\"\n",
    "    # First, you have to run the Dataframe from which to count the number of cars from\n",
    "    # you are telling the python to run a row at atime and compare the values within the row\n",
    "    \n",
    "    cars = pd.read_csv(\"/anvil/projects/tdm/data/craigslist/vehicles.csv\")\n",
    "    for year in listofyear:\n",
    "        total_count = 0\n",
    "        for index, row in cars.iterrows ():\n",
    "            if row ['year'] ==year:\n",
    "                total_count +=1 \n",
    "        print(total_count)"
   ]
  },
  {
   "cell_type": "code",
   "execution_count": 45,
   "id": "e6843017-f3f8-4a4d-91eb-001e4690687d",
   "metadata": {},
   "outputs": [
    {
     "name": "stdout",
     "output_type": "stream",
     "text": [
      "26532\n",
      "630\n",
      "2062\n"
     ]
    }
   ],
   "source": [
    "mycarcount([2011, 1989, 1997])"
   ]
  },
  {
   "cell_type": "markdown",
   "id": "b456e57c-4a12-464b-999a-ef2df5af80c1",
   "metadata": {},
   "source": [
    "Modify your mycarcount function from Question 1 of Project 5, so that it takes a list of years as a parameter, and prints the number of vehicles from each year in your list.\n",
    "\n",
    "Now test your mycarcount function on the list of years [2011, 1989, 1997]. The output from mycarcount(cars, [2011, 1989, 1997]) or from mycarcount([2011, 1989, 1997]) should be the number of vehicles from each of the years 2011, 1989, and 1997, respectively."
   ]
  },
  {
   "cell_type": "markdown",
   "id": "fc601975-35ed-4680-a4e1-0273ee3cc047",
   "metadata": {},
   "source": [
    "## Question 2"
   ]
  },
  {
   "cell_type": "code",
   "execution_count": 22,
   "id": "7c7cf274-bfa0-45a1-8653-bbd57bbc989f",
   "metadata": {},
   "outputs": [],
   "source": [
    "def records(region,year):  \n",
    "    \"\"\"\n",
    "    records is a function that accept region and year as argument\n",
    "    and returns the number of cars that occur in each year for cars.\n",
    "    \n",
    "    Args:\n",
    "    region(str): The region which we are counting the number of cars.\n",
    "    year (int): The years on which we are counting the number of vehicles.\n",
    "    \n",
    "    Returns:\n",
    "        The numbers of cars on each region during each year \n",
    "    \"\"\"\n",
    "# First, you have to run the Dataframe from which to count the number of cars from\n",
    "# you are telling the python to run a row at atime and compare the values within the row\n",
    "\n",
    "    total_count=0\n",
    "    cars = pd.read_csv(\"/anvil/projects/tdm/data/craigslist/vehicles.csv\")\n",
    "    for index, row in cars.iterrows ():\n",
    "        if (row ['year'] ==year) and (row ['region'] ==region):\n",
    "            total_count +=1   \n",
    "    return total_count "
   ]
  },
  {
   "cell_type": "code",
   "execution_count": 30,
   "id": "eca13aea-8f62-413a-adc6-56f571634532",
   "metadata": {},
   "outputs": [],
   "source": [
    "# first define what year is, to be list of years\n",
    "year=[2016, 2017, 2018]"
   ]
  },
  {
   "cell_type": "code",
   "execution_count": 31,
   "id": "49449f27-f297-4200-bbc0-a0997b697df7",
   "metadata": {},
   "outputs": [
    {
     "name": "stdout",
     "output_type": "stream",
     "text": [
      "On the year 2016 there were a total of 189 vehicles from chicago\n",
      "On the year 2017 there were a total of 184 vehicles from chicago\n",
      "On the year 2018 there were a total of 87 vehicles from chicago\n"
     ]
    }
   ],
   "source": [
    "# Different ways to write the syntax code.\n",
    "\n",
    "for i in (year):\n",
    "    a =records(\"chicago\",i)\n",
    "    print (f'On the year', i, 'there were a total of', a, 'vehicles from chicago')"
   ]
  },
  {
   "cell_type": "code",
   "execution_count": 25,
   "id": "d8aff6ca-9288-453f-81cf-fec09a42be78",
   "metadata": {},
   "outputs": [
    {
     "name": "stdout",
     "output_type": "stream",
     "text": [
      "On the year 2016 there were a total of 189 vehicles from chicago\n",
      "On the year 2017 there were a total of 184 vehicles from chicago\n",
      "On the year 2018 there were a total of 87 vehicles from chicago\n"
     ]
    }
   ],
   "source": [
    "for i in [2016, 2017, 2018]:\n",
    "    a =records(\"chicago\",i)\n",
    "    print (f'On the year', i, 'there were a total of', a, 'vehicles from chicago')"
   ]
  },
  {
   "cell_type": "code",
   "execution_count": 26,
   "id": "c76d47ca-6170-4a74-972d-e9dbbf6bcde1",
   "metadata": {},
   "outputs": [
    {
     "name": "stdout",
     "output_type": "stream",
     "text": [
      "189 2016\n",
      "184 2017\n",
      "87 2018\n"
     ]
    }
   ],
   "source": [
    "for year in [2016, 2017, 2018]:\n",
    "    counts=records(\"chicago\",year)\n",
    "    print (counts, year)"
   ]
  },
  {
   "cell_type": "code",
   "execution_count": 57,
   "id": "80c120c0-d357-4de3-9a00-c4a640b047df",
   "metadata": {},
   "outputs": [
    {
     "name": "stdout",
     "output_type": "stream",
     "text": [
      "On the year {2016} there were a total of 189 vehicles from chicago\n",
      "On the year {2016} there were a total of 199 vehicles from indianapolis\n",
      "On the year {2016} there were a total of 263 vehicles from cincinnati\n",
      "On the year {2017} there were a total of 184 vehicles from chicago\n",
      "On the year {2017} there were a total of 320 vehicles from indianapolis\n",
      "On the year {2017} there were a total of 271 vehicles from cincinnati\n",
      "On the year {2018} there were a total of 87 vehicles from chicago\n",
      "On the year {2018} there were a total of 154 vehicles from indianapolis\n",
      "On the year {2018} there were a total of 130 vehicles from cincinnati\n"
     ]
    }
   ],
   "source": [
    "# Double for loop\n",
    "\n",
    "for year in [2016,2017,2018]:\n",
    "    for region in['chicago','indianapolis','cincinnati']:\n",
    "        print(f'On the year', {year}, 'there were a total of', records(region,year),f'vehicles from {region}')"
   ]
  },
  {
   "cell_type": "markdown",
   "id": "14dc22d4-ddc3-41cc-a91a-cb0025bc0c80",
   "metadata": {},
   "source": [
    "Write a loop that prints the number of vehicles from chicago as the region in each of the years 2016, 2017, 2018. (I.e., you should have 3 lines of output.)\n",
    "\n",
    "Now write a double-loop that prints the number of vehicles from each region in the list [chicago, indianapolis, cincinnati] in each of the years 2016, 2017, 2018. (I.e., you should have 9 lines of output.)"
   ]
  },
  {
   "cell_type": "markdown",
   "id": "8e586edd-ff26-4ce2-8f6b-2424b26f2929",
   "metadata": {},
   "source": [
    "## Question 3"
   ]
  },
  {
   "cell_type": "code",
   "execution_count": 60,
   "id": "bbe0f40d-9655-4653-9ca8-886bdb61cb91",
   "metadata": {},
   "outputs": [
    {
     "name": "stdout",
     "output_type": "stream",
     "text": [
      "On the year {2016} there were a total of 189 vehicles from chicago\n",
      "On the year {2016} there were a total of 199 vehicles from indianapolis\n",
      "On the year {2016} there were a total of 263 vehicles from cincinnati\n",
      "On the year {2017} there were a total of 184 vehicles from chicago\n",
      "On the year {2017} there were a total of 320 vehicles from indianapolis\n",
      "On the year {2017} there were a total of 271 vehicles from cincinnati\n",
      "On the year {2018} there were a total of 87 vehicles from chicago\n",
      "On the year {2018} there were a total of 154 vehicles from indianapolis\n",
      "On the year {2018} there were a total of 130 vehicles from cincinnati\n"
     ]
    }
   ],
   "source": [
    "for year in [2016,2017,2018]:\n",
    "    for region in['chicago','indianapolis','cincinnati']:\n",
    "        print(f'On the year', {year}, 'there were a total of', records(region,year),f'vehicles from {region}')"
   ]
  },
  {
   "cell_type": "code",
   "execution_count": 45,
   "id": "3005c217-5976-4a5f-be65-b8f4fe7c5296",
   "metadata": {},
   "outputs": [],
   "source": [
    "def rv(mylistofyear, mylistofregion):\n",
    "    \"\"\"\n",
    "   rv is a function that accepts mylistofyear and mylistofregion as arguments,\n",
    "    and returns the number of vehicles that during on each year in mylistofyear and each car in mylistofregion.\n",
    "\n",
    "    Args:\n",
    "        mylistofyear (list): The year on which we are counting the number of cars.\n",
    "        mylistofregion (list): The cars on which we are counting in a region.\n",
    "\n",
    "    Returns:\n",
    "        Nothing.  Instead, we just print the values on each year for the cars.\n",
    "    \"\"\"\n",
    "    for year in mylistofyear:\n",
    "        for region in mylistofregion:\n",
    "            print(f'On the year', {year}, 'there were a total of', records(region,year),f'vehicles from {region}')"
   ]
  },
  {
   "cell_type": "code",
   "execution_count": 46,
   "id": "059ccc50-7f31-461b-8d81-c298f7a6b786",
   "metadata": {},
   "outputs": [
    {
     "name": "stdout",
     "output_type": "stream",
     "text": [
      "On the year {2011} there were a total of 157 vehicles from chicago\n",
      "On the year {2011} there were a total of 147 vehicles from indianapolis\n",
      "On the year {2011} there were a total of 170 vehicles from cincinnati\n",
      "On the year {1989} there were a total of 11 vehicles from chicago\n",
      "On the year {1989} there were a total of 2 vehicles from indianapolis\n",
      "On the year {1989} there were a total of 4 vehicles from cincinnati\n",
      "On the year {1997} there were a total of 12 vehicles from chicago\n",
      "On the year {1997} there were a total of 9 vehicles from indianapolis\n",
      "On the year {1997} there were a total of 9 vehicles from cincinnati\n"
     ]
    }
   ],
   "source": [
    "rv([2011,1989,1997], ['chicago','indianapolis','cincinnati'])\n"
   ]
  },
  {
   "cell_type": "code",
   "execution_count": 32,
   "id": "df0c3d73-e391-4325-8d39-5d28a9adc337",
   "metadata": {},
   "outputs": [],
   "source": [
    "# To lnow the different Origin available\n",
    "# You will consider for a particular year (1989)\n",
    "# Then look for the uniqueness\n",
    "\n",
    "cars = pd.read_csv(\"/anvil/projects/tdm/data/craigslist/vehicles.csv\")"
   ]
  },
  {
   "cell_type": "code",
   "execution_count": 38,
   "id": "5ef1526b-26f2-4081-9806-38d7c94f1dd0",
   "metadata": {},
   "outputs": [],
   "source": [
    "pd.options.display.max_columns = None"
   ]
  },
  {
   "cell_type": "code",
   "execution_count": 41,
   "id": "c5ad1bd6-c142-407f-9450-e34d511d29e5",
   "metadata": {},
   "outputs": [
    {
     "data": {
      "text/html": [
       "<div>\n",
       "<style scoped>\n",
       "    .dataframe tbody tr th:only-of-type {\n",
       "        vertical-align: middle;\n",
       "    }\n",
       "\n",
       "    .dataframe tbody tr th {\n",
       "        vertical-align: top;\n",
       "    }\n",
       "\n",
       "    .dataframe thead th {\n",
       "        text-align: right;\n",
       "    }\n",
       "</style>\n",
       "<table border=\"1\" class=\"dataframe\">\n",
       "  <thead>\n",
       "    <tr style=\"text-align: right;\">\n",
       "      <th></th>\n",
       "      <th>id</th>\n",
       "      <th>url</th>\n",
       "      <th>region</th>\n",
       "      <th>region_url</th>\n",
       "      <th>price</th>\n",
       "      <th>year</th>\n",
       "      <th>manufacturer</th>\n",
       "      <th>model</th>\n",
       "      <th>condition</th>\n",
       "      <th>cylinders</th>\n",
       "      <th>fuel</th>\n",
       "      <th>odometer</th>\n",
       "      <th>title_status</th>\n",
       "      <th>transmission</th>\n",
       "      <th>vin</th>\n",
       "      <th>drive</th>\n",
       "      <th>size</th>\n",
       "      <th>type</th>\n",
       "      <th>paint_color</th>\n",
       "      <th>image_url</th>\n",
       "      <th>description</th>\n",
       "      <th>county</th>\n",
       "      <th>state</th>\n",
       "      <th>lat</th>\n",
       "      <th>long</th>\n",
       "    </tr>\n",
       "  </thead>\n",
       "  <tbody>\n",
       "    <tr>\n",
       "      <th>0</th>\n",
       "      <td>7119256118</td>\n",
       "      <td>https://mohave.craigslist.org/ctd/d/lake-havas...</td>\n",
       "      <td>mohave county</td>\n",
       "      <td>https://mohave.craigslist.org</td>\n",
       "      <td>3495</td>\n",
       "      <td>2012.0</td>\n",
       "      <td>jeep</td>\n",
       "      <td>patriot</td>\n",
       "      <td>like new</td>\n",
       "      <td>4 cylinders</td>\n",
       "      <td>gas</td>\n",
       "      <td>NaN</td>\n",
       "      <td>clean</td>\n",
       "      <td>automatic</td>\n",
       "      <td>NaN</td>\n",
       "      <td>NaN</td>\n",
       "      <td>NaN</td>\n",
       "      <td>NaN</td>\n",
       "      <td>silver</td>\n",
       "      <td>https://images.craigslist.org/00B0B_k2AXIJ21ok...</td>\n",
       "      <td>THIS 2012 JEEP PATRIOT IS A 4CYL. AC, STEREO, ...</td>\n",
       "      <td>NaN</td>\n",
       "      <td>az</td>\n",
       "      <td>34.4554</td>\n",
       "      <td>-114.2690</td>\n",
       "    </tr>\n",
       "    <tr>\n",
       "      <th>1</th>\n",
       "      <td>7120880186</td>\n",
       "      <td>https://oregoncoast.craigslist.org/cto/d/warre...</td>\n",
       "      <td>oregon coast</td>\n",
       "      <td>https://oregoncoast.craigslist.org</td>\n",
       "      <td>13750</td>\n",
       "      <td>2014.0</td>\n",
       "      <td>bmw</td>\n",
       "      <td>328i m-sport</td>\n",
       "      <td>good</td>\n",
       "      <td>NaN</td>\n",
       "      <td>gas</td>\n",
       "      <td>76237.0</td>\n",
       "      <td>clean</td>\n",
       "      <td>automatic</td>\n",
       "      <td>NaN</td>\n",
       "      <td>rwd</td>\n",
       "      <td>NaN</td>\n",
       "      <td>sedan</td>\n",
       "      <td>grey</td>\n",
       "      <td>https://images.craigslist.org/00U0U_3cLk0WGOJ8...</td>\n",
       "      <td>Selling my 2014 BMW 328i with the following be...</td>\n",
       "      <td>NaN</td>\n",
       "      <td>or</td>\n",
       "      <td>46.1837</td>\n",
       "      <td>-123.8240</td>\n",
       "    </tr>\n",
       "    <tr>\n",
       "      <th>2</th>\n",
       "      <td>7115048251</td>\n",
       "      <td>https://greenville.craigslist.org/cto/d/sparta...</td>\n",
       "      <td>greenville / upstate</td>\n",
       "      <td>https://greenville.craigslist.org</td>\n",
       "      <td>2300</td>\n",
       "      <td>2001.0</td>\n",
       "      <td>dodge</td>\n",
       "      <td>caravan</td>\n",
       "      <td>excellent</td>\n",
       "      <td>6 cylinders</td>\n",
       "      <td>gas</td>\n",
       "      <td>199000.0</td>\n",
       "      <td>clean</td>\n",
       "      <td>automatic</td>\n",
       "      <td>NaN</td>\n",
       "      <td>NaN</td>\n",
       "      <td>NaN</td>\n",
       "      <td>NaN</td>\n",
       "      <td>NaN</td>\n",
       "      <td>https://images.craigslist.org/00k0k_t4WqYn5nDC...</td>\n",
       "      <td>01 DODGE CARAVAN,3.3 ENGINE,AUT TRANS,199000 M...</td>\n",
       "      <td>NaN</td>\n",
       "      <td>sc</td>\n",
       "      <td>34.9352</td>\n",
       "      <td>-81.9654</td>\n",
       "    </tr>\n",
       "    <tr>\n",
       "      <th>3</th>\n",
       "      <td>7119250502</td>\n",
       "      <td>https://mohave.craigslist.org/cto/d/lake-havas...</td>\n",
       "      <td>mohave county</td>\n",
       "      <td>https://mohave.craigslist.org</td>\n",
       "      <td>9000</td>\n",
       "      <td>2004.0</td>\n",
       "      <td>chevrolet</td>\n",
       "      <td>colorado ls</td>\n",
       "      <td>excellent</td>\n",
       "      <td>5 cylinders</td>\n",
       "      <td>gas</td>\n",
       "      <td>54000.0</td>\n",
       "      <td>clean</td>\n",
       "      <td>automatic</td>\n",
       "      <td>1GCCS196448191644</td>\n",
       "      <td>rwd</td>\n",
       "      <td>mid-size</td>\n",
       "      <td>pickup</td>\n",
       "      <td>red</td>\n",
       "      <td>https://images.craigslist.org/00J0J_lJEzfeVLHI...</td>\n",
       "      <td>2004 Chevy Colorado LS, ONLY 54000 ORIGINAL MI...</td>\n",
       "      <td>NaN</td>\n",
       "      <td>az</td>\n",
       "      <td>34.4783</td>\n",
       "      <td>-114.2710</td>\n",
       "    </tr>\n",
       "    <tr>\n",
       "      <th>4</th>\n",
       "      <td>7120433904</td>\n",
       "      <td>https://maine.craigslist.org/ctd/d/searsport-t...</td>\n",
       "      <td>maine</td>\n",
       "      <td>https://maine.craigslist.org</td>\n",
       "      <td>0</td>\n",
       "      <td>2021.0</td>\n",
       "      <td>NaN</td>\n",
       "      <td>Honda-Nissan-Kia-Ford-Hyundai-VW</td>\n",
       "      <td>NaN</td>\n",
       "      <td>NaN</td>\n",
       "      <td>other</td>\n",
       "      <td>NaN</td>\n",
       "      <td>clean</td>\n",
       "      <td>other</td>\n",
       "      <td>NaN</td>\n",
       "      <td>NaN</td>\n",
       "      <td>NaN</td>\n",
       "      <td>NaN</td>\n",
       "      <td>NaN</td>\n",
       "      <td>https://images.craigslist.org/01010_j0IW34mCsm...</td>\n",
       "      <td>CALL: 207.548.6500 TEXT: 207.407.5598  **WE FI...</td>\n",
       "      <td>NaN</td>\n",
       "      <td>me</td>\n",
       "      <td>44.4699</td>\n",
       "      <td>-68.8963</td>\n",
       "    </tr>\n",
       "  </tbody>\n",
       "</table>\n",
       "</div>"
      ],
      "text/plain": [
       "           id                                                url  \\\n",
       "0  7119256118  https://mohave.craigslist.org/ctd/d/lake-havas...   \n",
       "1  7120880186  https://oregoncoast.craigslist.org/cto/d/warre...   \n",
       "2  7115048251  https://greenville.craigslist.org/cto/d/sparta...   \n",
       "3  7119250502  https://mohave.craigslist.org/cto/d/lake-havas...   \n",
       "4  7120433904  https://maine.craigslist.org/ctd/d/searsport-t...   \n",
       "\n",
       "                 region                          region_url  price    year  \\\n",
       "0         mohave county       https://mohave.craigslist.org   3495  2012.0   \n",
       "1          oregon coast  https://oregoncoast.craigslist.org  13750  2014.0   \n",
       "2  greenville / upstate   https://greenville.craigslist.org   2300  2001.0   \n",
       "3         mohave county       https://mohave.craigslist.org   9000  2004.0   \n",
       "4                 maine        https://maine.craigslist.org      0  2021.0   \n",
       "\n",
       "  manufacturer                             model  condition    cylinders  \\\n",
       "0         jeep                           patriot   like new  4 cylinders   \n",
       "1          bmw                      328i m-sport       good          NaN   \n",
       "2        dodge                           caravan  excellent  6 cylinders   \n",
       "3    chevrolet                       colorado ls  excellent  5 cylinders   \n",
       "4          NaN  Honda-Nissan-Kia-Ford-Hyundai-VW        NaN          NaN   \n",
       "\n",
       "    fuel  odometer title_status transmission                vin drive  \\\n",
       "0    gas       NaN        clean    automatic                NaN   NaN   \n",
       "1    gas   76237.0        clean    automatic                NaN   rwd   \n",
       "2    gas  199000.0        clean    automatic                NaN   NaN   \n",
       "3    gas   54000.0        clean    automatic  1GCCS196448191644   rwd   \n",
       "4  other       NaN        clean        other                NaN   NaN   \n",
       "\n",
       "       size    type paint_color  \\\n",
       "0       NaN     NaN      silver   \n",
       "1       NaN   sedan        grey   \n",
       "2       NaN     NaN         NaN   \n",
       "3  mid-size  pickup         red   \n",
       "4       NaN     NaN         NaN   \n",
       "\n",
       "                                           image_url  \\\n",
       "0  https://images.craigslist.org/00B0B_k2AXIJ21ok...   \n",
       "1  https://images.craigslist.org/00U0U_3cLk0WGOJ8...   \n",
       "2  https://images.craigslist.org/00k0k_t4WqYn5nDC...   \n",
       "3  https://images.craigslist.org/00J0J_lJEzfeVLHI...   \n",
       "4  https://images.craigslist.org/01010_j0IW34mCsm...   \n",
       "\n",
       "                                         description  county state      lat  \\\n",
       "0  THIS 2012 JEEP PATRIOT IS A 4CYL. AC, STEREO, ...     NaN    az  34.4554   \n",
       "1  Selling my 2014 BMW 328i with the following be...     NaN    or  46.1837   \n",
       "2  01 DODGE CARAVAN,3.3 ENGINE,AUT TRANS,199000 M...     NaN    sc  34.9352   \n",
       "3  2004 Chevy Colorado LS, ONLY 54000 ORIGINAL MI...     NaN    az  34.4783   \n",
       "4  CALL: 207.548.6500 TEXT: 207.407.5598  **WE FI...     NaN    me  44.4699   \n",
       "\n",
       "       long  \n",
       "0 -114.2690  \n",
       "1 -123.8240  \n",
       "2  -81.9654  \n",
       "3 -114.2710  \n",
       "4  -68.8963  "
      ]
     },
     "execution_count": 41,
     "metadata": {},
     "output_type": "execute_result"
    }
   ],
   "source": [
    "cars.head()"
   ]
  },
  {
   "cell_type": "code",
   "execution_count": 42,
   "id": "bb04670f-4041-4f4d-ac61-b17ca69ea8ae",
   "metadata": {},
   "outputs": [
    {
     "data": {
      "text/html": [
       "<div>\n",
       "<style scoped>\n",
       "    .dataframe tbody tr th:only-of-type {\n",
       "        vertical-align: middle;\n",
       "    }\n",
       "\n",
       "    .dataframe tbody tr th {\n",
       "        vertical-align: top;\n",
       "    }\n",
       "\n",
       "    .dataframe thead th {\n",
       "        text-align: right;\n",
       "    }\n",
       "</style>\n",
       "<table border=\"1\" class=\"dataframe\">\n",
       "  <thead>\n",
       "    <tr style=\"text-align: right;\">\n",
       "      <th></th>\n",
       "      <th>id</th>\n",
       "      <th>url</th>\n",
       "      <th>region</th>\n",
       "      <th>region_url</th>\n",
       "      <th>price</th>\n",
       "      <th>year</th>\n",
       "      <th>manufacturer</th>\n",
       "      <th>model</th>\n",
       "      <th>condition</th>\n",
       "      <th>cylinders</th>\n",
       "      <th>fuel</th>\n",
       "      <th>odometer</th>\n",
       "      <th>title_status</th>\n",
       "      <th>transmission</th>\n",
       "      <th>vin</th>\n",
       "      <th>drive</th>\n",
       "      <th>size</th>\n",
       "      <th>type</th>\n",
       "      <th>paint_color</th>\n",
       "      <th>image_url</th>\n",
       "      <th>description</th>\n",
       "      <th>county</th>\n",
       "      <th>state</th>\n",
       "      <th>lat</th>\n",
       "      <th>long</th>\n",
       "    </tr>\n",
       "  </thead>\n",
       "  <tbody>\n",
       "    <tr>\n",
       "      <th>435844</th>\n",
       "      <td>7119262300</td>\n",
       "      <td>https://mohave.craigslist.org/cto/d/hualapai-2...</td>\n",
       "      <td>mohave county</td>\n",
       "      <td>https://mohave.craigslist.org</td>\n",
       "      <td>2500</td>\n",
       "      <td>2005.0</td>\n",
       "      <td>ford</td>\n",
       "      <td>f150</td>\n",
       "      <td>fair</td>\n",
       "      <td>NaN</td>\n",
       "      <td>gas</td>\n",
       "      <td>282866.0</td>\n",
       "      <td>clean</td>\n",
       "      <td>automatic</td>\n",
       "      <td>NaN</td>\n",
       "      <td>NaN</td>\n",
       "      <td>full-size</td>\n",
       "      <td>truck</td>\n",
       "      <td>white</td>\n",
       "      <td>https://images.craigslist.org/01717_j8qym31Rea...</td>\n",
       "      <td>2005 F150 XLT 5.4 TRITON NEEDS ENGINE, 2WD.  A...</td>\n",
       "      <td>NaN</td>\n",
       "      <td>az</td>\n",
       "      <td>35.2414</td>\n",
       "      <td>-113.989</td>\n",
       "    </tr>\n",
       "    <tr>\n",
       "      <th>435845</th>\n",
       "      <td>7112219717</td>\n",
       "      <td>https://rapidcity.craigslist.org/cto/d/rapid-c...</td>\n",
       "      <td>rapid city / west SD</td>\n",
       "      <td>https://rapidcity.craigslist.org</td>\n",
       "      <td>2700</td>\n",
       "      <td>2002.0</td>\n",
       "      <td>toyota</td>\n",
       "      <td>camry</td>\n",
       "      <td>good</td>\n",
       "      <td>6 cylinders</td>\n",
       "      <td>gas</td>\n",
       "      <td>194000.0</td>\n",
       "      <td>clean</td>\n",
       "      <td>automatic</td>\n",
       "      <td>NaN</td>\n",
       "      <td>fwd</td>\n",
       "      <td>NaN</td>\n",
       "      <td>NaN</td>\n",
       "      <td>blue</td>\n",
       "      <td>https://images.craigslist.org/00A0A_6g8sllmOsF...</td>\n",
       "      <td>2002 Toyota Camry.  4-door, navy blue, good ti...</td>\n",
       "      <td>NaN</td>\n",
       "      <td>sd</td>\n",
       "      <td>44.0036</td>\n",
       "      <td>-103.359</td>\n",
       "    </tr>\n",
       "    <tr>\n",
       "      <th>435846</th>\n",
       "      <td>7120896708</td>\n",
       "      <td>https://oregoncoast.craigslist.org/cto/d/corne...</td>\n",
       "      <td>oregon coast</td>\n",
       "      <td>https://oregoncoast.craigslist.org</td>\n",
       "      <td>2450</td>\n",
       "      <td>2001.0</td>\n",
       "      <td>ford</td>\n",
       "      <td>focus</td>\n",
       "      <td>good</td>\n",
       "      <td>4 cylinders</td>\n",
       "      <td>gas</td>\n",
       "      <td>130484.0</td>\n",
       "      <td>clean</td>\n",
       "      <td>automatic</td>\n",
       "      <td>NaN</td>\n",
       "      <td>rwd</td>\n",
       "      <td>compact</td>\n",
       "      <td>other</td>\n",
       "      <td>black</td>\n",
       "      <td>https://images.craigslist.org/00707_6cmfCa9Pc9...</td>\n",
       "      <td>I am selling my ford focus 2001 SE, 130 thousa...</td>\n",
       "      <td>NaN</td>\n",
       "      <td>or</td>\n",
       "      <td>45.5272</td>\n",
       "      <td>-123.095</td>\n",
       "    </tr>\n",
       "    <tr>\n",
       "      <th>435847</th>\n",
       "      <td>7120885819</td>\n",
       "      <td>https://oregoncoast.craigslist.org/ctd/d/portl...</td>\n",
       "      <td>oregon coast</td>\n",
       "      <td>https://oregoncoast.craigslist.org</td>\n",
       "      <td>8995</td>\n",
       "      <td>2013.0</td>\n",
       "      <td>mazda</td>\n",
       "      <td>mazda3</td>\n",
       "      <td>NaN</td>\n",
       "      <td>NaN</td>\n",
       "      <td>gas</td>\n",
       "      <td>93339.0</td>\n",
       "      <td>clean</td>\n",
       "      <td>automatic</td>\n",
       "      <td>JM1BL1UPXD1758084</td>\n",
       "      <td>fwd</td>\n",
       "      <td>NaN</td>\n",
       "      <td>sedan</td>\n",
       "      <td>NaN</td>\n",
       "      <td>https://images.craigslist.org/00j0j_jEvFN3iSx1...</td>\n",
       "      <td>Simple Easy Car BuyingNo Games No Gimmicks    ...</td>\n",
       "      <td>NaN</td>\n",
       "      <td>or</td>\n",
       "      <td>45.5231</td>\n",
       "      <td>-122.579</td>\n",
       "    </tr>\n",
       "    <tr>\n",
       "      <th>435848</th>\n",
       "      <td>7112215161</td>\n",
       "      <td>https://rapidcity.craigslist.org/ctd/d/rapid-c...</td>\n",
       "      <td>rapid city / west SD</td>\n",
       "      <td>https://rapidcity.craigslist.org</td>\n",
       "      <td>6577</td>\n",
       "      <td>2010.0</td>\n",
       "      <td>dodge</td>\n",
       "      <td>grand caravan</td>\n",
       "      <td>NaN</td>\n",
       "      <td>NaN</td>\n",
       "      <td>gas</td>\n",
       "      <td>148721.0</td>\n",
       "      <td>clean</td>\n",
       "      <td>automatic</td>\n",
       "      <td>2D4RN5DX0AR140668</td>\n",
       "      <td>fwd</td>\n",
       "      <td>NaN</td>\n",
       "      <td>mini-van</td>\n",
       "      <td>blue</td>\n",
       "      <td>https://images.craigslist.org/00f0f_5yUMSGZFBn...</td>\n",
       "      <td>2010 Dodge Grand Caravan SXT     Offered by: L...</td>\n",
       "      <td>NaN</td>\n",
       "      <td>sd</td>\n",
       "      <td>44.0804</td>\n",
       "      <td>-103.191</td>\n",
       "    </tr>\n",
       "  </tbody>\n",
       "</table>\n",
       "</div>"
      ],
      "text/plain": [
       "                id                                                url  \\\n",
       "435844  7119262300  https://mohave.craigslist.org/cto/d/hualapai-2...   \n",
       "435845  7112219717  https://rapidcity.craigslist.org/cto/d/rapid-c...   \n",
       "435846  7120896708  https://oregoncoast.craigslist.org/cto/d/corne...   \n",
       "435847  7120885819  https://oregoncoast.craigslist.org/ctd/d/portl...   \n",
       "435848  7112215161  https://rapidcity.craigslist.org/ctd/d/rapid-c...   \n",
       "\n",
       "                      region                          region_url  price  \\\n",
       "435844         mohave county       https://mohave.craigslist.org   2500   \n",
       "435845  rapid city / west SD    https://rapidcity.craigslist.org   2700   \n",
       "435846          oregon coast  https://oregoncoast.craigslist.org   2450   \n",
       "435847          oregon coast  https://oregoncoast.craigslist.org   8995   \n",
       "435848  rapid city / west SD    https://rapidcity.craigslist.org   6577   \n",
       "\n",
       "          year manufacturer          model condition    cylinders fuel  \\\n",
       "435844  2005.0         ford           f150      fair          NaN  gas   \n",
       "435845  2002.0       toyota          camry      good  6 cylinders  gas   \n",
       "435846  2001.0         ford          focus      good  4 cylinders  gas   \n",
       "435847  2013.0        mazda         mazda3       NaN          NaN  gas   \n",
       "435848  2010.0        dodge  grand caravan       NaN          NaN  gas   \n",
       "\n",
       "        odometer title_status transmission                vin drive  \\\n",
       "435844  282866.0        clean    automatic                NaN   NaN   \n",
       "435845  194000.0        clean    automatic                NaN   fwd   \n",
       "435846  130484.0        clean    automatic                NaN   rwd   \n",
       "435847   93339.0        clean    automatic  JM1BL1UPXD1758084   fwd   \n",
       "435848  148721.0        clean    automatic  2D4RN5DX0AR140668   fwd   \n",
       "\n",
       "             size      type paint_color  \\\n",
       "435844  full-size     truck       white   \n",
       "435845        NaN       NaN        blue   \n",
       "435846    compact     other       black   \n",
       "435847        NaN     sedan         NaN   \n",
       "435848        NaN  mini-van        blue   \n",
       "\n",
       "                                                image_url  \\\n",
       "435844  https://images.craigslist.org/01717_j8qym31Rea...   \n",
       "435845  https://images.craigslist.org/00A0A_6g8sllmOsF...   \n",
       "435846  https://images.craigslist.org/00707_6cmfCa9Pc9...   \n",
       "435847  https://images.craigslist.org/00j0j_jEvFN3iSx1...   \n",
       "435848  https://images.craigslist.org/00f0f_5yUMSGZFBn...   \n",
       "\n",
       "                                              description  county state  \\\n",
       "435844  2005 F150 XLT 5.4 TRITON NEEDS ENGINE, 2WD.  A...     NaN    az   \n",
       "435845  2002 Toyota Camry.  4-door, navy blue, good ti...     NaN    sd   \n",
       "435846  I am selling my ford focus 2001 SE, 130 thousa...     NaN    or   \n",
       "435847  Simple Easy Car BuyingNo Games No Gimmicks    ...     NaN    or   \n",
       "435848  2010 Dodge Grand Caravan SXT     Offered by: L...     NaN    sd   \n",
       "\n",
       "            lat     long  \n",
       "435844  35.2414 -113.989  \n",
       "435845  44.0036 -103.359  \n",
       "435846  45.5272 -123.095  \n",
       "435847  45.5231 -122.579  \n",
       "435848  44.0804 -103.191  "
      ]
     },
     "execution_count": 42,
     "metadata": {},
     "output_type": "execute_result"
    }
   ],
   "source": [
    "cars.tail()"
   ]
  },
  {
   "cell_type": "code",
   "execution_count": 47,
   "id": "0e3f20da-56ac-471e-8c5d-68c95a8915d6",
   "metadata": {},
   "outputs": [
    {
     "name": "stdout",
     "output_type": "stream",
     "text": [
      "On the year {2011} there were a total of 66 vehicles from oregon coast\n",
      "On the year {2011} there were a total of 17 vehicles from mohave county\n",
      "On the year {2011} there were a total of 0 vehicles from maine\t\n",
      "On the year {1989} there were a total of 1 vehicles from oregon coast\n",
      "On the year {1989} there were a total of 4 vehicles from mohave county\n",
      "On the year {1989} there were a total of 0 vehicles from maine\t\n",
      "On the year {1997} there were a total of 5 vehicles from oregon coast\n",
      "On the year {1997} there were a total of 2 vehicles from mohave county\n",
      "On the year {1997} there were a total of 0 vehicles from maine\t\n"
     ]
    }
   ],
   "source": [
    "rv([2011,1989,1997], ['oregon coast','mohave county','maine'])"
   ]
  },
  {
   "cell_type": "markdown",
   "id": "47c6229f-35f7-400c-8366-c442baa5cf47",
   "metadata": {},
   "source": [
    "Write a function with two arguments: a list of regions, and a list of years. The function should print a listing that shows the number of vehicles from each of those regions in each of those years. (I.e., it will print one line of output for each region during each year.)\n",
    "\n",
    "Use your new function to re-create the answer to question 2b.\n",
    "\n",
    "Test your function on some lists of regions and lists of years of your choice."
   ]
  },
  {
   "cell_type": "markdown",
   "id": "da22f29c-d245-4d2b-9fc1-ca14cb6087d9",
   "metadata": {},
   "source": [
    "## Question 4"
   ]
  },
  {
   "cell_type": "code",
   "execution_count": 2,
   "id": "8cffc767-d1c8-4d64-b7dc-f0d2ee8a80d1",
   "metadata": {},
   "outputs": [],
   "source": [
    "import pandas as pd\n",
    "from pathlib import Path"
   ]
  },
  {
   "cell_type": "code",
   "execution_count": 3,
   "id": "04925242-e4f4-4c67-97f8-e1b692b5f99b",
   "metadata": {},
   "outputs": [],
   "source": [
    "def getflight(myorigin, yr):\n",
    "    \n",
    "\n",
    "    total_count=0\n",
    "    airport = pd.read_csv(f'/anvil/projects/tdm/data/flights/subset/{yr}.csv')\n",
    "    for index, row in airport.iterrows ():\n",
    "        if row ['Origin'] ==myorigin:\n",
    "            total_count +=1   \n",
    "    return total_count   "
   ]
  },
  {
   "cell_type": "code",
   "execution_count": 28,
   "id": "7715def7-f373-4384-b5d5-8966bccb9e8d",
   "metadata": {},
   "outputs": [
    {
     "data": {
      "text/plain": [
       "37399"
      ]
     },
     "execution_count": 28,
     "metadata": {},
     "output_type": "execute_result"
    }
   ],
   "source": [
    "getflight(\"IND\", 1988)"
   ]
  },
  {
   "cell_type": "code",
   "execution_count": 29,
   "id": "1fed26ca-f2bb-4041-a99b-3db7d3723b71",
   "metadata": {},
   "outputs": [
    {
     "data": {
      "text/plain": [
       "40567"
      ]
     },
     "execution_count": 29,
     "metadata": {},
     "output_type": "execute_result"
    }
   ],
   "source": [
    "getflight(\"IND\", 1989)"
   ]
  },
  {
   "cell_type": "code",
   "execution_count": 30,
   "id": "bb32b64c-c339-434b-81e7-1168c90a6531",
   "metadata": {},
   "outputs": [
    {
     "data": {
      "text/plain": [
       "43826"
      ]
     },
     "execution_count": 30,
     "metadata": {},
     "output_type": "execute_result"
    }
   ],
   "source": [
    "getflight(\"IND\", 1990)"
   ]
  },
  {
   "cell_type": "code",
   "execution_count": 31,
   "id": "108d6d56-603d-4a5a-9fef-58edc7232279",
   "metadata": {},
   "outputs": [
    {
     "name": "stdout",
     "output_type": "stream",
     "text": [
      "1988:37399\n",
      "1989:40567\n",
      "1990:43826\n"
     ]
    }
   ],
   "source": [
    "for i in [1988, 1989, 1990]:\n",
    "    print(f\"{i}:{getflight(f'IND', i)}\")\n",
    "   "
   ]
  },
  {
   "cell_type": "code",
   "execution_count": 7,
   "id": "748ae462-28ac-4213-b5c2-057b63158c61",
   "metadata": {},
   "outputs": [
    {
     "name": "stdout",
     "output_type": "stream",
     "text": [
      "On the year 1988 there were a total of 37399 flights\n",
      "On the year 1989 there were a total of 40567 flights\n",
      "On the year 1990 there were a total of 43826 flights\n"
     ]
    }
   ],
   "source": [
    "for yr in [1988, 1989, 1990]:\n",
    " \n",
    "    print(f'On the year {yr} there were a total of', getflight(\"IND\", yr), 'flights')"
   ]
  },
  {
   "cell_type": "code",
   "execution_count": 5,
   "id": "2dc0217d-2cc8-4225-984c-bbaccf29241b",
   "metadata": {},
   "outputs": [
    {
     "name": "stdout",
     "output_type": "stream",
     "text": [
      "On the year 1988 there were a total of 37399 flights from IND\n",
      "On the year 1988 there were a total of 271494 flights from ORD\n",
      "On the year 1988 there were a total of 62273 flights from CVG\n",
      "On the year 1989 there were a total of 40567 flights from IND\n",
      "On the year 1989 there were a total of 261259 flights from ORD\n",
      "On the year 1989 there were a total of 59945 flights from CVG\n",
      "On the year 1990 there were a total of 43826 flights from IND\n",
      "On the year 1990 there were a total of 269128 flights from ORD\n",
      "On the year 1990 there were a total of 63610 flights from CVG\n"
     ]
    }
   ],
   "source": [
    "for yr in [1988, 1989, 1990]:\n",
    "    for myorigin in['IND', 'ORD', 'CVG']:\n",
    "        print(f'On the year {yr} there were a total of', getflight(myorigin, yr),f'flights from {myorigin}')"
   ]
  },
  {
   "cell_type": "markdown",
   "id": "0d552245-b4d6-474a-9cc9-fa7b8e674d55",
   "metadata": {},
   "source": [
    "Write a loop that prints the number of flights that depart from IND as the Origin airport in each of the years 1988, 1989, 1990. (I.e., you should have 3 lines of output.)\n",
    "\n",
    "Now write a double-loop that prints the number of flights that depart from each of the airports IND, ORD, CVG as the Origin airport in each of the years 1988, 1989, 1990. (I.e., you should have 9 lines of output.)"
   ]
  },
  {
   "cell_type": "markdown",
   "id": "88c9cdac-3e92-498f-83fa-e089bfc44ac8",
   "metadata": {},
   "source": [
    "## Question 5"
   ]
  },
  {
   "cell_type": "code",
   "execution_count": 7,
   "id": "d370d7c9-06db-42b9-b75f-240481a5c491",
   "metadata": {},
   "outputs": [],
   "source": [
    "def getlist(mylistofyear, mylistoforigin):\n",
    "    \"\"\"\n",
    "  getlist is a function that accepts mylistofyear and mylistoforigin as arguments,\n",
    "    and returns the number of flights departing from each Origin airports during \n",
    "    each year in mylistofyear and each car in mylistoforigin.\n",
    "\n",
    "    Args:\n",
    "        mylistofyear (list): The year on which we are counting the number of flight.\n",
    "        mylistoforigin (list): The flights on which we are counting in a origin.\n",
    "\n",
    "    Returns:\n",
    "        Nothing.  Instead, we just print the values on each year for the cars.\n",
    "    \"\"\"\n",
    "    for yr in mylistofyear:\n",
    "        for myorigin in mylistoforigin:\n",
    "            print(f'On the year {yr} there were a total of', getflight(myorigin, yr),f'flights from {myorigin}')"
   ]
  },
  {
   "cell_type": "code",
   "execution_count": 8,
   "id": "578aec35-192e-4ba3-b60a-e165373b8699",
   "metadata": {},
   "outputs": [
    {
     "name": "stdout",
     "output_type": "stream",
     "text": [
      "On the year 1988 there were a total of 37399 vehicles ofIND\n",
      "On the year 1988 there were a total of 271494 vehicles ofORD\n",
      "On the year 1988 there were a total of 62273 vehicles ofCVG\n",
      "On the year 1989 there were a total of 40567 vehicles ofIND\n",
      "On the year 1989 there were a total of 261259 vehicles ofORD\n",
      "On the year 1989 there were a total of 59945 vehicles ofCVG\n",
      "On the year 1990 there were a total of 43826 vehicles ofIND\n",
      "On the year 1990 there were a total of 269128 vehicles ofORD\n",
      "On the year 1990 there were a total of 63610 vehicles ofCVG\n"
     ]
    }
   ],
   "source": [
    "for yr in [1988, 1989, 1990]:\n",
    "    for myorigin in['IND', 'ORD', 'CVG']:\n",
    "        print(f'On the year {yr} there were a total of', getflight(myorigin, yr),f'vehicles of{myorigin}')"
   ]
  },
  {
   "cell_type": "code",
   "execution_count": 8,
   "id": "2453285a-54d0-423d-90ef-e94d3c172a5b",
   "metadata": {},
   "outputs": [],
   "source": [
    "airport = pd.read_csv(f'/anvil/projects/tdm/data/flights/subset/1989.csv')"
   ]
  },
  {
   "cell_type": "code",
   "execution_count": 9,
   "id": "5439a65a-66e0-4b39-8639-d7613210ffcb",
   "metadata": {},
   "outputs": [
    {
     "data": {
      "text/html": [
       "<div>\n",
       "<style scoped>\n",
       "    .dataframe tbody tr th:only-of-type {\n",
       "        vertical-align: middle;\n",
       "    }\n",
       "\n",
       "    .dataframe tbody tr th {\n",
       "        vertical-align: top;\n",
       "    }\n",
       "\n",
       "    .dataframe thead th {\n",
       "        text-align: right;\n",
       "    }\n",
       "</style>\n",
       "<table border=\"1\" class=\"dataframe\">\n",
       "  <thead>\n",
       "    <tr style=\"text-align: right;\">\n",
       "      <th></th>\n",
       "      <th>Year</th>\n",
       "      <th>Month</th>\n",
       "      <th>DayofMonth</th>\n",
       "      <th>DayOfWeek</th>\n",
       "      <th>DepTime</th>\n",
       "      <th>CRSDepTime</th>\n",
       "      <th>ArrTime</th>\n",
       "      <th>CRSArrTime</th>\n",
       "      <th>UniqueCarrier</th>\n",
       "      <th>FlightNum</th>\n",
       "      <th>...</th>\n",
       "      <th>TaxiIn</th>\n",
       "      <th>TaxiOut</th>\n",
       "      <th>Cancelled</th>\n",
       "      <th>CancellationCode</th>\n",
       "      <th>Diverted</th>\n",
       "      <th>CarrierDelay</th>\n",
       "      <th>WeatherDelay</th>\n",
       "      <th>NASDelay</th>\n",
       "      <th>SecurityDelay</th>\n",
       "      <th>LateAircraftDelay</th>\n",
       "    </tr>\n",
       "  </thead>\n",
       "  <tbody>\n",
       "    <tr>\n",
       "      <th>0</th>\n",
       "      <td>1989</td>\n",
       "      <td>1</td>\n",
       "      <td>23</td>\n",
       "      <td>1</td>\n",
       "      <td>1419.0</td>\n",
       "      <td>1230</td>\n",
       "      <td>1742.0</td>\n",
       "      <td>1552</td>\n",
       "      <td>UA</td>\n",
       "      <td>183</td>\n",
       "      <td>...</td>\n",
       "      <td>NaN</td>\n",
       "      <td>NaN</td>\n",
       "      <td>0</td>\n",
       "      <td>NaN</td>\n",
       "      <td>0</td>\n",
       "      <td>NaN</td>\n",
       "      <td>NaN</td>\n",
       "      <td>NaN</td>\n",
       "      <td>NaN</td>\n",
       "      <td>NaN</td>\n",
       "    </tr>\n",
       "    <tr>\n",
       "      <th>1</th>\n",
       "      <td>1989</td>\n",
       "      <td>1</td>\n",
       "      <td>24</td>\n",
       "      <td>2</td>\n",
       "      <td>1255.0</td>\n",
       "      <td>1230</td>\n",
       "      <td>1612.0</td>\n",
       "      <td>1552</td>\n",
       "      <td>UA</td>\n",
       "      <td>183</td>\n",
       "      <td>...</td>\n",
       "      <td>NaN</td>\n",
       "      <td>NaN</td>\n",
       "      <td>0</td>\n",
       "      <td>NaN</td>\n",
       "      <td>0</td>\n",
       "      <td>NaN</td>\n",
       "      <td>NaN</td>\n",
       "      <td>NaN</td>\n",
       "      <td>NaN</td>\n",
       "      <td>NaN</td>\n",
       "    </tr>\n",
       "    <tr>\n",
       "      <th>2</th>\n",
       "      <td>1989</td>\n",
       "      <td>1</td>\n",
       "      <td>25</td>\n",
       "      <td>3</td>\n",
       "      <td>1230.0</td>\n",
       "      <td>1230</td>\n",
       "      <td>1533.0</td>\n",
       "      <td>1552</td>\n",
       "      <td>UA</td>\n",
       "      <td>183</td>\n",
       "      <td>...</td>\n",
       "      <td>NaN</td>\n",
       "      <td>NaN</td>\n",
       "      <td>0</td>\n",
       "      <td>NaN</td>\n",
       "      <td>0</td>\n",
       "      <td>NaN</td>\n",
       "      <td>NaN</td>\n",
       "      <td>NaN</td>\n",
       "      <td>NaN</td>\n",
       "      <td>NaN</td>\n",
       "    </tr>\n",
       "    <tr>\n",
       "      <th>3</th>\n",
       "      <td>1989</td>\n",
       "      <td>1</td>\n",
       "      <td>26</td>\n",
       "      <td>4</td>\n",
       "      <td>1230.0</td>\n",
       "      <td>1230</td>\n",
       "      <td>1523.0</td>\n",
       "      <td>1552</td>\n",
       "      <td>UA</td>\n",
       "      <td>183</td>\n",
       "      <td>...</td>\n",
       "      <td>NaN</td>\n",
       "      <td>NaN</td>\n",
       "      <td>0</td>\n",
       "      <td>NaN</td>\n",
       "      <td>0</td>\n",
       "      <td>NaN</td>\n",
       "      <td>NaN</td>\n",
       "      <td>NaN</td>\n",
       "      <td>NaN</td>\n",
       "      <td>NaN</td>\n",
       "    </tr>\n",
       "    <tr>\n",
       "      <th>4</th>\n",
       "      <td>1989</td>\n",
       "      <td>1</td>\n",
       "      <td>27</td>\n",
       "      <td>5</td>\n",
       "      <td>1232.0</td>\n",
       "      <td>1230</td>\n",
       "      <td>1513.0</td>\n",
       "      <td>1552</td>\n",
       "      <td>UA</td>\n",
       "      <td>183</td>\n",
       "      <td>...</td>\n",
       "      <td>NaN</td>\n",
       "      <td>NaN</td>\n",
       "      <td>0</td>\n",
       "      <td>NaN</td>\n",
       "      <td>0</td>\n",
       "      <td>NaN</td>\n",
       "      <td>NaN</td>\n",
       "      <td>NaN</td>\n",
       "      <td>NaN</td>\n",
       "      <td>NaN</td>\n",
       "    </tr>\n",
       "  </tbody>\n",
       "</table>\n",
       "<p>5 rows × 29 columns</p>\n",
       "</div>"
      ],
      "text/plain": [
       "   Year  Month  DayofMonth  DayOfWeek  DepTime  CRSDepTime  ArrTime  \\\n",
       "0  1989      1          23          1   1419.0        1230   1742.0   \n",
       "1  1989      1          24          2   1255.0        1230   1612.0   \n",
       "2  1989      1          25          3   1230.0        1230   1533.0   \n",
       "3  1989      1          26          4   1230.0        1230   1523.0   \n",
       "4  1989      1          27          5   1232.0        1230   1513.0   \n",
       "\n",
       "   CRSArrTime UniqueCarrier  FlightNum  ...  TaxiIn  TaxiOut  Cancelled  \\\n",
       "0        1552            UA        183  ...     NaN      NaN          0   \n",
       "1        1552            UA        183  ...     NaN      NaN          0   \n",
       "2        1552            UA        183  ...     NaN      NaN          0   \n",
       "3        1552            UA        183  ...     NaN      NaN          0   \n",
       "4        1552            UA        183  ...     NaN      NaN          0   \n",
       "\n",
       "   CancellationCode  Diverted  CarrierDelay WeatherDelay NASDelay  \\\n",
       "0               NaN         0           NaN          NaN      NaN   \n",
       "1               NaN         0           NaN          NaN      NaN   \n",
       "2               NaN         0           NaN          NaN      NaN   \n",
       "3               NaN         0           NaN          NaN      NaN   \n",
       "4               NaN         0           NaN          NaN      NaN   \n",
       "\n",
       "   SecurityDelay  LateAircraftDelay  \n",
       "0            NaN                NaN  \n",
       "1            NaN                NaN  \n",
       "2            NaN                NaN  \n",
       "3            NaN                NaN  \n",
       "4            NaN                NaN  \n",
       "\n",
       "[5 rows x 29 columns]"
      ]
     },
     "execution_count": 9,
     "metadata": {},
     "output_type": "execute_result"
    }
   ],
   "source": [
    "airport.head()"
   ]
  },
  {
   "cell_type": "code",
   "execution_count": 10,
   "id": "9f6911ab-360e-4d6f-a09d-f53b1598c631",
   "metadata": {},
   "outputs": [
    {
     "name": "stdout",
     "output_type": "stream",
     "text": [
      "On the year 1988 there were a total of 95265 vehicles ofMSP\n",
      "On the year 1988 there were a total of 2665 vehicles ofMSO\n",
      "On the year 1988 there were a total of 3803 vehicles ofMYR\n",
      "On the year 1989 there were a total of 99072 vehicles ofMSP\n",
      "On the year 1989 there were a total of 2504 vehicles ofMSO\n",
      "On the year 1989 there were a total of 4241 vehicles ofMYR\n",
      "On the year 1990 there were a total of 102298 vehicles ofMSP\n",
      "On the year 1990 there were a total of 2481 vehicles ofMSO\n",
      "On the year 1990 there were a total of 3462 vehicles ofMYR\n"
     ]
    }
   ],
   "source": [
    "for yr in [1988, 1989, 1990]:\n",
    "    for myorigin in['MSP', 'MSO', 'MYR']:\n",
    "        print(f'On the year {yr} there were a total of', getflight(myorigin, yr),f'vehicles of{myorigin}')"
   ]
  },
  {
   "cell_type": "markdown",
   "id": "9fbf00fb-2418-460f-ae94-2a32b0c28952",
   "metadata": {},
   "source": [
    "Write a function with two arguments: a list of Origin airports, and a list of years. The function should print a listing that shows the number of flights departing from each of those Origin airports in each of those years. (I.e., it will have one line of output for each Origin airport during each year.)\n",
    "\n",
    "Use your new function to re-create the answer to question 4b.\n",
    "\n",
    "Test your function on some lists of Origin airports and lists of years of your choice."
   ]
  },
  {
   "cell_type": "markdown",
   "id": "f76442d6-d02e-4f26-b9d6-c3183e1d6929",
   "metadata": {},
   "source": [
    "## Pledge\n",
    "\n",
    "By submitting this work I hereby pledge that this is my own, personal work. I've acknowledged in the designated place at the top of this file all sources that I used to complete said work, including but not limited to: online resources, books, and electronic communications. I've noted all collaboration with fellow students and/or TA's. I did not copy or plagiarize another's work.\n",
    "\n",
    "> As a Boilermaker pursuing academic excellence, I pledge to be honest and true in all that I do. Accountable together – We are Purdue."
   ]
  }
 ],
 "metadata": {
  "kernelspec": {
   "display_name": "f2022-s2023",
   "language": "python",
   "name": "f2022-s2023"
  },
  "language_info": {
   "codemirror_mode": {
    "name": "ipython",
    "version": 3
   },
   "file_extension": ".py",
   "mimetype": "text/x-python",
   "name": "python",
   "nbconvert_exporter": "python",
   "pygments_lexer": "ipython3",
   "version": "3.10.9"
  }
 },
 "nbformat": 4,
 "nbformat_minor": 5
}
