{
 "cells": [
  {
   "cell_type": "markdown",
   "id": "be02a957-7133-4d02-818e-fedeb3cecb05",
   "metadata": {},
   "source": [
    "# Project 11 -- OGUNMODEDE SEYI"
   ]
  },
  {
   "cell_type": "markdown",
   "id": "a1228853-dd19-4ab2-89e0-0394d7d72de3",
   "metadata": {},
   "source": [
    "**INSTRUCTOR Help:** Dr. Ward\n",
    "\n",
    "- Help with figuring out how to write a function.\n",
    "      \n",
    "- Helped figuring out how to load the dataset.\n",
    "- Helped debug error with my plot."
   ]
  },
  {
   "cell_type": "markdown",
   "id": "6180e742-8e39-4698-98ff-5b00c8cf8ea0",
   "metadata": {},
   "source": [
    "## Question 1"
   ]
  },
  {
   "cell_type": "code",
   "execution_count": 1,
   "id": "51437680-a178-4fe6-aca6-515328829f23",
   "metadata": {},
   "outputs": [],
   "source": [
    "# To see what is in the file, use ls and the files\n",
    "# There is a folder for each year from 1975 - 2017\n",
    "# # It has a file called 7581.csv and another state.csv"
   ]
  },
  {
   "cell_type": "code",
   "execution_count": 2,
   "id": "49445606-d363-41b4-b479-e319a9a84c01",
   "metadata": {},
   "outputs": [
    {
     "name": "stdout",
     "output_type": "stream",
     "text": [
      "\u001b[0m\u001b[01;34m1975\u001b[0m/  \u001b[01;34m1980\u001b[0m/  \u001b[01;34m1985\u001b[0m/  \u001b[01;34m1990\u001b[0m/  \u001b[01;34m1995\u001b[0m/  \u001b[01;34m2000\u001b[0m/  \u001b[01;34m2005\u001b[0m/  \u001b[01;34m2010\u001b[0m/  \u001b[01;34m2015\u001b[0m/\n",
      "\u001b[01;34m1976\u001b[0m/  \u001b[01;34m1981\u001b[0m/  \u001b[01;34m1986\u001b[0m/  \u001b[01;34m1991\u001b[0m/  \u001b[01;34m1996\u001b[0m/  \u001b[01;34m2001\u001b[0m/  \u001b[01;34m2006\u001b[0m/  \u001b[01;34m2011\u001b[0m/  \u001b[01;34m2016\u001b[0m/\n",
      "\u001b[01;34m1977\u001b[0m/  \u001b[01;34m1982\u001b[0m/  \u001b[01;34m1987\u001b[0m/  \u001b[01;34m1992\u001b[0m/  \u001b[01;34m1997\u001b[0m/  \u001b[01;34m2002\u001b[0m/  \u001b[01;34m2007\u001b[0m/  \u001b[01;34m2012\u001b[0m/  \u001b[01;34m2017\u001b[0m/\n",
      "\u001b[01;34m1978\u001b[0m/  \u001b[01;34m1983\u001b[0m/  \u001b[01;34m1988\u001b[0m/  \u001b[01;34m1993\u001b[0m/  \u001b[01;34m1998\u001b[0m/  \u001b[01;34m2003\u001b[0m/  \u001b[01;34m2008\u001b[0m/  \u001b[01;34m2013\u001b[0m/  \u001b[01;32m7581.csv\u001b[0m*\n",
      "\u001b[01;34m1979\u001b[0m/  \u001b[01;34m1984\u001b[0m/  \u001b[01;34m1989\u001b[0m/  \u001b[01;34m1994\u001b[0m/  \u001b[01;34m1999\u001b[0m/  \u001b[01;34m2004\u001b[0m/  \u001b[01;34m2009\u001b[0m/  \u001b[01;34m2014\u001b[0m/  \u001b[01;32mstates.csv\u001b[0m*\n"
     ]
    }
   ],
   "source": [
    "ls/anvil/projects/tdm/data/fars"
   ]
  },
  {
   "cell_type": "code",
   "execution_count": 3,
   "id": "4b0f8746-e88b-4299-a083-1c8f3d89d4be",
   "metadata": {},
   "outputs": [],
   "source": [
    "# For me to see what is inside directory for 1985"
   ]
  },
  {
   "cell_type": "code",
   "execution_count": 4,
   "id": "f4759c81-ca26-4c74-a12c-98c78f03b9ce",
   "metadata": {},
   "outputs": [
    {
     "name": "stdout",
     "output_type": "stream",
     "text": [
      "ACC_AUX.CSV   MIACC.CSV     MIPER.CSV    PERSON.CSV   VEHICLE.CSV\n",
      "ACCIDENT.CSV  MIDRVACC.CSV  PER_AUX.CSV  VEH_AUX.CSV\n"
     ]
    }
   ],
   "source": [
    "ls/anvil/projects/tdm/data/fars/1985"
   ]
  },
  {
   "cell_type": "code",
   "execution_count": 5,
   "id": "22ef2278-df00-444b-b7d5-68f349025bd4",
   "metadata": {},
   "outputs": [],
   "source": [
    "import pandas as pd"
   ]
  },
  {
   "cell_type": "code",
   "execution_count": 6,
   "id": "e78dc1ac-b656-42dd-b539-33d6db20a6d7",
   "metadata": {},
   "outputs": [],
   "source": [
    "myDF=pd.read_csv(\"/anvil/projects/tdm/data/fars/1985/ACCIDENT.CSV\")"
   ]
  },
  {
   "cell_type": "code",
   "execution_count": 7,
   "id": "a30db795-730c-417c-bfe2-3e33589af2c1",
   "metadata": {},
   "outputs": [
    {
     "data": {
      "text/html": [
       "<div>\n",
       "<style scoped>\n",
       "    .dataframe tbody tr th:only-of-type {\n",
       "        vertical-align: middle;\n",
       "    }\n",
       "\n",
       "    .dataframe tbody tr th {\n",
       "        vertical-align: top;\n",
       "    }\n",
       "\n",
       "    .dataframe thead th {\n",
       "        text-align: right;\n",
       "    }\n",
       "</style>\n",
       "<table border=\"1\" class=\"dataframe\">\n",
       "  <thead>\n",
       "    <tr style=\"text-align: right;\">\n",
       "      <th></th>\n",
       "      <th>STATE</th>\n",
       "      <th>COUNTY</th>\n",
       "      <th>MONTH</th>\n",
       "      <th>DAY</th>\n",
       "      <th>YEAR</th>\n",
       "      <th>HOUR</th>\n",
       "      <th>MINUTE</th>\n",
       "      <th>VE_FORMS</th>\n",
       "      <th>PERSONS</th>\n",
       "      <th>LAND_USE</th>\n",
       "      <th>...</th>\n",
       "      <th>CF2</th>\n",
       "      <th>CF3</th>\n",
       "      <th>FATALS</th>\n",
       "      <th>DAY_WEEK</th>\n",
       "      <th>DRUNK_DR</th>\n",
       "      <th>ST_CASE</th>\n",
       "      <th>CITY</th>\n",
       "      <th>MILEPT</th>\n",
       "      <th>TWAY_ID</th>\n",
       "      <th>RAIL</th>\n",
       "    </tr>\n",
       "  </thead>\n",
       "  <tbody>\n",
       "    <tr>\n",
       "      <th>0</th>\n",
       "      <td>1</td>\n",
       "      <td>53</td>\n",
       "      <td>1</td>\n",
       "      <td>4</td>\n",
       "      <td>85</td>\n",
       "      <td>8</td>\n",
       "      <td>10</td>\n",
       "      <td>1</td>\n",
       "      <td>1</td>\n",
       "      <td>2</td>\n",
       "      <td>...</td>\n",
       "      <td>0</td>\n",
       "      <td>0</td>\n",
       "      <td>1</td>\n",
       "      <td>6</td>\n",
       "      <td>0</td>\n",
       "      <td>10002</td>\n",
       "      <td>0</td>\n",
       "      <td>814.0</td>\n",
       "      <td>31</td>\n",
       "      <td>0000000</td>\n",
       "    </tr>\n",
       "    <tr>\n",
       "      <th>1</th>\n",
       "      <td>1</td>\n",
       "      <td>85</td>\n",
       "      <td>1</td>\n",
       "      <td>6</td>\n",
       "      <td>85</td>\n",
       "      <td>5</td>\n",
       "      <td>45</td>\n",
       "      <td>1</td>\n",
       "      <td>2</td>\n",
       "      <td>1</td>\n",
       "      <td>...</td>\n",
       "      <td>0</td>\n",
       "      <td>0</td>\n",
       "      <td>1</td>\n",
       "      <td>1</td>\n",
       "      <td>1</td>\n",
       "      <td>10003</td>\n",
       "      <td>9997</td>\n",
       "      <td>1093.0</td>\n",
       "      <td>80</td>\n",
       "      <td>0000000</td>\n",
       "    </tr>\n",
       "    <tr>\n",
       "      <th>2</th>\n",
       "      <td>1</td>\n",
       "      <td>119</td>\n",
       "      <td>1</td>\n",
       "      <td>6</td>\n",
       "      <td>85</td>\n",
       "      <td>4</td>\n",
       "      <td>5</td>\n",
       "      <td>1</td>\n",
       "      <td>1</td>\n",
       "      <td>2</td>\n",
       "      <td>...</td>\n",
       "      <td>0</td>\n",
       "      <td>0</td>\n",
       "      <td>1</td>\n",
       "      <td>1</td>\n",
       "      <td>0</td>\n",
       "      <td>10004</td>\n",
       "      <td>0</td>\n",
       "      <td>220.0</td>\n",
       "      <td>80</td>\n",
       "      <td>0000000</td>\n",
       "    </tr>\n",
       "  </tbody>\n",
       "</table>\n",
       "<p>3 rows × 47 columns</p>\n",
       "</div>"
      ],
      "text/plain": [
       "   STATE  COUNTY  MONTH  DAY  YEAR  HOUR  MINUTE  VE_FORMS  PERSONS  LAND_USE  \\\n",
       "0      1      53      1    4    85     8      10         1        1         2   \n",
       "1      1      85      1    6    85     5      45         1        2         1   \n",
       "2      1     119      1    6    85     4       5         1        1         2   \n",
       "\n",
       "   ...  CF2  CF3  FATALS  DAY_WEEK  DRUNK_DR  ST_CASE  CITY  MILEPT  TWAY_ID  \\\n",
       "0  ...    0    0       1         6         0    10002     0   814.0       31   \n",
       "1  ...    0    0       1         1         1    10003  9997  1093.0       80   \n",
       "2  ...    0    0       1         1         0    10004     0   220.0       80   \n",
       "\n",
       "      RAIL  \n",
       "0  0000000  \n",
       "1  0000000  \n",
       "2  0000000  \n",
       "\n",
       "[3 rows x 47 columns]"
      ]
     },
     "execution_count": 7,
     "metadata": {},
     "output_type": "execute_result"
    }
   ],
   "source": [
    "myDF.head(3)"
   ]
  },
  {
   "cell_type": "code",
   "execution_count": 8,
   "id": "58f6873d-d5bb-40b7-990b-4158ec53ba52",
   "metadata": {},
   "outputs": [],
   "source": [
    "# We want to put 19 infront of these 85\n",
    "# To do this you can make/convert your column as string - myDF[\"myCol\"].astype(str). \n",
    "# Then you can add another string. myDF[\"myCol\"].astype(str) + \"appending_this_string\"\n",
    "# We can append strings to every value in a column by first converting the column to str using astype then use the + operator:"
   ]
  },
  {
   "cell_type": "code",
   "execution_count": 9,
   "id": "e5d8a0ee-393e-452f-8e2a-5f09e641871d",
   "metadata": {},
   "outputs": [
    {
     "data": {
      "text/plain": [
       "0    85\n",
       "1    85\n",
       "2    85\n",
       "3    85\n",
       "4    85\n",
       "Name: YEAR, dtype: int64"
      ]
     },
     "execution_count": 9,
     "metadata": {},
     "output_type": "execute_result"
    }
   ],
   "source": [
    "# looking at the head focusing on the year column\n",
    "\n",
    "myDF[\"YEAR\"].head()"
   ]
  },
  {
   "cell_type": "code",
   "execution_count": 10,
   "id": "88523e1b-b9eb-4d55-952b-0e79463647c0",
   "metadata": {},
   "outputs": [
    {
     "data": {
      "text/plain": [
       "0    1985\n",
       "1    1985\n",
       "2    1985\n",
       "3    1985\n",
       "4    1985\n",
       "Name: YEAR, dtype: object"
      ]
     },
     "execution_count": 10,
     "metadata": {},
     "output_type": "execute_result"
    }
   ],
   "source": [
    "# Fisrt convert it to string and add 19 = 19+85 =1985\n",
    "\n",
    "\"19\" + myDF[\"YEAR\"].head().astype(str)"
   ]
  },
  {
   "cell_type": "code",
   "execution_count": 11,
   "id": "15c9e4b4-7a50-43d4-9bdb-14a59fc02ef4",
   "metadata": {},
   "outputs": [
    {
     "data": {
      "text/html": [
       "<div>\n",
       "<style scoped>\n",
       "    .dataframe tbody tr th:only-of-type {\n",
       "        vertical-align: middle;\n",
       "    }\n",
       "\n",
       "    .dataframe tbody tr th {\n",
       "        vertical-align: top;\n",
       "    }\n",
       "\n",
       "    .dataframe thead th {\n",
       "        text-align: right;\n",
       "    }\n",
       "</style>\n",
       "<table border=\"1\" class=\"dataframe\">\n",
       "  <thead>\n",
       "    <tr style=\"text-align: right;\">\n",
       "      <th></th>\n",
       "      <th>STATE</th>\n",
       "      <th>COUNTY</th>\n",
       "      <th>MONTH</th>\n",
       "      <th>DAY</th>\n",
       "      <th>YEAR</th>\n",
       "      <th>HOUR</th>\n",
       "      <th>MINUTE</th>\n",
       "      <th>VE_FORMS</th>\n",
       "      <th>PERSONS</th>\n",
       "      <th>LAND_USE</th>\n",
       "      <th>...</th>\n",
       "      <th>CF2</th>\n",
       "      <th>CF3</th>\n",
       "      <th>FATALS</th>\n",
       "      <th>DAY_WEEK</th>\n",
       "      <th>DRUNK_DR</th>\n",
       "      <th>ST_CASE</th>\n",
       "      <th>CITY</th>\n",
       "      <th>MILEPT</th>\n",
       "      <th>TWAY_ID</th>\n",
       "      <th>RAIL</th>\n",
       "    </tr>\n",
       "  </thead>\n",
       "  <tbody>\n",
       "    <tr>\n",
       "      <th>0</th>\n",
       "      <td>1</td>\n",
       "      <td>53</td>\n",
       "      <td>1</td>\n",
       "      <td>4</td>\n",
       "      <td>85</td>\n",
       "      <td>8</td>\n",
       "      <td>10</td>\n",
       "      <td>1</td>\n",
       "      <td>1</td>\n",
       "      <td>2</td>\n",
       "      <td>...</td>\n",
       "      <td>0</td>\n",
       "      <td>0</td>\n",
       "      <td>1</td>\n",
       "      <td>6</td>\n",
       "      <td>0</td>\n",
       "      <td>10002</td>\n",
       "      <td>0</td>\n",
       "      <td>814.0</td>\n",
       "      <td>31</td>\n",
       "      <td>0000000</td>\n",
       "    </tr>\n",
       "    <tr>\n",
       "      <th>1</th>\n",
       "      <td>1</td>\n",
       "      <td>85</td>\n",
       "      <td>1</td>\n",
       "      <td>6</td>\n",
       "      <td>85</td>\n",
       "      <td>5</td>\n",
       "      <td>45</td>\n",
       "      <td>1</td>\n",
       "      <td>2</td>\n",
       "      <td>1</td>\n",
       "      <td>...</td>\n",
       "      <td>0</td>\n",
       "      <td>0</td>\n",
       "      <td>1</td>\n",
       "      <td>1</td>\n",
       "      <td>1</td>\n",
       "      <td>10003</td>\n",
       "      <td>9997</td>\n",
       "      <td>1093.0</td>\n",
       "      <td>80</td>\n",
       "      <td>0000000</td>\n",
       "    </tr>\n",
       "    <tr>\n",
       "      <th>2</th>\n",
       "      <td>1</td>\n",
       "      <td>119</td>\n",
       "      <td>1</td>\n",
       "      <td>6</td>\n",
       "      <td>85</td>\n",
       "      <td>4</td>\n",
       "      <td>5</td>\n",
       "      <td>1</td>\n",
       "      <td>1</td>\n",
       "      <td>2</td>\n",
       "      <td>...</td>\n",
       "      <td>0</td>\n",
       "      <td>0</td>\n",
       "      <td>1</td>\n",
       "      <td>1</td>\n",
       "      <td>0</td>\n",
       "      <td>10004</td>\n",
       "      <td>0</td>\n",
       "      <td>220.0</td>\n",
       "      <td>80</td>\n",
       "      <td>0000000</td>\n",
       "    </tr>\n",
       "    <tr>\n",
       "      <th>3</th>\n",
       "      <td>1</td>\n",
       "      <td>89</td>\n",
       "      <td>1</td>\n",
       "      <td>4</td>\n",
       "      <td>85</td>\n",
       "      <td>20</td>\n",
       "      <td>45</td>\n",
       "      <td>1</td>\n",
       "      <td>1</td>\n",
       "      <td>2</td>\n",
       "      <td>...</td>\n",
       "      <td>0</td>\n",
       "      <td>0</td>\n",
       "      <td>1</td>\n",
       "      <td>6</td>\n",
       "      <td>1</td>\n",
       "      <td>10005</td>\n",
       "      <td>0</td>\n",
       "      <td>0.0</td>\n",
       "      <td>1338</td>\n",
       "      <td>0000000</td>\n",
       "    </tr>\n",
       "    <tr>\n",
       "      <th>4</th>\n",
       "      <td>1</td>\n",
       "      <td>45</td>\n",
       "      <td>1</td>\n",
       "      <td>5</td>\n",
       "      <td>85</td>\n",
       "      <td>0</td>\n",
       "      <td>45</td>\n",
       "      <td>1</td>\n",
       "      <td>1</td>\n",
       "      <td>2</td>\n",
       "      <td>...</td>\n",
       "      <td>0</td>\n",
       "      <td>0</td>\n",
       "      <td>1</td>\n",
       "      <td>7</td>\n",
       "      <td>1</td>\n",
       "      <td>10006</td>\n",
       "      <td>0</td>\n",
       "      <td>0.0</td>\n",
       "      <td>1097</td>\n",
       "      <td>0000000</td>\n",
       "    </tr>\n",
       "  </tbody>\n",
       "</table>\n",
       "<p>5 rows × 47 columns</p>\n",
       "</div>"
      ],
      "text/plain": [
       "   STATE  COUNTY  MONTH  DAY  YEAR  HOUR  MINUTE  VE_FORMS  PERSONS  LAND_USE  \\\n",
       "0      1      53      1    4    85     8      10         1        1         2   \n",
       "1      1      85      1    6    85     5      45         1        2         1   \n",
       "2      1     119      1    6    85     4       5         1        1         2   \n",
       "3      1      89      1    4    85    20      45         1        1         2   \n",
       "4      1      45      1    5    85     0      45         1        1         2   \n",
       "\n",
       "   ...  CF2  CF3  FATALS  DAY_WEEK  DRUNK_DR  ST_CASE  CITY  MILEPT  TWAY_ID  \\\n",
       "0  ...    0    0       1         6         0    10002     0   814.0       31   \n",
       "1  ...    0    0       1         1         1    10003  9997  1093.0       80   \n",
       "2  ...    0    0       1         1         0    10004     0   220.0       80   \n",
       "3  ...    0    0       1         6         1    10005     0     0.0     1338   \n",
       "4  ...    0    0       1         7         1    10006     0     0.0     1097   \n",
       "\n",
       "      RAIL  \n",
       "0  0000000  \n",
       "1  0000000  \n",
       "2  0000000  \n",
       "3  0000000  \n",
       "4  0000000  \n",
       "\n",
       "[5 rows x 47 columns]"
      ]
     },
     "execution_count": 11,
     "metadata": {},
     "output_type": "execute_result"
    }
   ],
   "source": [
    "# If you run this nothing has changed, you have to assign it to the column\n",
    "\n",
    "myDF.head()"
   ]
  },
  {
   "cell_type": "code",
   "execution_count": 12,
   "id": "bd8fbb81-1f49-4a0a-902b-acd776668fd3",
   "metadata": {},
   "outputs": [],
   "source": [
    "# This code changed the column to 1985\n",
    "\n",
    "myDF[\"YEAR\"]=\"19\" + myDF[\"YEAR\"].astype(str)"
   ]
  },
  {
   "cell_type": "code",
   "execution_count": 13,
   "id": "47fb910b-14c7-4bca-886e-2fd62199911b",
   "metadata": {},
   "outputs": [
    {
     "data": {
      "text/html": [
       "<div>\n",
       "<style scoped>\n",
       "    .dataframe tbody tr th:only-of-type {\n",
       "        vertical-align: middle;\n",
       "    }\n",
       "\n",
       "    .dataframe tbody tr th {\n",
       "        vertical-align: top;\n",
       "    }\n",
       "\n",
       "    .dataframe thead th {\n",
       "        text-align: right;\n",
       "    }\n",
       "</style>\n",
       "<table border=\"1\" class=\"dataframe\">\n",
       "  <thead>\n",
       "    <tr style=\"text-align: right;\">\n",
       "      <th></th>\n",
       "      <th>STATE</th>\n",
       "      <th>COUNTY</th>\n",
       "      <th>MONTH</th>\n",
       "      <th>DAY</th>\n",
       "      <th>YEAR</th>\n",
       "      <th>HOUR</th>\n",
       "      <th>MINUTE</th>\n",
       "      <th>VE_FORMS</th>\n",
       "      <th>PERSONS</th>\n",
       "      <th>LAND_USE</th>\n",
       "      <th>...</th>\n",
       "      <th>CF2</th>\n",
       "      <th>CF3</th>\n",
       "      <th>FATALS</th>\n",
       "      <th>DAY_WEEK</th>\n",
       "      <th>DRUNK_DR</th>\n",
       "      <th>ST_CASE</th>\n",
       "      <th>CITY</th>\n",
       "      <th>MILEPT</th>\n",
       "      <th>TWAY_ID</th>\n",
       "      <th>RAIL</th>\n",
       "    </tr>\n",
       "  </thead>\n",
       "  <tbody>\n",
       "    <tr>\n",
       "      <th>0</th>\n",
       "      <td>1</td>\n",
       "      <td>53</td>\n",
       "      <td>1</td>\n",
       "      <td>4</td>\n",
       "      <td>1985</td>\n",
       "      <td>8</td>\n",
       "      <td>10</td>\n",
       "      <td>1</td>\n",
       "      <td>1</td>\n",
       "      <td>2</td>\n",
       "      <td>...</td>\n",
       "      <td>0</td>\n",
       "      <td>0</td>\n",
       "      <td>1</td>\n",
       "      <td>6</td>\n",
       "      <td>0</td>\n",
       "      <td>10002</td>\n",
       "      <td>0</td>\n",
       "      <td>814.0</td>\n",
       "      <td>31</td>\n",
       "      <td>0000000</td>\n",
       "    </tr>\n",
       "    <tr>\n",
       "      <th>1</th>\n",
       "      <td>1</td>\n",
       "      <td>85</td>\n",
       "      <td>1</td>\n",
       "      <td>6</td>\n",
       "      <td>1985</td>\n",
       "      <td>5</td>\n",
       "      <td>45</td>\n",
       "      <td>1</td>\n",
       "      <td>2</td>\n",
       "      <td>1</td>\n",
       "      <td>...</td>\n",
       "      <td>0</td>\n",
       "      <td>0</td>\n",
       "      <td>1</td>\n",
       "      <td>1</td>\n",
       "      <td>1</td>\n",
       "      <td>10003</td>\n",
       "      <td>9997</td>\n",
       "      <td>1093.0</td>\n",
       "      <td>80</td>\n",
       "      <td>0000000</td>\n",
       "    </tr>\n",
       "    <tr>\n",
       "      <th>2</th>\n",
       "      <td>1</td>\n",
       "      <td>119</td>\n",
       "      <td>1</td>\n",
       "      <td>6</td>\n",
       "      <td>1985</td>\n",
       "      <td>4</td>\n",
       "      <td>5</td>\n",
       "      <td>1</td>\n",
       "      <td>1</td>\n",
       "      <td>2</td>\n",
       "      <td>...</td>\n",
       "      <td>0</td>\n",
       "      <td>0</td>\n",
       "      <td>1</td>\n",
       "      <td>1</td>\n",
       "      <td>0</td>\n",
       "      <td>10004</td>\n",
       "      <td>0</td>\n",
       "      <td>220.0</td>\n",
       "      <td>80</td>\n",
       "      <td>0000000</td>\n",
       "    </tr>\n",
       "    <tr>\n",
       "      <th>3</th>\n",
       "      <td>1</td>\n",
       "      <td>89</td>\n",
       "      <td>1</td>\n",
       "      <td>4</td>\n",
       "      <td>1985</td>\n",
       "      <td>20</td>\n",
       "      <td>45</td>\n",
       "      <td>1</td>\n",
       "      <td>1</td>\n",
       "      <td>2</td>\n",
       "      <td>...</td>\n",
       "      <td>0</td>\n",
       "      <td>0</td>\n",
       "      <td>1</td>\n",
       "      <td>6</td>\n",
       "      <td>1</td>\n",
       "      <td>10005</td>\n",
       "      <td>0</td>\n",
       "      <td>0.0</td>\n",
       "      <td>1338</td>\n",
       "      <td>0000000</td>\n",
       "    </tr>\n",
       "    <tr>\n",
       "      <th>4</th>\n",
       "      <td>1</td>\n",
       "      <td>45</td>\n",
       "      <td>1</td>\n",
       "      <td>5</td>\n",
       "      <td>1985</td>\n",
       "      <td>0</td>\n",
       "      <td>45</td>\n",
       "      <td>1</td>\n",
       "      <td>1</td>\n",
       "      <td>2</td>\n",
       "      <td>...</td>\n",
       "      <td>0</td>\n",
       "      <td>0</td>\n",
       "      <td>1</td>\n",
       "      <td>7</td>\n",
       "      <td>1</td>\n",
       "      <td>10006</td>\n",
       "      <td>0</td>\n",
       "      <td>0.0</td>\n",
       "      <td>1097</td>\n",
       "      <td>0000000</td>\n",
       "    </tr>\n",
       "  </tbody>\n",
       "</table>\n",
       "<p>5 rows × 47 columns</p>\n",
       "</div>"
      ],
      "text/plain": [
       "   STATE  COUNTY  MONTH  DAY  YEAR  HOUR  MINUTE  VE_FORMS  PERSONS  LAND_USE  \\\n",
       "0      1      53      1    4  1985     8      10         1        1         2   \n",
       "1      1      85      1    6  1985     5      45         1        2         1   \n",
       "2      1     119      1    6  1985     4       5         1        1         2   \n",
       "3      1      89      1    4  1985    20      45         1        1         2   \n",
       "4      1      45      1    5  1985     0      45         1        1         2   \n",
       "\n",
       "   ...  CF2  CF3  FATALS  DAY_WEEK  DRUNK_DR  ST_CASE  CITY  MILEPT  TWAY_ID  \\\n",
       "0  ...    0    0       1         6         0    10002     0   814.0       31   \n",
       "1  ...    0    0       1         1         1    10003  9997  1093.0       80   \n",
       "2  ...    0    0       1         1         0    10004     0   220.0       80   \n",
       "3  ...    0    0       1         6         1    10005     0     0.0     1338   \n",
       "4  ...    0    0       1         7         1    10006     0     0.0     1097   \n",
       "\n",
       "      RAIL  \n",
       "0  0000000  \n",
       "1  0000000  \n",
       "2  0000000  \n",
       "3  0000000  \n",
       "4  0000000  \n",
       "\n",
       "[5 rows x 47 columns]"
      ]
     },
     "execution_count": 13,
     "metadata": {},
     "output_type": "execute_result"
    }
   ],
   "source": [
    "myDF.head()"
   ]
  },
  {
   "cell_type": "code",
   "execution_count": 14,
   "id": "9dfcfc26-2adc-4282-84e1-1ac313095eba",
   "metadata": {},
   "outputs": [],
   "source": [
    "# To combine the MONTH, DAY, YEAR columns into a new column called DATE"
   ]
  },
  {
   "cell_type": "code",
   "execution_count": 15,
   "id": "0c5f7d95-b9e8-4834-b1ad-4417350b40c8",
   "metadata": {},
   "outputs": [],
   "source": [
    "myDF[\"DATE\"] = myDF[\"MONTH\"].astype(str) + \"/\" + myDF[\"DAY\"].astype(str) + \"/\" + myDF[\"YEAR\"].astype(str)"
   ]
  },
  {
   "cell_type": "code",
   "execution_count": 16,
   "id": "095812c8-66a6-4cae-a532-2ba75615174f",
   "metadata": {},
   "outputs": [
    {
     "data": {
      "text/html": [
       "<div>\n",
       "<style scoped>\n",
       "    .dataframe tbody tr th:only-of-type {\n",
       "        vertical-align: middle;\n",
       "    }\n",
       "\n",
       "    .dataframe tbody tr th {\n",
       "        vertical-align: top;\n",
       "    }\n",
       "\n",
       "    .dataframe thead th {\n",
       "        text-align: right;\n",
       "    }\n",
       "</style>\n",
       "<table border=\"1\" class=\"dataframe\">\n",
       "  <thead>\n",
       "    <tr style=\"text-align: right;\">\n",
       "      <th></th>\n",
       "      <th>STATE</th>\n",
       "      <th>COUNTY</th>\n",
       "      <th>MONTH</th>\n",
       "      <th>DAY</th>\n",
       "      <th>YEAR</th>\n",
       "      <th>HOUR</th>\n",
       "      <th>MINUTE</th>\n",
       "      <th>VE_FORMS</th>\n",
       "      <th>PERSONS</th>\n",
       "      <th>LAND_USE</th>\n",
       "      <th>...</th>\n",
       "      <th>CF3</th>\n",
       "      <th>FATALS</th>\n",
       "      <th>DAY_WEEK</th>\n",
       "      <th>DRUNK_DR</th>\n",
       "      <th>ST_CASE</th>\n",
       "      <th>CITY</th>\n",
       "      <th>MILEPT</th>\n",
       "      <th>TWAY_ID</th>\n",
       "      <th>RAIL</th>\n",
       "      <th>DATE</th>\n",
       "    </tr>\n",
       "  </thead>\n",
       "  <tbody>\n",
       "    <tr>\n",
       "      <th>0</th>\n",
       "      <td>1</td>\n",
       "      <td>53</td>\n",
       "      <td>1</td>\n",
       "      <td>4</td>\n",
       "      <td>1985</td>\n",
       "      <td>8</td>\n",
       "      <td>10</td>\n",
       "      <td>1</td>\n",
       "      <td>1</td>\n",
       "      <td>2</td>\n",
       "      <td>...</td>\n",
       "      <td>0</td>\n",
       "      <td>1</td>\n",
       "      <td>6</td>\n",
       "      <td>0</td>\n",
       "      <td>10002</td>\n",
       "      <td>0</td>\n",
       "      <td>814.0</td>\n",
       "      <td>31</td>\n",
       "      <td>0000000</td>\n",
       "      <td>1/4/1985</td>\n",
       "    </tr>\n",
       "    <tr>\n",
       "      <th>1</th>\n",
       "      <td>1</td>\n",
       "      <td>85</td>\n",
       "      <td>1</td>\n",
       "      <td>6</td>\n",
       "      <td>1985</td>\n",
       "      <td>5</td>\n",
       "      <td>45</td>\n",
       "      <td>1</td>\n",
       "      <td>2</td>\n",
       "      <td>1</td>\n",
       "      <td>...</td>\n",
       "      <td>0</td>\n",
       "      <td>1</td>\n",
       "      <td>1</td>\n",
       "      <td>1</td>\n",
       "      <td>10003</td>\n",
       "      <td>9997</td>\n",
       "      <td>1093.0</td>\n",
       "      <td>80</td>\n",
       "      <td>0000000</td>\n",
       "      <td>1/6/1985</td>\n",
       "    </tr>\n",
       "    <tr>\n",
       "      <th>2</th>\n",
       "      <td>1</td>\n",
       "      <td>119</td>\n",
       "      <td>1</td>\n",
       "      <td>6</td>\n",
       "      <td>1985</td>\n",
       "      <td>4</td>\n",
       "      <td>5</td>\n",
       "      <td>1</td>\n",
       "      <td>1</td>\n",
       "      <td>2</td>\n",
       "      <td>...</td>\n",
       "      <td>0</td>\n",
       "      <td>1</td>\n",
       "      <td>1</td>\n",
       "      <td>0</td>\n",
       "      <td>10004</td>\n",
       "      <td>0</td>\n",
       "      <td>220.0</td>\n",
       "      <td>80</td>\n",
       "      <td>0000000</td>\n",
       "      <td>1/6/1985</td>\n",
       "    </tr>\n",
       "    <tr>\n",
       "      <th>3</th>\n",
       "      <td>1</td>\n",
       "      <td>89</td>\n",
       "      <td>1</td>\n",
       "      <td>4</td>\n",
       "      <td>1985</td>\n",
       "      <td>20</td>\n",
       "      <td>45</td>\n",
       "      <td>1</td>\n",
       "      <td>1</td>\n",
       "      <td>2</td>\n",
       "      <td>...</td>\n",
       "      <td>0</td>\n",
       "      <td>1</td>\n",
       "      <td>6</td>\n",
       "      <td>1</td>\n",
       "      <td>10005</td>\n",
       "      <td>0</td>\n",
       "      <td>0.0</td>\n",
       "      <td>1338</td>\n",
       "      <td>0000000</td>\n",
       "      <td>1/4/1985</td>\n",
       "    </tr>\n",
       "    <tr>\n",
       "      <th>4</th>\n",
       "      <td>1</td>\n",
       "      <td>45</td>\n",
       "      <td>1</td>\n",
       "      <td>5</td>\n",
       "      <td>1985</td>\n",
       "      <td>0</td>\n",
       "      <td>45</td>\n",
       "      <td>1</td>\n",
       "      <td>1</td>\n",
       "      <td>2</td>\n",
       "      <td>...</td>\n",
       "      <td>0</td>\n",
       "      <td>1</td>\n",
       "      <td>7</td>\n",
       "      <td>1</td>\n",
       "      <td>10006</td>\n",
       "      <td>0</td>\n",
       "      <td>0.0</td>\n",
       "      <td>1097</td>\n",
       "      <td>0000000</td>\n",
       "      <td>1/5/1985</td>\n",
       "    </tr>\n",
       "  </tbody>\n",
       "</table>\n",
       "<p>5 rows × 48 columns</p>\n",
       "</div>"
      ],
      "text/plain": [
       "   STATE  COUNTY  MONTH  DAY  YEAR  HOUR  MINUTE  VE_FORMS  PERSONS  LAND_USE  \\\n",
       "0      1      53      1    4  1985     8      10         1        1         2   \n",
       "1      1      85      1    6  1985     5      45         1        2         1   \n",
       "2      1     119      1    6  1985     4       5         1        1         2   \n",
       "3      1      89      1    4  1985    20      45         1        1         2   \n",
       "4      1      45      1    5  1985     0      45         1        1         2   \n",
       "\n",
       "   ...  CF3  FATALS  DAY_WEEK  DRUNK_DR  ST_CASE  CITY  MILEPT  TWAY_ID  \\\n",
       "0  ...    0       1         6         0    10002     0   814.0       31   \n",
       "1  ...    0       1         1         1    10003  9997  1093.0       80   \n",
       "2  ...    0       1         1         0    10004     0   220.0       80   \n",
       "3  ...    0       1         6         1    10005     0     0.0     1338   \n",
       "4  ...    0       1         7         1    10006     0     0.0     1097   \n",
       "\n",
       "      RAIL      DATE  \n",
       "0  0000000  1/4/1985  \n",
       "1  0000000  1/6/1985  \n",
       "2  0000000  1/6/1985  \n",
       "3  0000000  1/4/1985  \n",
       "4  0000000  1/5/1985  \n",
       "\n",
       "[5 rows x 48 columns]"
      ]
     },
     "execution_count": 16,
     "metadata": {},
     "output_type": "execute_result"
    }
   ],
   "source": [
    "myDF.head()"
   ]
  },
  {
   "cell_type": "markdown",
   "id": "b456e57c-4a12-464b-999a-ef2df5af80c1",
   "metadata": {},
   "source": [
    "List what files are in the year 1985\n",
    "\n",
    "Read in the ACCIDENTS.CSV and then go ahead and change the values in the YEAR column from two digits to four digits. For example, we should change 89 to 1989. Do this by adding a 19 to each year value.\n",
    "\n",
    "Now combine the MONTH, DAY, YEAR columns into a new column called DATE"
   ]
  },
  {
   "cell_type": "markdown",
   "id": "fc601975-35ed-4680-a4e1-0273ee3cc047",
   "metadata": {},
   "source": [
    "## Question 2"
   ]
  },
  {
   "cell_type": "code",
   "execution_count": 17,
   "id": "a16336a1-1ef0-41e8-bc7c-49387db27497",
   "metadata": {},
   "outputs": [],
   "source": [
    "# I want to create a Dataframe called accidents that joins the ACCIDENT.CSV files \n",
    "# from the years 1985-1989 (inclusive) into one large Dataframe\n",
    "# To do this, we can (Merge, Join,0r Concat) but i will concatenate them\n",
    "# I will concatenate them on top of the next one\n",
    "\n",
    "# https://pandas.pydata.org/docs/reference/api/pandas.concat.html"
   ]
  },
  {
   "cell_type": "code",
   "execution_count": 18,
   "id": "26448c12-f9bd-4f24-a8c2-a7bbb4565929",
   "metadata": {},
   "outputs": [],
   "source": [
    "accidents=pd.concat([pd.read_csv(\"/anvil/projects/tdm/data/fars/1985/ACCIDENT.CSV\"),\n",
    "                    pd.read_csv(\"/anvil/projects/tdm/data/fars/1986/ACCIDENT.CSV\"),\n",
    "                    pd.read_csv(\"/anvil/projects/tdm/data/fars/1987/ACCIDENT.CSV\"),\n",
    "                    pd.read_csv(\"/anvil/projects/tdm/data/fars/1988/ACCIDENT.CSV\"),\n",
    "                    pd.read_csv(\"/anvil/projects/tdm/data/fars/1989/ACCIDENT.CSV\")], ignore_index=True)"
   ]
  },
  {
   "cell_type": "code",
   "execution_count": 19,
   "id": "15a1bbd3-2ce1-4d51-94d2-dd33da5eb79b",
   "metadata": {},
   "outputs": [
    {
     "data": {
      "text/html": [
       "<div>\n",
       "<style scoped>\n",
       "    .dataframe tbody tr th:only-of-type {\n",
       "        vertical-align: middle;\n",
       "    }\n",
       "\n",
       "    .dataframe tbody tr th {\n",
       "        vertical-align: top;\n",
       "    }\n",
       "\n",
       "    .dataframe thead th {\n",
       "        text-align: right;\n",
       "    }\n",
       "</style>\n",
       "<table border=\"1\" class=\"dataframe\">\n",
       "  <thead>\n",
       "    <tr style=\"text-align: right;\">\n",
       "      <th></th>\n",
       "      <th>STATE</th>\n",
       "      <th>COUNTY</th>\n",
       "      <th>MONTH</th>\n",
       "      <th>DAY</th>\n",
       "      <th>YEAR</th>\n",
       "      <th>HOUR</th>\n",
       "      <th>MINUTE</th>\n",
       "      <th>VE_FORMS</th>\n",
       "      <th>PERSONS</th>\n",
       "      <th>LAND_USE</th>\n",
       "      <th>...</th>\n",
       "      <th>DRUNK_DR</th>\n",
       "      <th>ST_CASE</th>\n",
       "      <th>CITY</th>\n",
       "      <th>MILEPT</th>\n",
       "      <th>TWAY_ID</th>\n",
       "      <th>RAIL</th>\n",
       "      <th>ROUTE</th>\n",
       "      <th>TRAF_FLO</th>\n",
       "      <th>HOSP_HR</th>\n",
       "      <th>HOSP_MN</th>\n",
       "    </tr>\n",
       "  </thead>\n",
       "  <tbody>\n",
       "    <tr>\n",
       "      <th>0</th>\n",
       "      <td>1</td>\n",
       "      <td>53</td>\n",
       "      <td>1</td>\n",
       "      <td>4</td>\n",
       "      <td>85</td>\n",
       "      <td>8</td>\n",
       "      <td>10</td>\n",
       "      <td>1</td>\n",
       "      <td>1</td>\n",
       "      <td>2.0</td>\n",
       "      <td>...</td>\n",
       "      <td>0</td>\n",
       "      <td>10002</td>\n",
       "      <td>0</td>\n",
       "      <td>814.0</td>\n",
       "      <td>31</td>\n",
       "      <td>0000000</td>\n",
       "      <td>NaN</td>\n",
       "      <td>NaN</td>\n",
       "      <td>NaN</td>\n",
       "      <td>NaN</td>\n",
       "    </tr>\n",
       "    <tr>\n",
       "      <th>1</th>\n",
       "      <td>1</td>\n",
       "      <td>85</td>\n",
       "      <td>1</td>\n",
       "      <td>6</td>\n",
       "      <td>85</td>\n",
       "      <td>5</td>\n",
       "      <td>45</td>\n",
       "      <td>1</td>\n",
       "      <td>2</td>\n",
       "      <td>1.0</td>\n",
       "      <td>...</td>\n",
       "      <td>1</td>\n",
       "      <td>10003</td>\n",
       "      <td>9997</td>\n",
       "      <td>1093.0</td>\n",
       "      <td>80</td>\n",
       "      <td>0000000</td>\n",
       "      <td>NaN</td>\n",
       "      <td>NaN</td>\n",
       "      <td>NaN</td>\n",
       "      <td>NaN</td>\n",
       "    </tr>\n",
       "    <tr>\n",
       "      <th>2</th>\n",
       "      <td>1</td>\n",
       "      <td>119</td>\n",
       "      <td>1</td>\n",
       "      <td>6</td>\n",
       "      <td>85</td>\n",
       "      <td>4</td>\n",
       "      <td>5</td>\n",
       "      <td>1</td>\n",
       "      <td>1</td>\n",
       "      <td>2.0</td>\n",
       "      <td>...</td>\n",
       "      <td>0</td>\n",
       "      <td>10004</td>\n",
       "      <td>0</td>\n",
       "      <td>220.0</td>\n",
       "      <td>80</td>\n",
       "      <td>0000000</td>\n",
       "      <td>NaN</td>\n",
       "      <td>NaN</td>\n",
       "      <td>NaN</td>\n",
       "      <td>NaN</td>\n",
       "    </tr>\n",
       "  </tbody>\n",
       "</table>\n",
       "<p>3 rows × 51 columns</p>\n",
       "</div>"
      ],
      "text/plain": [
       "   STATE  COUNTY  MONTH  DAY  YEAR  HOUR  MINUTE  VE_FORMS  PERSONS  LAND_USE  \\\n",
       "0      1      53      1    4    85     8      10         1        1       2.0   \n",
       "1      1      85      1    6    85     5      45         1        2       1.0   \n",
       "2      1     119      1    6    85     4       5         1        1       2.0   \n",
       "\n",
       "   ...  DRUNK_DR  ST_CASE  CITY  MILEPT  TWAY_ID     RAIL  ROUTE  TRAF_FLO  \\\n",
       "0  ...         0    10002     0   814.0       31  0000000    NaN       NaN   \n",
       "1  ...         1    10003  9997  1093.0       80  0000000    NaN       NaN   \n",
       "2  ...         0    10004     0   220.0       80  0000000    NaN       NaN   \n",
       "\n",
       "   HOSP_HR  HOSP_MN  \n",
       "0      NaN      NaN  \n",
       "1      NaN      NaN  \n",
       "2      NaN      NaN  \n",
       "\n",
       "[3 rows x 51 columns]"
      ]
     },
     "execution_count": 19,
     "metadata": {},
     "output_type": "execute_result"
    }
   ],
   "source": [
    "accidents.head(3)"
   ]
  },
  {
   "cell_type": "code",
   "execution_count": 20,
   "id": "a52c01d1-950c-4566-9948-f217786c7804",
   "metadata": {},
   "outputs": [
    {
     "data": {
      "text/html": [
       "<div>\n",
       "<style scoped>\n",
       "    .dataframe tbody tr th:only-of-type {\n",
       "        vertical-align: middle;\n",
       "    }\n",
       "\n",
       "    .dataframe tbody tr th {\n",
       "        vertical-align: top;\n",
       "    }\n",
       "\n",
       "    .dataframe thead th {\n",
       "        text-align: right;\n",
       "    }\n",
       "</style>\n",
       "<table border=\"1\" class=\"dataframe\">\n",
       "  <thead>\n",
       "    <tr style=\"text-align: right;\">\n",
       "      <th></th>\n",
       "      <th>STATE</th>\n",
       "      <th>COUNTY</th>\n",
       "      <th>MONTH</th>\n",
       "      <th>DAY</th>\n",
       "      <th>YEAR</th>\n",
       "      <th>HOUR</th>\n",
       "      <th>MINUTE</th>\n",
       "      <th>VE_FORMS</th>\n",
       "      <th>PERSONS</th>\n",
       "      <th>LAND_USE</th>\n",
       "      <th>...</th>\n",
       "      <th>DRUNK_DR</th>\n",
       "      <th>ST_CASE</th>\n",
       "      <th>CITY</th>\n",
       "      <th>MILEPT</th>\n",
       "      <th>TWAY_ID</th>\n",
       "      <th>RAIL</th>\n",
       "      <th>ROUTE</th>\n",
       "      <th>TRAF_FLO</th>\n",
       "      <th>HOSP_HR</th>\n",
       "      <th>HOSP_MN</th>\n",
       "    </tr>\n",
       "  </thead>\n",
       "  <tbody>\n",
       "    <tr>\n",
       "      <th>204592</th>\n",
       "      <td>56</td>\n",
       "      <td>37</td>\n",
       "      <td>12</td>\n",
       "      <td>22</td>\n",
       "      <td>89</td>\n",
       "      <td>18</td>\n",
       "      <td>5</td>\n",
       "      <td>4</td>\n",
       "      <td>6</td>\n",
       "      <td>NaN</td>\n",
       "      <td>...</td>\n",
       "      <td>1</td>\n",
       "      <td>560112</td>\n",
       "      <td>0</td>\n",
       "      <td>944.0</td>\n",
       "      <td>I80</td>\n",
       "      <td>0000000</td>\n",
       "      <td>1.0</td>\n",
       "      <td>3.0</td>\n",
       "      <td>0.0</td>\n",
       "      <td>0.0</td>\n",
       "    </tr>\n",
       "    <tr>\n",
       "      <th>204593</th>\n",
       "      <td>56</td>\n",
       "      <td>25</td>\n",
       "      <td>12</td>\n",
       "      <td>28</td>\n",
       "      <td>89</td>\n",
       "      <td>2</td>\n",
       "      <td>40</td>\n",
       "      <td>1</td>\n",
       "      <td>1</td>\n",
       "      <td>NaN</td>\n",
       "      <td>...</td>\n",
       "      <td>0</td>\n",
       "      <td>560113</td>\n",
       "      <td>0</td>\n",
       "      <td>129.0</td>\n",
       "      <td>20-26</td>\n",
       "      <td>0000000</td>\n",
       "      <td>2.0</td>\n",
       "      <td>1.0</td>\n",
       "      <td>0.0</td>\n",
       "      <td>0.0</td>\n",
       "    </tr>\n",
       "    <tr>\n",
       "      <th>204594</th>\n",
       "      <td>56</td>\n",
       "      <td>33</td>\n",
       "      <td>12</td>\n",
       "      <td>26</td>\n",
       "      <td>89</td>\n",
       "      <td>14</td>\n",
       "      <td>15</td>\n",
       "      <td>1</td>\n",
       "      <td>2</td>\n",
       "      <td>NaN</td>\n",
       "      <td>...</td>\n",
       "      <td>0</td>\n",
       "      <td>560114</td>\n",
       "      <td>0</td>\n",
       "      <td>9.0</td>\n",
       "      <td>3-98</td>\n",
       "      <td>0000000</td>\n",
       "      <td>4.0</td>\n",
       "      <td>1.0</td>\n",
       "      <td>0.0</td>\n",
       "      <td>0.0</td>\n",
       "    </tr>\n",
       "  </tbody>\n",
       "</table>\n",
       "<p>3 rows × 51 columns</p>\n",
       "</div>"
      ],
      "text/plain": [
       "        STATE  COUNTY  MONTH  DAY  YEAR  HOUR  MINUTE  VE_FORMS  PERSONS  \\\n",
       "204592     56      37     12   22    89    18       5         4        6   \n",
       "204593     56      25     12   28    89     2      40         1        1   \n",
       "204594     56      33     12   26    89    14      15         1        2   \n",
       "\n",
       "        LAND_USE  ...  DRUNK_DR  ST_CASE  CITY  MILEPT  TWAY_ID     RAIL  \\\n",
       "204592       NaN  ...         1   560112     0   944.0      I80  0000000   \n",
       "204593       NaN  ...         0   560113     0   129.0    20-26  0000000   \n",
       "204594       NaN  ...         0   560114     0     9.0     3-98  0000000   \n",
       "\n",
       "        ROUTE  TRAF_FLO  HOSP_HR  HOSP_MN  \n",
       "204592    1.0       3.0      0.0      0.0  \n",
       "204593    2.0       1.0      0.0      0.0  \n",
       "204594    4.0       1.0      0.0      0.0  \n",
       "\n",
       "[3 rows x 51 columns]"
      ]
     },
     "execution_count": 20,
     "metadata": {},
     "output_type": "execute_result"
    }
   ],
   "source": [
    "accidents.tail(3)"
   ]
  },
  {
   "cell_type": "code",
   "execution_count": 21,
   "id": "a22fe648-6d14-469f-827e-16a2d138e84f",
   "metadata": {},
   "outputs": [
    {
     "data": {
      "text/plain": [
       "88    42130\n",
       "87    41438\n",
       "86    41090\n",
       "89    40741\n",
       "85    39196\n",
       "Name: YEAR, dtype: int64"
      ]
     },
     "execution_count": 21,
     "metadata": {},
     "output_type": "execute_result"
    }
   ],
   "source": [
    "# This gives the values each of the years\n",
    "\n",
    "accidents[\"YEAR\"].value_counts()"
   ]
  },
  {
   "cell_type": "markdown",
   "id": "14dc22d4-ddc3-41cc-a91a-cb0025bc0c80",
   "metadata": {},
   "source": [
    "What we want to do now is create a Dataframe called accidents that joins the ACCIDENT.CSV files from the years 1985-1989 (inclusive) into one large Dataframe."
   ]
  },
  {
   "cell_type": "markdown",
   "id": "8e586edd-ff26-4ce2-8f6b-2424b26f2929",
   "metadata": {},
   "source": [
    "## Question 3"
   ]
  },
  {
   "cell_type": "code",
   "execution_count": 22,
   "id": "bbe0f40d-9655-4653-9ca8-886bdb61cb91",
   "metadata": {},
   "outputs": [],
   "source": [
    "# To convert the YEAR column from a 2 digit year to a 4 digit year,\n",
    "# like we did in the last question, but using a different method.\n",
    "# we will use the to_datetime function, then take the old format 2digits represented by %y\n",
    "# and once you have coverted to a datetime format, then you can display the year with %Y which is 4digits\n",
    "\n",
    "#  the syntax code   pd.to_datetime(df[''], format='%y').dt.strftime('%Y')"
   ]
  },
  {
   "cell_type": "code",
   "execution_count": 23,
   "id": "40bce10f-e7df-41b1-b07d-6e948ec54f22",
   "metadata": {},
   "outputs": [
    {
     "data": {
      "text/plain": [
       "0         1985\n",
       "1         1985\n",
       "2         1985\n",
       "3         1985\n",
       "4         1985\n",
       "          ... \n",
       "204590    1989\n",
       "204591    1989\n",
       "204592    1989\n",
       "204593    1989\n",
       "204594    1989\n",
       "Name: YEAR, Length: 204595, dtype: object"
      ]
     },
     "execution_count": 23,
     "metadata": {},
     "output_type": "execute_result"
    }
   ],
   "source": [
    " pd.to_datetime(accidents[\"YEAR\"], format='%y').dt.strftime('%Y')"
   ]
  },
  {
   "cell_type": "code",
   "execution_count": 24,
   "id": "05bd9fe9-3b38-4d2a-af2d-88ce5857d23e",
   "metadata": {},
   "outputs": [],
   "source": [
    "accidents[\"YEAR\"]= pd.to_datetime(accidents[\"YEAR\"], format='%y').dt.strftime('%Y')"
   ]
  },
  {
   "cell_type": "code",
   "execution_count": 25,
   "id": "c7cfd9cc-5bd7-4236-84b3-0ba61d645f4f",
   "metadata": {},
   "outputs": [
    {
     "data": {
      "text/html": [
       "<div>\n",
       "<style scoped>\n",
       "    .dataframe tbody tr th:only-of-type {\n",
       "        vertical-align: middle;\n",
       "    }\n",
       "\n",
       "    .dataframe tbody tr th {\n",
       "        vertical-align: top;\n",
       "    }\n",
       "\n",
       "    .dataframe thead th {\n",
       "        text-align: right;\n",
       "    }\n",
       "</style>\n",
       "<table border=\"1\" class=\"dataframe\">\n",
       "  <thead>\n",
       "    <tr style=\"text-align: right;\">\n",
       "      <th></th>\n",
       "      <th>STATE</th>\n",
       "      <th>COUNTY</th>\n",
       "      <th>MONTH</th>\n",
       "      <th>DAY</th>\n",
       "      <th>YEAR</th>\n",
       "      <th>HOUR</th>\n",
       "      <th>MINUTE</th>\n",
       "      <th>VE_FORMS</th>\n",
       "      <th>PERSONS</th>\n",
       "      <th>LAND_USE</th>\n",
       "      <th>...</th>\n",
       "      <th>DRUNK_DR</th>\n",
       "      <th>ST_CASE</th>\n",
       "      <th>CITY</th>\n",
       "      <th>MILEPT</th>\n",
       "      <th>TWAY_ID</th>\n",
       "      <th>RAIL</th>\n",
       "      <th>ROUTE</th>\n",
       "      <th>TRAF_FLO</th>\n",
       "      <th>HOSP_HR</th>\n",
       "      <th>HOSP_MN</th>\n",
       "    </tr>\n",
       "  </thead>\n",
       "  <tbody>\n",
       "    <tr>\n",
       "      <th>0</th>\n",
       "      <td>1</td>\n",
       "      <td>53</td>\n",
       "      <td>1</td>\n",
       "      <td>4</td>\n",
       "      <td>1985</td>\n",
       "      <td>8</td>\n",
       "      <td>10</td>\n",
       "      <td>1</td>\n",
       "      <td>1</td>\n",
       "      <td>2.0</td>\n",
       "      <td>...</td>\n",
       "      <td>0</td>\n",
       "      <td>10002</td>\n",
       "      <td>0</td>\n",
       "      <td>814.0</td>\n",
       "      <td>31</td>\n",
       "      <td>0000000</td>\n",
       "      <td>NaN</td>\n",
       "      <td>NaN</td>\n",
       "      <td>NaN</td>\n",
       "      <td>NaN</td>\n",
       "    </tr>\n",
       "    <tr>\n",
       "      <th>1</th>\n",
       "      <td>1</td>\n",
       "      <td>85</td>\n",
       "      <td>1</td>\n",
       "      <td>6</td>\n",
       "      <td>1985</td>\n",
       "      <td>5</td>\n",
       "      <td>45</td>\n",
       "      <td>1</td>\n",
       "      <td>2</td>\n",
       "      <td>1.0</td>\n",
       "      <td>...</td>\n",
       "      <td>1</td>\n",
       "      <td>10003</td>\n",
       "      <td>9997</td>\n",
       "      <td>1093.0</td>\n",
       "      <td>80</td>\n",
       "      <td>0000000</td>\n",
       "      <td>NaN</td>\n",
       "      <td>NaN</td>\n",
       "      <td>NaN</td>\n",
       "      <td>NaN</td>\n",
       "    </tr>\n",
       "    <tr>\n",
       "      <th>2</th>\n",
       "      <td>1</td>\n",
       "      <td>119</td>\n",
       "      <td>1</td>\n",
       "      <td>6</td>\n",
       "      <td>1985</td>\n",
       "      <td>4</td>\n",
       "      <td>5</td>\n",
       "      <td>1</td>\n",
       "      <td>1</td>\n",
       "      <td>2.0</td>\n",
       "      <td>...</td>\n",
       "      <td>0</td>\n",
       "      <td>10004</td>\n",
       "      <td>0</td>\n",
       "      <td>220.0</td>\n",
       "      <td>80</td>\n",
       "      <td>0000000</td>\n",
       "      <td>NaN</td>\n",
       "      <td>NaN</td>\n",
       "      <td>NaN</td>\n",
       "      <td>NaN</td>\n",
       "    </tr>\n",
       "  </tbody>\n",
       "</table>\n",
       "<p>3 rows × 51 columns</p>\n",
       "</div>"
      ],
      "text/plain": [
       "   STATE  COUNTY  MONTH  DAY  YEAR  HOUR  MINUTE  VE_FORMS  PERSONS  LAND_USE  \\\n",
       "0      1      53      1    4  1985     8      10         1        1       2.0   \n",
       "1      1      85      1    6  1985     5      45         1        2       1.0   \n",
       "2      1     119      1    6  1985     4       5         1        1       2.0   \n",
       "\n",
       "   ...  DRUNK_DR  ST_CASE  CITY  MILEPT  TWAY_ID     RAIL  ROUTE  TRAF_FLO  \\\n",
       "0  ...         0    10002     0   814.0       31  0000000    NaN       NaN   \n",
       "1  ...         1    10003  9997  1093.0       80  0000000    NaN       NaN   \n",
       "2  ...         0    10004     0   220.0       80  0000000    NaN       NaN   \n",
       "\n",
       "   HOSP_HR  HOSP_MN  \n",
       "0      NaN      NaN  \n",
       "1      NaN      NaN  \n",
       "2      NaN      NaN  \n",
       "\n",
       "[3 rows x 51 columns]"
      ]
     },
     "execution_count": 25,
     "metadata": {},
     "output_type": "execute_result"
    }
   ],
   "source": [
    "accidents.head(3)"
   ]
  },
  {
   "cell_type": "code",
   "execution_count": 26,
   "id": "8ff892ac-05c5-4247-8bef-a1d69dd03978",
   "metadata": {},
   "outputs": [
    {
     "data": {
      "text/html": [
       "<div>\n",
       "<style scoped>\n",
       "    .dataframe tbody tr th:only-of-type {\n",
       "        vertical-align: middle;\n",
       "    }\n",
       "\n",
       "    .dataframe tbody tr th {\n",
       "        vertical-align: top;\n",
       "    }\n",
       "\n",
       "    .dataframe thead th {\n",
       "        text-align: right;\n",
       "    }\n",
       "</style>\n",
       "<table border=\"1\" class=\"dataframe\">\n",
       "  <thead>\n",
       "    <tr style=\"text-align: right;\">\n",
       "      <th></th>\n",
       "      <th>STATE</th>\n",
       "      <th>COUNTY</th>\n",
       "      <th>MONTH</th>\n",
       "      <th>DAY</th>\n",
       "      <th>YEAR</th>\n",
       "      <th>HOUR</th>\n",
       "      <th>MINUTE</th>\n",
       "      <th>VE_FORMS</th>\n",
       "      <th>PERSONS</th>\n",
       "      <th>LAND_USE</th>\n",
       "      <th>...</th>\n",
       "      <th>DRUNK_DR</th>\n",
       "      <th>ST_CASE</th>\n",
       "      <th>CITY</th>\n",
       "      <th>MILEPT</th>\n",
       "      <th>TWAY_ID</th>\n",
       "      <th>RAIL</th>\n",
       "      <th>ROUTE</th>\n",
       "      <th>TRAF_FLO</th>\n",
       "      <th>HOSP_HR</th>\n",
       "      <th>HOSP_MN</th>\n",
       "    </tr>\n",
       "  </thead>\n",
       "  <tbody>\n",
       "    <tr>\n",
       "      <th>204592</th>\n",
       "      <td>56</td>\n",
       "      <td>37</td>\n",
       "      <td>12</td>\n",
       "      <td>22</td>\n",
       "      <td>1989</td>\n",
       "      <td>18</td>\n",
       "      <td>5</td>\n",
       "      <td>4</td>\n",
       "      <td>6</td>\n",
       "      <td>NaN</td>\n",
       "      <td>...</td>\n",
       "      <td>1</td>\n",
       "      <td>560112</td>\n",
       "      <td>0</td>\n",
       "      <td>944.0</td>\n",
       "      <td>I80</td>\n",
       "      <td>0000000</td>\n",
       "      <td>1.0</td>\n",
       "      <td>3.0</td>\n",
       "      <td>0.0</td>\n",
       "      <td>0.0</td>\n",
       "    </tr>\n",
       "    <tr>\n",
       "      <th>204593</th>\n",
       "      <td>56</td>\n",
       "      <td>25</td>\n",
       "      <td>12</td>\n",
       "      <td>28</td>\n",
       "      <td>1989</td>\n",
       "      <td>2</td>\n",
       "      <td>40</td>\n",
       "      <td>1</td>\n",
       "      <td>1</td>\n",
       "      <td>NaN</td>\n",
       "      <td>...</td>\n",
       "      <td>0</td>\n",
       "      <td>560113</td>\n",
       "      <td>0</td>\n",
       "      <td>129.0</td>\n",
       "      <td>20-26</td>\n",
       "      <td>0000000</td>\n",
       "      <td>2.0</td>\n",
       "      <td>1.0</td>\n",
       "      <td>0.0</td>\n",
       "      <td>0.0</td>\n",
       "    </tr>\n",
       "    <tr>\n",
       "      <th>204594</th>\n",
       "      <td>56</td>\n",
       "      <td>33</td>\n",
       "      <td>12</td>\n",
       "      <td>26</td>\n",
       "      <td>1989</td>\n",
       "      <td>14</td>\n",
       "      <td>15</td>\n",
       "      <td>1</td>\n",
       "      <td>2</td>\n",
       "      <td>NaN</td>\n",
       "      <td>...</td>\n",
       "      <td>0</td>\n",
       "      <td>560114</td>\n",
       "      <td>0</td>\n",
       "      <td>9.0</td>\n",
       "      <td>3-98</td>\n",
       "      <td>0000000</td>\n",
       "      <td>4.0</td>\n",
       "      <td>1.0</td>\n",
       "      <td>0.0</td>\n",
       "      <td>0.0</td>\n",
       "    </tr>\n",
       "  </tbody>\n",
       "</table>\n",
       "<p>3 rows × 51 columns</p>\n",
       "</div>"
      ],
      "text/plain": [
       "        STATE  COUNTY  MONTH  DAY  YEAR  HOUR  MINUTE  VE_FORMS  PERSONS  \\\n",
       "204592     56      37     12   22  1989    18       5         4        6   \n",
       "204593     56      25     12   28  1989     2      40         1        1   \n",
       "204594     56      33     12   26  1989    14      15         1        2   \n",
       "\n",
       "        LAND_USE  ...  DRUNK_DR  ST_CASE  CITY  MILEPT  TWAY_ID     RAIL  \\\n",
       "204592       NaN  ...         1   560112     0   944.0      I80  0000000   \n",
       "204593       NaN  ...         0   560113     0   129.0    20-26  0000000   \n",
       "204594       NaN  ...         0   560114     0     9.0     3-98  0000000   \n",
       "\n",
       "        ROUTE  TRAF_FLO  HOSP_HR  HOSP_MN  \n",
       "204592    1.0       3.0      0.0      0.0  \n",
       "204593    2.0       1.0      0.0      0.0  \n",
       "204594    4.0       1.0      0.0      0.0  \n",
       "\n",
       "[3 rows x 51 columns]"
      ]
     },
     "execution_count": 26,
     "metadata": {},
     "output_type": "execute_result"
    }
   ],
   "source": [
    "accidents.tail(3)"
   ]
  },
  {
   "cell_type": "code",
   "execution_count": 27,
   "id": "ef20e524-81c1-4c97-8b02-9ff5ba354478",
   "metadata": {},
   "outputs": [],
   "source": [
    "# To know how many accidents are there in which one or more \n",
    "# drunk drivers were involved in an accident with a school bus"
   ]
  },
  {
   "cell_type": "code",
   "execution_count": 28,
   "id": "b1b402d9-feb4-438f-ba9e-d68d4ae9ddca",
   "metadata": {},
   "outputs": [
    {
     "data": {
      "text/plain": [
       "0    120921\n",
       "1     78737\n",
       "2      4854\n",
       "3        80\n",
       "4         2\n",
       "6         1\n",
       "Name: DRUNK_DR, dtype: int64"
      ]
     },
     "execution_count": 28,
     "metadata": {},
     "output_type": "execute_result"
    }
   ],
   "source": [
    "accidents[\"DRUNK_DR\"].value_counts()"
   ]
  },
  {
   "cell_type": "code",
   "execution_count": 29,
   "id": "1d0e623d-074c-459d-8913-46548ee95085",
   "metadata": {},
   "outputs": [
    {
     "data": {
      "text/plain": [
       "0    203956\n",
       "1       639\n",
       "Name: SCH_BUS, dtype: int64"
      ]
     },
     "execution_count": 29,
     "metadata": {},
     "output_type": "execute_result"
    }
   ],
   "source": [
    "accidents[\"SCH_BUS\"].value_counts()"
   ]
  },
  {
   "cell_type": "code",
   "execution_count": 30,
   "id": "1951cd30-9828-413a-8eb2-e530997068c4",
   "metadata": {},
   "outputs": [
    {
     "data": {
      "text/html": [
       "<div>\n",
       "<style scoped>\n",
       "    .dataframe tbody tr th:only-of-type {\n",
       "        vertical-align: middle;\n",
       "    }\n",
       "\n",
       "    .dataframe tbody tr th {\n",
       "        vertical-align: top;\n",
       "    }\n",
       "\n",
       "    .dataframe thead th {\n",
       "        text-align: right;\n",
       "    }\n",
       "</style>\n",
       "<table border=\"1\" class=\"dataframe\">\n",
       "  <thead>\n",
       "    <tr style=\"text-align: right;\">\n",
       "      <th></th>\n",
       "      <th>STATE</th>\n",
       "      <th>COUNTY</th>\n",
       "      <th>MONTH</th>\n",
       "      <th>DAY</th>\n",
       "      <th>YEAR</th>\n",
       "      <th>HOUR</th>\n",
       "      <th>MINUTE</th>\n",
       "      <th>VE_FORMS</th>\n",
       "      <th>PERSONS</th>\n",
       "      <th>LAND_USE</th>\n",
       "      <th>...</th>\n",
       "      <th>DRUNK_DR</th>\n",
       "      <th>ST_CASE</th>\n",
       "      <th>CITY</th>\n",
       "      <th>MILEPT</th>\n",
       "      <th>TWAY_ID</th>\n",
       "      <th>RAIL</th>\n",
       "      <th>ROUTE</th>\n",
       "      <th>TRAF_FLO</th>\n",
       "      <th>HOSP_HR</th>\n",
       "      <th>HOSP_MN</th>\n",
       "    </tr>\n",
       "  </thead>\n",
       "  <tbody>\n",
       "    <tr>\n",
       "      <th>1403</th>\n",
       "      <td>4</td>\n",
       "      <td>25</td>\n",
       "      <td>9</td>\n",
       "      <td>25</td>\n",
       "      <td>1985</td>\n",
       "      <td>15</td>\n",
       "      <td>45</td>\n",
       "      <td>2</td>\n",
       "      <td>2</td>\n",
       "      <td>1.0</td>\n",
       "      <td>...</td>\n",
       "      <td>1</td>\n",
       "      <td>40523</td>\n",
       "      <td>0</td>\n",
       "      <td>17.0</td>\n",
       "      <td>169</td>\n",
       "      <td>0000000</td>\n",
       "      <td>NaN</td>\n",
       "      <td>NaN</td>\n",
       "      <td>NaN</td>\n",
       "      <td>NaN</td>\n",
       "    </tr>\n",
       "    <tr>\n",
       "      <th>1588</th>\n",
       "      <td>4</td>\n",
       "      <td>17</td>\n",
       "      <td>10</td>\n",
       "      <td>17</td>\n",
       "      <td>1985</td>\n",
       "      <td>19</td>\n",
       "      <td>35</td>\n",
       "      <td>2</td>\n",
       "      <td>5</td>\n",
       "      <td>2.0</td>\n",
       "      <td>...</td>\n",
       "      <td>1</td>\n",
       "      <td>40711</td>\n",
       "      <td>0</td>\n",
       "      <td>0.0</td>\n",
       "      <td>reservaton</td>\n",
       "      <td>0000000</td>\n",
       "      <td>NaN</td>\n",
       "      <td>NaN</td>\n",
       "      <td>NaN</td>\n",
       "      <td>NaN</td>\n",
       "    </tr>\n",
       "    <tr>\n",
       "      <th>3587</th>\n",
       "      <td>6</td>\n",
       "      <td>37</td>\n",
       "      <td>5</td>\n",
       "      <td>8</td>\n",
       "      <td>1985</td>\n",
       "      <td>16</td>\n",
       "      <td>50</td>\n",
       "      <td>2</td>\n",
       "      <td>2</td>\n",
       "      <td>2.0</td>\n",
       "      <td>...</td>\n",
       "      <td>1</td>\n",
       "      <td>61478</td>\n",
       "      <td>0</td>\n",
       "      <td>99999.0</td>\n",
       "      <td>9999999999</td>\n",
       "      <td>0000000</td>\n",
       "      <td>NaN</td>\n",
       "      <td>NaN</td>\n",
       "      <td>NaN</td>\n",
       "      <td>NaN</td>\n",
       "    </tr>\n",
       "    <tr>\n",
       "      <th>6071</th>\n",
       "      <td>6</td>\n",
       "      <td>37</td>\n",
       "      <td>9</td>\n",
       "      <td>18</td>\n",
       "      <td>1985</td>\n",
       "      <td>16</td>\n",
       "      <td>45</td>\n",
       "      <td>2</td>\n",
       "      <td>2</td>\n",
       "      <td>1.0</td>\n",
       "      <td>...</td>\n",
       "      <td>1</td>\n",
       "      <td>63991</td>\n",
       "      <td>1980</td>\n",
       "      <td>99999.0</td>\n",
       "      <td>WASHNGTNBL</td>\n",
       "      <td>0000000</td>\n",
       "      <td>NaN</td>\n",
       "      <td>NaN</td>\n",
       "      <td>NaN</td>\n",
       "      <td>NaN</td>\n",
       "    </tr>\n",
       "    <tr>\n",
       "      <th>7638</th>\n",
       "      <td>11</td>\n",
       "      <td>1</td>\n",
       "      <td>8</td>\n",
       "      <td>15</td>\n",
       "      <td>1985</td>\n",
       "      <td>1</td>\n",
       "      <td>50</td>\n",
       "      <td>1</td>\n",
       "      <td>1</td>\n",
       "      <td>1.0</td>\n",
       "      <td>...</td>\n",
       "      <td>1</td>\n",
       "      <td>110038</td>\n",
       "      <td>10</td>\n",
       "      <td>0.0</td>\n",
       "      <td>S Capitol</td>\n",
       "      <td>0000000</td>\n",
       "      <td>NaN</td>\n",
       "      <td>NaN</td>\n",
       "      <td>NaN</td>\n",
       "      <td>NaN</td>\n",
       "    </tr>\n",
       "    <tr>\n",
       "      <th>...</th>\n",
       "      <td>...</td>\n",
       "      <td>...</td>\n",
       "      <td>...</td>\n",
       "      <td>...</td>\n",
       "      <td>...</td>\n",
       "      <td>...</td>\n",
       "      <td>...</td>\n",
       "      <td>...</td>\n",
       "      <td>...</td>\n",
       "      <td>...</td>\n",
       "      <td>...</td>\n",
       "      <td>...</td>\n",
       "      <td>...</td>\n",
       "      <td>...</td>\n",
       "      <td>...</td>\n",
       "      <td>...</td>\n",
       "      <td>...</td>\n",
       "      <td>...</td>\n",
       "      <td>...</td>\n",
       "      <td>...</td>\n",
       "      <td>...</td>\n",
       "    </tr>\n",
       "    <tr>\n",
       "      <th>177919</th>\n",
       "      <td>17</td>\n",
       "      <td>31</td>\n",
       "      <td>11</td>\n",
       "      <td>28</td>\n",
       "      <td>1989</td>\n",
       "      <td>15</td>\n",
       "      <td>0</td>\n",
       "      <td>2</td>\n",
       "      <td>11</td>\n",
       "      <td>NaN</td>\n",
       "      <td>...</td>\n",
       "      <td>1</td>\n",
       "      <td>171374</td>\n",
       "      <td>1670</td>\n",
       "      <td>0.0</td>\n",
       "      <td>70TH</td>\n",
       "      <td>0000000</td>\n",
       "      <td>6.0</td>\n",
       "      <td>1.0</td>\n",
       "      <td>99.0</td>\n",
       "      <td>99.0</td>\n",
       "    </tr>\n",
       "    <tr>\n",
       "      <th>178698</th>\n",
       "      <td>18</td>\n",
       "      <td>141</td>\n",
       "      <td>9</td>\n",
       "      <td>20</td>\n",
       "      <td>1989</td>\n",
       "      <td>7</td>\n",
       "      <td>10</td>\n",
       "      <td>2</td>\n",
       "      <td>2</td>\n",
       "      <td>NaN</td>\n",
       "      <td>...</td>\n",
       "      <td>1</td>\n",
       "      <td>180604</td>\n",
       "      <td>0</td>\n",
       "      <td>0.0</td>\n",
       "      <td>31</td>\n",
       "      <td>0000000</td>\n",
       "      <td>2.0</td>\n",
       "      <td>2.0</td>\n",
       "      <td>8.0</td>\n",
       "      <td>5.0</td>\n",
       "    </tr>\n",
       "    <tr>\n",
       "      <th>182027</th>\n",
       "      <td>24</td>\n",
       "      <td>33</td>\n",
       "      <td>11</td>\n",
       "      <td>27</td>\n",
       "      <td>1989</td>\n",
       "      <td>8</td>\n",
       "      <td>50</td>\n",
       "      <td>2</td>\n",
       "      <td>2</td>\n",
       "      <td>NaN</td>\n",
       "      <td>...</td>\n",
       "      <td>1</td>\n",
       "      <td>240593</td>\n",
       "      <td>1520</td>\n",
       "      <td>36.0</td>\n",
       "      <td>119</td>\n",
       "      <td>0000000</td>\n",
       "      <td>8.0</td>\n",
       "      <td>1.0</td>\n",
       "      <td>99.0</td>\n",
       "      <td>99.0</td>\n",
       "    </tr>\n",
       "    <tr>\n",
       "      <th>186730</th>\n",
       "      <td>31</td>\n",
       "      <td>143</td>\n",
       "      <td>3</td>\n",
       "      <td>25</td>\n",
       "      <td>1989</td>\n",
       "      <td>20</td>\n",
       "      <td>17</td>\n",
       "      <td>1</td>\n",
       "      <td>3</td>\n",
       "      <td>NaN</td>\n",
       "      <td>...</td>\n",
       "      <td>1</td>\n",
       "      <td>310275</td>\n",
       "      <td>0</td>\n",
       "      <td>126.0</td>\n",
       "      <td>66</td>\n",
       "      <td>0000000</td>\n",
       "      <td>3.0</td>\n",
       "      <td>1.0</td>\n",
       "      <td>20.0</td>\n",
       "      <td>58.0</td>\n",
       "    </tr>\n",
       "    <tr>\n",
       "      <th>194122</th>\n",
       "      <td>41</td>\n",
       "      <td>47</td>\n",
       "      <td>2</td>\n",
       "      <td>24</td>\n",
       "      <td>1989</td>\n",
       "      <td>23</td>\n",
       "      <td>42</td>\n",
       "      <td>2</td>\n",
       "      <td>2</td>\n",
       "      <td>NaN</td>\n",
       "      <td>...</td>\n",
       "      <td>1</td>\n",
       "      <td>410051</td>\n",
       "      <td>1810</td>\n",
       "      <td>38.0</td>\n",
       "      <td>1520</td>\n",
       "      <td>0000000</td>\n",
       "      <td>6.0</td>\n",
       "      <td>1.0</td>\n",
       "      <td>0.0</td>\n",
       "      <td>0.0</td>\n",
       "    </tr>\n",
       "  </tbody>\n",
       "</table>\n",
       "<p>79 rows × 51 columns</p>\n",
       "</div>"
      ],
      "text/plain": [
       "        STATE  COUNTY  MONTH  DAY  YEAR  HOUR  MINUTE  VE_FORMS  PERSONS  \\\n",
       "1403        4      25      9   25  1985    15      45         2        2   \n",
       "1588        4      17     10   17  1985    19      35         2        5   \n",
       "3587        6      37      5    8  1985    16      50         2        2   \n",
       "6071        6      37      9   18  1985    16      45         2        2   \n",
       "7638       11       1      8   15  1985     1      50         1        1   \n",
       "...       ...     ...    ...  ...   ...   ...     ...       ...      ...   \n",
       "177919     17      31     11   28  1989    15       0         2       11   \n",
       "178698     18     141      9   20  1989     7      10         2        2   \n",
       "182027     24      33     11   27  1989     8      50         2        2   \n",
       "186730     31     143      3   25  1989    20      17         1        3   \n",
       "194122     41      47      2   24  1989    23      42         2        2   \n",
       "\n",
       "        LAND_USE  ...  DRUNK_DR  ST_CASE  CITY   MILEPT     TWAY_ID     RAIL  \\\n",
       "1403         1.0  ...         1    40523     0     17.0         169  0000000   \n",
       "1588         2.0  ...         1    40711     0      0.0  reservaton  0000000   \n",
       "3587         2.0  ...         1    61478     0  99999.0  9999999999  0000000   \n",
       "6071         1.0  ...         1    63991  1980  99999.0  WASHNGTNBL  0000000   \n",
       "7638         1.0  ...         1   110038    10      0.0   S Capitol  0000000   \n",
       "...          ...  ...       ...      ...   ...      ...         ...      ...   \n",
       "177919       NaN  ...         1   171374  1670      0.0        70TH  0000000   \n",
       "178698       NaN  ...         1   180604     0      0.0          31  0000000   \n",
       "182027       NaN  ...         1   240593  1520     36.0         119  0000000   \n",
       "186730       NaN  ...         1   310275     0    126.0          66  0000000   \n",
       "194122       NaN  ...         1   410051  1810     38.0        1520  0000000   \n",
       "\n",
       "        ROUTE  TRAF_FLO  HOSP_HR  HOSP_MN  \n",
       "1403      NaN       NaN      NaN      NaN  \n",
       "1588      NaN       NaN      NaN      NaN  \n",
       "3587      NaN       NaN      NaN      NaN  \n",
       "6071      NaN       NaN      NaN      NaN  \n",
       "7638      NaN       NaN      NaN      NaN  \n",
       "...       ...       ...      ...      ...  \n",
       "177919    6.0       1.0     99.0     99.0  \n",
       "178698    2.0       2.0      8.0      5.0  \n",
       "182027    8.0       1.0     99.0     99.0  \n",
       "186730    3.0       1.0     20.0     58.0  \n",
       "194122    6.0       1.0      0.0      0.0  \n",
       "\n",
       "[79 rows x 51 columns]"
      ]
     },
     "execution_count": 30,
     "metadata": {},
     "output_type": "execute_result"
    }
   ],
   "source": [
    "accidents[(accidents[\"DRUNK_DR\"] >= 1) & (accidents[\"SCH_BUS\"]==1)]"
   ]
  },
  {
   "cell_type": "code",
   "execution_count": 31,
   "id": "90ac6515-4307-45a7-bcbd-78c340ae1bc7",
   "metadata": {},
   "outputs": [
    {
     "data": {
      "text/plain": [
       "(79, 51)"
      ]
     },
     "execution_count": 31,
     "metadata": {},
     "output_type": "execute_result"
    }
   ],
   "source": [
    "accidents[(accidents[\"DRUNK_DR\"] >= 1) & (accidents[\"SCH_BUS\"]==1)].shape"
   ]
  },
  {
   "cell_type": "code",
   "execution_count": 32,
   "id": "f28e7965-db24-4e86-ac20-0b26984ac9d9",
   "metadata": {},
   "outputs": [],
   "source": [
    "# There are 79 rows, i.e, There are 79 accidents with at least 1 drunk driver and a school bus"
   ]
  },
  {
   "cell_type": "markdown",
   "id": "47c6229f-35f7-400c-8366-c442baa5cf47",
   "metadata": {},
   "source": [
    "Change the values in the YEAR column from a 2 digit year to a 4 digit year, like we did in the last question, but using a different method.\n",
    "\n",
    "How many accidents are there in which one or more drunk drivers were involved in an accident with a school bus?Markdown notes and sentences and analysis written here."
   ]
  },
  {
   "cell_type": "markdown",
   "id": "da22f29c-d245-4d2b-9fc1-ca14cb6087d9",
   "metadata": {},
   "source": [
    "## Question 4"
   ]
  },
  {
   "cell_type": "code",
   "execution_count": 33,
   "id": "8cffc767-d1c8-4d64-b7dc-f0d2ee8a80d1",
   "metadata": {},
   "outputs": [],
   "source": [
    "# to find the accidents that happen in total per year between 1 or more drunk drivers and school bus.\n",
    "# Instead of taken the shape, we can take the DataFrame and extract the year"
   ]
  },
  {
   "cell_type": "code",
   "execution_count": 34,
   "id": "b7b5c412-86a6-4f64-8316-7c3c797c0fcd",
   "metadata": {},
   "outputs": [
    {
     "data": {
      "text/plain": [
       "1403      1985\n",
       "1588      1985\n",
       "3587      1985\n",
       "6071      1985\n",
       "7638      1985\n",
       "          ... \n",
       "177919    1989\n",
       "178698    1989\n",
       "182027    1989\n",
       "186730    1989\n",
       "194122    1989\n",
       "Name: YEAR, Length: 79, dtype: object"
      ]
     },
     "execution_count": 34,
     "metadata": {},
     "output_type": "execute_result"
    }
   ],
   "source": [
    "accidents[(accidents[\"DRUNK_DR\"] >= 1) & (accidents[\"SCH_BUS\"]==1)][\"YEAR\"]"
   ]
  },
  {
   "cell_type": "code",
   "execution_count": 35,
   "id": "d9fd13c6-fb97-452d-b797-e44cd4b46aa8",
   "metadata": {},
   "outputs": [
    {
     "data": {
      "text/plain": [
       "1986    22\n",
       "1987    17\n",
       "1985    16\n",
       "1988    16\n",
       "1989     8\n",
       "Name: YEAR, dtype: int64"
      ]
     },
     "execution_count": 35,
     "metadata": {},
     "output_type": "execute_result"
    }
   ],
   "source": [
    "accidents[(accidents[\"DRUNK_DR\"] >= 1) & (accidents[\"SCH_BUS\"]==1)][\"YEAR\"].value_counts()"
   ]
  },
  {
   "cell_type": "code",
   "execution_count": 36,
   "id": "185cee88-e16d-4b66-aaf7-28e660e67eae",
   "metadata": {},
   "outputs": [],
   "source": [
    "# 1989 had the lowest number of accidents\n",
    "# 1986 had the most number of accidents"
   ]
  },
  {
   "cell_type": "code",
   "execution_count": 37,
   "id": "db78375d-f8f7-49b4-affb-e0aa53aab628",
   "metadata": {},
   "outputs": [
    {
     "data": {
      "text/plain": [
       "1     7120\n",
       "17    6978\n",
       "4     6942\n",
       "22    6874\n",
       "18    6844\n",
       "5     6836\n",
       "23    6835\n",
       "26    6808\n",
       "3     6807\n",
       "24    6802\n",
       "27    6780\n",
       "19    6770\n",
       "2     6754\n",
       "25    6750\n",
       "20    6742\n",
       "7     6720\n",
       "14    6703\n",
       "11    6675\n",
       "28    6620\n",
       "15    6609\n",
       "12    6600\n",
       "16    6590\n",
       "10    6588\n",
       "6     6533\n",
       "13    6532\n",
       "9     6520\n",
       "21    6517\n",
       "8     6512\n",
       "30    6181\n",
       "29    6099\n",
       "31    3923\n",
       "99      31\n",
       "Name: DAY, dtype: int64"
      ]
     },
     "execution_count": 37,
     "metadata": {},
     "output_type": "execute_result"
    }
   ],
   "source": [
    "# To know the days of the week that has the most accidents occurrence\n",
    "# one of the days was recorded as 99 to have 31 but we don't know which day it was.\n",
    "\n",
    "accidents[\"DAY\"].value_counts()"
   ]
  },
  {
   "cell_type": "code",
   "execution_count": 38,
   "id": "d6ac2990-fd75-4e78-b1d2-4d5da172f241",
   "metadata": {},
   "outputs": [
    {
     "data": {
      "text/plain": [
       "(204595, 51)"
      ]
     },
     "execution_count": 38,
     "metadata": {},
     "output_type": "execute_result"
    }
   ],
   "source": [
    "# To avoid that, let see how many accident all together\n",
    "\n",
    "accidents.shape"
   ]
  },
  {
   "cell_type": "code",
   "execution_count": 39,
   "id": "3ce76260-ae1f-41e2-ad0d-8d75dd2e8ac9",
   "metadata": {},
   "outputs": [],
   "source": [
    "# let us make newaccidents to be the DataFrame\n",
    "# That got everything from accidents, except the ones which day was equal to 99 \n",
    "\n",
    "newaccidents = accidents [accidents[\"DAY\"] !=99]"
   ]
  },
  {
   "cell_type": "code",
   "execution_count": 40,
   "id": "f90f575e-de55-41d6-a3ed-e52887c358b7",
   "metadata": {},
   "outputs": [
    {
     "data": {
      "text/plain": [
       "(204564, 51)"
      ]
     },
     "execution_count": 40,
     "metadata": {},
     "output_type": "execute_result"
    }
   ],
   "source": [
    "# Looking at the shape of accidents to newaccidents i only lost few values (31)\n",
    "\n",
    "newaccidents.shape"
   ]
  },
  {
   "cell_type": "code",
   "execution_count": 41,
   "id": "543e880a-fa1b-4b77-940b-36f81e7b2b24",
   "metadata": {},
   "outputs": [
    {
     "data": {
      "text/plain": [
       "0        1985-01-04\n",
       "1        1985-01-06\n",
       "2        1985-01-06\n",
       "3        1985-01-04\n",
       "4        1985-01-05\n",
       "            ...    \n",
       "204590   1989-12-16\n",
       "204591   1989-12-20\n",
       "204592   1989-12-22\n",
       "204593   1989-12-28\n",
       "204594   1989-12-26\n",
       "Length: 204564, dtype: datetime64[ns]"
      ]
     },
     "execution_count": 41,
     "metadata": {},
     "output_type": "execute_result"
    }
   ],
   "source": [
    "# This will convert the year, month and day into a datetime value\n",
    "\n",
    "pd.to_datetime(newaccidents[[\"YEAR\", \"MONTH\", \"DAY\"]])"
   ]
  },
  {
   "cell_type": "code",
   "execution_count": 42,
   "id": "56a96029-9d72-4c96-b404-e8df241e2ddd",
   "metadata": {},
   "outputs": [
    {
     "data": {
      "text/plain": [
       "0            Friday\n",
       "1            Sunday\n",
       "2            Sunday\n",
       "3            Friday\n",
       "4          Saturday\n",
       "            ...    \n",
       "204590     Saturday\n",
       "204591    Wednesday\n",
       "204592       Friday\n",
       "204593     Thursday\n",
       "204594      Tuesday\n",
       "Length: 204564, dtype: object"
      ]
     },
     "execution_count": 42,
     "metadata": {},
     "output_type": "execute_result"
    }
   ],
   "source": [
    "pd.to_datetime(newaccidents[[\"YEAR\", \"MONTH\", \"DAY\"]]).dt.day_name()"
   ]
  },
  {
   "cell_type": "code",
   "execution_count": 43,
   "id": "c1867948-3947-4e0b-a182-a57cd711e7f4",
   "metadata": {},
   "outputs": [
    {
     "data": {
      "text/plain": [
       "Saturday     40671\n",
       "Friday       33640\n",
       "Sunday       32397\n",
       "Thursday     26331\n",
       "Wednesday    24167\n",
       "Monday       24071\n",
       "Tuesday      23287\n",
       "dtype: int64"
      ]
     },
     "execution_count": 43,
     "metadata": {},
     "output_type": "execute_result"
    }
   ],
   "source": [
    "pd.to_datetime(newaccidents[[\"YEAR\", \"MONTH\", \"DAY\"]]).dt.day_name().value_counts()"
   ]
  },
  {
   "cell_type": "code",
   "execution_count": 44,
   "id": "5cefe051-a725-4b82-96e0-5a316bac4f96",
   "metadata": {},
   "outputs": [],
   "source": [
    "# looking at the accidents, tons of accidents happened on Saturdays, Fridays and Sundays compared to the values durring the week\n",
    "# Most accidents occur during the weekend."
   ]
  },
  {
   "cell_type": "code",
   "execution_count": 45,
   "id": "3e80757f-2c8b-45b5-b9ed-77050b11ac16",
   "metadata": {},
   "outputs": [],
   "source": [
    "# what time of day do you see more accidents? Using 12am-6am/ 6am-12pm/ 12pm-6pm/ 6pm-12am as your time frames"
   ]
  },
  {
   "cell_type": "code",
   "execution_count": 46,
   "id": "5b56c433-c142-4544-a14a-428826ab4b6a",
   "metadata": {},
   "outputs": [
    {
     "data": {
      "text/plain": [
       "18    11537\n",
       "23    11285\n",
       "17    11258\n",
       "21    11121\n",
       "19    11115\n",
       "22    10875\n",
       "20    10813\n",
       "1     10758\n",
       "16    10615\n",
       "0     10517\n",
       "15    10423\n",
       "2     10217\n",
       "14     8760\n",
       "13     7545\n",
       "12     6804\n",
       "3      6379\n",
       "11     6376\n",
       "7      5905\n",
       "6      5824\n",
       "10     5608\n",
       "9      5052\n",
       "8      5050\n",
       "4      4489\n",
       "5      4435\n",
       "99     1637\n",
       "24      197\n",
       "Name: HOUR, dtype: int64"
      ]
     },
     "execution_count": 46,
     "metadata": {},
     "output_type": "execute_result"
    }
   ],
   "source": [
    "# First let us take look at the hour\n",
    "# sometimes the hour is 99\n",
    "\n",
    "accidents[\"HOUR\"].value_counts()"
   ]
  },
  {
   "cell_type": "code",
   "execution_count": 48,
   "id": "906e0b3c-49ce-42cc-b353-b3507cb8d1b1",
   "metadata": {},
   "outputs": [
    {
     "data": {
      "text/plain": [
       "0     19618\n",
       "30    19445\n",
       "15    13998\n",
       "45    13969\n",
       "50    11433\n",
       "      ...  \n",
       "41     1013\n",
       "11     1007\n",
       "51      992\n",
       "21      979\n",
       "31      931\n",
       "Name: MINUTE, Length: 61, dtype: int64"
      ]
     },
     "execution_count": 48,
     "metadata": {},
     "output_type": "execute_result"
    }
   ],
   "source": [
    "# Same thing for the minutes if all were displayed\n",
    "# sometimes the hour is 99\n",
    "accidents[\"MINUTE\"].value_counts()"
   ]
  },
  {
   "cell_type": "code",
   "execution_count": 49,
   "id": "7a352982-595d-4450-bc5d-0e56492e0cd2",
   "metadata": {},
   "outputs": [
    {
     "data": {
      "text/plain": [
       "(0, 51)"
      ]
     },
     "execution_count": 49,
     "metadata": {},
     "output_type": "execute_result"
    }
   ],
   "source": [
    "# looking at the minutes values < 0, none of them are negative\n",
    "\n",
    "accidents[accidents[\"MINUTE\"]<0].shape"
   ]
  },
  {
   "cell_type": "code",
   "execution_count": 50,
   "id": "a065d403-a12c-4053-997c-6e366fb2a162",
   "metadata": {},
   "outputs": [
    {
     "data": {
      "text/plain": [
       "(1677, 51)"
      ]
     },
     "execution_count": 50,
     "metadata": {},
     "output_type": "execute_result"
    }
   ],
   "source": [
    "# There are rows that there minutes are bigger than 60\n",
    "\n",
    "accidents[accidents[\"MINUTE\"]>60].shape"
   ]
  },
  {
   "cell_type": "code",
   "execution_count": 52,
   "id": "95aa62fd-e6c6-4996-83f9-fe486d87bb92",
   "metadata": {},
   "outputs": [
    {
     "data": {
      "text/plain": [
       "(1677, 51)"
      ]
     },
     "execution_count": 52,
     "metadata": {},
     "output_type": "execute_result"
    }
   ],
   "source": [
    "# But fortunately, those are just the rows for  which is 99 \n",
    "# Those are the ones that are unknown\n",
    "\n",
    "accidents[accidents[\"MINUTE\"]==99].shape"
   ]
  },
  {
   "cell_type": "code",
   "execution_count": 53,
   "id": "fefb16ba-6225-43bb-a096-1c41ba592710",
   "metadata": {},
   "outputs": [],
   "source": [
    "# i will make a new DataFrame, takes data from accidents and \n",
    "# ensure minutes not equal to 99 and ensure the hours also not equal to 99\n",
    "\n",
    "newDF=accidents[(accidents[\"MINUTE\"]!=99) & (accidents[\"HOUR\"]!=99)]"
   ]
  },
  {
   "cell_type": "code",
   "execution_count": 55,
   "id": "a476550f-e987-47d3-9118-5b8dcd6ae4a2",
   "metadata": {},
   "outputs": [
    {
     "data": {
      "text/plain": [
       "(204595, 51)"
      ]
     },
     "execution_count": 55,
     "metadata": {},
     "output_type": "execute_result"
    }
   ],
   "source": [
    "# Looking at the shape of accident to newDF i only lost few values (1677)\n",
    "\n",
    "accidents.shape"
   ]
  },
  {
   "cell_type": "code",
   "execution_count": 56,
   "id": "8b5f5e6f-c38c-4936-9e7f-d9edb9301191",
   "metadata": {},
   "outputs": [
    {
     "data": {
      "text/plain": [
       "(202918, 51)"
      ]
     },
     "execution_count": 56,
     "metadata": {},
     "output_type": "execute_result"
    }
   ],
   "source": [
    "newDF.shape"
   ]
  },
  {
   "cell_type": "code",
   "execution_count": 57,
   "id": "d765b45b-b86d-4067-8f4e-24082e272f66",
   "metadata": {},
   "outputs": [
    {
     "data": {
      "text/plain": [
       "0         False\n",
       "1          True\n",
       "2          True\n",
       "3         False\n",
       "4          True\n",
       "          ...  \n",
       "204590    False\n",
       "204591    False\n",
       "204592    False\n",
       "204593     True\n",
       "204594    False\n",
       "Length: 202918, dtype: bool"
      ]
     },
     "execution_count": 57,
     "metadata": {},
     "output_type": "execute_result"
    }
   ],
   "source": [
    "# go into my newDF, take the hour and multiply by 60 to convert to minutes\n",
    "# then add on the amount of minutes. Then output will be in minutes\n",
    "\n",
    "pd.Series(newDF[\"HOUR\"]*60 + newDF[\"MINUTE\"]).between(0,360, inclusive=\"left\")"
   ]
  },
  {
   "cell_type": "code",
   "execution_count": 59,
   "id": "92ea297d-4a76-40dd-b530-4f13e988faf7",
   "metadata": {},
   "outputs": [
    {
     "data": {
      "text/plain": [
       "46772"
      ]
     },
     "execution_count": 59,
     "metadata": {},
     "output_type": "execute_result"
    }
   ],
   "source": [
    "# all these are between 12 midnight and 6:00 am\n",
    "# meaning from Zero up to 360 in the day\n",
    "\n",
    "pd.Series(newDF[\"HOUR\"]*60 + newDF[\"MINUTE\"]).between(0,360, inclusive=\"left\").sum()"
   ]
  },
  {
   "cell_type": "code",
   "execution_count": 60,
   "id": "7d702e1e-0ddb-49c1-b36d-331cd347cb8d",
   "metadata": {},
   "outputs": [
    {
     "data": {
      "text/plain": [
       "33815"
      ]
     },
     "execution_count": 60,
     "metadata": {},
     "output_type": "execute_result"
    }
   ],
   "source": [
    "# Those are the ones between 6:00 am and 12:00 noon\n",
    "\n",
    "pd.Series(newDF[\"HOUR\"]*60 + newDF[\"MINUTE\"]).between(360,720, inclusive=\"left\").sum()"
   ]
  },
  {
   "cell_type": "code",
   "execution_count": 61,
   "id": "65e8532b-cb0e-43f2-b7dd-011000dd2d57",
   "metadata": {},
   "outputs": [
    {
     "data": {
      "text/plain": [
       "55401"
      ]
     },
     "execution_count": 61,
     "metadata": {},
     "output_type": "execute_result"
    }
   ],
   "source": [
    "# Those are the ones between 12:00 noon and 6:00 pm\n",
    "\n",
    "pd.Series(newDF[\"HOUR\"]*60 + newDF[\"MINUTE\"]).between(720, 1080, inclusive=\"left\").sum()"
   ]
  },
  {
   "cell_type": "code",
   "execution_count": 62,
   "id": "9a5fbe9b-0cb5-4c5a-b259-3f0a3e0cb4a9",
   "metadata": {},
   "outputs": [
    {
     "data": {
      "text/plain": [
       "66733"
      ]
     },
     "execution_count": 62,
     "metadata": {},
     "output_type": "execute_result"
    }
   ],
   "source": [
    "# Those are the ones between 6:00 pm and 12 midnight\n",
    "\n",
    "pd.Series(newDF[\"HOUR\"]*60 + newDF[\"MINUTE\"]).between(1080, 1440, inclusive=\"left\").sum()"
   ]
  },
  {
   "cell_type": "code",
   "execution_count": 63,
   "id": "507a1afe-30e7-44b7-9a01-f2d079e93c9b",
   "metadata": {},
   "outputs": [
    {
     "data": {
      "text/plain": [
       "202721"
      ]
     },
     "execution_count": 63,
     "metadata": {},
     "output_type": "execute_result"
    }
   ],
   "source": [
    "# for verification\n",
    "# We are almost to the value in the newDF\n",
    "\n",
    "46772+33815+55401+66733"
   ]
  },
  {
   "cell_type": "code",
   "execution_count": 64,
   "id": "5dccc568-57d2-41b4-942d-15f5a4e93d12",
   "metadata": {},
   "outputs": [
    {
     "data": {
      "text/plain": [
       "197"
      ]
     },
     "execution_count": 64,
     "metadata": {},
     "output_type": "execute_result"
    }
   ],
   "source": [
    "# Those missing if you go all the way back are actually the ones for which the hour was 24\n",
    "# In other words, for which the hour values was not recorded as Zero at midnight,\n",
    "# but rather was recorded as it is 24 at midnight\n",
    "\n",
    "202918-202721"
   ]
  },
  {
   "cell_type": "code",
   "execution_count": 65,
   "id": "137da7df-600f-4057-a2ea-0db04a514ceb",
   "metadata": {},
   "outputs": [
    {
     "data": {
      "text/plain": [
       "202918"
      ]
     },
     "execution_count": 65,
     "metadata": {},
     "output_type": "execute_result"
    }
   ],
   "source": [
    "# This sum to what was in the newDF\n",
    "\n",
    "46772+33815+55401+66733+197"
   ]
  },
  {
   "cell_type": "code",
   "execution_count": null,
   "id": "6ca20b60-a17c-405a-ac5a-3ab89545d4ed",
   "metadata": {},
   "outputs": [],
   "source": [
    "# Here is anothe way to solving it"
   ]
  },
  {
   "cell_type": "code",
   "execution_count": 71,
   "id": "1c207d83-4c88-4f25-8e91-b9574ba37754",
   "metadata": {},
   "outputs": [],
   "source": [
    "import numpy as np"
   ]
  },
  {
   "cell_type": "code",
   "execution_count": 70,
   "id": "f3fadfd5-088f-432e-9b9a-4476ec7176ae",
   "metadata": {},
   "outputs": [
    {
     "data": {
      "text/plain": [
       "0         1.361111\n",
       "1         0.958333\n",
       "2         0.680556\n",
       "3         3.458333\n",
       "4         0.125000\n",
       "            ...   \n",
       "204590    1.333333\n",
       "204591    1.291667\n",
       "204592    3.013889\n",
       "204593    0.444444\n",
       "204594    2.375000\n",
       "Length: 202918, dtype: float64"
      ]
     },
     "execution_count": 70,
     "metadata": {},
     "output_type": "execute_result"
    }
   ],
   "source": [
    "# considering the earlier coversion divide it by 360 and basically rounded down\n",
    "\n",
    "pd.Series(newDF[\"HOUR\"]*60 + newDF[\"MINUTE\"])/360"
   ]
  },
  {
   "cell_type": "code",
   "execution_count": 72,
   "id": "d7404509-1daa-4d8e-82f0-a9ff0ac76d1a",
   "metadata": {},
   "outputs": [
    {
     "data": {
      "text/plain": [
       "0         1.0\n",
       "1         0.0\n",
       "2         0.0\n",
       "3         3.0\n",
       "4         0.0\n",
       "         ... \n",
       "204590    1.0\n",
       "204591    1.0\n",
       "204592    3.0\n",
       "204593    0.0\n",
       "204594    2.0\n",
       "Length: 202918, dtype: float64"
      ]
     },
     "execution_count": 72,
     "metadata": {},
     "output_type": "execute_result"
    }
   ],
   "source": [
    "# basically rounded down here to 0,1,2,3.......\n",
    "\n",
    "(pd.Series(newDF[\"HOUR\"]*60 + newDF[\"MINUTE\"])/360).apply(np.floor)"
   ]
  },
  {
   "cell_type": "code",
   "execution_count": 73,
   "id": "6210f31c-dad4-4a1c-aab5-4d0d1e98f60b",
   "metadata": {},
   "outputs": [
    {
     "data": {
      "text/plain": [
       "3.0    66733\n",
       "2.0    55401\n",
       "0.0    46772\n",
       "1.0    33815\n",
       "4.0      197\n",
       "dtype: int64"
      ]
     },
     "execution_count": 73,
     "metadata": {},
     "output_type": "execute_result"
    }
   ],
   "source": [
    "(pd.Series(newDF[\"HOUR\"]*60 + newDF[\"MINUTE\"])/360).apply(np.floor).value_counts()"
   ]
  },
  {
   "cell_type": "code",
   "execution_count": null,
   "id": "3366b7a3-39aa-451b-a4ca-2a36e9e93748",
   "metadata": {},
   "outputs": [],
   "source": [
    "# 0.0    46772  between 12 midnight and 6:00 am\n",
    "# 1.0    33815  between 6:00 am and 12:00 noon\n",
    "# 2.0    55401  between 12:00 noon and 6:00 pm\n",
    "# 3.0    66733  between 6:00 pm and 12 midnight\n",
    "# 4.0      197  The extra 197 accidents are from those recorded at midnight as 24 instead of 0"
   ]
  },
  {
   "cell_type": "markdown",
   "id": "0d552245-b4d6-474a-9cc9-fa7b8e674d55",
   "metadata": {},
   "source": [
    "Find how many accidents happen in total per year between 1 or more drunk drivers and school bus.\n",
    "\n",
    "what year had the lowest number of accidents\n",
    "\n",
    "what year had the most number of accidents\n",
    "\n",
    "Now we want to consider which days of the week had the most accidents occur\n",
    "\n",
    "Is there a time of day where you see more accidents? Using 12am-6am/ 6am-12pm/ 12pm-6pm/ 6pm-12am as your time frames."
   ]
  },
  {
   "cell_type": "markdown",
   "id": "88c9cdac-3e92-498f-83fa-e089bfc44ac8",
   "metadata": {},
   "source": [
    "## Question 5"
   ]
  },
  {
   "cell_type": "code",
   "execution_count": 47,
   "id": "d370d7c9-06db-42b9-b75f-240481a5c491",
   "metadata": {},
   "outputs": [],
   "source": [
    "# code here"
   ]
  },
  {
   "cell_type": "markdown",
   "id": "9fbf00fb-2418-460f-ae94-2a32b0c28952",
   "metadata": {},
   "source": [
    "Markdown notes and sentences and analysis written here."
   ]
  },
  {
   "cell_type": "markdown",
   "id": "f76442d6-d02e-4f26-b9d6-c3183e1d6929",
   "metadata": {},
   "source": [
    "## Pledge\n",
    "\n",
    "By submitting this work I hereby pledge that this is my own, personal work. I've acknowledged in the designated place at the top of this file all sources that I used to complete said work, including but not limited to: online resources, books, and electronic communications. I've noted all collaboration with fellow students and/or TA's. I did not copy or plagiarize another's work.\n",
    "\n",
    "> As a Boilermaker pursuing academic excellence, I pledge to be honest and true in all that I do. Accountable together – We are Purdue."
   ]
  }
 ],
 "metadata": {
  "kernelspec": {
   "display_name": "f2022-s2023",
   "language": "python",
   "name": "f2022-s2023"
  },
  "language_info": {
   "codemirror_mode": {
    "name": "ipython",
    "version": 3
   },
   "file_extension": ".py",
   "mimetype": "text/x-python",
   "name": "python",
   "nbconvert_exporter": "python",
   "pygments_lexer": "ipython3",
   "version": "3.10.9"
  }
 },
 "nbformat": 4,
 "nbformat_minor": 5
}
