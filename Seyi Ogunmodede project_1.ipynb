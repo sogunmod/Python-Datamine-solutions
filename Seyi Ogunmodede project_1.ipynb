{
 "cells": [
  {
   "cell_type": "markdown",
   "id": "be02a957-7133-4d02-818e-fedeb3cecb05",
   "metadata": {},
   "source": [
    "# Project 1 -- SEYI OGUNMODEDE\n",
    "\n",
    "#  The Data Mine Seminar II - 19841 - TDM 10200 - 004 "
   ]
  },
  {
   "cell_type": "markdown",
   "id": "a1228853-dd19-4ab2-89e0-0394d7d72de3",
   "metadata": {},
   "source": [
    "**TA ** Jeong, Ik Su\n",
    "\n",
    "- Help with clarification\n",
    "    \n"
   ]
  },
  {
   "cell_type": "markdown",
   "id": "60e6d4d0-4696-46a2-8e45-32feb4d23cd5",
   "metadata": {},
   "source": [
    "## Question 1"
   ]
  },
  {
   "cell_type": "code",
   "execution_count": 2,
   "id": "ca4f8d3f-2089-468c-88eb-7af313d3a715",
   "metadata": {},
   "outputs": [
    {
     "name": "stdout",
     "output_type": "stream",
     "text": [
      "17\n"
     ]
    }
   ],
   "source": [
    "print(7+10)"
   ]
  },
  {
   "cell_type": "markdown",
   "id": "b456e57c-4a12-464b-999a-ef2df5af80c1",
   "metadata": {},
   "source": [
    "Markdown notes and sentences and analysis written here."
   ]
  },
  {
   "cell_type": "markdown",
   "id": "fc601975-35ed-4680-a4e1-0273ee3cc047",
   "metadata": {},
   "source": [
    "## Question 2"
   ]
  },
  {
   "cell_type": "code",
   "execution_count": 4,
   "id": "a16336a1-1ef0-41e8-bc7c-49387db27497",
   "metadata": {},
   "outputs": [
    {
     "name": "stdout",
     "output_type": "stream",
     "text": [
      "My list is: [1, 2, 3]\n"
     ]
    }
   ],
   "source": [
    "# We are going to create a variable, \n",
    "# we are assigning the numbers 1,2,3 to a variable called my_list.\n",
    "my_list = [1, 2, 3]\n",
    "print(f'My list is: {my_list}')"
   ]
  },
  {
   "cell_type": "code",
   "execution_count": 2,
   "id": "922ac08c-6bc1-4642-9902-aedb4f80011b",
   "metadata": {},
   "outputs": [
    {
     "name": "stdout",
     "output_type": "stream",
     "text": [
      "x:6\n"
     ]
    }
   ],
   "source": [
    "# create a variable named x and assign the number 6 to it\n",
    "\n",
    "# create a variable named y and assign the number 8 to it\n",
    "\n",
    "# create a variable named z and assign x * y to it\n",
    "\n",
    "# now print z\n",
    "\n",
    "\n",
    "x = 6\n",
    "print(f'x:{x}')"
   ]
  },
  {
   "cell_type": "code",
   "execution_count": 18,
   "id": "51cda14c-300b-4f66-ba9c-86fd0357fe3b",
   "metadata": {},
   "outputs": [
    {
     "name": "stdout",
     "output_type": "stream",
     "text": [
      "y:8\n"
     ]
    }
   ],
   "source": [
    "y = 8\n",
    "print(f'y:{y}')"
   ]
  },
  {
   "cell_type": "code",
   "execution_count": 19,
   "id": "54fc79b2-6d8e-480c-927f-032a1ee46d0c",
   "metadata": {},
   "outputs": [
    {
     "name": "stdout",
     "output_type": "stream",
     "text": [
      "z:48\n"
     ]
    }
   ],
   "source": [
    "z = 6*8\n",
    "print(f'z:{z}')"
   ]
  },
  {
   "cell_type": "code",
   "execution_count": 7,
   "id": "812b96e5-8f27-4717-9a69-aa53f7b00942",
   "metadata": {},
   "outputs": [
    {
     "name": "stdout",
     "output_type": "stream",
     "text": [
      "x:6\n",
      "y:8\n",
      "z:48\n"
     ]
    }
   ],
   "source": [
    "x = 6\n",
    "print(f'x:{x}')\n",
    "y = 8\n",
    "print(f'y:{y}')\n",
    "z = x*y\n",
    "print(f'z:{z}')"
   ]
  },
  {
   "cell_type": "code",
   "execution_count": 8,
   "id": "80446516-7e54-4385-ac72-d12483cb09d9",
   "metadata": {},
   "outputs": [
    {
     "name": "stdout",
     "output_type": "stream",
     "text": [
      "z:48\n"
     ]
    }
   ],
   "source": [
    "x = 6\n",
    "y = 8\n",
    "z = x*y\n",
    "print(f'z:{z}')"
   ]
  },
  {
   "cell_type": "code",
   "execution_count": null,
   "id": "2ae35506-2bdc-4a41-9658-c780a69a25b7",
   "metadata": {},
   "outputs": [],
   "source": [
    "assign x,z,y the same value of \"peanutbutter\" all in one line"
   ]
  },
  {
   "cell_type": "code",
   "execution_count": 11,
   "id": "7d90687d-be87-4b3d-9276-21529ae4c3e1",
   "metadata": {},
   "outputs": [],
   "source": [
    " x, y, z = \"peanutbutter\", \"peanutbutter\", \"peanutbutter\""
   ]
  },
  {
   "cell_type": "code",
   "execution_count": 12,
   "id": "853f750e-0db4-401f-af8b-c0ea3f24b68b",
   "metadata": {},
   "outputs": [
    {
     "name": "stdout",
     "output_type": "stream",
     "text": [
      "x, y, z : peanutbutter, peanutbutter, peanutbutter\n"
     ]
    }
   ],
   "source": [
    "print(f'x, y, z : {x}, {y}, {z}')"
   ]
  },
  {
   "cell_type": "code",
   "execution_count": null,
   "id": "d911ce27-d7ad-4f3f-aaa0-2224a1bfffc7",
   "metadata": {},
   "outputs": [],
   "source": [
    "assign the ingredients of a club sandwich to the variable club_sandwich"
   ]
  },
  {
   "cell_type": "code",
   "execution_count": 17,
   "id": "7ac2d0f1-1005-4163-a0dc-2bb074161c09",
   "metadata": {},
   "outputs": [
    {
     "name": "stdout",
     "output_type": "stream",
     "text": [
      "club sandwich is:['bread', 'butter', 'egg', 'tomatoes']\n"
     ]
    }
   ],
   "source": [
    "club_sandwich = [\"bread\", \"butter\", \"egg\", \"tomatoes\"]\n",
    "\n",
    "\n",
    "print(f'club sandwich is:{club_sandwich}')\n",
    "\n",
    "\n"
   ]
  },
  {
   "cell_type": "markdown",
   "id": "14dc22d4-ddc3-41cc-a91a-cb0025bc0c80",
   "metadata": {},
   "source": [
    "Markdown notes and sentences and analysis written here."
   ]
  },
  {
   "cell_type": "markdown",
   "id": "8e586edd-ff26-4ce2-8f6b-2424b26f2929",
   "metadata": {
    "tags": []
   },
   "source": [
    "## Question 3"
   ]
  },
  {
   "cell_type": "code",
   "execution_count": null,
   "id": "0e116737-99d9-48bf-8a5a-feea2e1254c2",
   "metadata": {},
   "outputs": [],
   "source": []
  },
  {
   "cell_type": "markdown",
   "id": "47c6229f-35f7-400c-8366-c442baa5cf47",
   "metadata": {},
   "source": [
    "For markdown cells they are 13 in number\n",
    "for code cell they are 5 in number"
   ]
  },
  {
   "cell_type": "markdown",
   "id": "da22f29c-d245-4d2b-9fc1-ca14cb6087d9",
   "metadata": {},
   "source": [
    "## Question 4"
   ]
  },
  {
   "cell_type": "code",
   "execution_count": 11,
   "id": "8cffc767-d1c8-4d64-b7dc-f0d2ee8a80d1",
   "metadata": {},
   "outputs": [
    {
     "data": {
      "text/html": [
       "<div>\n",
       "<style scoped>\n",
       "    .dataframe tbody tr th:only-of-type {\n",
       "        vertical-align: middle;\n",
       "    }\n",
       "\n",
       "    .dataframe tbody tr th {\n",
       "        vertical-align: top;\n",
       "    }\n",
       "\n",
       "    .dataframe thead th {\n",
       "        text-align: right;\n",
       "    }\n",
       "</style>\n",
       "<table border=\"1\" class=\"dataframe\">\n",
       "  <thead>\n",
       "    <tr style=\"text-align: right;\">\n",
       "      <th></th>\n",
       "      <th>date</th>\n",
       "      <th>datetime</th>\n",
       "      <th>SACTMIN</th>\n",
       "      <th>SPOSTMIN</th>\n",
       "    </tr>\n",
       "  </thead>\n",
       "  <tbody>\n",
       "    <tr>\n",
       "      <th>0</th>\n",
       "      <td>05/26/2017</td>\n",
       "      <td>2017-05-26 09:06:38</td>\n",
       "      <td>NaN</td>\n",
       "      <td>-999.0</td>\n",
       "    </tr>\n",
       "    <tr>\n",
       "      <th>1</th>\n",
       "      <td>05/26/2017</td>\n",
       "      <td>2017-05-26 09:10:11</td>\n",
       "      <td>47.0</td>\n",
       "      <td>NaN</td>\n",
       "    </tr>\n",
       "    <tr>\n",
       "      <th>2</th>\n",
       "      <td>05/26/2017</td>\n",
       "      <td>2017-05-26 09:10:12</td>\n",
       "      <td>NaN</td>\n",
       "      <td>5.0</td>\n",
       "    </tr>\n",
       "    <tr>\n",
       "      <th>3</th>\n",
       "      <td>05/26/2017</td>\n",
       "      <td>2017-05-26 09:17:09</td>\n",
       "      <td>NaN</td>\n",
       "      <td>60.0</td>\n",
       "    </tr>\n",
       "    <tr>\n",
       "      <th>4</th>\n",
       "      <td>05/26/2017</td>\n",
       "      <td>2017-05-26 09:24:07</td>\n",
       "      <td>NaN</td>\n",
       "      <td>60.0</td>\n",
       "    </tr>\n",
       "    <tr>\n",
       "      <th>...</th>\n",
       "      <td>...</td>\n",
       "      <td>...</td>\n",
       "      <td>...</td>\n",
       "      <td>...</td>\n",
       "    </tr>\n",
       "    <tr>\n",
       "      <th>184813</th>\n",
       "      <td>12/28/2021</td>\n",
       "      <td>2021-12-28 19:35:47</td>\n",
       "      <td>NaN</td>\n",
       "      <td>90.0</td>\n",
       "    </tr>\n",
       "    <tr>\n",
       "      <th>184814</th>\n",
       "      <td>12/28/2021</td>\n",
       "      <td>2021-12-28 19:42:15</td>\n",
       "      <td>NaN</td>\n",
       "      <td>90.0</td>\n",
       "    </tr>\n",
       "    <tr>\n",
       "      <th>184815</th>\n",
       "      <td>12/28/2021</td>\n",
       "      <td>2021-12-28 19:48:15</td>\n",
       "      <td>NaN</td>\n",
       "      <td>90.0</td>\n",
       "    </tr>\n",
       "    <tr>\n",
       "      <th>184816</th>\n",
       "      <td>12/28/2021</td>\n",
       "      <td>2021-12-28 19:54:10</td>\n",
       "      <td>NaN</td>\n",
       "      <td>90.0</td>\n",
       "    </tr>\n",
       "    <tr>\n",
       "      <th>184817</th>\n",
       "      <td>12/28/2021</td>\n",
       "      <td>2021-12-28 19:58:35</td>\n",
       "      <td>NaN</td>\n",
       "      <td>80.0</td>\n",
       "    </tr>\n",
       "  </tbody>\n",
       "</table>\n",
       "<p>184818 rows × 4 columns</p>\n",
       "</div>"
      ],
      "text/plain": [
       "              date             datetime  SACTMIN  SPOSTMIN\n",
       "0       05/26/2017  2017-05-26 09:06:38      NaN    -999.0\n",
       "1       05/26/2017  2017-05-26 09:10:11     47.0       NaN\n",
       "2       05/26/2017  2017-05-26 09:10:12      NaN       5.0\n",
       "3       05/26/2017  2017-05-26 09:17:09      NaN      60.0\n",
       "4       05/26/2017  2017-05-26 09:24:07      NaN      60.0\n",
       "...            ...                  ...      ...       ...\n",
       "184813  12/28/2021  2021-12-28 19:35:47      NaN      90.0\n",
       "184814  12/28/2021  2021-12-28 19:42:15      NaN      90.0\n",
       "184815  12/28/2021  2021-12-28 19:48:15      NaN      90.0\n",
       "184816  12/28/2021  2021-12-28 19:54:10      NaN      90.0\n",
       "184817  12/28/2021  2021-12-28 19:58:35      NaN      80.0\n",
       "\n",
       "[184818 rows x 4 columns]"
      ]
     },
     "execution_count": 11,
     "metadata": {},
     "output_type": "execute_result"
    }
   ],
   "source": [
    "import pandas as pd\n",
    "disney= pd.read_csv(\"/anvil/projects/tdm/data/disney/flight_of_passage.csv\")\n",
    "disney"
   ]
  },
  {
   "cell_type": "code",
   "execution_count": 12,
   "id": "9341954e-5cda-4aa9-b095-8fb453562ca6",
   "metadata": {},
   "outputs": [
    {
     "name": "stdout",
     "output_type": "stream",
     "text": [
      "         date             datetime  SACTMIN  SPOSTMIN\n",
      "0  05/26/2017  2017-05-26 09:06:38      NaN    -999.0\n",
      "1  05/26/2017  2017-05-26 09:10:11     47.0       NaN\n",
      "2  05/26/2017  2017-05-26 09:10:12      NaN       5.0\n",
      "3  05/26/2017  2017-05-26 09:17:09      NaN      60.0\n",
      "4  05/26/2017  2017-05-26 09:24:07      NaN      60.0\n"
     ]
    }
   ],
   "source": [
    "print(disney.head())"
   ]
  },
  {
   "cell_type": "code",
   "execution_count": 13,
   "id": "da299c41-d2f5-4cc8-a75c-2252c67f16c6",
   "metadata": {},
   "outputs": [
    {
     "name": "stdout",
     "output_type": "stream",
     "text": [
      "              date             datetime  SACTMIN  SPOSTMIN\n",
      "184813  12/28/2021  2021-12-28 19:35:47      NaN      90.0\n",
      "184814  12/28/2021  2021-12-28 19:42:15      NaN      90.0\n",
      "184815  12/28/2021  2021-12-28 19:48:15      NaN      90.0\n",
      "184816  12/28/2021  2021-12-28 19:54:10      NaN      90.0\n",
      "184817  12/28/2021  2021-12-28 19:58:35      NaN      80.0\n"
     ]
    }
   ],
   "source": [
    "print(disney.tail())"
   ]
  },
  {
   "cell_type": "markdown",
   "id": "0d552245-b4d6-474a-9cc9-fa7b8e674d55",
   "metadata": {},
   "source": [
    "There are 184818 rows and 4 columns"
   ]
  },
  {
   "cell_type": "markdown",
   "id": "88c9cdac-3e92-498f-83fa-e089bfc44ac8",
   "metadata": {},
   "source": [
    "## Question 5"
   ]
  },
  {
   "cell_type": "code",
   "execution_count": null,
   "id": "d370d7c9-06db-42b9-b75f-240481a5c491",
   "metadata": {},
   "outputs": [],
   "source": [
    "# code here"
   ]
  },
  {
   "cell_type": "markdown",
   "id": "9fbf00fb-2418-460f-ae94-2a32b0c28952",
   "metadata": {},
   "source": [
    "Markdown notes and sentences and analysis written here."
   ]
  },
  {
   "cell_type": "markdown",
   "id": "f76442d6-d02e-4f26-b9d6-c3183e1d6929",
   "metadata": {},
   "source": [
    "## Pledge\n",
    "\n",
    "By submitting this work I hereby pledge that this is my own, personal work. I've acknowledged in the designated place at the top of this file all sources that I used to complete said work, including but not limited to: online resources, books, and electronic communications. I've noted all collaboration with fellow students and/or TA's. I did not copy or plagiarize another's work.\n",
    "\n",
    "> As a Boilermaker pursuing academic excellence, I pledge to be honest and true in all that I do. Accountable together – We are Purdue."
   ]
  }
 ],
 "metadata": {
  "kernelspec": {
   "display_name": "f2022-s2023",
   "language": "python",
   "name": "f2022-s2023"
  },
  "language_info": {
   "codemirror_mode": {
    "name": "ipython",
    "version": 3
   },
   "file_extension": ".py",
   "mimetype": "text/x-python",
   "name": "python",
   "nbconvert_exporter": "python",
   "pygments_lexer": "ipython3",
   "version": "3.10.7"
  }
 },
 "nbformat": 4,
 "nbformat_minor": 5
}
