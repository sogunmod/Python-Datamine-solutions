{
 "cells": [
  {
   "cell_type": "markdown",
   "id": "be02a957-7133-4d02-818e-fedeb3cecb05",
   "metadata": {},
   "source": [
    "# Project 3 -- SEYI OGUNMODEDE"
   ]
  },
  {
   "cell_type": "markdown",
   "id": "a1228853-dd19-4ab2-89e0-0394d7d72de3",
   "metadata": {},
   "source": [
    "**INSTRUCTOR:** Dr. WARD\n",
    "\n",
    "- Help with video in figuring out how to write a function.\n",
    "    \n",
    "\n",
    "    \n"
   ]
  },
  {
   "cell_type": "markdown",
   "id": "6180e742-8e39-4698-98ff-5b00c8cf8ea0",
   "metadata": {},
   "source": [
    "## Question 1"
   ]
  },
  {
   "cell_type": "code",
   "execution_count": 2,
   "id": "80127568-a293-4868-a865-f021099ed9c3",
   "metadata": {},
   "outputs": [
    {
     "name": "stdout",
     "output_type": "stream",
     "text": [
      "\u001b[0m\u001b[01;32m1987.csv\u001b[0m*     \u001b[01;32m1994.csv\u001b[0m*     \u001b[01;32m2001.csv\u001b[0m*     \u001b[01;32m2008.csv\u001b[0m*\n",
      "1987.parquet  1994.parquet  2001.parquet  2008.parquet\n",
      "\u001b[01;32m1988.csv\u001b[0m*     \u001b[01;32m1995.csv\u001b[0m*     \u001b[01;32m2002.csv\u001b[0m*     \u001b[01;32mairports.csv\u001b[0m*\n",
      "1988.parquet  1995.parquet  2002.parquet  airports.parquet\n",
      "\u001b[01;32m1989.csv\u001b[0m*     \u001b[01;32m1996.csv\u001b[0m*     \u001b[01;32m2003.csv\u001b[0m*     \u001b[01;32mcarriers.csv\u001b[0m*\n",
      "1989.parquet  1996.parquet  2003.parquet  carriers.parquet\n",
      "\u001b[01;32m1990.csv\u001b[0m*     \u001b[01;32m1997.csv\u001b[0m*     \u001b[01;32m2004.csv\u001b[0m*     \u001b[01;32mplane-data.csv\u001b[0m*\n",
      "1990.parquet  1997.parquet  2004.parquet  plane-data.parquet\n",
      "\u001b[01;32m1991.csv\u001b[0m*     \u001b[01;32m1998.csv\u001b[0m*     \u001b[01;32m2005.csv\u001b[0m*     \u001b[01;32msampler.sh\u001b[0m*\n",
      "1991.parquet  1998.parquet  2005.parquet  \u001b[01;32mvariable-descriptions.csv\u001b[0m*\n",
      "\u001b[01;32m1992.csv\u001b[0m*     \u001b[01;32m1999.csv\u001b[0m*     \u001b[01;32m2006.csv\u001b[0m*     variable-descriptions.parquet\n",
      "1992.parquet  1999.parquet  2006.parquet\n",
      "\u001b[01;32m1993.csv\u001b[0m*     \u001b[01;32m2000.csv\u001b[0m*     \u001b[01;32m2007.csv\u001b[0m*\n",
      "1993.parquet  2000.parquet  2007.parquet\n"
     ]
    }
   ],
   "source": [
    "# ls - it means file listing , to show all the files in the folder\n",
    "ls /anvil/projects/tdm/data/flights/subset/"
   ]
  },
  {
   "cell_type": "code",
   "execution_count": 4,
   "id": "580b0094-4518-45fa-b0cc-51cc41c587e8",
   "metadata": {},
   "outputs": [
    {
     "name": "stdout",
     "output_type": "stream",
     "text": [
      "\u001b[0m\u001b[01;32m/anvil/projects/tdm/data/flights/subset/2003.csv\u001b[0m*\n"
     ]
    }
   ],
   "source": [
    "ls /anvil/projects/tdm/data/flights/subset/2003.csv"
   ]
  },
  {
   "cell_type": "code",
   "execution_count": 6,
   "id": "ed816d77-d4a0-4e53-b727-4ee17c03670e",
   "metadata": {},
   "outputs": [
    {
     "name": "stdout",
     "output_type": "stream",
     "text": [
      "-rwxrwxr-x 1 7095091 7500002 626745242 Jun 23  2020 \u001b[0m\u001b[01;32m/anvil/projects/tdm/data/flights/subset/2003.csv\u001b[0m*\n"
     ]
    }
   ],
   "source": [
    "# for more information about the files\n",
    "\n",
    "ls -la /anvil/projects/tdm/data/flights/subset/2003.csv"
   ]
  },
  {
   "cell_type": "code",
   "execution_count": 9,
   "id": "3356de24-f489-4f08-89b3-cbf4fec54fd8",
   "metadata": {},
   "outputs": [
    {
     "name": "stdout",
     "output_type": "stream",
     "text": [
      "-rwxrwxr-x 1 7095091 7500002 570151613 Jun 23  2020 \u001b[0m\u001b[01;32m/anvil/projects/tdm/data/flights/subset/2000.csv\u001b[0m*\n",
      "-rwxrwxr-x 1 7095091 7500002 596910261 Jun 23  2020 \u001b[01;32m/anvil/projects/tdm/data/flights/subset/2001.csv\u001b[0m*\n",
      "-rwxrwxr-x 1 7095091 7500002 530036430 Jun 23  2020 \u001b[01;32m/anvil/projects/tdm/data/flights/subset/2002.csv\u001b[0m*\n",
      "-rwxrwxr-x 1 7095091 7500002 626745242 Jun 23  2020 \u001b[01;32m/anvil/projects/tdm/data/flights/subset/2003.csv\u001b[0m*\n",
      "-rwxrwxr-x 1 7095091 7500002 669879113 Jun 23  2020 \u001b[01;32m/anvil/projects/tdm/data/flights/subset/2004.csv\u001b[0m*\n",
      "-rwxrwxr-x 1 7095091 7500002 671027265 Jun 23  2020 \u001b[01;32m/anvil/projects/tdm/data/flights/subset/2005.csv\u001b[0m*\n",
      "-rwxrwxr-x 1 7095091 7500002 672068096 Jun 23  2020 \u001b[01;32m/anvil/projects/tdm/data/flights/subset/2006.csv\u001b[0m*\n",
      "-rwxrwxr-x 1 7095091 7500002 702878193 Jun 23  2020 \u001b[01;32m/anvil/projects/tdm/data/flights/subset/2007.csv\u001b[0m*\n",
      "-rwxrwxr-x 1 7095091 7500002 234052199 Jun 23  2020 \u001b[01;32m/anvil/projects/tdm/data/flights/subset/2008.csv\u001b[0m*\n"
     ]
    }
   ],
   "source": [
    "# to check all of the files that begins with 2\n",
    "\n",
    "ls -la /anvil/projects/tdm/data/flights/subset/2*.csv"
   ]
  },
  {
   "cell_type": "code",
   "execution_count": 10,
   "id": "c9ff6a59-82b9-4cdf-8ef5-8263a0911916",
   "metadata": {},
   "outputs": [
    {
     "name": "stdout",
     "output_type": "stream",
     "text": [
      "-rwxrwxr-x 1 7095091 7500002 127162942 Jun 23  2020 \u001b[0m\u001b[01;32m/anvil/projects/tdm/data/flights/subset/1987.csv\u001b[0m*\n",
      "-rwxrwxr-x 1 7095091 7500002 501039472 Jun 23  2020 \u001b[01;32m/anvil/projects/tdm/data/flights/subset/1988.csv\u001b[0m*\n",
      "-rwxrwxr-x 1 7095091 7500002 486518821 Jun 23  2020 \u001b[01;32m/anvil/projects/tdm/data/flights/subset/1989.csv\u001b[0m*\n",
      "-rwxrwxr-x 1 7095091 7500002 509194687 Jun 23  2020 \u001b[01;32m/anvil/projects/tdm/data/flights/subset/1990.csv\u001b[0m*\n",
      "-rwxrwxr-x 1 7095091 7500002 491210093 Jun 23  2020 \u001b[01;32m/anvil/projects/tdm/data/flights/subset/1991.csv\u001b[0m*\n",
      "-rwxrwxr-x 1 7095091 7500002 492313731 Jun 23  2020 \u001b[01;32m/anvil/projects/tdm/data/flights/subset/1992.csv\u001b[0m*\n",
      "-rwxrwxr-x 1 7095091 7500002 490753652 Jun 23  2020 \u001b[01;32m/anvil/projects/tdm/data/flights/subset/1993.csv\u001b[0m*\n",
      "-rwxrwxr-x 1 7095091 7500002 501558665 Jun 23  2020 \u001b[01;32m/anvil/projects/tdm/data/flights/subset/1994.csv\u001b[0m*\n",
      "-rwxrwxr-x 1 7095091 7500002 530751568 Jun 23  2020 \u001b[01;32m/anvil/projects/tdm/data/flights/subset/1995.csv\u001b[0m*\n",
      "-rwxrwxr-x 1 7095091 7500002 533922363 Jun 23  2020 \u001b[01;32m/anvil/projects/tdm/data/flights/subset/1996.csv\u001b[0m*\n",
      "-rwxrwxr-x 1 7095091 7500002 540347861 Jun 23  2020 \u001b[01;32m/anvil/projects/tdm/data/flights/subset/1997.csv\u001b[0m*\n",
      "-rwxrwxr-x 1 7095091 7500002 538432875 Jun 23  2020 \u001b[01;32m/anvil/projects/tdm/data/flights/subset/1998.csv\u001b[0m*\n",
      "-rwxrwxr-x 1 7095091 7500002 552926022 Jun 23  2020 \u001b[01;32m/anvil/projects/tdm/data/flights/subset/1999.csv\u001b[0m*\n",
      "-rwxrwxr-x 1 7095091 7500002 570151613 Jun 23  2020 \u001b[01;32m/anvil/projects/tdm/data/flights/subset/2000.csv\u001b[0m*\n",
      "-rwxrwxr-x 1 7095091 7500002 596910261 Jun 23  2020 \u001b[01;32m/anvil/projects/tdm/data/flights/subset/2001.csv\u001b[0m*\n",
      "-rwxrwxr-x 1 7095091 7500002 530036430 Jun 23  2020 \u001b[01;32m/anvil/projects/tdm/data/flights/subset/2002.csv\u001b[0m*\n",
      "-rwxrwxr-x 1 7095091 7500002 626745242 Jun 23  2020 \u001b[01;32m/anvil/projects/tdm/data/flights/subset/2003.csv\u001b[0m*\n",
      "-rwxrwxr-x 1 7095091 7500002 669879113 Jun 23  2020 \u001b[01;32m/anvil/projects/tdm/data/flights/subset/2004.csv\u001b[0m*\n",
      "-rwxrwxr-x 1 7095091 7500002 671027265 Jun 23  2020 \u001b[01;32m/anvil/projects/tdm/data/flights/subset/2005.csv\u001b[0m*\n",
      "-rwxrwxr-x 1 7095091 7500002 672068096 Jun 23  2020 \u001b[01;32m/anvil/projects/tdm/data/flights/subset/2006.csv\u001b[0m*\n",
      "-rwxrwxr-x 1 7095091 7500002 702878193 Jun 23  2020 \u001b[01;32m/anvil/projects/tdm/data/flights/subset/2007.csv\u001b[0m*\n",
      "-rwxrwxr-x 1 7095091 7500002 234052199 Jun 23  2020 \u001b[01;32m/anvil/projects/tdm/data/flights/subset/2008.csv\u001b[0m*\n",
      "-rwxrwxr-x 1 7095091 7500002    244438 Jun 23  2020 \u001b[01;32m/anvil/projects/tdm/data/flights/subset/airports.csv\u001b[0m*\n",
      "-rwxrwxr-x 1 7095091 7500002     43758 Jun 23  2020 \u001b[01;32m/anvil/projects/tdm/data/flights/subset/carriers.csv\u001b[0m*\n",
      "-rwxrwxr-x 1 7095091 7500002    428796 Jun 23  2020 \u001b[01;32m/anvil/projects/tdm/data/flights/subset/plane-data.csv\u001b[0m*\n",
      "-rwxrwxr-x 1 7095091 7500002      1091 Jun 23  2020 \u001b[01;32m/anvil/projects/tdm/data/flights/subset/variable-descriptions.csv\u001b[0m\u001b[K*\n"
     ]
    }
   ],
   "source": [
    "# this syntax is used to look at all of them removing the year.\n",
    "ls -la /anvil/projects/tdm/data/flights/subset/*.csv"
   ]
  },
  {
   "cell_type": "code",
   "execution_count": 13,
   "id": "70a34c74-ce5f-4f30-aaff-84b09fc5acbf",
   "metadata": {},
   "outputs": [],
   "source": [
    "import pandas as pd\n",
    "from pathlib import Path"
   ]
  },
  {
   "cell_type": "markdown",
   "id": "b456e57c-4a12-464b-999a-ef2df5af80c1",
   "metadata": {},
   "source": [
    "Considering the files in this directory, which years of data are available? 1987 - 2008 data are available\n",
    "\n",
    "What would the path be to access only the 2003 file in this data set?\n",
    "ls /anvil/projects/tdm/data/flights/subset/2003.csv\n",
    "\n",
    "for more information about the files\n",
    "ls -la /anvil/projects/tdm/data/flights/subset/2003.csv\n",
    "\n",
    "Go ahead and import the library pandas as pd, and import Path from pathlib"
   ]
  },
  {
   "cell_type": "markdown",
   "id": "fc601975-35ed-4680-a4e1-0273ee3cc047",
   "metadata": {},
   "source": [
    "## Question 2"
   ]
  },
  {
   "cell_type": "code",
   "execution_count": null,
   "id": "a16336a1-1ef0-41e8-bc7c-49387db27497",
   "metadata": {},
   "outputs": [],
   "source": [
    "# Notice that, in a range in Python, the final number in the range is not included.\n",
    "# This code uses list comprehension to create a list of file paths, \n",
    "# ranging from the years of 1987-2008 files will now \n",
    "# contain strings of file paths for all the csv files in this directory."
   ]
  },
  {
   "cell_type": "code",
   "execution_count": 14,
   "id": "498899e9-e197-447b-97a5-a030f03cffd1",
   "metadata": {},
   "outputs": [],
   "source": [
    "files = [Path(f'/anvil/projects/tdm/data/flights/subset/{year}.csv') for year in range(1987,2009)]"
   ]
  },
  {
   "cell_type": "code",
   "execution_count": 15,
   "id": "3bdebb0e-9515-400c-81c6-e2a620f33737",
   "metadata": {},
   "outputs": [
    {
     "data": {
      "text/plain": [
       "[PosixPath('/anvil/projects/tdm/data/flights/subset/1987.csv'),\n",
       " PosixPath('/anvil/projects/tdm/data/flights/subset/1988.csv'),\n",
       " PosixPath('/anvil/projects/tdm/data/flights/subset/1989.csv'),\n",
       " PosixPath('/anvil/projects/tdm/data/flights/subset/1990.csv'),\n",
       " PosixPath('/anvil/projects/tdm/data/flights/subset/1991.csv'),\n",
       " PosixPath('/anvil/projects/tdm/data/flights/subset/1992.csv'),\n",
       " PosixPath('/anvil/projects/tdm/data/flights/subset/1993.csv'),\n",
       " PosixPath('/anvil/projects/tdm/data/flights/subset/1994.csv'),\n",
       " PosixPath('/anvil/projects/tdm/data/flights/subset/1995.csv'),\n",
       " PosixPath('/anvil/projects/tdm/data/flights/subset/1996.csv'),\n",
       " PosixPath('/anvil/projects/tdm/data/flights/subset/1997.csv'),\n",
       " PosixPath('/anvil/projects/tdm/data/flights/subset/1998.csv'),\n",
       " PosixPath('/anvil/projects/tdm/data/flights/subset/1999.csv'),\n",
       " PosixPath('/anvil/projects/tdm/data/flights/subset/2000.csv'),\n",
       " PosixPath('/anvil/projects/tdm/data/flights/subset/2001.csv'),\n",
       " PosixPath('/anvil/projects/tdm/data/flights/subset/2002.csv'),\n",
       " PosixPath('/anvil/projects/tdm/data/flights/subset/2003.csv'),\n",
       " PosixPath('/anvil/projects/tdm/data/flights/subset/2004.csv'),\n",
       " PosixPath('/anvil/projects/tdm/data/flights/subset/2005.csv'),\n",
       " PosixPath('/anvil/projects/tdm/data/flights/subset/2006.csv'),\n",
       " PosixPath('/anvil/projects/tdm/data/flights/subset/2007.csv'),\n",
       " PosixPath('/anvil/projects/tdm/data/flights/subset/2008.csv')]"
      ]
     },
     "execution_count": 15,
     "metadata": {},
     "output_type": "execute_result"
    }
   ],
   "source": [
    "files"
   ]
  },
  {
   "cell_type": "code",
   "execution_count": 16,
   "id": "ed23b93d-be83-4303-ae99-5897561fcea3",
   "metadata": {},
   "outputs": [
    {
     "data": {
      "text/plain": [
       "PosixPath('/anvil/projects/tdm/data/flights/subset/1987.csv')"
      ]
     },
     "execution_count": 16,
     "metadata": {},
     "output_type": "execute_result"
    }
   ],
   "source": [
    "files[0]"
   ]
  },
  {
   "cell_type": "code",
   "execution_count": 17,
   "id": "14f1da1b-ba59-4c50-8562-c490ad6f7a3c",
   "metadata": {},
   "outputs": [],
   "source": [
    "eightyseven = pd.read_csv(files[0]) "
   ]
  },
  {
   "cell_type": "code",
   "execution_count": 19,
   "id": "d2bdfca3-cdf1-49c7-878e-ceee13e4518e",
   "metadata": {},
   "outputs": [
    {
     "name": "stdout",
     "output_type": "stream",
     "text": [
      "Index(['Year', 'Month', 'DayofMonth', 'DayOfWeek', 'DepTime', 'CRSDepTime',\n",
      "       'ArrTime', 'CRSArrTime', 'UniqueCarrier', 'FlightNum', 'TailNum',\n",
      "       'ActualElapsedTime', 'CRSElapsedTime', 'AirTime', 'ArrDelay',\n",
      "       'DepDelay', 'Origin', 'Dest', 'Distance', 'TaxiIn', 'TaxiOut',\n",
      "       'Cancelled', 'CancellationCode', 'Diverted', 'CarrierDelay',\n",
      "       'WeatherDelay', 'NASDelay', 'SecurityDelay', 'LateAircraftDelay'],\n",
      "      dtype='object')\n"
     ]
    }
   ],
   "source": [
    "print(eightyseven.columns)"
   ]
  },
  {
   "cell_type": "code",
   "execution_count": 20,
   "id": "619e1ac8-04d8-4afd-b088-0379c214f98b",
   "metadata": {},
   "outputs": [
    {
     "data": {
      "text/plain": [
       "(1311826, 29)"
      ]
     },
     "execution_count": 20,
     "metadata": {},
     "output_type": "execute_result"
    }
   ],
   "source": [
    "eightyseven.shape"
   ]
  },
  {
   "cell_type": "code",
   "execution_count": null,
   "id": "e813842e-3d44-4858-9b9c-4ad048f30ece",
   "metadata": {},
   "outputs": [],
   "source": [
    "# i think that we have flight data from Oct 1987 through April 2008\n",
    "# i think that each year from 1988 to 2007 has all 12 months\n",
    "# but the first and the last files are just a portion of the year."
   ]
  },
  {
   "cell_type": "code",
   "execution_count": 26,
   "id": "5c9dcce4-0578-46b2-bb67-f8dae0553e40",
   "metadata": {},
   "outputs": [],
   "source": [
    "# When you run this code it displayed the hidden column\n",
    "pd.options.display.max_columns = None"
   ]
  },
  {
   "cell_type": "code",
   "execution_count": 27,
   "id": "2a67c9c8-bb28-4932-904c-780d0f7ab3fe",
   "metadata": {},
   "outputs": [],
   "source": [
    "pd.options.display.max_columns = None"
   ]
  },
  {
   "cell_type": "code",
   "execution_count": 28,
   "id": "be59c7ef-d72f-49ef-9912-957d062ad451",
   "metadata": {},
   "outputs": [
    {
     "data": {
      "text/html": [
       "<div>\n",
       "<style scoped>\n",
       "    .dataframe tbody tr th:only-of-type {\n",
       "        vertical-align: middle;\n",
       "    }\n",
       "\n",
       "    .dataframe tbody tr th {\n",
       "        vertical-align: top;\n",
       "    }\n",
       "\n",
       "    .dataframe thead th {\n",
       "        text-align: right;\n",
       "    }\n",
       "</style>\n",
       "<table border=\"1\" class=\"dataframe\">\n",
       "  <thead>\n",
       "    <tr style=\"text-align: right;\">\n",
       "      <th></th>\n",
       "      <th>Year</th>\n",
       "      <th>Month</th>\n",
       "      <th>DayofMonth</th>\n",
       "      <th>DayOfWeek</th>\n",
       "      <th>DepTime</th>\n",
       "      <th>CRSDepTime</th>\n",
       "      <th>ArrTime</th>\n",
       "      <th>CRSArrTime</th>\n",
       "      <th>UniqueCarrier</th>\n",
       "      <th>FlightNum</th>\n",
       "      <th>TailNum</th>\n",
       "      <th>ActualElapsedTime</th>\n",
       "      <th>CRSElapsedTime</th>\n",
       "      <th>AirTime</th>\n",
       "      <th>ArrDelay</th>\n",
       "      <th>DepDelay</th>\n",
       "      <th>Origin</th>\n",
       "      <th>Dest</th>\n",
       "      <th>Distance</th>\n",
       "      <th>TaxiIn</th>\n",
       "      <th>TaxiOut</th>\n",
       "      <th>Cancelled</th>\n",
       "      <th>CancellationCode</th>\n",
       "      <th>Diverted</th>\n",
       "      <th>CarrierDelay</th>\n",
       "      <th>WeatherDelay</th>\n",
       "      <th>NASDelay</th>\n",
       "      <th>SecurityDelay</th>\n",
       "      <th>LateAircraftDelay</th>\n",
       "    </tr>\n",
       "  </thead>\n",
       "  <tbody>\n",
       "    <tr>\n",
       "      <th>0</th>\n",
       "      <td>1987</td>\n",
       "      <td>10</td>\n",
       "      <td>14</td>\n",
       "      <td>3</td>\n",
       "      <td>741.0</td>\n",
       "      <td>730</td>\n",
       "      <td>912.0</td>\n",
       "      <td>849</td>\n",
       "      <td>PS</td>\n",
       "      <td>1451</td>\n",
       "      <td>NaN</td>\n",
       "      <td>91.0</td>\n",
       "      <td>79</td>\n",
       "      <td>NaN</td>\n",
       "      <td>23.0</td>\n",
       "      <td>11.0</td>\n",
       "      <td>SAN</td>\n",
       "      <td>SFO</td>\n",
       "      <td>447.0</td>\n",
       "      <td>NaN</td>\n",
       "      <td>NaN</td>\n",
       "      <td>0</td>\n",
       "      <td>NaN</td>\n",
       "      <td>0</td>\n",
       "      <td>NaN</td>\n",
       "      <td>NaN</td>\n",
       "      <td>NaN</td>\n",
       "      <td>NaN</td>\n",
       "      <td>NaN</td>\n",
       "    </tr>\n",
       "    <tr>\n",
       "      <th>1</th>\n",
       "      <td>1987</td>\n",
       "      <td>10</td>\n",
       "      <td>15</td>\n",
       "      <td>4</td>\n",
       "      <td>729.0</td>\n",
       "      <td>730</td>\n",
       "      <td>903.0</td>\n",
       "      <td>849</td>\n",
       "      <td>PS</td>\n",
       "      <td>1451</td>\n",
       "      <td>NaN</td>\n",
       "      <td>94.0</td>\n",
       "      <td>79</td>\n",
       "      <td>NaN</td>\n",
       "      <td>14.0</td>\n",
       "      <td>-1.0</td>\n",
       "      <td>SAN</td>\n",
       "      <td>SFO</td>\n",
       "      <td>447.0</td>\n",
       "      <td>NaN</td>\n",
       "      <td>NaN</td>\n",
       "      <td>0</td>\n",
       "      <td>NaN</td>\n",
       "      <td>0</td>\n",
       "      <td>NaN</td>\n",
       "      <td>NaN</td>\n",
       "      <td>NaN</td>\n",
       "      <td>NaN</td>\n",
       "      <td>NaN</td>\n",
       "    </tr>\n",
       "    <tr>\n",
       "      <th>2</th>\n",
       "      <td>1987</td>\n",
       "      <td>10</td>\n",
       "      <td>17</td>\n",
       "      <td>6</td>\n",
       "      <td>741.0</td>\n",
       "      <td>730</td>\n",
       "      <td>918.0</td>\n",
       "      <td>849</td>\n",
       "      <td>PS</td>\n",
       "      <td>1451</td>\n",
       "      <td>NaN</td>\n",
       "      <td>97.0</td>\n",
       "      <td>79</td>\n",
       "      <td>NaN</td>\n",
       "      <td>29.0</td>\n",
       "      <td>11.0</td>\n",
       "      <td>SAN</td>\n",
       "      <td>SFO</td>\n",
       "      <td>447.0</td>\n",
       "      <td>NaN</td>\n",
       "      <td>NaN</td>\n",
       "      <td>0</td>\n",
       "      <td>NaN</td>\n",
       "      <td>0</td>\n",
       "      <td>NaN</td>\n",
       "      <td>NaN</td>\n",
       "      <td>NaN</td>\n",
       "      <td>NaN</td>\n",
       "      <td>NaN</td>\n",
       "    </tr>\n",
       "    <tr>\n",
       "      <th>3</th>\n",
       "      <td>1987</td>\n",
       "      <td>10</td>\n",
       "      <td>18</td>\n",
       "      <td>7</td>\n",
       "      <td>729.0</td>\n",
       "      <td>730</td>\n",
       "      <td>847.0</td>\n",
       "      <td>849</td>\n",
       "      <td>PS</td>\n",
       "      <td>1451</td>\n",
       "      <td>NaN</td>\n",
       "      <td>78.0</td>\n",
       "      <td>79</td>\n",
       "      <td>NaN</td>\n",
       "      <td>-2.0</td>\n",
       "      <td>-1.0</td>\n",
       "      <td>SAN</td>\n",
       "      <td>SFO</td>\n",
       "      <td>447.0</td>\n",
       "      <td>NaN</td>\n",
       "      <td>NaN</td>\n",
       "      <td>0</td>\n",
       "      <td>NaN</td>\n",
       "      <td>0</td>\n",
       "      <td>NaN</td>\n",
       "      <td>NaN</td>\n",
       "      <td>NaN</td>\n",
       "      <td>NaN</td>\n",
       "      <td>NaN</td>\n",
       "    </tr>\n",
       "    <tr>\n",
       "      <th>4</th>\n",
       "      <td>1987</td>\n",
       "      <td>10</td>\n",
       "      <td>19</td>\n",
       "      <td>1</td>\n",
       "      <td>749.0</td>\n",
       "      <td>730</td>\n",
       "      <td>922.0</td>\n",
       "      <td>849</td>\n",
       "      <td>PS</td>\n",
       "      <td>1451</td>\n",
       "      <td>NaN</td>\n",
       "      <td>93.0</td>\n",
       "      <td>79</td>\n",
       "      <td>NaN</td>\n",
       "      <td>33.0</td>\n",
       "      <td>19.0</td>\n",
       "      <td>SAN</td>\n",
       "      <td>SFO</td>\n",
       "      <td>447.0</td>\n",
       "      <td>NaN</td>\n",
       "      <td>NaN</td>\n",
       "      <td>0</td>\n",
       "      <td>NaN</td>\n",
       "      <td>0</td>\n",
       "      <td>NaN</td>\n",
       "      <td>NaN</td>\n",
       "      <td>NaN</td>\n",
       "      <td>NaN</td>\n",
       "      <td>NaN</td>\n",
       "    </tr>\n",
       "  </tbody>\n",
       "</table>\n",
       "</div>"
      ],
      "text/plain": [
       "   Year  Month  DayofMonth  DayOfWeek  DepTime  CRSDepTime  ArrTime  \\\n",
       "0  1987     10          14          3    741.0         730    912.0   \n",
       "1  1987     10          15          4    729.0         730    903.0   \n",
       "2  1987     10          17          6    741.0         730    918.0   \n",
       "3  1987     10          18          7    729.0         730    847.0   \n",
       "4  1987     10          19          1    749.0         730    922.0   \n",
       "\n",
       "   CRSArrTime UniqueCarrier  FlightNum  TailNum  ActualElapsedTime  \\\n",
       "0         849            PS       1451      NaN               91.0   \n",
       "1         849            PS       1451      NaN               94.0   \n",
       "2         849            PS       1451      NaN               97.0   \n",
       "3         849            PS       1451      NaN               78.0   \n",
       "4         849            PS       1451      NaN               93.0   \n",
       "\n",
       "   CRSElapsedTime  AirTime  ArrDelay  DepDelay Origin Dest  Distance  TaxiIn  \\\n",
       "0              79      NaN      23.0      11.0    SAN  SFO     447.0     NaN   \n",
       "1              79      NaN      14.0      -1.0    SAN  SFO     447.0     NaN   \n",
       "2              79      NaN      29.0      11.0    SAN  SFO     447.0     NaN   \n",
       "3              79      NaN      -2.0      -1.0    SAN  SFO     447.0     NaN   \n",
       "4              79      NaN      33.0      19.0    SAN  SFO     447.0     NaN   \n",
       "\n",
       "   TaxiOut  Cancelled  CancellationCode  Diverted  CarrierDelay  WeatherDelay  \\\n",
       "0      NaN          0               NaN         0           NaN           NaN   \n",
       "1      NaN          0               NaN         0           NaN           NaN   \n",
       "2      NaN          0               NaN         0           NaN           NaN   \n",
       "3      NaN          0               NaN         0           NaN           NaN   \n",
       "4      NaN          0               NaN         0           NaN           NaN   \n",
       "\n",
       "   NASDelay  SecurityDelay  LateAircraftDelay  \n",
       "0       NaN            NaN                NaN  \n",
       "1       NaN            NaN                NaN  \n",
       "2       NaN            NaN                NaN  \n",
       "3       NaN            NaN                NaN  \n",
       "4       NaN            NaN                NaN  "
      ]
     },
     "execution_count": 28,
     "metadata": {},
     "output_type": "execute_result"
    }
   ],
   "source": [
    "eightyseven.head()"
   ]
  },
  {
   "cell_type": "code",
   "execution_count": 29,
   "id": "20eea3d7-c1cd-4519-b022-ec10caf78812",
   "metadata": {},
   "outputs": [
    {
     "data": {
      "text/html": [
       "<div>\n",
       "<style scoped>\n",
       "    .dataframe tbody tr th:only-of-type {\n",
       "        vertical-align: middle;\n",
       "    }\n",
       "\n",
       "    .dataframe tbody tr th {\n",
       "        vertical-align: top;\n",
       "    }\n",
       "\n",
       "    .dataframe thead th {\n",
       "        text-align: right;\n",
       "    }\n",
       "</style>\n",
       "<table border=\"1\" class=\"dataframe\">\n",
       "  <thead>\n",
       "    <tr style=\"text-align: right;\">\n",
       "      <th></th>\n",
       "      <th>Year</th>\n",
       "      <th>Month</th>\n",
       "      <th>DayofMonth</th>\n",
       "      <th>DayOfWeek</th>\n",
       "      <th>DepTime</th>\n",
       "      <th>CRSDepTime</th>\n",
       "      <th>ArrTime</th>\n",
       "      <th>CRSArrTime</th>\n",
       "      <th>UniqueCarrier</th>\n",
       "      <th>FlightNum</th>\n",
       "      <th>TailNum</th>\n",
       "      <th>ActualElapsedTime</th>\n",
       "      <th>CRSElapsedTime</th>\n",
       "      <th>AirTime</th>\n",
       "      <th>ArrDelay</th>\n",
       "      <th>DepDelay</th>\n",
       "      <th>Origin</th>\n",
       "      <th>Dest</th>\n",
       "      <th>Distance</th>\n",
       "      <th>TaxiIn</th>\n",
       "      <th>TaxiOut</th>\n",
       "      <th>Cancelled</th>\n",
       "      <th>CancellationCode</th>\n",
       "      <th>Diverted</th>\n",
       "      <th>CarrierDelay</th>\n",
       "      <th>WeatherDelay</th>\n",
       "      <th>NASDelay</th>\n",
       "      <th>SecurityDelay</th>\n",
       "      <th>LateAircraftDelay</th>\n",
       "    </tr>\n",
       "  </thead>\n",
       "  <tbody>\n",
       "    <tr>\n",
       "      <th>1311821</th>\n",
       "      <td>1987</td>\n",
       "      <td>12</td>\n",
       "      <td>11</td>\n",
       "      <td>5</td>\n",
       "      <td>1530.0</td>\n",
       "      <td>1530</td>\n",
       "      <td>1825.0</td>\n",
       "      <td>1823</td>\n",
       "      <td>CO</td>\n",
       "      <td>638</td>\n",
       "      <td>NaN</td>\n",
       "      <td>115.0</td>\n",
       "      <td>113</td>\n",
       "      <td>NaN</td>\n",
       "      <td>2.0</td>\n",
       "      <td>0.0</td>\n",
       "      <td>ORD</td>\n",
       "      <td>EWR</td>\n",
       "      <td>719.0</td>\n",
       "      <td>NaN</td>\n",
       "      <td>NaN</td>\n",
       "      <td>0</td>\n",
       "      <td>NaN</td>\n",
       "      <td>0</td>\n",
       "      <td>NaN</td>\n",
       "      <td>NaN</td>\n",
       "      <td>NaN</td>\n",
       "      <td>NaN</td>\n",
       "      <td>NaN</td>\n",
       "    </tr>\n",
       "    <tr>\n",
       "      <th>1311822</th>\n",
       "      <td>1987</td>\n",
       "      <td>12</td>\n",
       "      <td>13</td>\n",
       "      <td>7</td>\n",
       "      <td>1530.0</td>\n",
       "      <td>1530</td>\n",
       "      <td>1815.0</td>\n",
       "      <td>1823</td>\n",
       "      <td>CO</td>\n",
       "      <td>638</td>\n",
       "      <td>NaN</td>\n",
       "      <td>105.0</td>\n",
       "      <td>113</td>\n",
       "      <td>NaN</td>\n",
       "      <td>-8.0</td>\n",
       "      <td>0.0</td>\n",
       "      <td>ORD</td>\n",
       "      <td>EWR</td>\n",
       "      <td>719.0</td>\n",
       "      <td>NaN</td>\n",
       "      <td>NaN</td>\n",
       "      <td>0</td>\n",
       "      <td>NaN</td>\n",
       "      <td>0</td>\n",
       "      <td>NaN</td>\n",
       "      <td>NaN</td>\n",
       "      <td>NaN</td>\n",
       "      <td>NaN</td>\n",
       "      <td>NaN</td>\n",
       "    </tr>\n",
       "    <tr>\n",
       "      <th>1311823</th>\n",
       "      <td>1987</td>\n",
       "      <td>12</td>\n",
       "      <td>14</td>\n",
       "      <td>1</td>\n",
       "      <td>1530.0</td>\n",
       "      <td>1530</td>\n",
       "      <td>1807.0</td>\n",
       "      <td>1823</td>\n",
       "      <td>CO</td>\n",
       "      <td>638</td>\n",
       "      <td>NaN</td>\n",
       "      <td>97.0</td>\n",
       "      <td>113</td>\n",
       "      <td>NaN</td>\n",
       "      <td>-16.0</td>\n",
       "      <td>0.0</td>\n",
       "      <td>ORD</td>\n",
       "      <td>EWR</td>\n",
       "      <td>719.0</td>\n",
       "      <td>NaN</td>\n",
       "      <td>NaN</td>\n",
       "      <td>0</td>\n",
       "      <td>NaN</td>\n",
       "      <td>0</td>\n",
       "      <td>NaN</td>\n",
       "      <td>NaN</td>\n",
       "      <td>NaN</td>\n",
       "      <td>NaN</td>\n",
       "      <td>NaN</td>\n",
       "    </tr>\n",
       "    <tr>\n",
       "      <th>1311824</th>\n",
       "      <td>1987</td>\n",
       "      <td>12</td>\n",
       "      <td>1</td>\n",
       "      <td>2</td>\n",
       "      <td>1525.0</td>\n",
       "      <td>1525</td>\n",
       "      <td>1643.0</td>\n",
       "      <td>1638</td>\n",
       "      <td>CO</td>\n",
       "      <td>639</td>\n",
       "      <td>NaN</td>\n",
       "      <td>78.0</td>\n",
       "      <td>73</td>\n",
       "      <td>NaN</td>\n",
       "      <td>5.0</td>\n",
       "      <td>0.0</td>\n",
       "      <td>BOS</td>\n",
       "      <td>EWR</td>\n",
       "      <td>200.0</td>\n",
       "      <td>NaN</td>\n",
       "      <td>NaN</td>\n",
       "      <td>0</td>\n",
       "      <td>NaN</td>\n",
       "      <td>0</td>\n",
       "      <td>NaN</td>\n",
       "      <td>NaN</td>\n",
       "      <td>NaN</td>\n",
       "      <td>NaN</td>\n",
       "      <td>NaN</td>\n",
       "    </tr>\n",
       "    <tr>\n",
       "      <th>1311825</th>\n",
       "      <td>1987</td>\n",
       "      <td>12</td>\n",
       "      <td>2</td>\n",
       "      <td>3</td>\n",
       "      <td>1540.0</td>\n",
       "      <td>1525</td>\n",
       "      <td>1706.0</td>\n",
       "      <td>1638</td>\n",
       "      <td>CO</td>\n",
       "      <td>639</td>\n",
       "      <td>NaN</td>\n",
       "      <td>86.0</td>\n",
       "      <td>73</td>\n",
       "      <td>NaN</td>\n",
       "      <td>28.0</td>\n",
       "      <td>15.0</td>\n",
       "      <td>BOS</td>\n",
       "      <td>EWR</td>\n",
       "      <td>200.0</td>\n",
       "      <td>NaN</td>\n",
       "      <td>NaN</td>\n",
       "      <td>0</td>\n",
       "      <td>NaN</td>\n",
       "      <td>0</td>\n",
       "      <td>NaN</td>\n",
       "      <td>NaN</td>\n",
       "      <td>NaN</td>\n",
       "      <td>NaN</td>\n",
       "      <td>NaN</td>\n",
       "    </tr>\n",
       "  </tbody>\n",
       "</table>\n",
       "</div>"
      ],
      "text/plain": [
       "         Year  Month  DayofMonth  DayOfWeek  DepTime  CRSDepTime  ArrTime  \\\n",
       "1311821  1987     12          11          5   1530.0        1530   1825.0   \n",
       "1311822  1987     12          13          7   1530.0        1530   1815.0   \n",
       "1311823  1987     12          14          1   1530.0        1530   1807.0   \n",
       "1311824  1987     12           1          2   1525.0        1525   1643.0   \n",
       "1311825  1987     12           2          3   1540.0        1525   1706.0   \n",
       "\n",
       "         CRSArrTime UniqueCarrier  FlightNum  TailNum  ActualElapsedTime  \\\n",
       "1311821        1823            CO        638      NaN              115.0   \n",
       "1311822        1823            CO        638      NaN              105.0   \n",
       "1311823        1823            CO        638      NaN               97.0   \n",
       "1311824        1638            CO        639      NaN               78.0   \n",
       "1311825        1638            CO        639      NaN               86.0   \n",
       "\n",
       "         CRSElapsedTime  AirTime  ArrDelay  DepDelay Origin Dest  Distance  \\\n",
       "1311821             113      NaN       2.0       0.0    ORD  EWR     719.0   \n",
       "1311822             113      NaN      -8.0       0.0    ORD  EWR     719.0   \n",
       "1311823             113      NaN     -16.0       0.0    ORD  EWR     719.0   \n",
       "1311824              73      NaN       5.0       0.0    BOS  EWR     200.0   \n",
       "1311825              73      NaN      28.0      15.0    BOS  EWR     200.0   \n",
       "\n",
       "         TaxiIn  TaxiOut  Cancelled  CancellationCode  Diverted  CarrierDelay  \\\n",
       "1311821     NaN      NaN          0               NaN         0           NaN   \n",
       "1311822     NaN      NaN          0               NaN         0           NaN   \n",
       "1311823     NaN      NaN          0               NaN         0           NaN   \n",
       "1311824     NaN      NaN          0               NaN         0           NaN   \n",
       "1311825     NaN      NaN          0               NaN         0           NaN   \n",
       "\n",
       "         WeatherDelay  NASDelay  SecurityDelay  LateAircraftDelay  \n",
       "1311821           NaN       NaN            NaN                NaN  \n",
       "1311822           NaN       NaN            NaN                NaN  \n",
       "1311823           NaN       NaN            NaN                NaN  \n",
       "1311824           NaN       NaN            NaN                NaN  \n",
       "1311825           NaN       NaN            NaN                NaN  "
      ]
     },
     "execution_count": 29,
     "metadata": {},
     "output_type": "execute_result"
    }
   ],
   "source": [
    "eightyseven.tail()"
   ]
  },
  {
   "cell_type": "markdown",
   "id": "14dc22d4-ddc3-41cc-a91a-cb0025bc0c80",
   "metadata": {},
   "source": [
    "How many columns are there? 29 columns are there\n",
    "\n",
    "What are the column names?\n",
    "\n",
    "'Year', 'Month', 'DayofMonth', 'DayOfWeek', 'DepTime', 'CRSDepTime',\n",
    "       'ArrTime', 'CRSArrTime', 'UniqueCarrier', 'FlightNum', 'TailNum',\n",
    "       'ActualElapsedTime', 'CRSElapsedTime', 'AirTime', 'ArrDelay',\n",
    "       'DepDelay', 'Origin', 'Dest', 'Distance', 'TaxiIn', 'TaxiOut',\n",
    "       'Cancelled', 'CancellationCode', 'Diverted', 'CarrierDelay',\n",
    "       'WeatherDelay', 'NASDelay', 'SecurityDelay', 'LateAircraftDelay'\n",
    "\n",
    "Display the data from the first five rows."
   ]
  },
  {
   "cell_type": "markdown",
   "id": "8e586edd-ff26-4ce2-8f6b-2424b26f2929",
   "metadata": {},
   "source": [
    "## Question 3"
   ]
  },
  {
   "cell_type": "code",
   "execution_count": 24,
   "id": "bbe0f40d-9655-4653-9ca8-886bdb61cb91",
   "metadata": {},
   "outputs": [
    {
     "data": {
      "text/plain": [
       "0          SAN\n",
       "1          SAN\n",
       "2          SAN\n",
       "3          SAN\n",
       "4          SAN\n",
       "          ... \n",
       "1311821    ORD\n",
       "1311822    ORD\n",
       "1311823    ORD\n",
       "1311824    BOS\n",
       "1311825    BOS\n",
       "Name: Origin, Length: 1311826, dtype: object"
      ]
     },
     "execution_count": 24,
     "metadata": {},
     "output_type": "execute_result"
    }
   ],
   "source": [
    "# from row 0 to row 1311825 it has three letters (SAN ORD, BOS and so on)\n",
    "eightyseven['Origin']"
   ]
  },
  {
   "cell_type": "code",
   "execution_count": 30,
   "id": "ffed56d3-5f44-4a21-a365-65bb8d00291b",
   "metadata": {},
   "outputs": [
    {
     "data": {
      "text/plain": [
       "ORD    67216\n",
       "ATL    66309\n",
       "DFW    51860\n",
       "LAX    45646\n",
       "DEN    43376\n",
       "       ...  \n",
       "FOE       57\n",
       "YAP       50\n",
       "GUC       29\n",
       "ILG       29\n",
       "PIR        1\n",
       "Name: Origin, Length: 237, dtype: int64"
      ]
     },
     "execution_count": 30,
     "metadata": {},
     "output_type": "execute_result"
    }
   ],
   "source": [
    "# This will show all the origin where the flight will take off from\n",
    "eightyseven['Origin'].value_counts()"
   ]
  },
  {
   "cell_type": "code",
   "execution_count": 34,
   "id": "a6db6978-738c-4996-b50e-09a97a528734",
   "metadata": {},
   "outputs": [
    {
     "data": {
      "text/plain": [
       "67216"
      ]
     },
     "execution_count": 34,
     "metadata": {},
     "output_type": "execute_result"
    }
   ],
   "source": [
    "# for unique/specific\n",
    "eightyseven['Origin'].value_counts()['ORD']"
   ]
  },
  {
   "cell_type": "code",
   "execution_count": 36,
   "id": "c00c7a43-3b00-4b0e-b231-683907cded02",
   "metadata": {},
   "outputs": [
    {
     "data": {
      "text/plain": [
       "66309"
      ]
     },
     "execution_count": 36,
     "metadata": {},
     "output_type": "execute_result"
    }
   ],
   "source": [
    "eightyseven['Origin'].value_counts()['ATL']"
   ]
  },
  {
   "cell_type": "code",
   "execution_count": 37,
   "id": "cddd11d6-d66d-4106-8a2e-c4b64caf4221",
   "metadata": {},
   "outputs": [
    {
     "data": {
      "text/plain": [
       "51860"
      ]
     },
     "execution_count": 37,
     "metadata": {},
     "output_type": "execute_result"
    }
   ],
   "source": [
    "eightyseven['Origin'].value_counts()['DFW']"
   ]
  },
  {
   "cell_type": "code",
   "execution_count": 38,
   "id": "c9841f4a-ff85-462c-b245-2e2c74da8472",
   "metadata": {},
   "outputs": [
    {
     "data": {
      "text/plain": [
       "8817"
      ]
     },
     "execution_count": 38,
     "metadata": {},
     "output_type": "execute_result"
    }
   ],
   "source": [
    "# for unique/specific\n",
    "eightyseven['Origin'].value_counts()['IND']"
   ]
  },
  {
   "cell_type": "code",
   "execution_count": null,
   "id": "2d570baf-6c57-45bb-b0e2-058d6d1051b9",
   "metadata": {},
   "outputs": [],
   "source": [
    "# This extract all of the counts of the number of times that each airport\n",
    "# is the Origin city for a flight, i.e, where the flight departs.\n",
    "# Then we extract the value for the indianapolis, e.g, in this case\n",
    "# Indianapolis was the origin city for 8817 flights between Oct 1987 and Dec 1987."
   ]
  },
  {
   "cell_type": "markdown",
   "id": "47c6229f-35f7-400c-8366-c442baa5cf47",
   "metadata": {},
   "source": [
    "Print out the unique elements of the Origin column.\n",
    "\n",
    "Find the number of times that IND occurs in the Origin column. 8817 times that IND occurs in the Origin column"
   ]
  },
  {
   "cell_type": "markdown",
   "id": "da22f29c-d245-4d2b-9fc1-ca14cb6087d9",
   "metadata": {},
   "source": [
    "## Question 4"
   ]
  },
  {
   "cell_type": "code",
   "execution_count": 40,
   "id": "0c7306a4-a4fa-44eb-b2ad-97646c4170e7",
   "metadata": {},
   "outputs": [
    {
     "data": {
      "text/plain": [
       "PosixPath('/anvil/projects/tdm/data/flights/subset/1988.csv')"
      ]
     },
     "execution_count": 40,
     "metadata": {},
     "output_type": "execute_result"
    }
   ],
   "source": [
    "files[1]"
   ]
  },
  {
   "cell_type": "code",
   "execution_count": 41,
   "id": "aa49f621-1cf9-4a30-80ac-de9a6e82acc7",
   "metadata": {},
   "outputs": [],
   "source": [
    "eightyeight = pd.read_csv(files[1]) "
   ]
  },
  {
   "cell_type": "code",
   "execution_count": 42,
   "id": "16518c70-62aa-4181-83df-ce9a99e06e97",
   "metadata": {},
   "outputs": [
    {
     "data": {
      "text/plain": [
       "(5202096, 29)"
      ]
     },
     "execution_count": 42,
     "metadata": {},
     "output_type": "execute_result"
    }
   ],
   "source": [
    "eightyeight.shape"
   ]
  },
  {
   "cell_type": "code",
   "execution_count": 44,
   "id": "101bd1e9-e882-4b56-bcc4-cabbd7c8a705",
   "metadata": {},
   "outputs": [],
   "source": [
    "pd.options.display.max_columns = None"
   ]
  },
  {
   "cell_type": "code",
   "execution_count": 43,
   "id": "b80b3754-b589-4617-bdbd-de392492e8e8",
   "metadata": {},
   "outputs": [
    {
     "data": {
      "text/html": [
       "<div>\n",
       "<style scoped>\n",
       "    .dataframe tbody tr th:only-of-type {\n",
       "        vertical-align: middle;\n",
       "    }\n",
       "\n",
       "    .dataframe tbody tr th {\n",
       "        vertical-align: top;\n",
       "    }\n",
       "\n",
       "    .dataframe thead th {\n",
       "        text-align: right;\n",
       "    }\n",
       "</style>\n",
       "<table border=\"1\" class=\"dataframe\">\n",
       "  <thead>\n",
       "    <tr style=\"text-align: right;\">\n",
       "      <th></th>\n",
       "      <th>Year</th>\n",
       "      <th>Month</th>\n",
       "      <th>DayofMonth</th>\n",
       "      <th>DayOfWeek</th>\n",
       "      <th>DepTime</th>\n",
       "      <th>CRSDepTime</th>\n",
       "      <th>ArrTime</th>\n",
       "      <th>CRSArrTime</th>\n",
       "      <th>UniqueCarrier</th>\n",
       "      <th>FlightNum</th>\n",
       "      <th>TailNum</th>\n",
       "      <th>ActualElapsedTime</th>\n",
       "      <th>CRSElapsedTime</th>\n",
       "      <th>AirTime</th>\n",
       "      <th>ArrDelay</th>\n",
       "      <th>DepDelay</th>\n",
       "      <th>Origin</th>\n",
       "      <th>Dest</th>\n",
       "      <th>Distance</th>\n",
       "      <th>TaxiIn</th>\n",
       "      <th>TaxiOut</th>\n",
       "      <th>Cancelled</th>\n",
       "      <th>CancellationCode</th>\n",
       "      <th>Diverted</th>\n",
       "      <th>CarrierDelay</th>\n",
       "      <th>WeatherDelay</th>\n",
       "      <th>NASDelay</th>\n",
       "      <th>SecurityDelay</th>\n",
       "      <th>LateAircraftDelay</th>\n",
       "    </tr>\n",
       "  </thead>\n",
       "  <tbody>\n",
       "    <tr>\n",
       "      <th>0</th>\n",
       "      <td>1988</td>\n",
       "      <td>1</td>\n",
       "      <td>9</td>\n",
       "      <td>6</td>\n",
       "      <td>1348.0</td>\n",
       "      <td>1331</td>\n",
       "      <td>1458.0</td>\n",
       "      <td>1435</td>\n",
       "      <td>PI</td>\n",
       "      <td>942</td>\n",
       "      <td>NaN</td>\n",
       "      <td>70.0</td>\n",
       "      <td>64</td>\n",
       "      <td>NaN</td>\n",
       "      <td>23.0</td>\n",
       "      <td>17.0</td>\n",
       "      <td>SYR</td>\n",
       "      <td>BWI</td>\n",
       "      <td>273.0</td>\n",
       "      <td>NaN</td>\n",
       "      <td>NaN</td>\n",
       "      <td>0</td>\n",
       "      <td>NaN</td>\n",
       "      <td>0</td>\n",
       "      <td>NaN</td>\n",
       "      <td>NaN</td>\n",
       "      <td>NaN</td>\n",
       "      <td>NaN</td>\n",
       "      <td>NaN</td>\n",
       "    </tr>\n",
       "    <tr>\n",
       "      <th>1</th>\n",
       "      <td>1988</td>\n",
       "      <td>1</td>\n",
       "      <td>10</td>\n",
       "      <td>7</td>\n",
       "      <td>1334.0</td>\n",
       "      <td>1331</td>\n",
       "      <td>1443.0</td>\n",
       "      <td>1435</td>\n",
       "      <td>PI</td>\n",
       "      <td>942</td>\n",
       "      <td>NaN</td>\n",
       "      <td>69.0</td>\n",
       "      <td>64</td>\n",
       "      <td>NaN</td>\n",
       "      <td>8.0</td>\n",
       "      <td>3.0</td>\n",
       "      <td>SYR</td>\n",
       "      <td>BWI</td>\n",
       "      <td>273.0</td>\n",
       "      <td>NaN</td>\n",
       "      <td>NaN</td>\n",
       "      <td>0</td>\n",
       "      <td>NaN</td>\n",
       "      <td>0</td>\n",
       "      <td>NaN</td>\n",
       "      <td>NaN</td>\n",
       "      <td>NaN</td>\n",
       "      <td>NaN</td>\n",
       "      <td>NaN</td>\n",
       "    </tr>\n",
       "    <tr>\n",
       "      <th>2</th>\n",
       "      <td>1988</td>\n",
       "      <td>1</td>\n",
       "      <td>11</td>\n",
       "      <td>1</td>\n",
       "      <td>1446.0</td>\n",
       "      <td>1331</td>\n",
       "      <td>1553.0</td>\n",
       "      <td>1435</td>\n",
       "      <td>PI</td>\n",
       "      <td>942</td>\n",
       "      <td>NaN</td>\n",
       "      <td>67.0</td>\n",
       "      <td>64</td>\n",
       "      <td>NaN</td>\n",
       "      <td>78.0</td>\n",
       "      <td>75.0</td>\n",
       "      <td>SYR</td>\n",
       "      <td>BWI</td>\n",
       "      <td>273.0</td>\n",
       "      <td>NaN</td>\n",
       "      <td>NaN</td>\n",
       "      <td>0</td>\n",
       "      <td>NaN</td>\n",
       "      <td>0</td>\n",
       "      <td>NaN</td>\n",
       "      <td>NaN</td>\n",
       "      <td>NaN</td>\n",
       "      <td>NaN</td>\n",
       "      <td>NaN</td>\n",
       "    </tr>\n",
       "    <tr>\n",
       "      <th>3</th>\n",
       "      <td>1988</td>\n",
       "      <td>1</td>\n",
       "      <td>12</td>\n",
       "      <td>2</td>\n",
       "      <td>1334.0</td>\n",
       "      <td>1331</td>\n",
       "      <td>1438.0</td>\n",
       "      <td>1435</td>\n",
       "      <td>PI</td>\n",
       "      <td>942</td>\n",
       "      <td>NaN</td>\n",
       "      <td>64.0</td>\n",
       "      <td>64</td>\n",
       "      <td>NaN</td>\n",
       "      <td>3.0</td>\n",
       "      <td>3.0</td>\n",
       "      <td>SYR</td>\n",
       "      <td>BWI</td>\n",
       "      <td>273.0</td>\n",
       "      <td>NaN</td>\n",
       "      <td>NaN</td>\n",
       "      <td>0</td>\n",
       "      <td>NaN</td>\n",
       "      <td>0</td>\n",
       "      <td>NaN</td>\n",
       "      <td>NaN</td>\n",
       "      <td>NaN</td>\n",
       "      <td>NaN</td>\n",
       "      <td>NaN</td>\n",
       "    </tr>\n",
       "    <tr>\n",
       "      <th>4</th>\n",
       "      <td>1988</td>\n",
       "      <td>1</td>\n",
       "      <td>13</td>\n",
       "      <td>3</td>\n",
       "      <td>1341.0</td>\n",
       "      <td>1331</td>\n",
       "      <td>1503.0</td>\n",
       "      <td>1435</td>\n",
       "      <td>PI</td>\n",
       "      <td>942</td>\n",
       "      <td>NaN</td>\n",
       "      <td>82.0</td>\n",
       "      <td>64</td>\n",
       "      <td>NaN</td>\n",
       "      <td>28.0</td>\n",
       "      <td>10.0</td>\n",
       "      <td>SYR</td>\n",
       "      <td>BWI</td>\n",
       "      <td>273.0</td>\n",
       "      <td>NaN</td>\n",
       "      <td>NaN</td>\n",
       "      <td>0</td>\n",
       "      <td>NaN</td>\n",
       "      <td>0</td>\n",
       "      <td>NaN</td>\n",
       "      <td>NaN</td>\n",
       "      <td>NaN</td>\n",
       "      <td>NaN</td>\n",
       "      <td>NaN</td>\n",
       "    </tr>\n",
       "  </tbody>\n",
       "</table>\n",
       "</div>"
      ],
      "text/plain": [
       "   Year  Month  DayofMonth  DayOfWeek  DepTime  CRSDepTime  ArrTime  \\\n",
       "0  1988      1           9          6   1348.0        1331   1458.0   \n",
       "1  1988      1          10          7   1334.0        1331   1443.0   \n",
       "2  1988      1          11          1   1446.0        1331   1553.0   \n",
       "3  1988      1          12          2   1334.0        1331   1438.0   \n",
       "4  1988      1          13          3   1341.0        1331   1503.0   \n",
       "\n",
       "   CRSArrTime UniqueCarrier  FlightNum  TailNum  ActualElapsedTime  \\\n",
       "0        1435            PI        942      NaN               70.0   \n",
       "1        1435            PI        942      NaN               69.0   \n",
       "2        1435            PI        942      NaN               67.0   \n",
       "3        1435            PI        942      NaN               64.0   \n",
       "4        1435            PI        942      NaN               82.0   \n",
       "\n",
       "   CRSElapsedTime  AirTime  ArrDelay  DepDelay Origin Dest  Distance  TaxiIn  \\\n",
       "0              64      NaN      23.0      17.0    SYR  BWI     273.0     NaN   \n",
       "1              64      NaN       8.0       3.0    SYR  BWI     273.0     NaN   \n",
       "2              64      NaN      78.0      75.0    SYR  BWI     273.0     NaN   \n",
       "3              64      NaN       3.0       3.0    SYR  BWI     273.0     NaN   \n",
       "4              64      NaN      28.0      10.0    SYR  BWI     273.0     NaN   \n",
       "\n",
       "   TaxiOut  Cancelled  CancellationCode  Diverted  CarrierDelay  WeatherDelay  \\\n",
       "0      NaN          0               NaN         0           NaN           NaN   \n",
       "1      NaN          0               NaN         0           NaN           NaN   \n",
       "2      NaN          0               NaN         0           NaN           NaN   \n",
       "3      NaN          0               NaN         0           NaN           NaN   \n",
       "4      NaN          0               NaN         0           NaN           NaN   \n",
       "\n",
       "   NASDelay  SecurityDelay  LateAircraftDelay  \n",
       "0       NaN            NaN                NaN  \n",
       "1       NaN            NaN                NaN  \n",
       "2       NaN            NaN                NaN  \n",
       "3       NaN            NaN                NaN  \n",
       "4       NaN            NaN                NaN  "
      ]
     },
     "execution_count": 43,
     "metadata": {},
     "output_type": "execute_result"
    }
   ],
   "source": [
    "eightyeight.head()"
   ]
  },
  {
   "cell_type": "code",
   "execution_count": 45,
   "id": "8cc2845f-5f0b-43f4-ae09-dc3deb6ac023",
   "metadata": {},
   "outputs": [
    {
     "data": {
      "text/html": [
       "<div>\n",
       "<style scoped>\n",
       "    .dataframe tbody tr th:only-of-type {\n",
       "        vertical-align: middle;\n",
       "    }\n",
       "\n",
       "    .dataframe tbody tr th {\n",
       "        vertical-align: top;\n",
       "    }\n",
       "\n",
       "    .dataframe thead th {\n",
       "        text-align: right;\n",
       "    }\n",
       "</style>\n",
       "<table border=\"1\" class=\"dataframe\">\n",
       "  <thead>\n",
       "    <tr style=\"text-align: right;\">\n",
       "      <th></th>\n",
       "      <th>Year</th>\n",
       "      <th>Month</th>\n",
       "      <th>DayofMonth</th>\n",
       "      <th>DayOfWeek</th>\n",
       "      <th>DepTime</th>\n",
       "      <th>CRSDepTime</th>\n",
       "      <th>ArrTime</th>\n",
       "      <th>CRSArrTime</th>\n",
       "      <th>UniqueCarrier</th>\n",
       "      <th>FlightNum</th>\n",
       "      <th>TailNum</th>\n",
       "      <th>ActualElapsedTime</th>\n",
       "      <th>CRSElapsedTime</th>\n",
       "      <th>AirTime</th>\n",
       "      <th>ArrDelay</th>\n",
       "      <th>DepDelay</th>\n",
       "      <th>Origin</th>\n",
       "      <th>Dest</th>\n",
       "      <th>Distance</th>\n",
       "      <th>TaxiIn</th>\n",
       "      <th>TaxiOut</th>\n",
       "      <th>Cancelled</th>\n",
       "      <th>CancellationCode</th>\n",
       "      <th>Diverted</th>\n",
       "      <th>CarrierDelay</th>\n",
       "      <th>WeatherDelay</th>\n",
       "      <th>NASDelay</th>\n",
       "      <th>SecurityDelay</th>\n",
       "      <th>LateAircraftDelay</th>\n",
       "    </tr>\n",
       "  </thead>\n",
       "  <tbody>\n",
       "    <tr>\n",
       "      <th>5202091</th>\n",
       "      <td>1988</td>\n",
       "      <td>12</td>\n",
       "      <td>12</td>\n",
       "      <td>1</td>\n",
       "      <td>1325.0</td>\n",
       "      <td>1325</td>\n",
       "      <td>2043.0</td>\n",
       "      <td>2034</td>\n",
       "      <td>DL</td>\n",
       "      <td>162</td>\n",
       "      <td>NaN</td>\n",
       "      <td>318.0</td>\n",
       "      <td>309</td>\n",
       "      <td>NaN</td>\n",
       "      <td>9.0</td>\n",
       "      <td>0.0</td>\n",
       "      <td>HNL</td>\n",
       "      <td>LAX</td>\n",
       "      <td>2556.0</td>\n",
       "      <td>NaN</td>\n",
       "      <td>NaN</td>\n",
       "      <td>0</td>\n",
       "      <td>NaN</td>\n",
       "      <td>0</td>\n",
       "      <td>NaN</td>\n",
       "      <td>NaN</td>\n",
       "      <td>NaN</td>\n",
       "      <td>NaN</td>\n",
       "      <td>NaN</td>\n",
       "    </tr>\n",
       "    <tr>\n",
       "      <th>5202092</th>\n",
       "      <td>1988</td>\n",
       "      <td>12</td>\n",
       "      <td>13</td>\n",
       "      <td>2</td>\n",
       "      <td>1325.0</td>\n",
       "      <td>1325</td>\n",
       "      <td>2038.0</td>\n",
       "      <td>2034</td>\n",
       "      <td>DL</td>\n",
       "      <td>162</td>\n",
       "      <td>NaN</td>\n",
       "      <td>313.0</td>\n",
       "      <td>309</td>\n",
       "      <td>NaN</td>\n",
       "      <td>4.0</td>\n",
       "      <td>0.0</td>\n",
       "      <td>HNL</td>\n",
       "      <td>LAX</td>\n",
       "      <td>2556.0</td>\n",
       "      <td>NaN</td>\n",
       "      <td>NaN</td>\n",
       "      <td>0</td>\n",
       "      <td>NaN</td>\n",
       "      <td>0</td>\n",
       "      <td>NaN</td>\n",
       "      <td>NaN</td>\n",
       "      <td>NaN</td>\n",
       "      <td>NaN</td>\n",
       "      <td>NaN</td>\n",
       "    </tr>\n",
       "    <tr>\n",
       "      <th>5202093</th>\n",
       "      <td>1988</td>\n",
       "      <td>12</td>\n",
       "      <td>14</td>\n",
       "      <td>3</td>\n",
       "      <td>1325.0</td>\n",
       "      <td>1325</td>\n",
       "      <td>2045.0</td>\n",
       "      <td>2034</td>\n",
       "      <td>DL</td>\n",
       "      <td>162</td>\n",
       "      <td>NaN</td>\n",
       "      <td>320.0</td>\n",
       "      <td>309</td>\n",
       "      <td>NaN</td>\n",
       "      <td>11.0</td>\n",
       "      <td>0.0</td>\n",
       "      <td>HNL</td>\n",
       "      <td>LAX</td>\n",
       "      <td>2556.0</td>\n",
       "      <td>NaN</td>\n",
       "      <td>NaN</td>\n",
       "      <td>0</td>\n",
       "      <td>NaN</td>\n",
       "      <td>0</td>\n",
       "      <td>NaN</td>\n",
       "      <td>NaN</td>\n",
       "      <td>NaN</td>\n",
       "      <td>NaN</td>\n",
       "      <td>NaN</td>\n",
       "    </tr>\n",
       "    <tr>\n",
       "      <th>5202094</th>\n",
       "      <td>1988</td>\n",
       "      <td>12</td>\n",
       "      <td>1</td>\n",
       "      <td>4</td>\n",
       "      <td>2027.0</td>\n",
       "      <td>2027</td>\n",
       "      <td>2152.0</td>\n",
       "      <td>2145</td>\n",
       "      <td>DL</td>\n",
       "      <td>163</td>\n",
       "      <td>NaN</td>\n",
       "      <td>85.0</td>\n",
       "      <td>78</td>\n",
       "      <td>NaN</td>\n",
       "      <td>7.0</td>\n",
       "      <td>0.0</td>\n",
       "      <td>ATL</td>\n",
       "      <td>MCO</td>\n",
       "      <td>403.0</td>\n",
       "      <td>NaN</td>\n",
       "      <td>NaN</td>\n",
       "      <td>0</td>\n",
       "      <td>NaN</td>\n",
       "      <td>0</td>\n",
       "      <td>NaN</td>\n",
       "      <td>NaN</td>\n",
       "      <td>NaN</td>\n",
       "      <td>NaN</td>\n",
       "      <td>NaN</td>\n",
       "    </tr>\n",
       "    <tr>\n",
       "      <th>5202095</th>\n",
       "      <td>1988</td>\n",
       "      <td>12</td>\n",
       "      <td>2</td>\n",
       "      <td>5</td>\n",
       "      <td>2106.0</td>\n",
       "      <td>2027</td>\n",
       "      <td>2229.0</td>\n",
       "      <td>2145</td>\n",
       "      <td>DL</td>\n",
       "      <td>163</td>\n",
       "      <td>NaN</td>\n",
       "      <td>83.0</td>\n",
       "      <td>78</td>\n",
       "      <td>NaN</td>\n",
       "      <td>44.0</td>\n",
       "      <td>39.0</td>\n",
       "      <td>ATL</td>\n",
       "      <td>MCO</td>\n",
       "      <td>403.0</td>\n",
       "      <td>NaN</td>\n",
       "      <td>NaN</td>\n",
       "      <td>0</td>\n",
       "      <td>NaN</td>\n",
       "      <td>0</td>\n",
       "      <td>NaN</td>\n",
       "      <td>NaN</td>\n",
       "      <td>NaN</td>\n",
       "      <td>NaN</td>\n",
       "      <td>NaN</td>\n",
       "    </tr>\n",
       "  </tbody>\n",
       "</table>\n",
       "</div>"
      ],
      "text/plain": [
       "         Year  Month  DayofMonth  DayOfWeek  DepTime  CRSDepTime  ArrTime  \\\n",
       "5202091  1988     12          12          1   1325.0        1325   2043.0   \n",
       "5202092  1988     12          13          2   1325.0        1325   2038.0   \n",
       "5202093  1988     12          14          3   1325.0        1325   2045.0   \n",
       "5202094  1988     12           1          4   2027.0        2027   2152.0   \n",
       "5202095  1988     12           2          5   2106.0        2027   2229.0   \n",
       "\n",
       "         CRSArrTime UniqueCarrier  FlightNum  TailNum  ActualElapsedTime  \\\n",
       "5202091        2034            DL        162      NaN              318.0   \n",
       "5202092        2034            DL        162      NaN              313.0   \n",
       "5202093        2034            DL        162      NaN              320.0   \n",
       "5202094        2145            DL        163      NaN               85.0   \n",
       "5202095        2145            DL        163      NaN               83.0   \n",
       "\n",
       "         CRSElapsedTime  AirTime  ArrDelay  DepDelay Origin Dest  Distance  \\\n",
       "5202091             309      NaN       9.0       0.0    HNL  LAX    2556.0   \n",
       "5202092             309      NaN       4.0       0.0    HNL  LAX    2556.0   \n",
       "5202093             309      NaN      11.0       0.0    HNL  LAX    2556.0   \n",
       "5202094              78      NaN       7.0       0.0    ATL  MCO     403.0   \n",
       "5202095              78      NaN      44.0      39.0    ATL  MCO     403.0   \n",
       "\n",
       "         TaxiIn  TaxiOut  Cancelled  CancellationCode  Diverted  CarrierDelay  \\\n",
       "5202091     NaN      NaN          0               NaN         0           NaN   \n",
       "5202092     NaN      NaN          0               NaN         0           NaN   \n",
       "5202093     NaN      NaN          0               NaN         0           NaN   \n",
       "5202094     NaN      NaN          0               NaN         0           NaN   \n",
       "5202095     NaN      NaN          0               NaN         0           NaN   \n",
       "\n",
       "         WeatherDelay  NASDelay  SecurityDelay  LateAircraftDelay  \n",
       "5202091           NaN       NaN            NaN                NaN  \n",
       "5202092           NaN       NaN            NaN                NaN  \n",
       "5202093           NaN       NaN            NaN                NaN  \n",
       "5202094           NaN       NaN            NaN                NaN  \n",
       "5202095           NaN       NaN            NaN                NaN  "
      ]
     },
     "execution_count": 45,
     "metadata": {},
     "output_type": "execute_result"
    }
   ],
   "source": [
    "eightyeight.tail()"
   ]
  },
  {
   "cell_type": "code",
   "execution_count": 46,
   "id": "d7c3cdbe-d769-4deb-8a49-4ed4ca24ec6e",
   "metadata": {},
   "outputs": [
    {
     "data": {
      "text/plain": [
       "ORD    271494\n",
       "ATL    259731\n",
       "DFW    216849\n",
       "LAX    169696\n",
       "DEN    161146\n",
       "        ...  \n",
       "GST        86\n",
       "RDD        19\n",
       "ACV        19\n",
       "ROP         1\n",
       "BFI         1\n",
       "Name: Origin, Length: 238, dtype: int64"
      ]
     },
     "execution_count": 46,
     "metadata": {},
     "output_type": "execute_result"
    }
   ],
   "source": [
    "eightyeight['Origin'].value_counts()"
   ]
  },
  {
   "cell_type": "code",
   "execution_count": 47,
   "id": "a58a4471-e896-41a3-a8b2-7dd391df7ad6",
   "metadata": {},
   "outputs": [
    {
     "data": {
      "text/plain": [
       "37399"
      ]
     },
     "execution_count": 47,
     "metadata": {},
     "output_type": "execute_result"
    }
   ],
   "source": [
    "eightyeight['Origin'].value_counts()['IND']"
   ]
  },
  {
   "cell_type": "code",
   "execution_count": 48,
   "id": "a64a09ed-89ab-41e0-a163-9549db63ecca",
   "metadata": {},
   "outputs": [
    {
     "data": {
      "text/plain": [
       "PosixPath('/anvil/projects/tdm/data/flights/subset/1989.csv')"
      ]
     },
     "execution_count": 48,
     "metadata": {},
     "output_type": "execute_result"
    }
   ],
   "source": [
    "files[2]"
   ]
  },
  {
   "cell_type": "code",
   "execution_count": 49,
   "id": "695bb34a-5082-4264-8ab0-1c2131321a05",
   "metadata": {},
   "outputs": [],
   "source": [
    "eightynine = pd.read_csv(files[2]) "
   ]
  },
  {
   "cell_type": "code",
   "execution_count": 50,
   "id": "3aeedff4-d0d3-4eba-bc04-24d1f8cbd568",
   "metadata": {},
   "outputs": [
    {
     "data": {
      "text/plain": [
       "(5041200, 29)"
      ]
     },
     "execution_count": 50,
     "metadata": {},
     "output_type": "execute_result"
    }
   ],
   "source": [
    "eightynine.shape"
   ]
  },
  {
   "cell_type": "code",
   "execution_count": 51,
   "id": "2253f3aa-4c14-4764-bd51-de1c069881b5",
   "metadata": {},
   "outputs": [],
   "source": [
    "pd.options.display.max_columns = None"
   ]
  },
  {
   "cell_type": "code",
   "execution_count": 52,
   "id": "d8820683-a9c7-4913-bf5f-afc0564fdb39",
   "metadata": {},
   "outputs": [
    {
     "data": {
      "text/html": [
       "<div>\n",
       "<style scoped>\n",
       "    .dataframe tbody tr th:only-of-type {\n",
       "        vertical-align: middle;\n",
       "    }\n",
       "\n",
       "    .dataframe tbody tr th {\n",
       "        vertical-align: top;\n",
       "    }\n",
       "\n",
       "    .dataframe thead th {\n",
       "        text-align: right;\n",
       "    }\n",
       "</style>\n",
       "<table border=\"1\" class=\"dataframe\">\n",
       "  <thead>\n",
       "    <tr style=\"text-align: right;\">\n",
       "      <th></th>\n",
       "      <th>Year</th>\n",
       "      <th>Month</th>\n",
       "      <th>DayofMonth</th>\n",
       "      <th>DayOfWeek</th>\n",
       "      <th>DepTime</th>\n",
       "      <th>CRSDepTime</th>\n",
       "      <th>ArrTime</th>\n",
       "      <th>CRSArrTime</th>\n",
       "      <th>UniqueCarrier</th>\n",
       "      <th>FlightNum</th>\n",
       "      <th>TailNum</th>\n",
       "      <th>ActualElapsedTime</th>\n",
       "      <th>CRSElapsedTime</th>\n",
       "      <th>AirTime</th>\n",
       "      <th>ArrDelay</th>\n",
       "      <th>DepDelay</th>\n",
       "      <th>Origin</th>\n",
       "      <th>Dest</th>\n",
       "      <th>Distance</th>\n",
       "      <th>TaxiIn</th>\n",
       "      <th>TaxiOut</th>\n",
       "      <th>Cancelled</th>\n",
       "      <th>CancellationCode</th>\n",
       "      <th>Diverted</th>\n",
       "      <th>CarrierDelay</th>\n",
       "      <th>WeatherDelay</th>\n",
       "      <th>NASDelay</th>\n",
       "      <th>SecurityDelay</th>\n",
       "      <th>LateAircraftDelay</th>\n",
       "    </tr>\n",
       "  </thead>\n",
       "  <tbody>\n",
       "    <tr>\n",
       "      <th>0</th>\n",
       "      <td>1989</td>\n",
       "      <td>1</td>\n",
       "      <td>23</td>\n",
       "      <td>1</td>\n",
       "      <td>1419.0</td>\n",
       "      <td>1230</td>\n",
       "      <td>1742.0</td>\n",
       "      <td>1552</td>\n",
       "      <td>UA</td>\n",
       "      <td>183</td>\n",
       "      <td>NaN</td>\n",
       "      <td>323.0</td>\n",
       "      <td>322</td>\n",
       "      <td>NaN</td>\n",
       "      <td>110.0</td>\n",
       "      <td>109.0</td>\n",
       "      <td>SFO</td>\n",
       "      <td>HNL</td>\n",
       "      <td>2398.0</td>\n",
       "      <td>NaN</td>\n",
       "      <td>NaN</td>\n",
       "      <td>0</td>\n",
       "      <td>NaN</td>\n",
       "      <td>0</td>\n",
       "      <td>NaN</td>\n",
       "      <td>NaN</td>\n",
       "      <td>NaN</td>\n",
       "      <td>NaN</td>\n",
       "      <td>NaN</td>\n",
       "    </tr>\n",
       "    <tr>\n",
       "      <th>1</th>\n",
       "      <td>1989</td>\n",
       "      <td>1</td>\n",
       "      <td>24</td>\n",
       "      <td>2</td>\n",
       "      <td>1255.0</td>\n",
       "      <td>1230</td>\n",
       "      <td>1612.0</td>\n",
       "      <td>1552</td>\n",
       "      <td>UA</td>\n",
       "      <td>183</td>\n",
       "      <td>NaN</td>\n",
       "      <td>317.0</td>\n",
       "      <td>322</td>\n",
       "      <td>NaN</td>\n",
       "      <td>20.0</td>\n",
       "      <td>25.0</td>\n",
       "      <td>SFO</td>\n",
       "      <td>HNL</td>\n",
       "      <td>2398.0</td>\n",
       "      <td>NaN</td>\n",
       "      <td>NaN</td>\n",
       "      <td>0</td>\n",
       "      <td>NaN</td>\n",
       "      <td>0</td>\n",
       "      <td>NaN</td>\n",
       "      <td>NaN</td>\n",
       "      <td>NaN</td>\n",
       "      <td>NaN</td>\n",
       "      <td>NaN</td>\n",
       "    </tr>\n",
       "    <tr>\n",
       "      <th>2</th>\n",
       "      <td>1989</td>\n",
       "      <td>1</td>\n",
       "      <td>25</td>\n",
       "      <td>3</td>\n",
       "      <td>1230.0</td>\n",
       "      <td>1230</td>\n",
       "      <td>1533.0</td>\n",
       "      <td>1552</td>\n",
       "      <td>UA</td>\n",
       "      <td>183</td>\n",
       "      <td>NaN</td>\n",
       "      <td>303.0</td>\n",
       "      <td>322</td>\n",
       "      <td>NaN</td>\n",
       "      <td>-19.0</td>\n",
       "      <td>0.0</td>\n",
       "      <td>SFO</td>\n",
       "      <td>HNL</td>\n",
       "      <td>2398.0</td>\n",
       "      <td>NaN</td>\n",
       "      <td>NaN</td>\n",
       "      <td>0</td>\n",
       "      <td>NaN</td>\n",
       "      <td>0</td>\n",
       "      <td>NaN</td>\n",
       "      <td>NaN</td>\n",
       "      <td>NaN</td>\n",
       "      <td>NaN</td>\n",
       "      <td>NaN</td>\n",
       "    </tr>\n",
       "    <tr>\n",
       "      <th>3</th>\n",
       "      <td>1989</td>\n",
       "      <td>1</td>\n",
       "      <td>26</td>\n",
       "      <td>4</td>\n",
       "      <td>1230.0</td>\n",
       "      <td>1230</td>\n",
       "      <td>1523.0</td>\n",
       "      <td>1552</td>\n",
       "      <td>UA</td>\n",
       "      <td>183</td>\n",
       "      <td>NaN</td>\n",
       "      <td>293.0</td>\n",
       "      <td>322</td>\n",
       "      <td>NaN</td>\n",
       "      <td>-29.0</td>\n",
       "      <td>0.0</td>\n",
       "      <td>SFO</td>\n",
       "      <td>HNL</td>\n",
       "      <td>2398.0</td>\n",
       "      <td>NaN</td>\n",
       "      <td>NaN</td>\n",
       "      <td>0</td>\n",
       "      <td>NaN</td>\n",
       "      <td>0</td>\n",
       "      <td>NaN</td>\n",
       "      <td>NaN</td>\n",
       "      <td>NaN</td>\n",
       "      <td>NaN</td>\n",
       "      <td>NaN</td>\n",
       "    </tr>\n",
       "    <tr>\n",
       "      <th>4</th>\n",
       "      <td>1989</td>\n",
       "      <td>1</td>\n",
       "      <td>27</td>\n",
       "      <td>5</td>\n",
       "      <td>1232.0</td>\n",
       "      <td>1230</td>\n",
       "      <td>1513.0</td>\n",
       "      <td>1552</td>\n",
       "      <td>UA</td>\n",
       "      <td>183</td>\n",
       "      <td>NaN</td>\n",
       "      <td>281.0</td>\n",
       "      <td>322</td>\n",
       "      <td>NaN</td>\n",
       "      <td>-39.0</td>\n",
       "      <td>2.0</td>\n",
       "      <td>SFO</td>\n",
       "      <td>HNL</td>\n",
       "      <td>2398.0</td>\n",
       "      <td>NaN</td>\n",
       "      <td>NaN</td>\n",
       "      <td>0</td>\n",
       "      <td>NaN</td>\n",
       "      <td>0</td>\n",
       "      <td>NaN</td>\n",
       "      <td>NaN</td>\n",
       "      <td>NaN</td>\n",
       "      <td>NaN</td>\n",
       "      <td>NaN</td>\n",
       "    </tr>\n",
       "  </tbody>\n",
       "</table>\n",
       "</div>"
      ],
      "text/plain": [
       "   Year  Month  DayofMonth  DayOfWeek  DepTime  CRSDepTime  ArrTime  \\\n",
       "0  1989      1          23          1   1419.0        1230   1742.0   \n",
       "1  1989      1          24          2   1255.0        1230   1612.0   \n",
       "2  1989      1          25          3   1230.0        1230   1533.0   \n",
       "3  1989      1          26          4   1230.0        1230   1523.0   \n",
       "4  1989      1          27          5   1232.0        1230   1513.0   \n",
       "\n",
       "   CRSArrTime UniqueCarrier  FlightNum  TailNum  ActualElapsedTime  \\\n",
       "0        1552            UA        183      NaN              323.0   \n",
       "1        1552            UA        183      NaN              317.0   \n",
       "2        1552            UA        183      NaN              303.0   \n",
       "3        1552            UA        183      NaN              293.0   \n",
       "4        1552            UA        183      NaN              281.0   \n",
       "\n",
       "   CRSElapsedTime  AirTime  ArrDelay  DepDelay Origin Dest  Distance  TaxiIn  \\\n",
       "0             322      NaN     110.0     109.0    SFO  HNL    2398.0     NaN   \n",
       "1             322      NaN      20.0      25.0    SFO  HNL    2398.0     NaN   \n",
       "2             322      NaN     -19.0       0.0    SFO  HNL    2398.0     NaN   \n",
       "3             322      NaN     -29.0       0.0    SFO  HNL    2398.0     NaN   \n",
       "4             322      NaN     -39.0       2.0    SFO  HNL    2398.0     NaN   \n",
       "\n",
       "   TaxiOut  Cancelled  CancellationCode  Diverted  CarrierDelay  WeatherDelay  \\\n",
       "0      NaN          0               NaN         0           NaN           NaN   \n",
       "1      NaN          0               NaN         0           NaN           NaN   \n",
       "2      NaN          0               NaN         0           NaN           NaN   \n",
       "3      NaN          0               NaN         0           NaN           NaN   \n",
       "4      NaN          0               NaN         0           NaN           NaN   \n",
       "\n",
       "   NASDelay  SecurityDelay  LateAircraftDelay  \n",
       "0       NaN            NaN                NaN  \n",
       "1       NaN            NaN                NaN  \n",
       "2       NaN            NaN                NaN  \n",
       "3       NaN            NaN                NaN  \n",
       "4       NaN            NaN                NaN  "
      ]
     },
     "execution_count": 52,
     "metadata": {},
     "output_type": "execute_result"
    }
   ],
   "source": [
    "eightynine.head()"
   ]
  },
  {
   "cell_type": "code",
   "execution_count": 53,
   "id": "39640fe8-150c-401a-892e-aee64eb28713",
   "metadata": {},
   "outputs": [
    {
     "data": {
      "text/plain": [
       "ORD    261259\n",
       "DFW    228360\n",
       "ATL    224036\n",
       "LAX    163487\n",
       "DEN    138407\n",
       "        ...  \n",
       "ROP        39\n",
       "PFN        15\n",
       "SUN        15\n",
       "EGE        11\n",
       "ABI         2\n",
       "Name: Origin, Length: 237, dtype: int64"
      ]
     },
     "execution_count": 53,
     "metadata": {},
     "output_type": "execute_result"
    }
   ],
   "source": [
    "eightynine['Origin'].value_counts()"
   ]
  },
  {
   "cell_type": "code",
   "execution_count": 54,
   "id": "a9ed8eb3-8dc2-4be9-9af0-56c71799250d",
   "metadata": {},
   "outputs": [
    {
     "data": {
      "text/plain": [
       "40567"
      ]
     },
     "execution_count": 54,
     "metadata": {},
     "output_type": "execute_result"
    }
   ],
   "source": [
    "eightynine['Origin'].value_counts()['IND']"
   ]
  },
  {
   "cell_type": "code",
   "execution_count": 55,
   "id": "57ca4552-1484-4165-8e50-b89962c55c72",
   "metadata": {},
   "outputs": [
    {
     "data": {
      "text/plain": [
       "PosixPath('/anvil/projects/tdm/data/flights/subset/1990.csv')"
      ]
     },
     "execution_count": 55,
     "metadata": {},
     "output_type": "execute_result"
    }
   ],
   "source": [
    "files[3]"
   ]
  },
  {
   "cell_type": "code",
   "execution_count": 56,
   "id": "a668844d-31df-4463-b450-9d8795a02d3a",
   "metadata": {},
   "outputs": [],
   "source": [
    "ninety = pd.read_csv(files[3]) "
   ]
  },
  {
   "cell_type": "code",
   "execution_count": 57,
   "id": "6c58e83a-dae9-4694-aa2f-8121fddf230b",
   "metadata": {},
   "outputs": [
    {
     "data": {
      "text/plain": [
       "(5270893, 29)"
      ]
     },
     "execution_count": 57,
     "metadata": {},
     "output_type": "execute_result"
    }
   ],
   "source": [
    "ninety.shape"
   ]
  },
  {
   "cell_type": "code",
   "execution_count": 58,
   "id": "8393828b-e6ff-4063-8c4e-17ff7d5e5131",
   "metadata": {},
   "outputs": [],
   "source": [
    "pd.options.display.max_columns = None"
   ]
  },
  {
   "cell_type": "code",
   "execution_count": 59,
   "id": "6225d856-ee7d-42f8-8e20-4062259462f7",
   "metadata": {},
   "outputs": [
    {
     "data": {
      "text/html": [
       "<div>\n",
       "<style scoped>\n",
       "    .dataframe tbody tr th:only-of-type {\n",
       "        vertical-align: middle;\n",
       "    }\n",
       "\n",
       "    .dataframe tbody tr th {\n",
       "        vertical-align: top;\n",
       "    }\n",
       "\n",
       "    .dataframe thead th {\n",
       "        text-align: right;\n",
       "    }\n",
       "</style>\n",
       "<table border=\"1\" class=\"dataframe\">\n",
       "  <thead>\n",
       "    <tr style=\"text-align: right;\">\n",
       "      <th></th>\n",
       "      <th>Year</th>\n",
       "      <th>Month</th>\n",
       "      <th>DayofMonth</th>\n",
       "      <th>DayOfWeek</th>\n",
       "      <th>DepTime</th>\n",
       "      <th>CRSDepTime</th>\n",
       "      <th>ArrTime</th>\n",
       "      <th>CRSArrTime</th>\n",
       "      <th>UniqueCarrier</th>\n",
       "      <th>FlightNum</th>\n",
       "      <th>TailNum</th>\n",
       "      <th>ActualElapsedTime</th>\n",
       "      <th>CRSElapsedTime</th>\n",
       "      <th>AirTime</th>\n",
       "      <th>ArrDelay</th>\n",
       "      <th>DepDelay</th>\n",
       "      <th>Origin</th>\n",
       "      <th>Dest</th>\n",
       "      <th>Distance</th>\n",
       "      <th>TaxiIn</th>\n",
       "      <th>TaxiOut</th>\n",
       "      <th>Cancelled</th>\n",
       "      <th>CancellationCode</th>\n",
       "      <th>Diverted</th>\n",
       "      <th>CarrierDelay</th>\n",
       "      <th>WeatherDelay</th>\n",
       "      <th>NASDelay</th>\n",
       "      <th>SecurityDelay</th>\n",
       "      <th>LateAircraftDelay</th>\n",
       "    </tr>\n",
       "  </thead>\n",
       "  <tbody>\n",
       "    <tr>\n",
       "      <th>0</th>\n",
       "      <td>1990</td>\n",
       "      <td>1</td>\n",
       "      <td>3</td>\n",
       "      <td>3</td>\n",
       "      <td>1707.0</td>\n",
       "      <td>1630</td>\n",
       "      <td>1755.0</td>\n",
       "      <td>1723</td>\n",
       "      <td>US</td>\n",
       "      <td>29</td>\n",
       "      <td>NaN</td>\n",
       "      <td>48.0</td>\n",
       "      <td>53</td>\n",
       "      <td>NaN</td>\n",
       "      <td>32.0</td>\n",
       "      <td>37.0</td>\n",
       "      <td>CMH</td>\n",
       "      <td>IND</td>\n",
       "      <td>182.0</td>\n",
       "      <td>NaN</td>\n",
       "      <td>NaN</td>\n",
       "      <td>0</td>\n",
       "      <td>NaN</td>\n",
       "      <td>0</td>\n",
       "      <td>NaN</td>\n",
       "      <td>NaN</td>\n",
       "      <td>NaN</td>\n",
       "      <td>NaN</td>\n",
       "      <td>NaN</td>\n",
       "    </tr>\n",
       "    <tr>\n",
       "      <th>1</th>\n",
       "      <td>1990</td>\n",
       "      <td>1</td>\n",
       "      <td>4</td>\n",
       "      <td>4</td>\n",
       "      <td>1706.0</td>\n",
       "      <td>1630</td>\n",
       "      <td>1807.0</td>\n",
       "      <td>1723</td>\n",
       "      <td>US</td>\n",
       "      <td>29</td>\n",
       "      <td>NaN</td>\n",
       "      <td>61.0</td>\n",
       "      <td>53</td>\n",
       "      <td>NaN</td>\n",
       "      <td>44.0</td>\n",
       "      <td>36.0</td>\n",
       "      <td>CMH</td>\n",
       "      <td>IND</td>\n",
       "      <td>182.0</td>\n",
       "      <td>NaN</td>\n",
       "      <td>NaN</td>\n",
       "      <td>0</td>\n",
       "      <td>NaN</td>\n",
       "      <td>0</td>\n",
       "      <td>NaN</td>\n",
       "      <td>NaN</td>\n",
       "      <td>NaN</td>\n",
       "      <td>NaN</td>\n",
       "      <td>NaN</td>\n",
       "    </tr>\n",
       "    <tr>\n",
       "      <th>2</th>\n",
       "      <td>1990</td>\n",
       "      <td>1</td>\n",
       "      <td>5</td>\n",
       "      <td>5</td>\n",
       "      <td>1629.0</td>\n",
       "      <td>1630</td>\n",
       "      <td>1715.0</td>\n",
       "      <td>1723</td>\n",
       "      <td>US</td>\n",
       "      <td>29</td>\n",
       "      <td>NaN</td>\n",
       "      <td>46.0</td>\n",
       "      <td>53</td>\n",
       "      <td>NaN</td>\n",
       "      <td>-8.0</td>\n",
       "      <td>-1.0</td>\n",
       "      <td>CMH</td>\n",
       "      <td>IND</td>\n",
       "      <td>182.0</td>\n",
       "      <td>NaN</td>\n",
       "      <td>NaN</td>\n",
       "      <td>0</td>\n",
       "      <td>NaN</td>\n",
       "      <td>0</td>\n",
       "      <td>NaN</td>\n",
       "      <td>NaN</td>\n",
       "      <td>NaN</td>\n",
       "      <td>NaN</td>\n",
       "      <td>NaN</td>\n",
       "    </tr>\n",
       "    <tr>\n",
       "      <th>3</th>\n",
       "      <td>1990</td>\n",
       "      <td>1</td>\n",
       "      <td>6</td>\n",
       "      <td>6</td>\n",
       "      <td>1633.0</td>\n",
       "      <td>1630</td>\n",
       "      <td>1718.0</td>\n",
       "      <td>1723</td>\n",
       "      <td>US</td>\n",
       "      <td>29</td>\n",
       "      <td>NaN</td>\n",
       "      <td>45.0</td>\n",
       "      <td>53</td>\n",
       "      <td>NaN</td>\n",
       "      <td>-5.0</td>\n",
       "      <td>3.0</td>\n",
       "      <td>CMH</td>\n",
       "      <td>IND</td>\n",
       "      <td>182.0</td>\n",
       "      <td>NaN</td>\n",
       "      <td>NaN</td>\n",
       "      <td>0</td>\n",
       "      <td>NaN</td>\n",
       "      <td>0</td>\n",
       "      <td>NaN</td>\n",
       "      <td>NaN</td>\n",
       "      <td>NaN</td>\n",
       "      <td>NaN</td>\n",
       "      <td>NaN</td>\n",
       "    </tr>\n",
       "    <tr>\n",
       "      <th>4</th>\n",
       "      <td>1990</td>\n",
       "      <td>1</td>\n",
       "      <td>8</td>\n",
       "      <td>1</td>\n",
       "      <td>1630.0</td>\n",
       "      <td>1630</td>\n",
       "      <td>1726.0</td>\n",
       "      <td>1723</td>\n",
       "      <td>US</td>\n",
       "      <td>29</td>\n",
       "      <td>NaN</td>\n",
       "      <td>56.0</td>\n",
       "      <td>53</td>\n",
       "      <td>NaN</td>\n",
       "      <td>3.0</td>\n",
       "      <td>0.0</td>\n",
       "      <td>CMH</td>\n",
       "      <td>IND</td>\n",
       "      <td>182.0</td>\n",
       "      <td>NaN</td>\n",
       "      <td>NaN</td>\n",
       "      <td>0</td>\n",
       "      <td>NaN</td>\n",
       "      <td>0</td>\n",
       "      <td>NaN</td>\n",
       "      <td>NaN</td>\n",
       "      <td>NaN</td>\n",
       "      <td>NaN</td>\n",
       "      <td>NaN</td>\n",
       "    </tr>\n",
       "  </tbody>\n",
       "</table>\n",
       "</div>"
      ],
      "text/plain": [
       "   Year  Month  DayofMonth  DayOfWeek  DepTime  CRSDepTime  ArrTime  \\\n",
       "0  1990      1           3          3   1707.0        1630   1755.0   \n",
       "1  1990      1           4          4   1706.0        1630   1807.0   \n",
       "2  1990      1           5          5   1629.0        1630   1715.0   \n",
       "3  1990      1           6          6   1633.0        1630   1718.0   \n",
       "4  1990      1           8          1   1630.0        1630   1726.0   \n",
       "\n",
       "   CRSArrTime UniqueCarrier  FlightNum  TailNum  ActualElapsedTime  \\\n",
       "0        1723            US         29      NaN               48.0   \n",
       "1        1723            US         29      NaN               61.0   \n",
       "2        1723            US         29      NaN               46.0   \n",
       "3        1723            US         29      NaN               45.0   \n",
       "4        1723            US         29      NaN               56.0   \n",
       "\n",
       "   CRSElapsedTime  AirTime  ArrDelay  DepDelay Origin Dest  Distance  TaxiIn  \\\n",
       "0              53      NaN      32.0      37.0    CMH  IND     182.0     NaN   \n",
       "1              53      NaN      44.0      36.0    CMH  IND     182.0     NaN   \n",
       "2              53      NaN      -8.0      -1.0    CMH  IND     182.0     NaN   \n",
       "3              53      NaN      -5.0       3.0    CMH  IND     182.0     NaN   \n",
       "4              53      NaN       3.0       0.0    CMH  IND     182.0     NaN   \n",
       "\n",
       "   TaxiOut  Cancelled  CancellationCode  Diverted  CarrierDelay  WeatherDelay  \\\n",
       "0      NaN          0               NaN         0           NaN           NaN   \n",
       "1      NaN          0               NaN         0           NaN           NaN   \n",
       "2      NaN          0               NaN         0           NaN           NaN   \n",
       "3      NaN          0               NaN         0           NaN           NaN   \n",
       "4      NaN          0               NaN         0           NaN           NaN   \n",
       "\n",
       "   NASDelay  SecurityDelay  LateAircraftDelay  \n",
       "0       NaN            NaN                NaN  \n",
       "1       NaN            NaN                NaN  \n",
       "2       NaN            NaN                NaN  \n",
       "3       NaN            NaN                NaN  \n",
       "4       NaN            NaN                NaN  "
      ]
     },
     "execution_count": 59,
     "metadata": {},
     "output_type": "execute_result"
    }
   ],
   "source": [
    "ninety.head()"
   ]
  },
  {
   "cell_type": "code",
   "execution_count": 60,
   "id": "c4b561d5-d625-4419-a574-2753adeb5766",
   "metadata": {},
   "outputs": [
    {
     "data": {
      "text/plain": [
       "43826"
      ]
     },
     "execution_count": 60,
     "metadata": {},
     "output_type": "execute_result"
    }
   ],
   "source": [
    "ninety['Origin'].value_counts()['IND']"
   ]
  },
  {
   "cell_type": "markdown",
   "id": "0d552245-b4d6-474a-9cc9-fa7b8e674d55",
   "metadata": {},
   "source": [
    "How many times is 'IND' the Origin airport in eightyeight? 37399 times was 'IND' the Origin airport in eightyeight\n",
    "\n",
    "How many times is 'IND' the Origin airport in eightynine? 40567 times was 'IND' the Origin airport in eightynine\n",
    "\n",
    "How many times is 'IND' the Origin airport in ninety? 43826 times was 'IND' the Origin airport in ninety\n"
   ]
  },
  {
   "cell_type": "markdown",
   "id": "88c9cdac-3e92-498f-83fa-e089bfc44ac8",
   "metadata": {},
   "source": [
    "## Question 5"
   ]
  },
  {
   "cell_type": "code",
   "execution_count": 2,
   "id": "d370d7c9-06db-42b9-b75f-240481a5c491",
   "metadata": {},
   "outputs": [],
   "source": [
    "import pandas as pd\n",
    "from pathlib import Path"
   ]
  },
  {
   "cell_type": "code",
   "execution_count": 3,
   "id": "e3b07ca0-4154-4a79-96b2-eeb4a0147f2f",
   "metadata": {},
   "outputs": [],
   "source": [
    "files = [Path(f'/anvil/projects/tdm/data/flights/subset/{year}.csv') for year in range(1987,2009)]"
   ]
  },
  {
   "cell_type": "code",
   "execution_count": 4,
   "id": "cf44469d-d2f7-4290-ad77-bfae73f50714",
   "metadata": {},
   "outputs": [],
   "source": [
    "pd.options.display.max_columns = None"
   ]
  },
  {
   "cell_type": "code",
   "execution_count": 5,
   "id": "14367f76-02e6-4b72-9c94-c0da42a0aea5",
   "metadata": {},
   "outputs": [
    {
     "name": "stderr",
     "output_type": "stream",
     "text": [
      "/tmp/ipykernel_17/3180785423.py:3: DtypeWarning: Columns (22) have mixed types. Specify dtype option on import or set low_memory=False.\n",
      "  df = pd.read_csv(file)\n"
     ]
    },
    {
     "name": "stdout",
     "output_type": "stream",
     "text": [
      "796496\n"
     ]
    }
   ],
   "source": [
    "# This is good reasoning and it would work except \n",
    "# our files are large and our kernel will fail.\n",
    "count = 0\n",
    "for file in files:\n",
    "    df = pd.read_csv(file)\n",
    "    count += len(df[df['Origin'] == 'IND'])\n",
    "\n",
    "print(count)"
   ]
  },
  {
   "cell_type": "code",
   "execution_count": 6,
   "id": "73365cec-9d98-45c0-bdde-b936afa2decf",
   "metadata": {},
   "outputs": [
    {
     "name": "stdout",
     "output_type": "stream",
     "text": [
      "796496\n"
     ]
    }
   ],
   "source": [
    "# This method will work but, it will take a long time\n",
    "\n",
    "total_count = 0\n",
    "for file in files:\n",
    "    for df in pd.read_csv(file, chunksize=10000):\n",
    "        for index, row in df.iterrows():\n",
    "            if row['Origin'] == 'IND':\n",
    "                total_count += 1\n",
    "\n",
    "print(total_count)"
   ]
  },
  {
   "cell_type": "code",
   "execution_count": null,
   "id": "e1d544aa-ce83-44aa-88eb-8c5fa803f667",
   "metadata": {},
   "outputs": [],
   "source": [
    "# this is a similar idea, but without the read_csv\n",
    "# So we will not be storing the entire contents of any of the files in memory\n",
    "# Instead, we will just loop through the file, one line at a time,\n",
    "# checking to see if the Origin on that line of the file (the 16th field of the line)\n",
    "# is equal to 'IND', and if it is, we add one to our counter called origin_ind\n",
    "# At the very end we will print out the value of the counter, and that is equal to\n",
    "# the total number of times that Indianapolis is the Origin city for a flight\n",
    "# i.e, where a flight depart."
   ]
  },
  {
   "cell_type": "code",
   "execution_count": 7,
   "id": "66f61d7f-a105-485e-a2e5-584fdec35f71",
   "metadata": {},
   "outputs": [
    {
     "name": "stdout",
     "output_type": "stream",
     "text": [
      "796496\n"
     ]
    }
   ],
   "source": [
    "origin_ind = 0\n",
    "for file in files:\n",
    "    with open(file,'r') as f:\n",
    "        for line in f:\n",
    "            if line.split(\",\")[16] == 'IND':\n",
    "                origin_ind += 1\n",
    "print(origin_ind)"
   ]
  },
  {
   "cell_type": "markdown",
   "id": "9fbf00fb-2418-460f-ae94-2a32b0c28952",
   "metadata": {},
   "source": [
    "Markdown notes and sentences and analysis written here."
   ]
  },
  {
   "cell_type": "markdown",
   "id": "f76442d6-d02e-4f26-b9d6-c3183e1d6929",
   "metadata": {},
   "source": [
    "## Pledge\n",
    "\n",
    "By submitting this work I hereby pledge that this is my own, personal work. I've acknowledged in the designated place at the top of this file all sources that I used to complete said work, including but not limited to: online resources, books, and electronic communications. I've noted all collaboration with fellow students and/or TA's. I did not copy or plagiarize another's work.\n",
    "\n",
    "> As a Boilermaker pursuing academic excellence, I pledge to be honest and true in all that I do. Accountable together – We are Purdue."
   ]
  }
 ],
 "metadata": {
  "kernelspec": {
   "display_name": "f2022-s2023",
   "language": "python",
   "name": "f2022-s2023"
  },
  "language_info": {
   "codemirror_mode": {
    "name": "ipython",
    "version": 3
   },
   "file_extension": ".py",
   "mimetype": "text/x-python",
   "name": "python",
   "nbconvert_exporter": "python",
   "pygments_lexer": "ipython3",
   "version": "3.10.7"
  }
 },
 "nbformat": 4,
 "nbformat_minor": 5
}
